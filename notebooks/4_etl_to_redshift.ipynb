{
 "cells": [
  {
   "cell_type": "code",
   "execution_count": 1,
   "id": "365250c9-502f-4b10-8764-29147a14cebf",
   "metadata": {
    "execution": {
     "iopub.execute_input": "2022-09-07T11:26:43.072509Z",
     "iopub.status.busy": "2022-09-07T11:26:43.072257Z",
     "iopub.status.idle": "2022-09-07T11:27:07.752570Z",
     "shell.execute_reply": "2022-09-07T11:27:07.751869Z",
     "shell.execute_reply.started": "2022-09-07T11:26:43.072481Z"
    },
    "tags": []
   },
   "outputs": [
    {
     "data": {
      "application/vnd.jupyter.widget-view+json": {
       "model_id": "4a96ed5611ac4f9cb6947649787be2ed",
       "version_major": 2,
       "version_minor": 0
      },
      "text/plain": [
       "VBox()"
      ]
     },
     "metadata": {},
     "output_type": "display_data"
    },
    {
     "name": "stdout",
     "output_type": "stream",
     "text": [
      "Starting Spark application\n"
     ]
    },
    {
     "data": {
      "text/html": [
       "<table>\n",
       "<tr><th>ID</th><th>YARN Application ID</th><th>Kind</th><th>State</th><th>Spark UI</th><th>Driver log</th><th>Current session?</th></tr><tr><td>1</td><td>application_1662547440890_0003</td><td>pyspark</td><td>idle</td><td><a target=\"_blank\" href=\"http://ip-172-31-30-61.ap-southeast-1.compute.internal:20888/proxy/application_1662547440890_0003/\" class=\"emr-proxy-link\" emr-resource=\"j-3ARZDRRII7SQZ\n",
       "\" application-id=\"application_1662547440890_0003\">Link</a></td><td><a target=\"_blank\" href=\"http://ip-172-31-26-211.ap-southeast-1.compute.internal:8042/node/containerlogs/container_1662547440890_0003_01_000001/livy\" >Link</a></td><td>✔</td></tr></table>"
      ],
      "text/plain": [
       "<IPython.core.display.HTML object>"
      ]
     },
     "metadata": {},
     "output_type": "display_data"
    },
    {
     "data": {
      "application/vnd.jupyter.widget-view+json": {
       "model_id": "",
       "version_major": 2,
       "version_minor": 0
      },
      "text/plain": [
       "FloatProgress(value=0.0, bar_style='info', description='Progress:', layout=Layout(height='25px', width='50%'),…"
      ]
     },
     "metadata": {},
     "output_type": "display_data"
    },
    {
     "name": "stdout",
     "output_type": "stream",
     "text": [
      "SparkSession available as 'spark'.\n"
     ]
    },
    {
     "data": {
      "application/vnd.jupyter.widget-view+json": {
       "model_id": "",
       "version_major": 2,
       "version_minor": 0
      },
      "text/plain": [
       "FloatProgress(value=0.0, bar_style='info', description='Progress:', layout=Layout(height='25px', width='50%'),…"
      ]
     },
     "metadata": {},
     "output_type": "display_data"
    }
   ],
   "source": [
    "from pyspark.sql import SparkSession"
   ]
  },
  {
   "cell_type": "code",
   "execution_count": 2,
   "id": "442086ab-2b36-4579-a92d-8f49aeffe24c",
   "metadata": {
    "execution": {
     "iopub.execute_input": "2022-09-07T11:27:07.758172Z",
     "iopub.status.busy": "2022-09-07T11:27:07.756364Z",
     "iopub.status.idle": "2022-09-07T11:27:10.095356Z",
     "shell.execute_reply": "2022-09-07T11:27:10.094768Z",
     "shell.execute_reply.started": "2022-09-07T11:27:07.758134Z"
    },
    "tags": []
   },
   "outputs": [
    {
     "data": {
      "application/vnd.jupyter.widget-view+json": {
       "model_id": "8ee309cb34ee4780a812d29df19174bc",
       "version_major": 2,
       "version_minor": 0
      },
      "text/plain": [
       "VBox()"
      ]
     },
     "metadata": {},
     "output_type": "display_data"
    },
    {
     "data": {
      "application/vnd.jupyter.widget-view+json": {
       "model_id": "",
       "version_major": 2,
       "version_minor": 0
      },
      "text/plain": [
       "FloatProgress(value=0.0, bar_style='info', description='Progress:', layout=Layout(height='25px', width='50%'),…"
      ]
     },
     "metadata": {},
     "output_type": "display_data"
    }
   ],
   "source": [
    "spark = SparkSession.builder.appName('etl')\\\n",
    "    .config('spark.jars.packages', '/usr/share/aws/redshift/jdbc/RedshiftJDBC.jar,/usr/share/aws/redshift/spark-redshift/lib/spark-redshift.jar,/usr/share/aws/redshift/spark-redshift/lib/spark-avro.jar,/usr/share/aws/redshift/spark-redshift/lib/minimal-json.jar')\\\n",
    "    .getOrCreate()"
   ]
  },
  {
   "cell_type": "code",
   "execution_count": 3,
   "id": "69472b4c-b37b-42b3-b2c6-ffc9794205b2",
   "metadata": {
    "execution": {
     "iopub.execute_input": "2022-09-07T11:27:10.096604Z",
     "iopub.status.busy": "2022-09-07T11:27:10.096424Z",
     "iopub.status.idle": "2022-09-07T11:27:10.362428Z",
     "shell.execute_reply": "2022-09-07T11:27:10.361838Z",
     "shell.execute_reply.started": "2022-09-07T11:27:10.096582Z"
    },
    "tags": []
   },
   "outputs": [
    {
     "data": {
      "application/vnd.jupyter.widget-view+json": {
       "model_id": "9b476e98b8264d7aa917913e2d06d30b",
       "version_major": 2,
       "version_minor": 0
      },
      "text/plain": [
       "VBox()"
      ]
     },
     "metadata": {},
     "output_type": "display_data"
    },
    {
     "data": {
      "application/vnd.jupyter.widget-view+json": {
       "model_id": "",
       "version_major": 2,
       "version_minor": 0
      },
      "text/plain": [
       "FloatProgress(value=0.0, bar_style='info', description='Progress:', layout=Layout(height='25px', width='50%'),…"
      ]
     },
     "metadata": {},
     "output_type": "display_data"
    }
   ],
   "source": [
    "import pyspark.sql.types as T\n",
    "import pyspark.sql.functions as F\n",
    "import pyspark.sql.window as w"
   ]
  },
  {
   "cell_type": "code",
   "execution_count": 4,
   "id": "d3af7138-f42e-4a1f-9967-ded91c12a3e9",
   "metadata": {
    "execution": {
     "iopub.execute_input": "2022-09-07T11:27:10.363846Z",
     "iopub.status.busy": "2022-09-07T11:27:10.363589Z",
     "iopub.status.idle": "2022-09-07T11:27:10.434154Z",
     "shell.execute_reply": "2022-09-07T11:27:10.433525Z",
     "shell.execute_reply.started": "2022-09-07T11:27:10.363812Z"
    },
    "tags": []
   },
   "outputs": [
    {
     "data": {
      "application/vnd.jupyter.widget-view+json": {
       "model_id": "ececd7f208b547c0a914ce1fd108c0c6",
       "version_major": 2,
       "version_minor": 0
      },
      "text/plain": [
       "VBox()"
      ]
     },
     "metadata": {},
     "output_type": "display_data"
    },
    {
     "data": {
      "application/vnd.jupyter.widget-view+json": {
       "model_id": "",
       "version_major": 2,
       "version_minor": 0
      },
      "text/plain": [
       "FloatProgress(value=0.0, bar_style='info', description='Progress:', layout=Layout(height='25px', width='50%'),…"
      ]
     },
     "metadata": {},
     "output_type": "display_data"
    }
   ],
   "source": [
    "# Connection config to Redshift\n",
    "username= ''\n",
    "password = ''\n",
    "jdbc_url =''\n",
    "port='5439'\n",
    "url = f\"{jdbc_url}:{port}/dev?user=\" + username + \"&password=\" + password\n",
    "s3_tempdir = 's3://patents-analytics/tempdir/'"
   ]
  },
  {
   "cell_type": "markdown",
   "id": "b15a5ca3-022b-4295-b13d-acddaa4ae7f5",
   "metadata": {},
   "source": [
    "## ETL for date table"
   ]
  },
  {
   "cell_type": "markdown",
   "id": "5d999025-a595-4d68-90f1-d1c912b474de",
   "metadata": {},
   "source": [
    "### Read cleaned patent table"
   ]
  },
  {
   "cell_type": "code",
   "execution_count": 70,
   "id": "3140fca9-6ecd-46ad-9303-570308579162",
   "metadata": {
    "execution": {
     "iopub.execute_input": "2022-09-06T05:30:36.137826Z",
     "iopub.status.busy": "2022-09-06T05:30:36.137441Z",
     "iopub.status.idle": "2022-09-06T05:30:36.204001Z",
     "shell.execute_reply": "2022-09-06T05:30:36.203452Z",
     "shell.execute_reply.started": "2022-09-06T05:30:36.137790Z"
    },
    "tags": []
   },
   "outputs": [
    {
     "data": {
      "application/vnd.jupyter.widget-view+json": {
       "model_id": "9728f2b0d3c7489ca92df84b66a7f38f",
       "version_major": 2,
       "version_minor": 0
      },
      "text/plain": [
       "VBox()"
      ]
     },
     "metadata": {},
     "output_type": "display_data"
    },
    {
     "data": {
      "application/vnd.jupyter.widget-view+json": {
       "model_id": "",
       "version_major": 2,
       "version_minor": 0
      },
      "text/plain": [
       "FloatProgress(value=0.0, bar_style='info', description='Progress:', layout=Layout(height='25px', width='50%'),…"
      ]
     },
     "metadata": {},
     "output_type": "display_data"
    }
   ],
   "source": [
    "patent_cleaned_path = \"s3://patents-analytics/cleaned/patent.parquet/\""
   ]
  },
  {
   "cell_type": "code",
   "execution_count": 71,
   "id": "d84cabd7-b201-44cd-a552-30d83d2b8a87",
   "metadata": {
    "execution": {
     "iopub.execute_input": "2022-09-06T05:30:36.205723Z",
     "iopub.status.busy": "2022-09-06T05:30:36.205476Z",
     "iopub.status.idle": "2022-09-06T05:30:37.475650Z",
     "shell.execute_reply": "2022-09-06T05:30:37.475031Z",
     "shell.execute_reply.started": "2022-09-06T05:30:36.205690Z"
    },
    "tags": []
   },
   "outputs": [
    {
     "data": {
      "application/vnd.jupyter.widget-view+json": {
       "model_id": "3f4a7c5c9da840308eb74720e80449ac",
       "version_major": 2,
       "version_minor": 0
      },
      "text/plain": [
       "VBox()"
      ]
     },
     "metadata": {},
     "output_type": "display_data"
    },
    {
     "data": {
      "application/vnd.jupyter.widget-view+json": {
       "model_id": "",
       "version_major": 2,
       "version_minor": 0
      },
      "text/plain": [
       "FloatProgress(value=0.0, bar_style='info', description='Progress:', layout=Layout(height='25px', width='50%'),…"
      ]
     },
     "metadata": {},
     "output_type": "display_data"
    }
   ],
   "source": [
    "patent_cleaned = spark.read.parquet(patent_cleaned_path)"
   ]
  },
  {
   "cell_type": "code",
   "execution_count": 72,
   "id": "3a4e5a33-a1ca-4be6-95f7-4fe83db755b4",
   "metadata": {
    "execution": {
     "iopub.execute_input": "2022-09-06T05:30:37.476932Z",
     "iopub.status.busy": "2022-09-06T05:30:37.476760Z",
     "iopub.status.idle": "2022-09-06T05:30:37.530937Z",
     "shell.execute_reply": "2022-09-06T05:30:37.530353Z",
     "shell.execute_reply.started": "2022-09-06T05:30:37.476911Z"
    },
    "tags": []
   },
   "outputs": [
    {
     "data": {
      "application/vnd.jupyter.widget-view+json": {
       "model_id": "3fd8474cc1c74d9fb340006b4a28124c",
       "version_major": 2,
       "version_minor": 0
      },
      "text/plain": [
       "VBox()"
      ]
     },
     "metadata": {},
     "output_type": "display_data"
    },
    {
     "data": {
      "application/vnd.jupyter.widget-view+json": {
       "model_id": "",
       "version_major": 2,
       "version_minor": 0
      },
      "text/plain": [
       "FloatProgress(value=0.0, bar_style='info', description='Progress:', layout=Layout(height='25px', width='50%'),…"
      ]
     },
     "metadata": {},
     "output_type": "display_data"
    },
    {
     "name": "stdout",
     "output_type": "stream",
     "text": [
      "root\n",
      " |-- id: string (nullable = true)\n",
      " |-- type: string (nullable = true)\n",
      " |-- date: timestamp (nullable = true)\n",
      " |-- abstract: string (nullable = true)\n",
      " |-- title: string (nullable = true)\n",
      " |-- kind: string (nullable = true)\n",
      " |-- num_claims: integer (nullable = true)\n",
      " |-- year: integer (nullable = true)"
     ]
    }
   ],
   "source": [
    "patent_cleaned.printSchema()"
   ]
  },
  {
   "cell_type": "markdown",
   "id": "82a7a276-7a07-4be7-9b62-40776ab8d705",
   "metadata": {},
   "source": [
    "### Transform the data"
   ]
  },
  {
   "cell_type": "code",
   "execution_count": 73,
   "id": "4a11e509-3f5a-4d8d-b70d-ee943891f72d",
   "metadata": {
    "execution": {
     "iopub.execute_input": "2022-09-06T05:30:37.531917Z",
     "iopub.status.busy": "2022-09-06T05:30:37.531747Z",
     "iopub.status.idle": "2022-09-06T05:30:37.793019Z",
     "shell.execute_reply": "2022-09-06T05:30:37.792411Z",
     "shell.execute_reply.started": "2022-09-06T05:30:37.531896Z"
    },
    "tags": []
   },
   "outputs": [
    {
     "data": {
      "application/vnd.jupyter.widget-view+json": {
       "model_id": "ffd9ba0b4fde437382e22f73ac058418",
       "version_major": 2,
       "version_minor": 0
      },
      "text/plain": [
       "VBox()"
      ]
     },
     "metadata": {},
     "output_type": "display_data"
    },
    {
     "data": {
      "application/vnd.jupyter.widget-view+json": {
       "model_id": "",
       "version_major": 2,
       "version_minor": 0
      },
      "text/plain": [
       "FloatProgress(value=0.0, bar_style='info', description='Progress:', layout=Layout(height='25px', width='50%'),…"
      ]
     },
     "metadata": {},
     "output_type": "display_data"
    }
   ],
   "source": [
    "patent_cleaned_date = patent_cleaned.select(\"date\").distinct().select(\"date\", F.year(\"date\").alias('year'))"
   ]
  },
  {
   "cell_type": "code",
   "execution_count": 74,
   "id": "1680c8a3-27a1-4551-a9cf-51aef7200f01",
   "metadata": {
    "execution": {
     "iopub.execute_input": "2022-09-06T05:30:37.794055Z",
     "iopub.status.busy": "2022-09-06T05:30:37.793869Z",
     "iopub.status.idle": "2022-09-06T05:30:41.114998Z",
     "shell.execute_reply": "2022-09-06T05:30:41.114383Z",
     "shell.execute_reply.started": "2022-09-06T05:30:37.794033Z"
    },
    "tags": []
   },
   "outputs": [
    {
     "data": {
      "application/vnd.jupyter.widget-view+json": {
       "model_id": "739d08ea7c274c60bea8a5495a990220",
       "version_major": 2,
       "version_minor": 0
      },
      "text/plain": [
       "VBox()"
      ]
     },
     "metadata": {},
     "output_type": "display_data"
    },
    {
     "data": {
      "application/vnd.jupyter.widget-view+json": {
       "model_id": "",
       "version_major": 2,
       "version_minor": 0
      },
      "text/plain": [
       "FloatProgress(value=0.0, bar_style='info', description='Progress:', layout=Layout(height='25px', width='50%'),…"
      ]
     },
     "metadata": {},
     "output_type": "display_data"
    }
   ],
   "source": [
    "rows = patent_cleaned_date.count()"
   ]
  },
  {
   "cell_type": "markdown",
   "id": "94136514-174b-49ad-b0b6-ff7cb16b29b6",
   "metadata": {},
   "source": [
    "### Load data to Redshift"
   ]
  },
  {
   "cell_type": "code",
   "execution_count": 75,
   "id": "4009fdc5-4334-4a74-a7e1-489c1135ae17",
   "metadata": {
    "execution": {
     "iopub.execute_input": "2022-09-06T05:30:41.116078Z",
     "iopub.status.busy": "2022-09-06T05:30:41.115907Z",
     "iopub.status.idle": "2022-09-06T05:31:02.477119Z",
     "shell.execute_reply": "2022-09-06T05:31:02.476508Z",
     "shell.execute_reply.started": "2022-09-06T05:30:41.116057Z"
    },
    "tags": []
   },
   "outputs": [
    {
     "data": {
      "application/vnd.jupyter.widget-view+json": {
       "model_id": "72b4d7c78da74d81869523a35890f3ba",
       "version_major": 2,
       "version_minor": 0
      },
      "text/plain": [
       "VBox()"
      ]
     },
     "metadata": {},
     "output_type": "display_data"
    },
    {
     "data": {
      "application/vnd.jupyter.widget-view+json": {
       "model_id": "",
       "version_major": 2,
       "version_minor": 0
      },
      "text/plain": [
       "FloatProgress(value=0.0, bar_style='info', description='Progress:', layout=Layout(height='25px', width='50%'),…"
      ]
     },
     "metadata": {},
     "output_type": "display_data"
    }
   ],
   "source": [
    "patent_cleaned_date.write\\\n",
    "    .format(\"io.github.spark_redshift_community.spark.redshift\")\\\n",
    "    .option(\"url\", url)\\\n",
    "    .option(\"tempdir\", s3_tempdir)\\\n",
    "    .option(\"dbtable\", \"dates\")\\\n",
    "    .mode(\"overwrite\")\\\n",
    "    .option(\"aws_iam_role\", \"arn:aws:iam::735201909841:role/redshift_read_s3\")\\\n",
    "    .save()"
   ]
  },
  {
   "cell_type": "markdown",
   "id": "11cde447-3bbc-4afb-af5a-e2657c443234",
   "metadata": {},
   "source": [
    "## ETL for Details Dimension"
   ]
  },
  {
   "cell_type": "markdown",
   "id": "014c62db-3614-4f47-be83-dfcd5ba5fdd6",
   "metadata": {},
   "source": [
    "## Transform"
   ]
  },
  {
   "cell_type": "code",
   "execution_count": 24,
   "id": "34f5e290-7364-4de5-9005-68830ac03c84",
   "metadata": {
    "execution": {
     "iopub.execute_input": "2022-09-05T03:37:52.611091Z",
     "iopub.status.busy": "2022-09-05T03:37:52.610873Z",
     "iopub.status.idle": "2022-09-05T03:37:52.676325Z",
     "shell.execute_reply": "2022-09-05T03:37:52.675714Z",
     "shell.execute_reply.started": "2022-09-05T03:37:52.611068Z"
    },
    "tags": []
   },
   "outputs": [
    {
     "data": {
      "application/vnd.jupyter.widget-view+json": {
       "model_id": "f7c4cd815c184dc9a62717161afa6297",
       "version_major": 2,
       "version_minor": 0
      },
      "text/plain": [
       "VBox()"
      ]
     },
     "metadata": {},
     "output_type": "display_data"
    },
    {
     "data": {
      "application/vnd.jupyter.widget-view+json": {
       "model_id": "",
       "version_major": 2,
       "version_minor": 0
      },
      "text/plain": [
       "FloatProgress(value=0.0, bar_style='info', description='Progress:', layout=Layout(height='25px', width='50%'),…"
      ]
     },
     "metadata": {},
     "output_type": "display_data"
    }
   ],
   "source": [
    "details = patent_cleaned.select(F.col(\"id\").alias(\"detail_id\"), \"title\", \"abstract\")"
   ]
  },
  {
   "cell_type": "code",
   "execution_count": 25,
   "id": "f7d46d96-a38c-4bf3-81fa-305b4b37dea6",
   "metadata": {
    "execution": {
     "iopub.execute_input": "2022-09-05T03:37:56.620662Z",
     "iopub.status.busy": "2022-09-05T03:37:56.620435Z",
     "iopub.status.idle": "2022-09-05T03:38:05.939385Z",
     "shell.execute_reply": "2022-09-05T03:38:05.938687Z",
     "shell.execute_reply.started": "2022-09-05T03:37:56.620638Z"
    }
   },
   "outputs": [
    {
     "data": {
      "application/vnd.jupyter.widget-view+json": {
       "model_id": "de90c6d32c99428b8061e2ee959643d7",
       "version_major": 2,
       "version_minor": 0
      },
      "text/plain": [
       "VBox()"
      ]
     },
     "metadata": {},
     "output_type": "display_data"
    },
    {
     "data": {
      "application/vnd.jupyter.widget-view+json": {
       "model_id": "",
       "version_major": 2,
       "version_minor": 0
      },
      "text/plain": [
       "FloatProgress(value=0.0, bar_style='info', description='Progress:', layout=Layout(height='25px', width='50%'),…"
      ]
     },
     "metadata": {},
     "output_type": "display_data"
    },
    {
     "name": "stdout",
     "output_type": "stream",
     "text": [
      "+---------+--------------------+--------------------+\n",
      "|detail_id|               title|            abstract|\n",
      "+---------+--------------------+--------------------+\n",
      "|  6849261|CD4-independent H...|The invention rel...|\n",
      "|  6936069|Muscle stripping ...|A tendon graft st...|\n",
      "|  6963268|Process for the a...|This process rela...|\n",
      "|  6912482|Data storage anal...|System and method...|\n",
      "|  6974555|Method of fabrica...|A method of fabri...|\n",
      "|  6940399|Tire air pressure...|A tire air pressu...|\n",
      "|  6941795|Method for evalua...|A method for eval...|\n",
      "|  6863343|Vehicle headrest ...|A vehicle headres...|\n",
      "|  6877432|Delivery of emuls...|Apparatus for del...|\n",
      "|  6931964|Transfer case wit...|A transfer case i...|\n",
      "|  6916013|Device for exerti...|A device for exer...|\n",
      "|  6925251|Optical disc appa...|In optical disc a...|\n",
      "|  6921473|Electrolytic redu...|A method of remov...|\n",
      "|  6883479|VCT phaser having...|A locking device ...|\n",
      "|  6837641|Securable writing...|A securable writi...|\n",
      "|  6878607|Thin film device ...|A thin film devic...|\n",
      "|  6953174|  Sway brace fitting|A versatile sway ...|\n",
      "|  6924862|Method for fabric...|A method of fabri...|\n",
      "|  6865705|Semiconductor int...|A semiconductor i...|\n",
      "|  6939013|Projection type d...|A projection type...|\n",
      "+---------+--------------------+--------------------+\n",
      "only showing top 20 rows"
     ]
    }
   ],
   "source": [
    "details.show()"
   ]
  },
  {
   "cell_type": "code",
   "execution_count": 26,
   "id": "56799596-5495-4a2a-81da-be661d881c3d",
   "metadata": {
    "execution": {
     "iopub.execute_input": "2022-09-05T03:38:17.554085Z",
     "iopub.status.busy": "2022-09-05T03:38:17.553861Z",
     "iopub.status.idle": "2022-09-05T03:38:22.868794Z",
     "shell.execute_reply": "2022-09-05T03:38:22.868108Z",
     "shell.execute_reply.started": "2022-09-05T03:38:17.554061Z"
    }
   },
   "outputs": [
    {
     "data": {
      "application/vnd.jupyter.widget-view+json": {
       "model_id": "aa86cde7dc084346acaedc03fe7be8e8",
       "version_major": 2,
       "version_minor": 0
      },
      "text/plain": [
       "VBox()"
      ]
     },
     "metadata": {},
     "output_type": "display_data"
    },
    {
     "data": {
      "application/vnd.jupyter.widget-view+json": {
       "model_id": "",
       "version_major": 2,
       "version_minor": 0
      },
      "text/plain": [
       "FloatProgress(value=0.0, bar_style='info', description='Progress:', layout=Layout(height='25px', width='50%'),…"
      ]
     },
     "metadata": {},
     "output_type": "display_data"
    },
    {
     "name": "stdout",
     "output_type": "stream",
     "text": [
      "5718002"
     ]
    }
   ],
   "source": [
    "details.count()"
   ]
  },
  {
   "cell_type": "markdown",
   "id": "36b5a133-cd71-4a3a-a6e6-52430fe8752e",
   "metadata": {},
   "source": [
    "### Load to Redshift"
   ]
  },
  {
   "cell_type": "code",
   "execution_count": 39,
   "id": "301cfb29-1677-4e62-be33-424d0289fef7",
   "metadata": {
    "execution": {
     "iopub.execute_input": "2022-09-05T04:07:34.795459Z",
     "iopub.status.busy": "2022-09-05T04:07:34.795237Z",
     "iopub.status.idle": "2022-09-05T04:07:34.851877Z",
     "shell.execute_reply": "2022-09-05T04:07:34.851147Z",
     "shell.execute_reply.started": "2022-09-05T04:07:34.795436Z"
    },
    "tags": []
   },
   "outputs": [
    {
     "data": {
      "application/vnd.jupyter.widget-view+json": {
       "model_id": "a6274a56bba3455aaf58cbfcac6f0a47",
       "version_major": 2,
       "version_minor": 0
      },
      "text/plain": [
       "VBox()"
      ]
     },
     "metadata": {},
     "output_type": "display_data"
    },
    {
     "data": {
      "application/vnd.jupyter.widget-view+json": {
       "model_id": "",
       "version_major": 2,
       "version_minor": 0
      },
      "text/plain": [
       "FloatProgress(value=0.0, bar_style='info', description='Progress:', layout=Layout(height='25px', width='50%'),…"
      ]
     },
     "metadata": {},
     "output_type": "display_data"
    }
   ],
   "source": [
    "s3_tempdir = 's3://patents-analytics/tempdir/details/'"
   ]
  },
  {
   "cell_type": "code",
   "execution_count": 90,
   "id": "9a6673ff-0f77-4bd4-bb3d-864ce8576588",
   "metadata": {
    "execution": {
     "iopub.execute_input": "2022-09-05T05:04:27.386876Z",
     "iopub.status.busy": "2022-09-05T05:04:27.386660Z",
     "iopub.status.idle": "2022-09-05T05:04:27.445918Z",
     "shell.execute_reply": "2022-09-05T05:04:27.445285Z",
     "shell.execute_reply.started": "2022-09-05T05:04:27.386854Z"
    },
    "tags": []
   },
   "outputs": [
    {
     "data": {
      "application/vnd.jupyter.widget-view+json": {
       "model_id": "b559449a85bc492eab940beb6c9c7335",
       "version_major": 2,
       "version_minor": 0
      },
      "text/plain": [
       "VBox()"
      ]
     },
     "metadata": {},
     "output_type": "display_data"
    },
    {
     "data": {
      "application/vnd.jupyter.widget-view+json": {
       "model_id": "",
       "version_major": 2,
       "version_minor": 0
      },
      "text/plain": [
       "FloatProgress(value=0.0, bar_style='info', description='Progress:', layout=Layout(height='25px', width='50%'),…"
      ]
     },
     "metadata": {},
     "output_type": "display_data"
    }
   ],
   "source": [
    "import math"
   ]
  },
  {
   "cell_type": "code",
   "execution_count": 89,
   "id": "a2121b5f-fcb0-4963-ba64-398ed12a4d65",
   "metadata": {
    "execution": {
     "iopub.execute_input": "2022-09-05T05:04:27.042868Z",
     "iopub.status.busy": "2022-09-05T05:04:27.042642Z",
     "iopub.status.idle": "2022-09-05T05:04:27.093738Z",
     "shell.execute_reply": "2022-09-05T05:04:27.093138Z",
     "shell.execute_reply.started": "2022-09-05T05:04:27.042845Z"
    },
    "tags": []
   },
   "outputs": [
    {
     "data": {
      "application/vnd.jupyter.widget-view+json": {
       "model_id": "7ba2ec5536c248e18db376c2f45a00ef",
       "version_major": 2,
       "version_minor": 0
      },
      "text/plain": [
       "VBox()"
      ]
     },
     "metadata": {},
     "output_type": "display_data"
    },
    {
     "data": {
      "application/vnd.jupyter.widget-view+json": {
       "model_id": "",
       "version_major": 2,
       "version_minor": 0
      },
      "text/plain": [
       "FloatProgress(value=0.0, bar_style='info', description='Progress:', layout=Layout(height='25px', width='50%'),…"
      ]
     },
     "metadata": {},
     "output_type": "display_data"
    }
   ],
   "source": [
    "DEFAULT_TEXT_COL_LENGTH = 256\n",
    "MAX_TEXT_COL_LENGTH = 65535"
   ]
  },
  {
   "cell_type": "code",
   "execution_count": 91,
   "id": "d1282789-1e1a-432f-9f71-8337e66f45b1",
   "metadata": {
    "execution": {
     "iopub.execute_input": "2022-09-05T05:04:27.790426Z",
     "iopub.status.busy": "2022-09-05T05:04:27.790208Z",
     "iopub.status.idle": "2022-09-05T05:04:27.842709Z",
     "shell.execute_reply": "2022-09-05T05:04:27.841991Z",
     "shell.execute_reply.started": "2022-09-05T05:04:27.790402Z"
    },
    "tags": []
   },
   "outputs": [
    {
     "data": {
      "application/vnd.jupyter.widget-view+json": {
       "model_id": "572a44cf01b1403da8bd3cc48ef77c9f",
       "version_major": 2,
       "version_minor": 0
      },
      "text/plain": [
       "VBox()"
      ]
     },
     "metadata": {},
     "output_type": "display_data"
    },
    {
     "data": {
      "application/vnd.jupyter.widget-view+json": {
       "model_id": "",
       "version_major": 2,
       "version_minor": 0
      },
      "text/plain": [
       "FloatProgress(value=0.0, bar_style='info', description='Progress:', layout=Layout(height='25px', width='50%'),…"
      ]
     },
     "metadata": {},
     "output_type": "display_data"
    }
   ],
   "source": [
    "# To workaround issue where spark-redshift library assume the column type to be TEXT varchar(256) for all the strings\n",
    "# https://gist.github.com/pallavi/f83a45308ba8387f6b227c28aa209077\n",
    "def prepare_for_write(df):\n",
    "    for (column, type) in df.dtypes:\n",
    "    \n",
    "        if type == \"string\":\n",
    "          max_length = df.select(F.length(df[column]).alias(\"length\")) \\\n",
    "            .select(F.max(\"length\")) \\\n",
    "            .first()[\"max(length)\"]\n",
    "          if max_length != None and max_length > DEFAULT_TEXT_COL_LENGTH:\n",
    "            col_length = int(pow(2, math.ceil(math.log(max_length)/math.log(2)))) # round up to a power of 2\n",
    "            col_length = min(MAX_TEXT_COL_LENGTH, col_length)\n",
    "            df = df.withColumn(column, df[column].substr(0, col_length).alias(column, metadata={ \"maxlength\": col_length })) # truncate column values in case they are longer than Redshift's max allowed length\n",
    "    return df"
   ]
  },
  {
   "cell_type": "code",
   "execution_count": 92,
   "id": "a52776ed-d0c5-4426-84f4-26e53b178124",
   "metadata": {
    "execution": {
     "iopub.execute_input": "2022-09-05T05:04:29.157531Z",
     "iopub.status.busy": "2022-09-05T05:04:29.157303Z",
     "iopub.status.idle": "2022-09-05T05:05:06.573035Z",
     "shell.execute_reply": "2022-09-05T05:05:06.572260Z",
     "shell.execute_reply.started": "2022-09-05T05:04:29.157507Z"
    },
    "tags": []
   },
   "outputs": [
    {
     "data": {
      "application/vnd.jupyter.widget-view+json": {
       "model_id": "5d6738ad7591490cba5e688a3067d24f",
       "version_major": 2,
       "version_minor": 0
      },
      "text/plain": [
       "VBox()"
      ]
     },
     "metadata": {},
     "output_type": "display_data"
    },
    {
     "data": {
      "application/vnd.jupyter.widget-view+json": {
       "model_id": "",
       "version_major": 2,
       "version_minor": 0
      },
      "text/plain": [
       "FloatProgress(value=0.0, bar_style='info', description='Progress:', layout=Layout(height='25px', width='50%'),…"
      ]
     },
     "metadata": {},
     "output_type": "display_data"
    }
   ],
   "source": [
    "details_to_write = prepare_for_write(details)"
   ]
  },
  {
   "cell_type": "code",
   "execution_count": 93,
   "id": "3a49ee07-a487-440b-91d7-afeb4ed64ef4",
   "metadata": {
    "execution": {
     "iopub.execute_input": "2022-09-05T05:05:06.574203Z",
     "iopub.status.busy": "2022-09-05T05:05:06.574029Z",
     "iopub.status.idle": "2022-09-05T05:05:29.998562Z",
     "shell.execute_reply": "2022-09-05T05:05:29.997803Z",
     "shell.execute_reply.started": "2022-09-05T05:05:06.574181Z"
    },
    "tags": []
   },
   "outputs": [
    {
     "data": {
      "application/vnd.jupyter.widget-view+json": {
       "model_id": "f31ab5423f964879bc5e75fe68cfeb3a",
       "version_major": 2,
       "version_minor": 0
      },
      "text/plain": [
       "VBox()"
      ]
     },
     "metadata": {},
     "output_type": "display_data"
    },
    {
     "data": {
      "application/vnd.jupyter.widget-view+json": {
       "model_id": "",
       "version_major": 2,
       "version_minor": 0
      },
      "text/plain": [
       "FloatProgress(value=0.0, bar_style='info', description='Progress:', layout=Layout(height='25px', width='50%'),…"
      ]
     },
     "metadata": {},
     "output_type": "display_data"
    },
    {
     "name": "stdout",
     "output_type": "stream",
     "text": [
      "+---------------------+\n",
      "|max(length(abstract))|\n",
      "+---------------------+\n",
      "|                14098|\n",
      "+---------------------+"
     ]
    }
   ],
   "source": [
    "details_to_write.select(F.max(F.length(\"abstract\"))).show()"
   ]
  },
  {
   "cell_type": "code",
   "execution_count": 94,
   "id": "8c8cb6f2-0120-4270-9c97-d0a642066314",
   "metadata": {
    "execution": {
     "iopub.execute_input": "2022-09-05T05:05:30.000321Z",
     "iopub.status.busy": "2022-09-05T05:05:30.000068Z",
     "iopub.status.idle": "2022-09-05T05:07:47.662951Z",
     "shell.execute_reply": "2022-09-05T05:07:47.662258Z",
     "shell.execute_reply.started": "2022-09-05T05:05:30.000285Z"
    },
    "tags": []
   },
   "outputs": [
    {
     "data": {
      "application/vnd.jupyter.widget-view+json": {
       "model_id": "d327faee62ed428a9422eb51c07d4f8b",
       "version_major": 2,
       "version_minor": 0
      },
      "text/plain": [
       "VBox()"
      ]
     },
     "metadata": {},
     "output_type": "display_data"
    },
    {
     "data": {
      "application/vnd.jupyter.widget-view+json": {
       "model_id": "",
       "version_major": 2,
       "version_minor": 0
      },
      "text/plain": [
       "FloatProgress(value=0.0, bar_style='info', description='Progress:', layout=Layout(height='25px', width='50%'),…"
      ]
     },
     "metadata": {},
     "output_type": "display_data"
    }
   ],
   "source": [
    "details_to_write.write\\\n",
    "    .format(\"io.github.spark_redshift_community.spark.redshift\")\\\n",
    "    .option(\"url\", url)\\\n",
    "    .option(\"tempdir\", s3_tempdir)\\\n",
    "    .option(\"dbtable\", \"details\")\\\n",
    "    .mode(\"overwrite\")\\\n",
    "    .option(\"aws_iam_role\", \"arn:aws:iam::735201909841:role/redshift_read_s3\")\\\n",
    "    .save()"
   ]
  },
  {
   "cell_type": "markdown",
   "id": "c453b2bb-6816-4921-b6a8-dfb8b7751f15",
   "metadata": {},
   "source": [
    "## ETL for WIPOClassifications Dimension"
   ]
  },
  {
   "cell_type": "markdown",
   "id": "e3e8bf51-0580-4818-b56f-72256bec6460",
   "metadata": {},
   "source": [
    "### Extract the Wipo Table and Wipo Field Table"
   ]
  },
  {
   "cell_type": "code",
   "execution_count": 41,
   "id": "e4f45321-b1a8-40b3-80e8-d86d41d497a3",
   "metadata": {
    "execution": {
     "iopub.execute_input": "2022-09-05T04:08:36.982679Z",
     "iopub.status.busy": "2022-09-05T04:08:36.982432Z",
     "iopub.status.idle": "2022-09-05T04:08:37.045731Z",
     "shell.execute_reply": "2022-09-05T04:08:37.045108Z",
     "shell.execute_reply.started": "2022-09-05T04:08:36.982644Z"
    }
   },
   "outputs": [
    {
     "data": {
      "application/vnd.jupyter.widget-view+json": {
       "model_id": "2a30877fa416439aa24674264de9083a",
       "version_major": 2,
       "version_minor": 0
      },
      "text/plain": [
       "VBox()"
      ]
     },
     "metadata": {},
     "output_type": "display_data"
    },
    {
     "data": {
      "application/vnd.jupyter.widget-view+json": {
       "model_id": "",
       "version_major": 2,
       "version_minor": 0
      },
      "text/plain": [
       "FloatProgress(value=0.0, bar_style='info', description='Progress:', layout=Layout(height='25px', width='50%'),…"
      ]
     },
     "metadata": {},
     "output_type": "display_data"
    }
   ],
   "source": [
    "wipo_path= \"s3://patents-analytics/cleaned/wipo.parquet/\""
   ]
  },
  {
   "cell_type": "code",
   "execution_count": 98,
   "id": "9927c457-dab6-4d25-9028-053b66e5c572",
   "metadata": {
    "execution": {
     "iopub.execute_input": "2022-09-05T05:21:01.607365Z",
     "iopub.status.busy": "2022-09-05T05:21:01.607138Z",
     "iopub.status.idle": "2022-09-05T05:21:01.666371Z",
     "shell.execute_reply": "2022-09-05T05:21:01.665613Z",
     "shell.execute_reply.started": "2022-09-05T05:21:01.607342Z"
    },
    "tags": []
   },
   "outputs": [
    {
     "data": {
      "application/vnd.jupyter.widget-view+json": {
       "model_id": "4dcff9617e8945dbbe1dc9a77972d9b3",
       "version_major": 2,
       "version_minor": 0
      },
      "text/plain": [
       "VBox()"
      ]
     },
     "metadata": {},
     "output_type": "display_data"
    },
    {
     "data": {
      "application/vnd.jupyter.widget-view+json": {
       "model_id": "",
       "version_major": 2,
       "version_minor": 0
      },
      "text/plain": [
       "FloatProgress(value=0.0, bar_style='info', description='Progress:', layout=Layout(height='25px', width='50%'),…"
      ]
     },
     "metadata": {},
     "output_type": "display_data"
    }
   ],
   "source": [
    "wipo_field_path =  \"s3://patents-analytics/cleaned/wipo_field.parquet/\""
   ]
  },
  {
   "cell_type": "code",
   "execution_count": 46,
   "id": "6c124e59-9967-46f1-b198-a36c873baee9",
   "metadata": {
    "execution": {
     "iopub.execute_input": "2022-09-05T04:26:26.595430Z",
     "iopub.status.busy": "2022-09-05T04:26:26.595256Z",
     "iopub.status.idle": "2022-09-05T04:26:27.361505Z",
     "shell.execute_reply": "2022-09-05T04:26:27.360717Z",
     "shell.execute_reply.started": "2022-09-05T04:26:26.595408Z"
    }
   },
   "outputs": [
    {
     "data": {
      "application/vnd.jupyter.widget-view+json": {
       "model_id": "8bf48acefbfd4dc78e7d0a0802817d0c",
       "version_major": 2,
       "version_minor": 0
      },
      "text/plain": [
       "VBox()"
      ]
     },
     "metadata": {},
     "output_type": "display_data"
    },
    {
     "data": {
      "application/vnd.jupyter.widget-view+json": {
       "model_id": "",
       "version_major": 2,
       "version_minor": 0
      },
      "text/plain": [
       "FloatProgress(value=0.0, bar_style='info', description='Progress:', layout=Layout(height='25px', width='50%'),…"
      ]
     },
     "metadata": {},
     "output_type": "display_data"
    }
   ],
   "source": [
    "wipo_data = spark.read.parquet(wipo_path)"
   ]
  },
  {
   "cell_type": "code",
   "execution_count": 99,
   "id": "021d4abc-0327-4e93-9e6d-adde1524e72c",
   "metadata": {
    "execution": {
     "iopub.execute_input": "2022-09-05T05:21:03.833754Z",
     "iopub.status.busy": "2022-09-05T05:21:03.833526Z",
     "iopub.status.idle": "2022-09-05T05:21:11.146410Z",
     "shell.execute_reply": "2022-09-05T05:21:11.145827Z",
     "shell.execute_reply.started": "2022-09-05T05:21:03.833729Z"
    },
    "tags": []
   },
   "outputs": [
    {
     "data": {
      "application/vnd.jupyter.widget-view+json": {
       "model_id": "cd3cfb0440f24678a967a75277033961",
       "version_major": 2,
       "version_minor": 0
      },
      "text/plain": [
       "VBox()"
      ]
     },
     "metadata": {},
     "output_type": "display_data"
    },
    {
     "data": {
      "application/vnd.jupyter.widget-view+json": {
       "model_id": "",
       "version_major": 2,
       "version_minor": 0
      },
      "text/plain": [
       "FloatProgress(value=0.0, bar_style='info', description='Progress:', layout=Layout(height='25px', width='50%'),…"
      ]
     },
     "metadata": {},
     "output_type": "display_data"
    }
   ],
   "source": [
    "wipo_field_data = spark.read.parquet(wipo_field_path)"
   ]
  },
  {
   "cell_type": "code",
   "execution_count": 96,
   "id": "db639957-b068-4ec6-867b-4d31f45e7820",
   "metadata": {
    "execution": {
     "iopub.execute_input": "2022-09-05T05:18:56.196880Z",
     "iopub.status.busy": "2022-09-05T05:18:56.196654Z",
     "iopub.status.idle": "2022-09-05T05:18:56.249358Z",
     "shell.execute_reply": "2022-09-05T05:18:56.248677Z",
     "shell.execute_reply.started": "2022-09-05T05:18:56.196857Z"
    }
   },
   "outputs": [
    {
     "data": {
      "application/vnd.jupyter.widget-view+json": {
       "model_id": "e19fa07523c646feba2eca8bfd5f3e9b",
       "version_major": 2,
       "version_minor": 0
      },
      "text/plain": [
       "VBox()"
      ]
     },
     "metadata": {},
     "output_type": "display_data"
    },
    {
     "data": {
      "application/vnd.jupyter.widget-view+json": {
       "model_id": "",
       "version_major": 2,
       "version_minor": 0
      },
      "text/plain": [
       "FloatProgress(value=0.0, bar_style='info', description='Progress:', layout=Layout(height='25px', width='50%'),…"
      ]
     },
     "metadata": {},
     "output_type": "display_data"
    },
    {
     "name": "stdout",
     "output_type": "stream",
     "text": [
      "root\n",
      " |-- patent_id: integer (nullable = true)\n",
      " |-- field_id: double (nullable = true)\n",
      " |-- sequence: integer (nullable = true)"
     ]
    }
   ],
   "source": [
    "wipo_data.printSchema()"
   ]
  },
  {
   "cell_type": "code",
   "execution_count": 100,
   "id": "1f59231a-d57a-47c0-8023-8f9d10fd508b",
   "metadata": {
    "execution": {
     "iopub.execute_input": "2022-09-05T05:21:11.147738Z",
     "iopub.status.busy": "2022-09-05T05:21:11.147499Z",
     "iopub.status.idle": "2022-09-05T05:21:11.201247Z",
     "shell.execute_reply": "2022-09-05T05:21:11.200691Z",
     "shell.execute_reply.started": "2022-09-05T05:21:11.147706Z"
    },
    "tags": []
   },
   "outputs": [
    {
     "data": {
      "application/vnd.jupyter.widget-view+json": {
       "model_id": "e411b03cc0f541b28845cda2f78a3bb8",
       "version_major": 2,
       "version_minor": 0
      },
      "text/plain": [
       "VBox()"
      ]
     },
     "metadata": {},
     "output_type": "display_data"
    },
    {
     "data": {
      "application/vnd.jupyter.widget-view+json": {
       "model_id": "",
       "version_major": 2,
       "version_minor": 0
      },
      "text/plain": [
       "FloatProgress(value=0.0, bar_style='info', description='Progress:', layout=Layout(height='25px', width='50%'),…"
      ]
     },
     "metadata": {},
     "output_type": "display_data"
    },
    {
     "name": "stdout",
     "output_type": "stream",
     "text": [
      "root\n",
      " |-- id: string (nullable = true)\n",
      " |-- sector_title: string (nullable = true)\n",
      " |-- field_title: string (nullable = true)"
     ]
    }
   ],
   "source": [
    "wipo_field_data.printSchema()"
   ]
  },
  {
   "cell_type": "markdown",
   "id": "30c156ca-4a72-4639-b65a-15870d6a0616",
   "metadata": {},
   "source": [
    "### Transform"
   ]
  },
  {
   "cell_type": "code",
   "execution_count": 102,
   "id": "288862a2-f3ef-420a-b517-23b435ed63c6",
   "metadata": {
    "execution": {
     "iopub.execute_input": "2022-09-05T05:23:38.985101Z",
     "iopub.status.busy": "2022-09-05T05:23:38.984875Z",
     "iopub.status.idle": "2022-09-05T05:23:39.244412Z",
     "shell.execute_reply": "2022-09-05T05:23:39.243829Z",
     "shell.execute_reply.started": "2022-09-05T05:23:38.985077Z"
    },
    "tags": []
   },
   "outputs": [
    {
     "data": {
      "application/vnd.jupyter.widget-view+json": {
       "model_id": "bd4d7c944176466c927fdcdeadb3a341",
       "version_major": 2,
       "version_minor": 0
      },
      "text/plain": [
       "VBox()"
      ]
     },
     "metadata": {},
     "output_type": "display_data"
    },
    {
     "data": {
      "application/vnd.jupyter.widget-view+json": {
       "model_id": "",
       "version_major": 2,
       "version_minor": 0
      },
      "text/plain": [
       "FloatProgress(value=0.0, bar_style='info', description='Progress:', layout=Layout(height='25px', width='50%'),…"
      ]
     },
     "metadata": {},
     "output_type": "display_data"
    }
   ],
   "source": [
    "wipo_data = wipo_data.join(wipo_field_data, wipo_data.field_id == wipo_field_data.id).select(F.col(\"patent_id\").alias(\"wipo_classification_id\"), F.col(\"sector_title\").alias(\"sector\"), F.col(\"field_title\").alias(\"field\"))"
   ]
  },
  {
   "cell_type": "code",
   "execution_count": 103,
   "id": "63ad8600-9309-459f-85c3-8f57eb3691bd",
   "metadata": {
    "execution": {
     "iopub.execute_input": "2022-09-05T05:23:45.338473Z",
     "iopub.status.busy": "2022-09-05T05:23:45.338212Z",
     "iopub.status.idle": "2022-09-05T05:23:54.656565Z",
     "shell.execute_reply": "2022-09-05T05:23:54.655874Z",
     "shell.execute_reply.started": "2022-09-05T05:23:45.338438Z"
    }
   },
   "outputs": [
    {
     "data": {
      "application/vnd.jupyter.widget-view+json": {
       "model_id": "7907ca59a3e44a76a7f30b3b85f8d28d",
       "version_major": 2,
       "version_minor": 0
      },
      "text/plain": [
       "VBox()"
      ]
     },
     "metadata": {},
     "output_type": "display_data"
    },
    {
     "data": {
      "application/vnd.jupyter.widget-view+json": {
       "model_id": "",
       "version_major": 2,
       "version_minor": 0
      },
      "text/plain": [
       "FloatProgress(value=0.0, bar_style='info', description='Progress:', layout=Layout(height='25px', width='50%'),…"
      ]
     },
     "metadata": {},
     "output_type": "display_data"
    },
    {
     "name": "stdout",
     "output_type": "stream",
     "text": [
      "+----------------------+--------------------+--------------------+\n",
      "|wipo_classification_id|              sector|               field|\n",
      "+----------------------+--------------------+--------------------+\n",
      "|               5003481|Mechanical engine...|           Transport|\n",
      "|               6156689|           Chemistry|Basic materials c...|\n",
      "|               6071282|         Instruments|  Medical technology|\n",
      "|              10763770|Electrical engine...|Electrical machin...|\n",
      "|               8779043|           Chemistry|Macromolecular ch...|\n",
      "|              10103124|Electrical engine...|      Semiconductors|\n",
      "|               7042419|Electrical engine...|  Telecommunications|\n",
      "|               8847338|Electrical engine...|      Semiconductors|\n",
      "|              11090079|         Instruments|  Medical technology|\n",
      "|               6433583|Electrical engine...| Computer technology|\n",
      "|               8831205|Electrical engine...|  Telecommunications|\n",
      "|               5749401|Mechanical engine...|            Handling|\n",
      "|               5210542|Electrical engine...|  Telecommunications|\n",
      "|               5334625|           Chemistry|     Pharmaceuticals|\n",
      "|              10088973|Electrical engine...|IT methods for ma...|\n",
      "|               7497101|        Other fields|   Civil engineering|\n",
      "|               6482384|           Chemistry|Materials, metall...|\n",
      "|              11007845|Mechanical engine...|           Transport|\n",
      "|               4538844|        Other fields|   Civil engineering|\n",
      "|               7016037|         Instruments|              Optics|\n",
      "+----------------------+--------------------+--------------------+\n",
      "only showing top 20 rows"
     ]
    }
   ],
   "source": [
    "wipo_data.show()"
   ]
  },
  {
   "cell_type": "code",
   "execution_count": 105,
   "id": "c9a9fc65-ca4c-4e47-a09f-de816ae11a8a",
   "metadata": {
    "execution": {
     "iopub.execute_input": "2022-09-05T05:24:57.493126Z",
     "iopub.status.busy": "2022-09-05T05:24:57.492879Z",
     "iopub.status.idle": "2022-09-05T05:25:46.901804Z",
     "shell.execute_reply": "2022-09-05T05:25:46.901141Z",
     "shell.execute_reply.started": "2022-09-05T05:24:57.493101Z"
    }
   },
   "outputs": [
    {
     "data": {
      "application/vnd.jupyter.widget-view+json": {
       "model_id": "80995dc97566417ca101c3e937fa74fb",
       "version_major": 2,
       "version_minor": 0
      },
      "text/plain": [
       "VBox()"
      ]
     },
     "metadata": {},
     "output_type": "display_data"
    },
    {
     "data": {
      "application/vnd.jupyter.widget-view+json": {
       "model_id": "",
       "version_major": 2,
       "version_minor": 0
      },
      "text/plain": [
       "FloatProgress(value=0.0, bar_style='info', description='Progress:', layout=Layout(height='25px', width='50%'),…"
      ]
     },
     "metadata": {},
     "output_type": "display_data"
    }
   ],
   "source": [
    "wipo_data.write\\\n",
    "    .format(\"io.github.spark_redshift_community.spark.redshift\")\\\n",
    "    .option(\"url\", url)\\\n",
    "    .option(\"tempdir\", s3_tempdir)\\\n",
    "    .option(\"dbtable\", \"wipo_classifications\")\\\n",
    "    .mode(\"overwrite\")\\\n",
    "    .option(\"aws_iam_role\", \"arn:aws:iam::735201909841:role/redshift_read_s3\")\\\n",
    "    .save()"
   ]
  },
  {
   "cell_type": "code",
   "execution_count": 106,
   "id": "57ce2e12-476e-4c20-aaea-9994f162b54f",
   "metadata": {
    "execution": {
     "iopub.execute_input": "2022-09-05T05:27:02.326355Z",
     "iopub.status.busy": "2022-09-05T05:27:02.326125Z",
     "iopub.status.idle": "2022-09-05T05:27:11.625544Z",
     "shell.execute_reply": "2022-09-05T05:27:11.624834Z",
     "shell.execute_reply.started": "2022-09-05T05:27:02.326331Z"
    }
   },
   "outputs": [
    {
     "data": {
      "application/vnd.jupyter.widget-view+json": {
       "model_id": "264656d9fe9f402f9a35a02b68bb4d43",
       "version_major": 2,
       "version_minor": 0
      },
      "text/plain": [
       "VBox()"
      ]
     },
     "metadata": {},
     "output_type": "display_data"
    },
    {
     "data": {
      "application/vnd.jupyter.widget-view+json": {
       "model_id": "",
       "version_major": 2,
       "version_minor": 0
      },
      "text/plain": [
       "FloatProgress(value=0.0, bar_style='info', description='Progress:', layout=Layout(height='25px', width='50%'),…"
      ]
     },
     "metadata": {},
     "output_type": "display_data"
    },
    {
     "name": "stdout",
     "output_type": "stream",
     "text": [
      "7221215"
     ]
    }
   ],
   "source": [
    "wipo_data.count()"
   ]
  },
  {
   "cell_type": "markdown",
   "id": "c21bbfe7-be69-48bc-adfa-62ad0bcb2540",
   "metadata": {},
   "source": [
    "## ETL for Owners Dimension"
   ]
  },
  {
   "cell_type": "markdown",
   "id": "dd4a7c52-1602-4663-b736-90bdbc34e364",
   "metadata": {},
   "source": [
    "### Read patent cleaned"
   ]
  },
  {
   "cell_type": "code",
   "execution_count": 5,
   "id": "8ae52a7c-7ab8-425d-836a-0ecb674dc9da",
   "metadata": {
    "execution": {
     "iopub.execute_input": "2022-09-07T11:27:48.296786Z",
     "iopub.status.busy": "2022-09-07T11:27:48.296564Z",
     "iopub.status.idle": "2022-09-07T11:27:48.349551Z",
     "shell.execute_reply": "2022-09-07T11:27:48.348987Z",
     "shell.execute_reply.started": "2022-09-07T11:27:48.296764Z"
    },
    "tags": []
   },
   "outputs": [
    {
     "data": {
      "application/vnd.jupyter.widget-view+json": {
       "model_id": "7fac0503c1214651b1a465c758690d38",
       "version_major": 2,
       "version_minor": 0
      },
      "text/plain": [
       "VBox()"
      ]
     },
     "metadata": {},
     "output_type": "display_data"
    },
    {
     "data": {
      "application/vnd.jupyter.widget-view+json": {
       "model_id": "",
       "version_major": 2,
       "version_minor": 0
      },
      "text/plain": [
       "FloatProgress(value=0.0, bar_style='info', description='Progress:', layout=Layout(height='25px', width='50%'),…"
      ]
     },
     "metadata": {},
     "output_type": "display_data"
    }
   ],
   "source": [
    "patent_cleaned_path = \"s3://patents-analytics/cleaned/patent.parquet/\""
   ]
  },
  {
   "cell_type": "code",
   "execution_count": 6,
   "id": "cf776719-a853-40ba-bafe-7b47c0abf501",
   "metadata": {
    "execution": {
     "iopub.execute_input": "2022-09-07T11:27:48.518306Z",
     "iopub.status.busy": "2022-09-07T11:27:48.518082Z",
     "iopub.status.idle": "2022-09-07T11:27:55.831555Z",
     "shell.execute_reply": "2022-09-07T11:27:55.830986Z",
     "shell.execute_reply.started": "2022-09-07T11:27:48.518282Z"
    },
    "tags": []
   },
   "outputs": [
    {
     "data": {
      "application/vnd.jupyter.widget-view+json": {
       "model_id": "ce1efc5260c5495a815d1bc98084f5cc",
       "version_major": 2,
       "version_minor": 0
      },
      "text/plain": [
       "VBox()"
      ]
     },
     "metadata": {},
     "output_type": "display_data"
    },
    {
     "data": {
      "application/vnd.jupyter.widget-view+json": {
       "model_id": "",
       "version_major": 2,
       "version_minor": 0
      },
      "text/plain": [
       "FloatProgress(value=0.0, bar_style='info', description='Progress:', layout=Layout(height='25px', width='50%'),…"
      ]
     },
     "metadata": {},
     "output_type": "display_data"
    }
   ],
   "source": [
    "patent_cleaned = spark.read.parquet(patent_cleaned_path)"
   ]
  },
  {
   "cell_type": "code",
   "execution_count": 7,
   "id": "f1becdcd-8da9-4c35-b3ee-762dc7aefbaa",
   "metadata": {
    "execution": {
     "iopub.execute_input": "2022-09-07T11:27:55.832771Z",
     "iopub.status.busy": "2022-09-07T11:27:55.832588Z",
     "iopub.status.idle": "2022-09-07T11:27:56.102106Z",
     "shell.execute_reply": "2022-09-07T11:27:56.101318Z",
     "shell.execute_reply.started": "2022-09-07T11:27:55.832749Z"
    },
    "tags": []
   },
   "outputs": [
    {
     "data": {
      "application/vnd.jupyter.widget-view+json": {
       "model_id": "270f1bd237da4013a06e23c03a6ec554",
       "version_major": 2,
       "version_minor": 0
      },
      "text/plain": [
       "VBox()"
      ]
     },
     "metadata": {},
     "output_type": "display_data"
    },
    {
     "data": {
      "application/vnd.jupyter.widget-view+json": {
       "model_id": "",
       "version_major": 2,
       "version_minor": 0
      },
      "text/plain": [
       "FloatProgress(value=0.0, bar_style='info', description='Progress:', layout=Layout(height='25px', width='50%'),…"
      ]
     },
     "metadata": {},
     "output_type": "display_data"
    },
    {
     "name": "stdout",
     "output_type": "stream",
     "text": [
      "root\n",
      " |-- id: string (nullable = true)\n",
      " |-- type: string (nullable = true)\n",
      " |-- date: timestamp (nullable = true)\n",
      " |-- abstract: string (nullable = true)\n",
      " |-- title: string (nullable = true)\n",
      " |-- kind: string (nullable = true)\n",
      " |-- num_claims: integer (nullable = true)\n",
      " |-- year: integer (nullable = true)"
     ]
    }
   ],
   "source": [
    "patent_cleaned.printSchema()"
   ]
  },
  {
   "cell_type": "code",
   "execution_count": 8,
   "id": "c4e8d4fb-f0a6-49d0-840f-962f473daa31",
   "metadata": {
    "execution": {
     "iopub.execute_input": "2022-09-07T11:27:56.103451Z",
     "iopub.status.busy": "2022-09-07T11:27:56.103275Z",
     "iopub.status.idle": "2022-09-07T11:28:03.557749Z",
     "shell.execute_reply": "2022-09-07T11:28:03.557081Z",
     "shell.execute_reply.started": "2022-09-07T11:27:56.103429Z"
    },
    "tags": []
   },
   "outputs": [
    {
     "data": {
      "application/vnd.jupyter.widget-view+json": {
       "model_id": "81ff4e7ea4984595a1acf02ed1b1fdfd",
       "version_major": 2,
       "version_minor": 0
      },
      "text/plain": [
       "VBox()"
      ]
     },
     "metadata": {},
     "output_type": "display_data"
    },
    {
     "data": {
      "application/vnd.jupyter.widget-view+json": {
       "model_id": "",
       "version_major": 2,
       "version_minor": 0
      },
      "text/plain": [
       "FloatProgress(value=0.0, bar_style='info', description='Progress:', layout=Layout(height='25px', width='50%'),…"
      ]
     },
     "metadata": {},
     "output_type": "display_data"
    },
    {
     "name": "stdout",
     "output_type": "stream",
     "text": [
      "5718002"
     ]
    }
   ],
   "source": [
    "patent_cleaned.count()"
   ]
  },
  {
   "cell_type": "markdown",
   "id": "e5d4e2dd-ab37-4413-8dff-186b24ce3cfb",
   "metadata": {},
   "source": [
    "### Read patent assignee"
   ]
  },
  {
   "cell_type": "code",
   "execution_count": 9,
   "id": "828cef48-53e5-4551-86c6-599c8f55fedf",
   "metadata": {
    "execution": {
     "iopub.execute_input": "2022-09-07T11:28:03.559452Z",
     "iopub.status.busy": "2022-09-07T11:28:03.559216Z",
     "iopub.status.idle": "2022-09-07T11:28:03.621088Z",
     "shell.execute_reply": "2022-09-07T11:28:03.620499Z",
     "shell.execute_reply.started": "2022-09-07T11:28:03.559419Z"
    },
    "tags": []
   },
   "outputs": [
    {
     "data": {
      "application/vnd.jupyter.widget-view+json": {
       "model_id": "a3d2c85b15db4eae9733f2b31bfbead6",
       "version_major": 2,
       "version_minor": 0
      },
      "text/plain": [
       "VBox()"
      ]
     },
     "metadata": {},
     "output_type": "display_data"
    },
    {
     "data": {
      "application/vnd.jupyter.widget-view+json": {
       "model_id": "",
       "version_major": 2,
       "version_minor": 0
      },
      "text/plain": [
       "FloatProgress(value=0.0, bar_style='info', description='Progress:', layout=Layout(height='25px', width='50%'),…"
      ]
     },
     "metadata": {},
     "output_type": "display_data"
    }
   ],
   "source": [
    "patent_assignee_path = \"s3://patents-analytics/cleaned/patent_assignee.parquet/\""
   ]
  },
  {
   "cell_type": "code",
   "execution_count": 10,
   "id": "3341a1e3-0877-40e1-a8f7-30d461b6d8d4",
   "metadata": {
    "execution": {
     "iopub.execute_input": "2022-09-07T11:28:03.622111Z",
     "iopub.status.busy": "2022-09-07T11:28:03.621946Z",
     "iopub.status.idle": "2022-09-07T11:28:04.398649Z",
     "shell.execute_reply": "2022-09-07T11:28:04.397738Z",
     "shell.execute_reply.started": "2022-09-07T11:28:03.622090Z"
    },
    "tags": []
   },
   "outputs": [
    {
     "data": {
      "application/vnd.jupyter.widget-view+json": {
       "model_id": "cbd3e0f664d84ba4aa6720d7cb0db780",
       "version_major": 2,
       "version_minor": 0
      },
      "text/plain": [
       "VBox()"
      ]
     },
     "metadata": {},
     "output_type": "display_data"
    },
    {
     "data": {
      "application/vnd.jupyter.widget-view+json": {
       "model_id": "",
       "version_major": 2,
       "version_minor": 0
      },
      "text/plain": [
       "FloatProgress(value=0.0, bar_style='info', description='Progress:', layout=Layout(height='25px', width='50%'),…"
      ]
     },
     "metadata": {},
     "output_type": "display_data"
    }
   ],
   "source": [
    "patent_assignee = spark.read.parquet(patent_assignee_path)"
   ]
  },
  {
   "cell_type": "code",
   "execution_count": 11,
   "id": "aef7e3f0-784d-45a9-a0c3-b74cb189caff",
   "metadata": {
    "execution": {
     "iopub.execute_input": "2022-09-07T11:28:04.402120Z",
     "iopub.status.busy": "2022-09-07T11:28:04.401929Z",
     "iopub.status.idle": "2022-09-07T11:28:04.471713Z",
     "shell.execute_reply": "2022-09-07T11:28:04.471092Z",
     "shell.execute_reply.started": "2022-09-07T11:28:04.402097Z"
    },
    "tags": []
   },
   "outputs": [
    {
     "data": {
      "application/vnd.jupyter.widget-view+json": {
       "model_id": "bd9aa6bb6a494a67acaf24e3b3db74a1",
       "version_major": 2,
       "version_minor": 0
      },
      "text/plain": [
       "VBox()"
      ]
     },
     "metadata": {},
     "output_type": "display_data"
    },
    {
     "data": {
      "application/vnd.jupyter.widget-view+json": {
       "model_id": "",
       "version_major": 2,
       "version_minor": 0
      },
      "text/plain": [
       "FloatProgress(value=0.0, bar_style='info', description='Progress:', layout=Layout(height='25px', width='50%'),…"
      ]
     },
     "metadata": {},
     "output_type": "display_data"
    },
    {
     "name": "stdout",
     "output_type": "stream",
     "text": [
      "root\n",
      " |-- patent_id: string (nullable = true)\n",
      " |-- assignee_id: string (nullable = true)\n",
      " |-- location_id: string (nullable = true)"
     ]
    }
   ],
   "source": [
    "patent_assignee.printSchema()"
   ]
  },
  {
   "cell_type": "markdown",
   "id": "8b8c81c0-e7a6-46f0-a13f-39f81c2503c6",
   "metadata": {},
   "source": [
    "### Read assignee"
   ]
  },
  {
   "cell_type": "code",
   "execution_count": 12,
   "id": "b2bd8449-f250-401a-a8f5-3eb44ddc8ad4",
   "metadata": {
    "execution": {
     "iopub.execute_input": "2022-09-07T11:28:04.473113Z",
     "iopub.status.busy": "2022-09-07T11:28:04.472881Z",
     "iopub.status.idle": "2022-09-07T11:28:04.545899Z",
     "shell.execute_reply": "2022-09-07T11:28:04.545348Z",
     "shell.execute_reply.started": "2022-09-07T11:28:04.473082Z"
    },
    "tags": []
   },
   "outputs": [
    {
     "data": {
      "application/vnd.jupyter.widget-view+json": {
       "model_id": "a7cb58d8f8cf4204ad003818c89d2a86",
       "version_major": 2,
       "version_minor": 0
      },
      "text/plain": [
       "VBox()"
      ]
     },
     "metadata": {},
     "output_type": "display_data"
    },
    {
     "data": {
      "application/vnd.jupyter.widget-view+json": {
       "model_id": "",
       "version_major": 2,
       "version_minor": 0
      },
      "text/plain": [
       "FloatProgress(value=0.0, bar_style='info', description='Progress:', layout=Layout(height='25px', width='50%'),…"
      ]
     },
     "metadata": {},
     "output_type": "display_data"
    }
   ],
   "source": [
    "assignee_path = \"s3://patents-analytics/cleaned/assignee.parquet/\""
   ]
  },
  {
   "cell_type": "code",
   "execution_count": 13,
   "id": "4ad40355-d800-4503-ab96-213a5b97f586",
   "metadata": {
    "execution": {
     "iopub.execute_input": "2022-09-07T11:28:04.548005Z",
     "iopub.status.busy": "2022-09-07T11:28:04.547762Z",
     "iopub.status.idle": "2022-09-07T11:28:05.317806Z",
     "shell.execute_reply": "2022-09-07T11:28:05.317201Z",
     "shell.execute_reply.started": "2022-09-07T11:28:04.547975Z"
    },
    "tags": []
   },
   "outputs": [
    {
     "data": {
      "application/vnd.jupyter.widget-view+json": {
       "model_id": "1f36a5d332cd4b5eb34b0b71a53bd22c",
       "version_major": 2,
       "version_minor": 0
      },
      "text/plain": [
       "VBox()"
      ]
     },
     "metadata": {},
     "output_type": "display_data"
    },
    {
     "data": {
      "application/vnd.jupyter.widget-view+json": {
       "model_id": "",
       "version_major": 2,
       "version_minor": 0
      },
      "text/plain": [
       "FloatProgress(value=0.0, bar_style='info', description='Progress:', layout=Layout(height='25px', width='50%'),…"
      ]
     },
     "metadata": {},
     "output_type": "display_data"
    }
   ],
   "source": [
    "assignee = spark.read.parquet(assignee_path)"
   ]
  },
  {
   "cell_type": "code",
   "execution_count": 14,
   "id": "fcb71509-6614-4eff-8c23-85e470ba4d79",
   "metadata": {
    "execution": {
     "iopub.execute_input": "2022-09-07T11:28:05.319265Z",
     "iopub.status.busy": "2022-09-07T11:28:05.319086Z",
     "iopub.status.idle": "2022-09-07T11:28:05.373113Z",
     "shell.execute_reply": "2022-09-07T11:28:05.372488Z",
     "shell.execute_reply.started": "2022-09-07T11:28:05.319243Z"
    },
    "tags": []
   },
   "outputs": [
    {
     "data": {
      "application/vnd.jupyter.widget-view+json": {
       "model_id": "52d6ae50517a4711b20165dc610b42c7",
       "version_major": 2,
       "version_minor": 0
      },
      "text/plain": [
       "VBox()"
      ]
     },
     "metadata": {},
     "output_type": "display_data"
    },
    {
     "data": {
      "application/vnd.jupyter.widget-view+json": {
       "model_id": "",
       "version_major": 2,
       "version_minor": 0
      },
      "text/plain": [
       "FloatProgress(value=0.0, bar_style='info', description='Progress:', layout=Layout(height='25px', width='50%'),…"
      ]
     },
     "metadata": {},
     "output_type": "display_data"
    },
    {
     "name": "stdout",
     "output_type": "stream",
     "text": [
      "root\n",
      " |-- id: string (nullable = true)\n",
      " |-- name: string (nullable = true)\n",
      " |-- type: string (nullable = true)\n",
      " |-- new_id: string (nullable = true)"
     ]
    }
   ],
   "source": [
    "assignee.printSchema()"
   ]
  },
  {
   "cell_type": "markdown",
   "id": "f1972e89-fb3d-4a91-aa9e-8ca5005a3be2",
   "metadata": {},
   "source": [
    "### Read patent inventor"
   ]
  },
  {
   "cell_type": "code",
   "execution_count": 15,
   "id": "e2bbbc3a-f8b8-40a7-9522-95d762a5e2ab",
   "metadata": {
    "execution": {
     "iopub.execute_input": "2022-09-07T11:28:05.374379Z",
     "iopub.status.busy": "2022-09-07T11:28:05.374136Z",
     "iopub.status.idle": "2022-09-07T11:28:05.440936Z",
     "shell.execute_reply": "2022-09-07T11:28:05.440209Z",
     "shell.execute_reply.started": "2022-09-07T11:28:05.374346Z"
    },
    "tags": []
   },
   "outputs": [
    {
     "data": {
      "application/vnd.jupyter.widget-view+json": {
       "model_id": "068a1c4dc71b47aa960934577d0b91b9",
       "version_major": 2,
       "version_minor": 0
      },
      "text/plain": [
       "VBox()"
      ]
     },
     "metadata": {},
     "output_type": "display_data"
    },
    {
     "data": {
      "application/vnd.jupyter.widget-view+json": {
       "model_id": "",
       "version_major": 2,
       "version_minor": 0
      },
      "text/plain": [
       "FloatProgress(value=0.0, bar_style='info', description='Progress:', layout=Layout(height='25px', width='50%'),…"
      ]
     },
     "metadata": {},
     "output_type": "display_data"
    }
   ],
   "source": [
    "patent_inventor_path = \"s3://patents-analytics/cleaned/patent_inventor.parquet/\""
   ]
  },
  {
   "cell_type": "code",
   "execution_count": 16,
   "id": "21cf45c9-0f54-480a-ac07-75b18a8f8dd4",
   "metadata": {
    "execution": {
     "iopub.execute_input": "2022-09-07T11:28:05.441978Z",
     "iopub.status.busy": "2022-09-07T11:28:05.441810Z",
     "iopub.status.idle": "2022-09-07T11:28:06.206031Z",
     "shell.execute_reply": "2022-09-07T11:28:06.205445Z",
     "shell.execute_reply.started": "2022-09-07T11:28:05.441957Z"
    },
    "tags": []
   },
   "outputs": [
    {
     "data": {
      "application/vnd.jupyter.widget-view+json": {
       "model_id": "921d3365913444eaafc135591f159a70",
       "version_major": 2,
       "version_minor": 0
      },
      "text/plain": [
       "VBox()"
      ]
     },
     "metadata": {},
     "output_type": "display_data"
    },
    {
     "data": {
      "application/vnd.jupyter.widget-view+json": {
       "model_id": "",
       "version_major": 2,
       "version_minor": 0
      },
      "text/plain": [
       "FloatProgress(value=0.0, bar_style='info', description='Progress:', layout=Layout(height='25px', width='50%'),…"
      ]
     },
     "metadata": {},
     "output_type": "display_data"
    }
   ],
   "source": [
    "patent_inventor = spark.read.parquet(patent_inventor_path)"
   ]
  },
  {
   "cell_type": "code",
   "execution_count": 17,
   "id": "f8f51774-c714-4a5b-ac3e-bcef2f7fe30d",
   "metadata": {
    "execution": {
     "iopub.execute_input": "2022-09-07T11:28:06.207418Z",
     "iopub.status.busy": "2022-09-07T11:28:06.207144Z",
     "iopub.status.idle": "2022-09-07T11:28:06.263986Z",
     "shell.execute_reply": "2022-09-07T11:28:06.263433Z",
     "shell.execute_reply.started": "2022-09-07T11:28:06.207372Z"
    },
    "tags": []
   },
   "outputs": [
    {
     "data": {
      "application/vnd.jupyter.widget-view+json": {
       "model_id": "d1fdcdf8fceb429f9ab50404f500249d",
       "version_major": 2,
       "version_minor": 0
      },
      "text/plain": [
       "VBox()"
      ]
     },
     "metadata": {},
     "output_type": "display_data"
    },
    {
     "data": {
      "application/vnd.jupyter.widget-view+json": {
       "model_id": "",
       "version_major": 2,
       "version_minor": 0
      },
      "text/plain": [
       "FloatProgress(value=0.0, bar_style='info', description='Progress:', layout=Layout(height='25px', width='50%'),…"
      ]
     },
     "metadata": {},
     "output_type": "display_data"
    },
    {
     "name": "stdout",
     "output_type": "stream",
     "text": [
      "root\n",
      " |-- patent_id: string (nullable = true)\n",
      " |-- inventor_id: string (nullable = true)\n",
      " |-- location_id: string (nullable = true)"
     ]
    }
   ],
   "source": [
    "patent_inventor.printSchema()"
   ]
  },
  {
   "cell_type": "markdown",
   "id": "e269e896-9da8-40d8-b2ec-1017577c3f9b",
   "metadata": {},
   "source": [
    "### Read inventor"
   ]
  },
  {
   "cell_type": "code",
   "execution_count": 18,
   "id": "1229356c-1b86-42d2-ada2-13e39f620ea3",
   "metadata": {
    "execution": {
     "iopub.execute_input": "2022-09-07T11:28:06.265015Z",
     "iopub.status.busy": "2022-09-07T11:28:06.264845Z",
     "iopub.status.idle": "2022-09-07T11:28:06.321358Z",
     "shell.execute_reply": "2022-09-07T11:28:06.320804Z",
     "shell.execute_reply.started": "2022-09-07T11:28:06.264994Z"
    },
    "tags": []
   },
   "outputs": [
    {
     "data": {
      "application/vnd.jupyter.widget-view+json": {
       "model_id": "7083ae7093184b6393b7f0e71b498fd2",
       "version_major": 2,
       "version_minor": 0
      },
      "text/plain": [
       "VBox()"
      ]
     },
     "metadata": {},
     "output_type": "display_data"
    },
    {
     "data": {
      "application/vnd.jupyter.widget-view+json": {
       "model_id": "",
       "version_major": 2,
       "version_minor": 0
      },
      "text/plain": [
       "FloatProgress(value=0.0, bar_style='info', description='Progress:', layout=Layout(height='25px', width='50%'),…"
      ]
     },
     "metadata": {},
     "output_type": "display_data"
    }
   ],
   "source": [
    "inventor_path = \"s3://patents-analytics/cleaned/inventor.parquet/\""
   ]
  },
  {
   "cell_type": "code",
   "execution_count": 19,
   "id": "370d1336-2bc9-4ffa-aaf9-093677a95d71",
   "metadata": {
    "execution": {
     "iopub.execute_input": "2022-09-07T11:28:06.322345Z",
     "iopub.status.busy": "2022-09-07T11:28:06.322166Z",
     "iopub.status.idle": "2022-09-07T11:28:07.093870Z",
     "shell.execute_reply": "2022-09-07T11:28:07.093269Z",
     "shell.execute_reply.started": "2022-09-07T11:28:06.322324Z"
    },
    "tags": []
   },
   "outputs": [
    {
     "data": {
      "application/vnd.jupyter.widget-view+json": {
       "model_id": "a92b058091b544ba8727fe763c7b59ed",
       "version_major": 2,
       "version_minor": 0
      },
      "text/plain": [
       "VBox()"
      ]
     },
     "metadata": {},
     "output_type": "display_data"
    },
    {
     "data": {
      "application/vnd.jupyter.widget-view+json": {
       "model_id": "",
       "version_major": 2,
       "version_minor": 0
      },
      "text/plain": [
       "FloatProgress(value=0.0, bar_style='info', description='Progress:', layout=Layout(height='25px', width='50%'),…"
      ]
     },
     "metadata": {},
     "output_type": "display_data"
    }
   ],
   "source": [
    "inventor = spark.read.parquet(inventor_path)"
   ]
  },
  {
   "cell_type": "code",
   "execution_count": 20,
   "id": "63b6acd0-e41d-4660-9c8d-fc31a1c37a70",
   "metadata": {
    "execution": {
     "iopub.execute_input": "2022-09-07T11:28:07.094940Z",
     "iopub.status.busy": "2022-09-07T11:28:07.094755Z",
     "iopub.status.idle": "2022-09-07T11:28:07.173934Z",
     "shell.execute_reply": "2022-09-07T11:28:07.173130Z",
     "shell.execute_reply.started": "2022-09-07T11:28:07.094918Z"
    },
    "tags": []
   },
   "outputs": [
    {
     "data": {
      "application/vnd.jupyter.widget-view+json": {
       "model_id": "02704f7bf53c43f0a19ce413a2110254",
       "version_major": 2,
       "version_minor": 0
      },
      "text/plain": [
       "VBox()"
      ]
     },
     "metadata": {},
     "output_type": "display_data"
    },
    {
     "data": {
      "application/vnd.jupyter.widget-view+json": {
       "model_id": "",
       "version_major": 2,
       "version_minor": 0
      },
      "text/plain": [
       "FloatProgress(value=0.0, bar_style='info', description='Progress:', layout=Layout(height='25px', width='50%'),…"
      ]
     },
     "metadata": {},
     "output_type": "display_data"
    },
    {
     "name": "stdout",
     "output_type": "stream",
     "text": [
      "root\n",
      " |-- id: string (nullable = true)\n",
      " |-- type: string (nullable = true)\n",
      " |-- name: string (nullable = true)\n",
      " |-- new_id: string (nullable = true)"
     ]
    }
   ],
   "source": [
    "inventor.printSchema()"
   ]
  },
  {
   "cell_type": "markdown",
   "id": "0d7fe845-e4be-403e-9277-928b2516aff8",
   "metadata": {},
   "source": [
    "### Read location"
   ]
  },
  {
   "cell_type": "code",
   "execution_count": 21,
   "id": "d842c85f-2d96-4953-a15b-d02548ee77ef",
   "metadata": {
    "execution": {
     "iopub.execute_input": "2022-09-07T11:28:07.175696Z",
     "iopub.status.busy": "2022-09-07T11:28:07.175446Z",
     "iopub.status.idle": "2022-09-07T11:28:07.250470Z",
     "shell.execute_reply": "2022-09-07T11:28:07.247426Z",
     "shell.execute_reply.started": "2022-09-07T11:28:07.175671Z"
    },
    "tags": []
   },
   "outputs": [
    {
     "data": {
      "application/vnd.jupyter.widget-view+json": {
       "model_id": "8f48e00bd6c7425c930ed564a905a50b",
       "version_major": 2,
       "version_minor": 0
      },
      "text/plain": [
       "VBox()"
      ]
     },
     "metadata": {},
     "output_type": "display_data"
    },
    {
     "data": {
      "application/vnd.jupyter.widget-view+json": {
       "model_id": "",
       "version_major": 2,
       "version_minor": 0
      },
      "text/plain": [
       "FloatProgress(value=0.0, bar_style='info', description='Progress:', layout=Layout(height='25px', width='50%'),…"
      ]
     },
     "metadata": {},
     "output_type": "display_data"
    }
   ],
   "source": [
    "location_path = \"s3://patents-analytics/cleaned/location.parquet/\""
   ]
  },
  {
   "cell_type": "code",
   "execution_count": 22,
   "id": "d2c5d45a-b460-4d2c-b801-352cf99637f5",
   "metadata": {
    "execution": {
     "iopub.execute_input": "2022-09-07T11:28:07.251623Z",
     "iopub.status.busy": "2022-09-07T11:28:07.251442Z",
     "iopub.status.idle": "2022-09-07T11:28:08.049015Z",
     "shell.execute_reply": "2022-09-07T11:28:08.048268Z",
     "shell.execute_reply.started": "2022-09-07T11:28:07.251599Z"
    },
    "tags": []
   },
   "outputs": [
    {
     "data": {
      "application/vnd.jupyter.widget-view+json": {
       "model_id": "b5a3ce42c4804ba0bff76ca2113eb469",
       "version_major": 2,
       "version_minor": 0
      },
      "text/plain": [
       "VBox()"
      ]
     },
     "metadata": {},
     "output_type": "display_data"
    },
    {
     "data": {
      "application/vnd.jupyter.widget-view+json": {
       "model_id": "",
       "version_major": 2,
       "version_minor": 0
      },
      "text/plain": [
       "FloatProgress(value=0.0, bar_style='info', description='Progress:', layout=Layout(height='25px', width='50%'),…"
      ]
     },
     "metadata": {},
     "output_type": "display_data"
    }
   ],
   "source": [
    "location = spark.read.parquet(location_path)"
   ]
  },
  {
   "cell_type": "code",
   "execution_count": 23,
   "id": "a48b611d-d71e-4540-96af-b3770db4aa79",
   "metadata": {
    "execution": {
     "iopub.execute_input": "2022-09-07T11:28:08.050526Z",
     "iopub.status.busy": "2022-09-07T11:28:08.050089Z",
     "iopub.status.idle": "2022-09-07T11:28:08.180547Z",
     "shell.execute_reply": "2022-09-07T11:28:08.178652Z",
     "shell.execute_reply.started": "2022-09-07T11:28:08.050488Z"
    },
    "tags": []
   },
   "outputs": [
    {
     "data": {
      "application/vnd.jupyter.widget-view+json": {
       "model_id": "75a6834285a04411be54d2002609b59e",
       "version_major": 2,
       "version_minor": 0
      },
      "text/plain": [
       "VBox()"
      ]
     },
     "metadata": {},
     "output_type": "display_data"
    },
    {
     "data": {
      "application/vnd.jupyter.widget-view+json": {
       "model_id": "",
       "version_major": 2,
       "version_minor": 0
      },
      "text/plain": [
       "FloatProgress(value=0.0, bar_style='info', description='Progress:', layout=Layout(height='25px', width='50%'),…"
      ]
     },
     "metadata": {},
     "output_type": "display_data"
    },
    {
     "name": "stdout",
     "output_type": "stream",
     "text": [
      "root\n",
      " |-- id: string (nullable = true)\n",
      " |-- new_id: string (nullable = true)\n",
      " |-- Country: string (nullable = true)\n",
      " |-- Continent: string (nullable = true)"
     ]
    }
   ],
   "source": [
    "location.printSchema()"
   ]
  },
  {
   "cell_type": "code",
   "execution_count": 24,
   "id": "b7b71875-04fd-439d-a0e0-386c1d88f1d8",
   "metadata": {
    "execution": {
     "iopub.execute_input": "2022-09-07T11:28:08.181862Z",
     "iopub.status.busy": "2022-09-07T11:28:08.181602Z",
     "iopub.status.idle": "2022-09-07T11:28:09.508531Z",
     "shell.execute_reply": "2022-09-07T11:28:09.506535Z",
     "shell.execute_reply.started": "2022-09-07T11:28:08.181827Z"
    },
    "tags": []
   },
   "outputs": [
    {
     "data": {
      "application/vnd.jupyter.widget-view+json": {
       "model_id": "7b4355e4dbad4a999497eed98a5b7a12",
       "version_major": 2,
       "version_minor": 0
      },
      "text/plain": [
       "VBox()"
      ]
     },
     "metadata": {},
     "output_type": "display_data"
    },
    {
     "data": {
      "application/vnd.jupyter.widget-view+json": {
       "model_id": "",
       "version_major": 2,
       "version_minor": 0
      },
      "text/plain": [
       "FloatProgress(value=0.0, bar_style='info', description='Progress:', layout=Layout(height='25px', width='50%'),…"
      ]
     },
     "metadata": {},
     "output_type": "display_data"
    },
    {
     "name": "stdout",
     "output_type": "stream",
     "text": [
      "+--------------------+--------------------+--------------+---------+\n",
      "|                  id|              new_id|       Country|Continent|\n",
      "+--------------------+--------------------+--------------+---------+\n",
      "|ef226adc-cb90-11e...|8d23a6e37e0a6431a...|United Kingdom|       EU|\n",
      "|55144e66-cb90-11e...|8d23a6e37e0a6431a...|United Kingdom|       EU|\n",
      "|d8235ebd-cb90-11e...|8d23a6e37e0a6431a...|United Kingdom|       EU|\n",
      "|2874158a-cb8f-11e...|8d23a6e37e0a6431a...|United Kingdom|       EU|\n",
      "|540ca7ca-cb90-11e...|8d23a6e37e0a6431a...|United Kingdom|       EU|\n",
      "|4163c23a-09bc-11e...|8d23a6e37e0a6431a...|United Kingdom|       EU|\n",
      "|a8faf4ef-cb8f-11e...|8d23a6e37e0a6431a...|United Kingdom|       EU|\n",
      "|c187b518-09bd-11e...|8d23a6e37e0a6431a...|United Kingdom|       EU|\n",
      "|cf18721f-cb8f-11e...|8d23a6e37e0a6431a...|United Kingdom|       EU|\n",
      "|774addd0-cb90-11e...|8d23a6e37e0a6431a...|United Kingdom|       EU|\n",
      "|6e70bb1d-cb8e-11e...|8d23a6e37e0a6431a...|United Kingdom|       EU|\n",
      "|9aa079ee-cb90-11e...|8d23a6e37e0a6431a...|United Kingdom|       EU|\n",
      "|2e2ec188-cb90-11e...|8d23a6e37e0a6431a...|United Kingdom|       EU|\n",
      "|9018cd2e-cb8f-11e...|8d23a6e37e0a6431a...|United Kingdom|       EU|\n",
      "|654be383-cb90-11e...|8d23a6e37e0a6431a...|United Kingdom|       EU|\n",
      "|790386a7-09bc-11e...|8d23a6e37e0a6431a...|United Kingdom|       EU|\n",
      "|ab988434-cb8e-11e...|8d23a6e37e0a6431a...|United Kingdom|       EU|\n",
      "|8fd4953f-cb90-11e...|8d23a6e37e0a6431a...|United Kingdom|       EU|\n",
      "|ff757de8-09bb-11e...|8d23a6e37e0a6431a...|United Kingdom|       EU|\n",
      "|da64f349-09bc-11e...|8d23a6e37e0a6431a...|United Kingdom|       EU|\n",
      "+--------------------+--------------------+--------------+---------+\n",
      "only showing top 20 rows"
     ]
    }
   ],
   "source": [
    "location.show()"
   ]
  },
  {
   "cell_type": "code",
   "execution_count": 25,
   "id": "02eff54e-4196-4370-9b52-2a65fbd3d22c",
   "metadata": {
    "execution": {
     "iopub.execute_input": "2022-09-07T11:28:09.509890Z",
     "iopub.status.busy": "2022-09-07T11:28:09.509627Z",
     "iopub.status.idle": "2022-09-07T11:28:10.319659Z",
     "shell.execute_reply": "2022-09-07T11:28:10.318820Z",
     "shell.execute_reply.started": "2022-09-07T11:28:09.509856Z"
    },
    "tags": []
   },
   "outputs": [
    {
     "data": {
      "application/vnd.jupyter.widget-view+json": {
       "model_id": "cb925613d4984011b4bcfe545cfb3a62",
       "version_major": 2,
       "version_minor": 0
      },
      "text/plain": [
       "VBox()"
      ]
     },
     "metadata": {},
     "output_type": "display_data"
    },
    {
     "data": {
      "application/vnd.jupyter.widget-view+json": {
       "model_id": "",
       "version_major": 2,
       "version_minor": 0
      },
      "text/plain": [
       "FloatProgress(value=0.0, bar_style='info', description='Progress:', layout=Layout(height='25px', width='50%'),…"
      ]
     },
     "metadata": {},
     "output_type": "display_data"
    },
    {
     "name": "stdout",
     "output_type": "stream",
     "text": [
      "+---+------+-------+---------+\n",
      "| id|new_id|Country|Continent|\n",
      "+---+------+-------+---------+\n",
      "+---+------+-------+---------+"
     ]
    }
   ],
   "source": [
    "location.filter(F.col('new_id').isNull()).show()"
   ]
  },
  {
   "cell_type": "markdown",
   "id": "bf877a47-a469-4cd4-943e-c630755da818",
   "metadata": {},
   "source": [
    "### Join patent and patent assignee"
   ]
  },
  {
   "cell_type": "code",
   "execution_count": 26,
   "id": "55f3edd1-1a9e-44d4-9fa2-38b70ff988d7",
   "metadata": {
    "execution": {
     "iopub.execute_input": "2022-09-07T11:28:10.321855Z",
     "iopub.status.busy": "2022-09-07T11:28:10.321631Z",
     "iopub.status.idle": "2022-09-07T11:28:10.701162Z",
     "shell.execute_reply": "2022-09-07T11:28:10.700412Z",
     "shell.execute_reply.started": "2022-09-07T11:28:10.321829Z"
    },
    "tags": []
   },
   "outputs": [
    {
     "data": {
      "application/vnd.jupyter.widget-view+json": {
       "model_id": "1caee49cca1443a6939aa3a0f4d0c772",
       "version_major": 2,
       "version_minor": 0
      },
      "text/plain": [
       "VBox()"
      ]
     },
     "metadata": {},
     "output_type": "display_data"
    },
    {
     "data": {
      "application/vnd.jupyter.widget-view+json": {
       "model_id": "",
       "version_major": 2,
       "version_minor": 0
      },
      "text/plain": [
       "FloatProgress(value=0.0, bar_style='info', description='Progress:', layout=Layout(height='25px', width='50%'),…"
      ]
     },
     "metadata": {},
     "output_type": "display_data"
    }
   ],
   "source": [
    "patent_owner = patent_cleaned.join(patent_assignee, patent_cleaned.id == patent_assignee.patent_id, \"left\").select(\"id\", \"assignee_id\", \"location_id\")"
   ]
  },
  {
   "cell_type": "code",
   "execution_count": 27,
   "id": "09967429-46f2-4caa-ba92-536952620ff7",
   "metadata": {
    "execution": {
     "iopub.execute_input": "2022-09-07T11:28:10.702157Z",
     "iopub.status.busy": "2022-09-07T11:28:10.701994Z",
     "iopub.status.idle": "2022-09-07T11:28:10.760318Z",
     "shell.execute_reply": "2022-09-07T11:28:10.759776Z",
     "shell.execute_reply.started": "2022-09-07T11:28:10.702137Z"
    },
    "tags": []
   },
   "outputs": [
    {
     "data": {
      "application/vnd.jupyter.widget-view+json": {
       "model_id": "f756f5745e674acba4c9f0aefb566b4b",
       "version_major": 2,
       "version_minor": 0
      },
      "text/plain": [
       "VBox()"
      ]
     },
     "metadata": {},
     "output_type": "display_data"
    },
    {
     "data": {
      "application/vnd.jupyter.widget-view+json": {
       "model_id": "",
       "version_major": 2,
       "version_minor": 0
      },
      "text/plain": [
       "FloatProgress(value=0.0, bar_style='info', description='Progress:', layout=Layout(height='25px', width='50%'),…"
      ]
     },
     "metadata": {},
     "output_type": "display_data"
    }
   ],
   "source": [
    "patent_with_assignee = patent_owner.filter(F.col(\"assignee_id\").isNotNull())"
   ]
  },
  {
   "cell_type": "code",
   "execution_count": 28,
   "id": "d1937137-03a2-41f3-a99f-027410bd00c4",
   "metadata": {
    "execution": {
     "iopub.execute_input": "2022-09-07T11:28:10.762930Z",
     "iopub.status.busy": "2022-09-07T11:28:10.762757Z",
     "iopub.status.idle": "2022-09-07T11:28:10.830943Z",
     "shell.execute_reply": "2022-09-07T11:28:10.830299Z",
     "shell.execute_reply.started": "2022-09-07T11:28:10.762909Z"
    },
    "tags": []
   },
   "outputs": [
    {
     "data": {
      "application/vnd.jupyter.widget-view+json": {
       "model_id": "85f504a66c274532a250b80f44e61145",
       "version_major": 2,
       "version_minor": 0
      },
      "text/plain": [
       "VBox()"
      ]
     },
     "metadata": {},
     "output_type": "display_data"
    },
    {
     "data": {
      "application/vnd.jupyter.widget-view+json": {
       "model_id": "",
       "version_major": 2,
       "version_minor": 0
      },
      "text/plain": [
       "FloatProgress(value=0.0, bar_style='info', description='Progress:', layout=Layout(height='25px', width='50%'),…"
      ]
     },
     "metadata": {},
     "output_type": "display_data"
    }
   ],
   "source": [
    "patent_without_assignee = patent_owner.filter(F.col(\"assignee_id\").isNull())"
   ]
  },
  {
   "cell_type": "code",
   "execution_count": 29,
   "id": "27f4f642-7caf-46c4-b158-dcb9d884006b",
   "metadata": {
    "execution": {
     "iopub.execute_input": "2022-09-07T11:28:10.832473Z",
     "iopub.status.busy": "2022-09-07T11:28:10.832294Z",
     "iopub.status.idle": "2022-09-07T11:28:22.177810Z",
     "shell.execute_reply": "2022-09-07T11:28:22.176996Z",
     "shell.execute_reply.started": "2022-09-07T11:28:10.832452Z"
    },
    "tags": []
   },
   "outputs": [
    {
     "data": {
      "application/vnd.jupyter.widget-view+json": {
       "model_id": "76969709d37a40b6bef26c86ed5ad384",
       "version_major": 2,
       "version_minor": 0
      },
      "text/plain": [
       "VBox()"
      ]
     },
     "metadata": {},
     "output_type": "display_data"
    },
    {
     "data": {
      "application/vnd.jupyter.widget-view+json": {
       "model_id": "",
       "version_major": 2,
       "version_minor": 0
      },
      "text/plain": [
       "FloatProgress(value=0.0, bar_style='info', description='Progress:', layout=Layout(height='25px', width='50%'),…"
      ]
     },
     "metadata": {},
     "output_type": "display_data"
    },
    {
     "name": "stdout",
     "output_type": "stream",
     "text": [
      "+--------+--------------------+--------------------+\n",
      "|      id|         assignee_id|         location_id|\n",
      "+--------+--------------------+--------------------+\n",
      "|10000001|2f57ff76-4e82-475...|e8ec5703-cb8f-11e...|\n",
      "|10000040|64187300-4f51-4a5...|f643dd2b-09bb-11e...|\n",
      "|10000043|e82e8525-bd3c-4ad...|ff5c6634-cb8f-11e...|\n",
      "|10000099|dd2d5dd4-0b6d-400...|f0c35034-cb90-11e...|\n",
      "|10000136|9d5a4c76-7be9-4b3...|ff7e35db-cb90-11e...|\n",
      "|10000144|9634df64-1c8c-435...|f5538e3f-cb8e-11e...|\n",
      "|10000212|dd6c5836-4509-41c...|ff7e35db-cb90-11e...|\n",
      "|10000231|9a1187e7-c389-442...|fa457e8d-cb90-11e...|\n",
      "|10000235|dce088dd-709b-418...|ff4052ad-cb90-11e...|\n",
      "|10000341|a311f674-a619-419...|f99338de-cb8e-11e...|\n",
      "|10000354|87a2bb11-4700-479...|ff405b60-cb8e-11e...|\n",
      "|10000427|94a7a434-bbca-484...|fadd6575-09bd-11e...|\n",
      "|10000463|3675d2cd-33f3-4e2...|f16c2e15-cb8e-11e...|\n",
      "|10000477|d4dee247-3ec8-430...|f22e1e81-cb8e-11e...|\n",
      "|10000479|9ae4997d-1a45-488...|f9fd6a5c-cb8e-11e...|\n",
      "|10000490|c215870d-1c87-419...|f9fd6a5c-cb8e-11e...|\n",
      "|10000536|c00f30fc-256c-4f2...|f753dcfd-cb90-11e...|\n",
      "|10000551|5a8f84df-c7ea-4d6...|99f8d957-cbae-11e...|\n",
      "|10000563|88164efc-d434-466...|fea686f6-09bd-11e...|\n",
      "|10000596|263a9536-4bb7-459...|fcc06f51-09bd-11e...|\n",
      "+--------+--------------------+--------------------+\n",
      "only showing top 20 rows"
     ]
    }
   ],
   "source": [
    "patent_with_assignee.show()"
   ]
  },
  {
   "cell_type": "code",
   "execution_count": 30,
   "id": "d9cb5c70-d3b9-4262-9a57-2a39165a4462",
   "metadata": {
    "execution": {
     "iopub.execute_input": "2022-09-07T11:28:22.179316Z",
     "iopub.status.busy": "2022-09-07T11:28:22.178921Z",
     "iopub.status.idle": "2022-09-07T11:28:31.494993Z",
     "shell.execute_reply": "2022-09-07T11:28:31.494380Z",
     "shell.execute_reply.started": "2022-09-07T11:28:22.179279Z"
    },
    "tags": []
   },
   "outputs": [
    {
     "data": {
      "application/vnd.jupyter.widget-view+json": {
       "model_id": "ce6d17aa61b94c03866e0ee7fbc3d6e6",
       "version_major": 2,
       "version_minor": 0
      },
      "text/plain": [
       "VBox()"
      ]
     },
     "metadata": {},
     "output_type": "display_data"
    },
    {
     "data": {
      "application/vnd.jupyter.widget-view+json": {
       "model_id": "",
       "version_major": 2,
       "version_minor": 0
      },
      "text/plain": [
       "FloatProgress(value=0.0, bar_style='info', description='Progress:', layout=Layout(height='25px', width='50%'),…"
      ]
     },
     "metadata": {},
     "output_type": "display_data"
    },
    {
     "name": "stdout",
     "output_type": "stream",
     "text": [
      "5234543"
     ]
    }
   ],
   "source": [
    "patent_with_assignee.count()"
   ]
  },
  {
   "cell_type": "code",
   "execution_count": 31,
   "id": "7fb1e058-ce19-414e-bd5c-0e4095072ac8",
   "metadata": {
    "execution": {
     "iopub.execute_input": "2022-09-07T11:28:31.496328Z",
     "iopub.status.busy": "2022-09-07T11:28:31.496025Z",
     "iopub.status.idle": "2022-09-07T11:28:39.164746Z",
     "shell.execute_reply": "2022-09-07T11:28:39.164075Z",
     "shell.execute_reply.started": "2022-09-07T11:28:31.496293Z"
    },
    "tags": []
   },
   "outputs": [
    {
     "data": {
      "application/vnd.jupyter.widget-view+json": {
       "model_id": "14eb53beaa0a4b7295e9ef89b48d30a4",
       "version_major": 2,
       "version_minor": 0
      },
      "text/plain": [
       "VBox()"
      ]
     },
     "metadata": {},
     "output_type": "display_data"
    },
    {
     "data": {
      "application/vnd.jupyter.widget-view+json": {
       "model_id": "",
       "version_major": 2,
       "version_minor": 0
      },
      "text/plain": [
       "FloatProgress(value=0.0, bar_style='info', description='Progress:', layout=Layout(height='25px', width='50%'),…"
      ]
     },
     "metadata": {},
     "output_type": "display_data"
    },
    {
     "name": "stdout",
     "output_type": "stream",
     "text": [
      "+--------+-----------+-----------+\n",
      "|      id|assignee_id|location_id|\n",
      "+--------+-----------+-----------+\n",
      "|10000283|       null|       null|\n",
      "|10000304|       null|       null|\n",
      "|10000887|       null|       null|\n",
      "|10001015|       null|       null|\n",
      "|10001287|       null|       null|\n",
      "|10001289|       null|       null|\n",
      "|10002545|       null|       null|\n",
      "|10002552|       null|       null|\n",
      "|10002595|       null|       null|\n",
      "|10003886|       null|       null|\n",
      "|10003940|       null|       null|\n",
      "|10004186|       null|       null|\n",
      "|10004349|       null|       null|\n",
      "|10004944|       null|       null|\n",
      "|10005163|       null|       null|\n",
      "|10005329|       null|       null|\n",
      "|10005804|       null|       null|\n",
      "|10006197|       null|       null|\n",
      "|10006385|       null|       null|\n",
      "|10006743|       null|       null|\n",
      "+--------+-----------+-----------+\n",
      "only showing top 20 rows"
     ]
    }
   ],
   "source": [
    "patent_without_assignee.show()"
   ]
  },
  {
   "cell_type": "code",
   "execution_count": 32,
   "id": "7efb0a12-5519-4583-8d48-534ba68f4dc2",
   "metadata": {
    "execution": {
     "iopub.execute_input": "2022-09-07T11:28:39.165784Z",
     "iopub.status.busy": "2022-09-07T11:28:39.165616Z",
     "iopub.status.idle": "2022-09-07T11:28:48.488645Z",
     "shell.execute_reply": "2022-09-07T11:28:48.487949Z",
     "shell.execute_reply.started": "2022-09-07T11:28:39.165763Z"
    },
    "tags": []
   },
   "outputs": [
    {
     "data": {
      "application/vnd.jupyter.widget-view+json": {
       "model_id": "29d68857fbaa4cecad150b7121ef756e",
       "version_major": 2,
       "version_minor": 0
      },
      "text/plain": [
       "VBox()"
      ]
     },
     "metadata": {},
     "output_type": "display_data"
    },
    {
     "data": {
      "application/vnd.jupyter.widget-view+json": {
       "model_id": "",
       "version_major": 2,
       "version_minor": 0
      },
      "text/plain": [
       "FloatProgress(value=0.0, bar_style='info', description='Progress:', layout=Layout(height='25px', width='50%'),…"
      ]
     },
     "metadata": {},
     "output_type": "display_data"
    },
    {
     "name": "stdout",
     "output_type": "stream",
     "text": [
      "483459"
     ]
    }
   ],
   "source": [
    "patent_without_assignee.count()"
   ]
  },
  {
   "cell_type": "markdown",
   "id": "26d865bc-b5b9-4780-adae-2a6dddfedfd1",
   "metadata": {},
   "source": [
    "### Join patent with assignee with assignee"
   ]
  },
  {
   "cell_type": "code",
   "execution_count": 33,
   "id": "2103cc15-b667-48cf-a45c-ee99370a0a9e",
   "metadata": {
    "execution": {
     "iopub.execute_input": "2022-09-07T11:28:48.489851Z",
     "iopub.status.busy": "2022-09-07T11:28:48.489610Z",
     "iopub.status.idle": "2022-09-07T11:28:48.938955Z",
     "shell.execute_reply": "2022-09-07T11:28:48.938134Z",
     "shell.execute_reply.started": "2022-09-07T11:28:48.489816Z"
    },
    "tags": []
   },
   "outputs": [
    {
     "data": {
      "application/vnd.jupyter.widget-view+json": {
       "model_id": "9618df2cfae548cc90431b275db4623d",
       "version_major": 2,
       "version_minor": 0
      },
      "text/plain": [
       "VBox()"
      ]
     },
     "metadata": {},
     "output_type": "display_data"
    },
    {
     "data": {
      "application/vnd.jupyter.widget-view+json": {
       "model_id": "",
       "version_major": 2,
       "version_minor": 0
      },
      "text/plain": [
       "FloatProgress(value=0.0, bar_style='info', description='Progress:', layout=Layout(height='25px', width='50%'),…"
      ]
     },
     "metadata": {},
     "output_type": "display_data"
    }
   ],
   "source": [
    "patent_with_assignee = patent_with_assignee.join(assignee, patent_with_assignee.assignee_id==assignee.id, \"left\").drop(assignee.id).select(\"id\", F.col(\"new_id\").alias(\"owner_id\"), \"name\", \"type\", \"location_id\").cache()"
   ]
  },
  {
   "cell_type": "code",
   "execution_count": 34,
   "id": "da1c7d7e-43d4-4a9d-95bf-c9a35992b2df",
   "metadata": {
    "execution": {
     "iopub.execute_input": "2022-09-07T11:28:48.940012Z",
     "iopub.status.busy": "2022-09-07T11:28:48.939844Z",
     "iopub.status.idle": "2022-09-07T11:29:04.321937Z",
     "shell.execute_reply": "2022-09-07T11:29:04.321260Z",
     "shell.execute_reply.started": "2022-09-07T11:28:48.939990Z"
    },
    "tags": []
   },
   "outputs": [
    {
     "data": {
      "application/vnd.jupyter.widget-view+json": {
       "model_id": "1402a4ef4898442685dae854cc996f2b",
       "version_major": 2,
       "version_minor": 0
      },
      "text/plain": [
       "VBox()"
      ]
     },
     "metadata": {},
     "output_type": "display_data"
    },
    {
     "data": {
      "application/vnd.jupyter.widget-view+json": {
       "model_id": "",
       "version_major": 2,
       "version_minor": 0
      },
      "text/plain": [
       "FloatProgress(value=0.0, bar_style='info', description='Progress:', layout=Layout(height='25px', width='50%'),…"
      ]
     },
     "metadata": {},
     "output_type": "display_data"
    },
    {
     "name": "stdout",
     "output_type": "stream",
     "text": [
      "+--------+--------------------+--------------------+----------+--------------------+\n",
      "|      id|            owner_id|                name|      type|         location_id|\n",
      "+--------+--------------------+--------------------+----------+--------------------+\n",
      "| D877542|deb57160757b2f0bb...|Attendance on Dem...|   company|c41fcefa-cb8e-11e...|\n",
      "| D874679|deb57160757b2f0bb...|Attendance on Dem...|   company|c41fcefa-cb8e-11e...|\n",
      "| 7179436|0668165141eddab5a...|     Gregory L. Noss|individual|fac6a96e-cb8f-11e...|\n",
      "| 7287558|924220f93869caaa8...|Arizona Public Se...|   company|ebbac1b8-cb8e-11e...|\n",
      "| 7275569|924220f93869caaa8...|Arizona Public Se...|   company|ebbac1b8-cb8e-11e...|\n",
      "| 7647924|924220f93869caaa8...|Arizona Public Se...|   company|ebbac1b8-cb8e-11e...|\n",
      "| 8043847|924220f93869caaa8...|Arizona Public Se...|   company|ebbac1b8-cb8e-11e...|\n",
      "| 6352645|924220f93869caaa8...|Arizona Public Se...|   company|ebbac1b8-cb8e-11e...|\n",
      "| 6792200|924220f93869caaa8...|Arizona Public Se...|   company|ebbac1b8-cb8e-11e...|\n",
      "| 7531096|924220f93869caaa8...|Arizona Public Se...|   company|ebbac1b8-cb8e-11e...|\n",
      "| 7647202|924220f93869caaa8...|Arizona Public Se...|   company|ebbac1b8-cb8e-11e...|\n",
      "| 8781756|924220f93869caaa8...|Arizona Public Se...|   company|ebbac1b8-cb8e-11e...|\n",
      "| 7411371|924220f93869caaa8...|Arizona Public Se...|   company|ebbac1b8-cb8e-11e...|\n",
      "| 7747417|924220f93869caaa8...|Arizona Public Se...|   company|ebbac1b8-cb8e-11e...|\n",
      "|11080127|924220f93869caaa8...|Arizona Public Se...|   company|ebbac1b8-cb8e-11e...|\n",
      "| 8236072|924220f93869caaa8...|Arizona Public Se...|   company|ebbac1b8-cb8e-11e...|\n",
      "| 7357132|924220f93869caaa8...|Arizona Public Se...|   company|ebbac1b8-cb8e-11e...|\n",
      "| 8152875|924220f93869caaa8...|Arizona Public Se...|   company|ebbac1b8-cb8e-11e...|\n",
      "|10935945|924220f93869caaa8...|Arizona Public Se...|   company|ebbac1b8-cb8e-11e...|\n",
      "| 8529645|924220f93869caaa8...|Arizona Public Se...|   company|ebbac1b8-cb8e-11e...|\n",
      "+--------+--------------------+--------------------+----------+--------------------+\n",
      "only showing top 20 rows"
     ]
    }
   ],
   "source": [
    "patent_with_assignee.show()"
   ]
  },
  {
   "cell_type": "markdown",
   "id": "4939c848-2b08-4138-9cdd-1a0ad4198175",
   "metadata": {},
   "source": [
    "### Join patent with assignee with location"
   ]
  },
  {
   "cell_type": "code",
   "execution_count": 35,
   "id": "97d298e3-be68-4386-a068-36be824698d6",
   "metadata": {
    "execution": {
     "iopub.execute_input": "2022-09-07T11:29:04.323025Z",
     "iopub.status.busy": "2022-09-07T11:29:04.322853Z",
     "iopub.status.idle": "2022-09-07T11:29:04.376224Z",
     "shell.execute_reply": "2022-09-07T11:29:04.375673Z",
     "shell.execute_reply.started": "2022-09-07T11:29:04.323003Z"
    },
    "tags": []
   },
   "outputs": [
    {
     "data": {
      "application/vnd.jupyter.widget-view+json": {
       "model_id": "239619e60617479cadb464090d824343",
       "version_major": 2,
       "version_minor": 0
      },
      "text/plain": [
       "VBox()"
      ]
     },
     "metadata": {},
     "output_type": "display_data"
    },
    {
     "data": {
      "application/vnd.jupyter.widget-view+json": {
       "model_id": "",
       "version_major": 2,
       "version_minor": 0
      },
      "text/plain": [
       "FloatProgress(value=0.0, bar_style='info', description='Progress:', layout=Layout(height='25px', width='50%'),…"
      ]
     },
     "metadata": {},
     "output_type": "display_data"
    },
    {
     "name": "stdout",
     "output_type": "stream",
     "text": [
      "root\n",
      " |-- id: string (nullable = true)\n",
      " |-- owner_id: string (nullable = true)\n",
      " |-- name: string (nullable = true)\n",
      " |-- type: string (nullable = true)\n",
      " |-- location_id: string (nullable = true)"
     ]
    }
   ],
   "source": [
    "patent_with_assignee.printSchema()"
   ]
  },
  {
   "cell_type": "code",
   "execution_count": 36,
   "id": "49ff2e80-87d8-464a-9c3d-f21640b810c6",
   "metadata": {
    "execution": {
     "iopub.execute_input": "2022-09-07T11:29:04.377548Z",
     "iopub.status.busy": "2022-09-07T11:29:04.377284Z",
     "iopub.status.idle": "2022-09-07T11:29:04.647242Z",
     "shell.execute_reply": "2022-09-07T11:29:04.646620Z",
     "shell.execute_reply.started": "2022-09-07T11:29:04.377499Z"
    },
    "tags": []
   },
   "outputs": [
    {
     "data": {
      "application/vnd.jupyter.widget-view+json": {
       "model_id": "9e450a7bc6e44de797df249e9f327177",
       "version_major": 2,
       "version_minor": 0
      },
      "text/plain": [
       "VBox()"
      ]
     },
     "metadata": {},
     "output_type": "display_data"
    },
    {
     "data": {
      "application/vnd.jupyter.widget-view+json": {
       "model_id": "",
       "version_major": 2,
       "version_minor": 0
      },
      "text/plain": [
       "FloatProgress(value=0.0, bar_style='info', description='Progress:', layout=Layout(height='25px', width='50%'),…"
      ]
     },
     "metadata": {},
     "output_type": "display_data"
    }
   ],
   "source": [
    "patent_with_assignee_location = patent_with_assignee.join(location, patent_with_assignee.location_id == location.id, \"left\").drop(location.id).select(\"id\", \"owner_id\", \"name\", \"type\", F.col(\"new_id\").alias(\"location_id\"), F.col(\"Country\").alias(\"country\"), F.col(\"Continent\").alias(\"continent\"))"
   ]
  },
  {
   "cell_type": "code",
   "execution_count": 37,
   "id": "39a61608-0a1d-414e-ba44-542bbbdb74c1",
   "metadata": {
    "execution": {
     "iopub.execute_input": "2022-09-07T11:29:04.648237Z",
     "iopub.status.busy": "2022-09-07T11:29:04.648067Z",
     "iopub.status.idle": "2022-09-07T11:29:05.929747Z",
     "shell.execute_reply": "2022-09-07T11:29:05.929016Z",
     "shell.execute_reply.started": "2022-09-07T11:29:04.648216Z"
    },
    "tags": []
   },
   "outputs": [
    {
     "data": {
      "application/vnd.jupyter.widget-view+json": {
       "model_id": "35d79dae39f84a7d8053a19fccb7ecac",
       "version_major": 2,
       "version_minor": 0
      },
      "text/plain": [
       "VBox()"
      ]
     },
     "metadata": {},
     "output_type": "display_data"
    },
    {
     "data": {
      "application/vnd.jupyter.widget-view+json": {
       "model_id": "",
       "version_major": 2,
       "version_minor": 0
      },
      "text/plain": [
       "FloatProgress(value=0.0, bar_style='info', description='Progress:', layout=Layout(height='25px', width='50%'),…"
      ]
     },
     "metadata": {},
     "output_type": "display_data"
    },
    {
     "name": "stdout",
     "output_type": "stream",
     "text": [
      "+--------+--------------------+--------------------+----------+--------------------+-------------+---------+\n",
      "|      id|            owner_id|                name|      type|         location_id|      country|continent|\n",
      "+--------+--------------------+--------------------+----------+--------------------+-------------+---------+\n",
      "| D877542|deb57160757b2f0bb...|Attendance on Dem...|   company|49dca65f362fee401...|United States|       NA|\n",
      "| D874679|deb57160757b2f0bb...|Attendance on Dem...|   company|49dca65f362fee401...|United States|       NA|\n",
      "| 7179436|0668165141eddab5a...|     Gregory L. Noss|individual|49dca65f362fee401...|United States|       NA|\n",
      "| 7287558|924220f93869caaa8...|Arizona Public Se...|   company|49dca65f362fee401...|United States|       NA|\n",
      "| 7275569|924220f93869caaa8...|Arizona Public Se...|   company|49dca65f362fee401...|United States|       NA|\n",
      "| 7647924|924220f93869caaa8...|Arizona Public Se...|   company|49dca65f362fee401...|United States|       NA|\n",
      "| 8043847|924220f93869caaa8...|Arizona Public Se...|   company|49dca65f362fee401...|United States|       NA|\n",
      "| 6352645|924220f93869caaa8...|Arizona Public Se...|   company|49dca65f362fee401...|United States|       NA|\n",
      "| 6792200|924220f93869caaa8...|Arizona Public Se...|   company|49dca65f362fee401...|United States|       NA|\n",
      "| 7531096|924220f93869caaa8...|Arizona Public Se...|   company|49dca65f362fee401...|United States|       NA|\n",
      "| 7647202|924220f93869caaa8...|Arizona Public Se...|   company|49dca65f362fee401...|United States|       NA|\n",
      "| 8781756|924220f93869caaa8...|Arizona Public Se...|   company|49dca65f362fee401...|United States|       NA|\n",
      "| 7411371|924220f93869caaa8...|Arizona Public Se...|   company|49dca65f362fee401...|United States|       NA|\n",
      "| 7747417|924220f93869caaa8...|Arizona Public Se...|   company|49dca65f362fee401...|United States|       NA|\n",
      "|11080127|924220f93869caaa8...|Arizona Public Se...|   company|49dca65f362fee401...|United States|       NA|\n",
      "| 8236072|924220f93869caaa8...|Arizona Public Se...|   company|49dca65f362fee401...|United States|       NA|\n",
      "| 7357132|924220f93869caaa8...|Arizona Public Se...|   company|49dca65f362fee401...|United States|       NA|\n",
      "| 8152875|924220f93869caaa8...|Arizona Public Se...|   company|49dca65f362fee401...|United States|       NA|\n",
      "|10935945|924220f93869caaa8...|Arizona Public Se...|   company|49dca65f362fee401...|United States|       NA|\n",
      "| 8529645|924220f93869caaa8...|Arizona Public Se...|   company|49dca65f362fee401...|United States|       NA|\n",
      "+--------+--------------------+--------------------+----------+--------------------+-------------+---------+\n",
      "only showing top 20 rows"
     ]
    }
   ],
   "source": [
    "patent_with_assignee_location.show()"
   ]
  },
  {
   "cell_type": "code",
   "execution_count": 38,
   "id": "045f2bad-1981-4ab0-b63d-c3431b3180b6",
   "metadata": {
    "execution": {
     "iopub.execute_input": "2022-09-07T11:29:05.931265Z",
     "iopub.status.busy": "2022-09-07T11:29:05.930870Z",
     "iopub.status.idle": "2022-09-07T11:29:17.300623Z",
     "shell.execute_reply": "2022-09-07T11:29:17.299933Z",
     "shell.execute_reply.started": "2022-09-07T11:29:05.931229Z"
    },
    "tags": []
   },
   "outputs": [
    {
     "data": {
      "application/vnd.jupyter.widget-view+json": {
       "model_id": "7c5a578c94f64c83ba87b714cadfd2f8",
       "version_major": 2,
       "version_minor": 0
      },
      "text/plain": [
       "VBox()"
      ]
     },
     "metadata": {},
     "output_type": "display_data"
    },
    {
     "data": {
      "application/vnd.jupyter.widget-view+json": {
       "model_id": "",
       "version_major": 2,
       "version_minor": 0
      },
      "text/plain": [
       "FloatProgress(value=0.0, bar_style='info', description='Progress:', layout=Layout(height='25px', width='50%'),…"
      ]
     },
     "metadata": {},
     "output_type": "display_data"
    },
    {
     "name": "stdout",
     "output_type": "stream",
     "text": [
      "5234543"
     ]
    }
   ],
   "source": [
    "patent_with_assignee_location.count()"
   ]
  },
  {
   "cell_type": "markdown",
   "id": "3b541228-200c-4cc3-8d7a-5628431c20b4",
   "metadata": {},
   "source": [
    "### Join patent without assignee with patent inventor"
   ]
  },
  {
   "cell_type": "code",
   "execution_count": 39,
   "id": "3f913b35-9447-4efd-8295-af66ae4a9c9b",
   "metadata": {
    "execution": {
     "iopub.execute_input": "2022-09-07T11:29:17.301681Z",
     "iopub.status.busy": "2022-09-07T11:29:17.301500Z",
     "iopub.status.idle": "2022-09-07T11:29:17.355696Z",
     "shell.execute_reply": "2022-09-07T11:29:17.355018Z",
     "shell.execute_reply.started": "2022-09-07T11:29:17.301659Z"
    },
    "tags": []
   },
   "outputs": [
    {
     "data": {
      "application/vnd.jupyter.widget-view+json": {
       "model_id": "01b726576d4b4c7aa8a7d8c2badf38aa",
       "version_major": 2,
       "version_minor": 0
      },
      "text/plain": [
       "VBox()"
      ]
     },
     "metadata": {},
     "output_type": "display_data"
    },
    {
     "data": {
      "application/vnd.jupyter.widget-view+json": {
       "model_id": "",
       "version_major": 2,
       "version_minor": 0
      },
      "text/plain": [
       "FloatProgress(value=0.0, bar_style='info', description='Progress:', layout=Layout(height='25px', width='50%'),…"
      ]
     },
     "metadata": {},
     "output_type": "display_data"
    },
    {
     "name": "stdout",
     "output_type": "stream",
     "text": [
      "root\n",
      " |-- id: string (nullable = true)\n",
      " |-- assignee_id: string (nullable = true)\n",
      " |-- location_id: string (nullable = true)"
     ]
    }
   ],
   "source": [
    "patent_without_assignee.printSchema()"
   ]
  },
  {
   "cell_type": "code",
   "execution_count": 40,
   "id": "08a5fba9-b6a3-4415-9cff-920aa4c017af",
   "metadata": {
    "execution": {
     "iopub.execute_input": "2022-09-07T11:29:17.356981Z",
     "iopub.status.busy": "2022-09-07T11:29:17.356720Z",
     "iopub.status.idle": "2022-09-07T11:29:17.619617Z",
     "shell.execute_reply": "2022-09-07T11:29:17.619042Z",
     "shell.execute_reply.started": "2022-09-07T11:29:17.356948Z"
    },
    "tags": []
   },
   "outputs": [
    {
     "data": {
      "application/vnd.jupyter.widget-view+json": {
       "model_id": "63b1c9b26c234009ae2c2a64cd470706",
       "version_major": 2,
       "version_minor": 0
      },
      "text/plain": [
       "VBox()"
      ]
     },
     "metadata": {},
     "output_type": "display_data"
    },
    {
     "data": {
      "application/vnd.jupyter.widget-view+json": {
       "model_id": "",
       "version_major": 2,
       "version_minor": 0
      },
      "text/plain": [
       "FloatProgress(value=0.0, bar_style='info', description='Progress:', layout=Layout(height='25px', width='50%'),…"
      ]
     },
     "metadata": {},
     "output_type": "display_data"
    }
   ],
   "source": [
    "patent_without_assignee_join_inventor = patent_without_assignee.join(patent_inventor, patent_without_assignee.id == patent_inventor.patent_id, \"left\").drop(patent_without_assignee.location_id).select(\"id\", \"inventor_id\", \"location_id\").cache()"
   ]
  },
  {
   "cell_type": "code",
   "execution_count": 41,
   "id": "4f2445ed-9bf4-469c-a4e6-f545de994032",
   "metadata": {
    "execution": {
     "iopub.execute_input": "2022-09-07T11:29:17.620602Z",
     "iopub.status.busy": "2022-09-07T11:29:17.620401Z",
     "iopub.status.idle": "2022-09-07T11:29:26.950650Z",
     "shell.execute_reply": "2022-09-07T11:29:26.949944Z",
     "shell.execute_reply.started": "2022-09-07T11:29:17.620579Z"
    },
    "tags": []
   },
   "outputs": [
    {
     "data": {
      "application/vnd.jupyter.widget-view+json": {
       "model_id": "36eca910d5b44b6d89650f9e2023ec72",
       "version_major": 2,
       "version_minor": 0
      },
      "text/plain": [
       "VBox()"
      ]
     },
     "metadata": {},
     "output_type": "display_data"
    },
    {
     "data": {
      "application/vnd.jupyter.widget-view+json": {
       "model_id": "",
       "version_major": 2,
       "version_minor": 0
      },
      "text/plain": [
       "FloatProgress(value=0.0, bar_style='info', description='Progress:', layout=Layout(height='25px', width='50%'),…"
      ]
     },
     "metadata": {},
     "output_type": "display_data"
    },
    {
     "name": "stdout",
     "output_type": "stream",
     "text": [
      "+--------+--------------------+--------------------+\n",
      "|      id|         inventor_id|         location_id|\n",
      "+--------+--------------------+--------------------+\n",
      "|10000304|  fl:ar_ln:moncayo-1|4fa58d4b-cb90-11e...|\n",
      "|10001331|    fl:wi_ln:couie-1|74826f5b-cb8e-11e...|\n",
      "|10011501|  fl:ma_ln:clifton-2|795acf3b-cb8e-11e...|\n",
      "|10016361|   fl:fr_ln:farron-1|ffe7bef3-cb8e-11e...|\n",
      "|10017297|     fl:ro_ln:cai-14|ed7cdd0a-cb90-11e...|\n",
      "|10018738|fl:em_ln:kamienie...|462b1099-cb8e-11e...|\n",
      "|10029138|fl:do_ln:boatwrig...|cf8cf64a-cb8e-11e...|\n",
      "|10029165|  fl:ty_ln:kloster-1|3cddd01f-cb8e-11e...|\n",
      "|10036347|   fl:ra_ln:sherry-2|5f48fd79-cbae-11e...|\n",
      "|10036564|    fl:te_ln:daley-1|f751ef48-cb8e-11e...|\n",
      "|10045609|he7mnuftnge5ftsih...|c76d1a3e-cb8e-11e...|\n",
      "|10051937|   fl:ch_ln:wenzel-7|d08fc279-09bd-11e...|\n",
      "|10051969| fl:na_ln:galloway-1|efa16d0b-cb8f-11e...|\n",
      "|10052445|fl:ga_ln:campbell...|f3337288-cb90-11e...|\n",
      "|10053126| fl:to_ln:buttimer-1|ed842009-cb90-11e...|\n",
      "|10058721|    fl:je_ln:dykes-1|f498a170-cb8e-11e...|\n",
      "|10064509|  fl:ma_ln:schmid-41|fe543c12-cb8f-11e...|\n",
      "|10069318|   fl:mi_ln:waters-9|3cc9a040-cb8e-11e...|\n",
      "|10071852| fl:pa_ln:stewart-20|acb3bbeb-cb8e-11e...|\n",
      "|10077831|fl:je_ln:kiesenba...|c24ce58d-09bd-11e...|\n",
      "+--------+--------------------+--------------------+\n",
      "only showing top 20 rows"
     ]
    }
   ],
   "source": [
    "patent_without_assignee_join_inventor.show()"
   ]
  },
  {
   "cell_type": "markdown",
   "id": "575063dd-4232-40f2-a46c-9c5a1d64bb86",
   "metadata": {},
   "source": [
    "### Join patent without assignee with inventor"
   ]
  },
  {
   "cell_type": "code",
   "execution_count": 42,
   "id": "17035696-373a-4a79-85f1-72924ca36632",
   "metadata": {
    "execution": {
     "iopub.execute_input": "2022-09-07T11:29:26.951998Z",
     "iopub.status.busy": "2022-09-07T11:29:26.951753Z",
     "iopub.status.idle": "2022-09-07T11:29:27.223160Z",
     "shell.execute_reply": "2022-09-07T11:29:27.222579Z",
     "shell.execute_reply.started": "2022-09-07T11:29:26.951965Z"
    },
    "tags": []
   },
   "outputs": [
    {
     "data": {
      "application/vnd.jupyter.widget-view+json": {
       "model_id": "c18a1a410dd2408f9dad35075493a7c8",
       "version_major": 2,
       "version_minor": 0
      },
      "text/plain": [
       "VBox()"
      ]
     },
     "metadata": {},
     "output_type": "display_data"
    },
    {
     "data": {
      "application/vnd.jupyter.widget-view+json": {
       "model_id": "",
       "version_major": 2,
       "version_minor": 0
      },
      "text/plain": [
       "FloatProgress(value=0.0, bar_style='info', description='Progress:', layout=Layout(height='25px', width='50%'),…"
      ]
     },
     "metadata": {},
     "output_type": "display_data"
    }
   ],
   "source": [
    "patent_without_assignee_join_inventor2 = patent_without_assignee_join_inventor.join(inventor, patent_without_assignee_join_inventor.inventor_id == inventor.id, \"left\").drop(inventor.id).select(\"id\", \"name\", \"type\", F.col(\"new_id\").alias(\"owner_id\"), \"location_id\")"
   ]
  },
  {
   "cell_type": "code",
   "execution_count": 43,
   "id": "06dab09a-8c35-41b6-bf96-9966b2825616",
   "metadata": {
    "execution": {
     "iopub.execute_input": "2022-09-07T11:29:27.224415Z",
     "iopub.status.busy": "2022-09-07T11:29:27.224166Z",
     "iopub.status.idle": "2022-09-07T11:29:46.641533Z",
     "shell.execute_reply": "2022-09-07T11:29:46.640818Z",
     "shell.execute_reply.started": "2022-09-07T11:29:27.224382Z"
    },
    "tags": []
   },
   "outputs": [
    {
     "data": {
      "application/vnd.jupyter.widget-view+json": {
       "model_id": "1695735c17cb447cba2a950a4dee2117",
       "version_major": 2,
       "version_minor": 0
      },
      "text/plain": [
       "VBox()"
      ]
     },
     "metadata": {},
     "output_type": "display_data"
    },
    {
     "data": {
      "application/vnd.jupyter.widget-view+json": {
       "model_id": "",
       "version_major": 2,
       "version_minor": 0
      },
      "text/plain": [
       "FloatProgress(value=0.0, bar_style='info', description='Progress:', layout=Layout(height='25px', width='50%'),…"
      ]
     },
     "metadata": {},
     "output_type": "display_data"
    },
    {
     "name": "stdout",
     "output_type": "stream",
     "text": [
      "+--------+--------------------+----------+--------------------+--------------------+\n",
      "|      id|                name|      type|            owner_id|         location_id|\n",
      "+--------+--------------------+----------+--------------------+--------------------+\n",
      "| 8091846|      John D Britner|individual|0cb6d66f951759dca...|3d200c9e-cb8e-11e...|\n",
      "| D777352|         He Dengying|individual|86a230ec9fe3141ce...|fd0172ae-09be-11e...|\n",
      "| 7140501|     Clayton Shumate|individual|9653b2d1f2ebfb096...|25f4c6d0-cb90-11e...|\n",
      "| D478967|    Solomon G. Harry|individual|46cb612ab58360dc9...|e295c332-cb8e-11e...|\n",
      "| D489642|      Sharon Brumlow|individual|65efb4dfb9da5467b...|a461430b-cb8e-11e...|\n",
      "| 6723502|      Antonio Samson|individual|158d87092f9fe6b30...|3cb8f3df-cb8e-11e...|\n",
      "| 8011284|     Benzoni Rinaldo|individual|fd6d9e73265ea562b...|dfc3f45e-cb8e-11e...|\n",
      "| D419313|  Abraham I. Gelbart|individual|a84150039831d536f...|eeb89da2-09be-11e...|\n",
      "|11140968|Robert M. Lipani,...|individual|54841b2d0d2729be6...|cdb897c4-cb8e-11e...|\n",
      "| 7004482|   Edward J. Steffan|individual|3e56e84ce98749f90...|3d5567bd-cb8e-11e...|\n",
      "| 6303061|    Sharon R. Hewins|individual|f67505ff397d08794...|42409722-cb8e-11e...|\n",
      "| 7140763|Carol I. Keith-Wolfe|individual|bf6134c4be9f09ae8...|ffc9f8bd-cb8e-11e...|\n",
      "| 6658869|Kenneth L. Thornb...|individual|137afa4dec3d75384...|6f9c025d-09bd-11e...|\n",
      "| D677926|Ana Lourdes Costa...|individual|c808fcc090a0b92c2...|c6f67053-09bb-11e...|\n",
      "| 8161572|       Fern A. Rorke|individual|07a4b87cdf1b724a7...|dd835e53-09bb-11e...|\n",
      "| 6276053|     Daniel Sinnesal|individual|8c1194f001629e184...|d7e82515-cb8e-11e...|\n",
      "| 6758008|  Richard B. Thebolt|individual|56ae7857983d6c6db...|df7c0941-cb8e-11e...|\n",
      "| D876240|Gerrit Jan Berend...|individual|46bc2e0e204ef3e0f...|e5ce6940-cb8e-11e...|\n",
      "| 6514081|  Jeffrey L. Mengoli|individual|12f2b886db98c0cf3...|f9139cb2-cb8f-11e...|\n",
      "| D930493|    Mark Katzenelson|individual|ec5d0f2fc7d74b3c8...|e832a61b-cb8f-11e...|\n",
      "+--------+--------------------+----------+--------------------+--------------------+\n",
      "only showing top 20 rows"
     ]
    }
   ],
   "source": [
    "patent_without_assignee_join_inventor2.show()"
   ]
  },
  {
   "cell_type": "markdown",
   "id": "5dbe9866-189c-4474-acd9-e16532421024",
   "metadata": {},
   "source": [
    "### Join patent without assignee with location"
   ]
  },
  {
   "cell_type": "code",
   "execution_count": 44,
   "id": "bc5189bc-f408-4682-9730-c016ac40d1c5",
   "metadata": {
    "execution": {
     "iopub.execute_input": "2022-09-07T11:29:46.642607Z",
     "iopub.status.busy": "2022-09-07T11:29:46.642441Z",
     "iopub.status.idle": "2022-09-07T11:29:46.907883Z",
     "shell.execute_reply": "2022-09-07T11:29:46.907345Z",
     "shell.execute_reply.started": "2022-09-07T11:29:46.642586Z"
    },
    "tags": []
   },
   "outputs": [
    {
     "data": {
      "application/vnd.jupyter.widget-view+json": {
       "model_id": "37cad00264e542c3a7790fc3887cc153",
       "version_major": 2,
       "version_minor": 0
      },
      "text/plain": [
       "VBox()"
      ]
     },
     "metadata": {},
     "output_type": "display_data"
    },
    {
     "data": {
      "application/vnd.jupyter.widget-view+json": {
       "model_id": "",
       "version_major": 2,
       "version_minor": 0
      },
      "text/plain": [
       "FloatProgress(value=0.0, bar_style='info', description='Progress:', layout=Layout(height='25px', width='50%'),…"
      ]
     },
     "metadata": {},
     "output_type": "display_data"
    }
   ],
   "source": [
    "patent_without_assignee_join_inventor2_loc = patent_without_assignee_join_inventor2.join(location,patent_without_assignee_join_inventor2.location_id == location.id, \"left\" ).drop(location.id).select(\"id\", \"owner_id\", \"name\", \"type\", F.col(\"new_id\").alias(\"location_id\"), F.col(\"Country\").alias(\"Country\"), F.col(\"Continent\").alias(\"continent\"))"
   ]
  },
  {
   "cell_type": "code",
   "execution_count": 45,
   "id": "7a020cbf-7342-43d2-9843-675173549ba3",
   "metadata": {
    "execution": {
     "iopub.execute_input": "2022-09-07T11:29:46.908927Z",
     "iopub.status.busy": "2022-09-07T11:29:46.908757Z",
     "iopub.status.idle": "2022-09-07T11:29:58.226903Z",
     "shell.execute_reply": "2022-09-07T11:29:58.226177Z",
     "shell.execute_reply.started": "2022-09-07T11:29:46.908906Z"
    },
    "tags": []
   },
   "outputs": [
    {
     "data": {
      "application/vnd.jupyter.widget-view+json": {
       "model_id": "1c40105c3cf846a9aab061ad23f69487",
       "version_major": 2,
       "version_minor": 0
      },
      "text/plain": [
       "VBox()"
      ]
     },
     "metadata": {},
     "output_type": "display_data"
    },
    {
     "data": {
      "application/vnd.jupyter.widget-view+json": {
       "model_id": "",
       "version_major": 2,
       "version_minor": 0
      },
      "text/plain": [
       "FloatProgress(value=0.0, bar_style='info', description='Progress:', layout=Layout(height='25px', width='50%'),…"
      ]
     },
     "metadata": {},
     "output_type": "display_data"
    },
    {
     "name": "stdout",
     "output_type": "stream",
     "text": [
      "+--------+--------------------+--------------------+----------+--------------------+-------------+---------+\n",
      "|      id|            owner_id|                name|      type|         location_id|      Country|continent|\n",
      "+--------+--------------------+--------------------+----------+--------------------+-------------+---------+\n",
      "| 8091846|0cb6d66f951759dca...|      John D Britner|individual|49dca65f362fee401...|United States|       NA|\n",
      "| D777352|86a230ec9fe3141ce...|         He Dengying|individual|10436829032f361a3...|        China|       AS|\n",
      "| 7140501|9653b2d1f2ebfb096...|     Clayton Shumate|individual|49dca65f362fee401...|United States|       NA|\n",
      "| D478967|46cb612ab58360dc9...|    Solomon G. Harry|individual|49dca65f362fee401...|United States|       NA|\n",
      "| D489642|65efb4dfb9da5467b...|      Sharon Brumlow|individual|49dca65f362fee401...|United States|       NA|\n",
      "| 6723502|158d87092f9fe6b30...|      Antonio Samson|individual|49dca65f362fee401...|United States|       NA|\n",
      "| 8011284|fd6d9e73265ea562b...|     Benzoni Rinaldo|individual|5a9cf672c8be6b5ab...|        Italy|       EU|\n",
      "| D419313|a84150039831d536f...|  Abraham I. Gelbart|individual|49dca65f362fee401...|United States|       NA|\n",
      "|11140968|54841b2d0d2729be6...|Robert M. Lipani,...|individual|49dca65f362fee401...|United States|       NA|\n",
      "| 7004482|3e56e84ce98749f90...|   Edward J. Steffan|individual|49dca65f362fee401...|United States|       NA|\n",
      "| 6303061|f67505ff397d08794...|    Sharon R. Hewins|individual|49dca65f362fee401...|United States|       NA|\n",
      "| 7140763|bf6134c4be9f09ae8...|Carol I. Keith-Wolfe|individual|49dca65f362fee401...|United States|       NA|\n",
      "| 6658869|137afa4dec3d75384...|Kenneth L. Thornb...|individual|49dca65f362fee401...|United States|       NA|\n",
      "| D677926|c808fcc090a0b92c2...|Ana Lourdes Costa...|individual|49dca65f362fee401...|United States|       NA|\n",
      "| 8161572|07a4b87cdf1b724a7...|       Fern A. Rorke|individual|be55ef3f4c4e6c2d9...|       Canada|       NA|\n",
      "| 6276053|8c1194f001629e184...|     Daniel Sinnesal|individual|7a1ca4ef7515f7276...|       France|       EU|\n",
      "| 6758008|56ae7857983d6c6db...|  Richard B. Thebolt|individual|49dca65f362fee401...|United States|       NA|\n",
      "| D876240|46bc2e0e204ef3e0f...|Gerrit Jan Berend...|individual|3a386c13d283dc2eb...|  Netherlands|       EU|\n",
      "| 6514081|12f2b886db98c0cf3...|  Jeffrey L. Mengoli|individual|49dca65f362fee401...|United States|       NA|\n",
      "| D930493|ec5d0f2fc7d74b3c8...|    Mark Katzenelson|individual|3552ac0c032467fbf...|       Israel|       AS|\n",
      "+--------+--------------------+--------------------+----------+--------------------+-------------+---------+\n",
      "only showing top 20 rows"
     ]
    }
   ],
   "source": [
    "patent_without_assignee_join_inventor2_loc.show()"
   ]
  },
  {
   "cell_type": "code",
   "execution_count": 46,
   "id": "f0c30e38-fbf8-4635-bdbe-b7f9b1a5161c",
   "metadata": {
    "execution": {
     "iopub.execute_input": "2022-09-07T11:29:58.228300Z",
     "iopub.status.busy": "2022-09-07T11:29:58.228050Z",
     "iopub.status.idle": "2022-09-07T11:30:11.571349Z",
     "shell.execute_reply": "2022-09-07T11:30:11.570567Z",
     "shell.execute_reply.started": "2022-09-07T11:29:58.228267Z"
    },
    "tags": []
   },
   "outputs": [
    {
     "data": {
      "application/vnd.jupyter.widget-view+json": {
       "model_id": "76e7a39fc80b4e48a690ff449860bc84",
       "version_major": 2,
       "version_minor": 0
      },
      "text/plain": [
       "VBox()"
      ]
     },
     "metadata": {},
     "output_type": "display_data"
    },
    {
     "data": {
      "application/vnd.jupyter.widget-view+json": {
       "model_id": "",
       "version_major": 2,
       "version_minor": 0
      },
      "text/plain": [
       "FloatProgress(value=0.0, bar_style='info', description='Progress:', layout=Layout(height='25px', width='50%'),…"
      ]
     },
     "metadata": {},
     "output_type": "display_data"
    },
    {
     "name": "stdout",
     "output_type": "stream",
     "text": [
      "483459"
     ]
    }
   ],
   "source": [
    "patent_without_assignee_join_inventor2_loc.count()"
   ]
  },
  {
   "cell_type": "markdown",
   "id": "f5637974-aea9-4128-a351-f3ca8965667e",
   "metadata": {},
   "source": [
    "### Combine patent with assignee and patent without assignee"
   ]
  },
  {
   "cell_type": "code",
   "execution_count": 47,
   "id": "fc3e6b7b-b52d-4b1e-bf70-811a87b1367a",
   "metadata": {
    "execution": {
     "iopub.execute_input": "2022-09-07T11:30:11.572738Z",
     "iopub.status.busy": "2022-09-07T11:30:11.572535Z",
     "iopub.status.idle": "2022-09-07T11:30:11.833210Z",
     "shell.execute_reply": "2022-09-07T11:30:11.832640Z",
     "shell.execute_reply.started": "2022-09-07T11:30:11.572707Z"
    },
    "tags": []
   },
   "outputs": [
    {
     "data": {
      "application/vnd.jupyter.widget-view+json": {
       "model_id": "a8f5709032d8443584227eccc339a0f5",
       "version_major": 2,
       "version_minor": 0
      },
      "text/plain": [
       "VBox()"
      ]
     },
     "metadata": {},
     "output_type": "display_data"
    },
    {
     "data": {
      "application/vnd.jupyter.widget-view+json": {
       "model_id": "",
       "version_major": 2,
       "version_minor": 0
      },
      "text/plain": [
       "FloatProgress(value=0.0, bar_style='info', description='Progress:', layout=Layout(height='25px', width='50%'),…"
      ]
     },
     "metadata": {},
     "output_type": "display_data"
    }
   ],
   "source": [
    "patent_combined = patent_with_assignee_location.union(patent_without_assignee_join_inventor2_loc)"
   ]
  },
  {
   "cell_type": "code",
   "execution_count": 48,
   "id": "c25397a3-dc76-4276-9bb0-9212565bf845",
   "metadata": {
    "execution": {
     "iopub.execute_input": "2022-09-07T11:30:11.834230Z",
     "iopub.status.busy": "2022-09-07T11:30:11.834049Z",
     "iopub.status.idle": "2022-09-07T11:30:21.160726Z",
     "shell.execute_reply": "2022-09-07T11:30:21.159969Z",
     "shell.execute_reply.started": "2022-09-07T11:30:11.834209Z"
    },
    "tags": []
   },
   "outputs": [
    {
     "data": {
      "application/vnd.jupyter.widget-view+json": {
       "model_id": "3780c524773a4311b515d227c8a43284",
       "version_major": 2,
       "version_minor": 0
      },
      "text/plain": [
       "VBox()"
      ]
     },
     "metadata": {},
     "output_type": "display_data"
    },
    {
     "data": {
      "application/vnd.jupyter.widget-view+json": {
       "model_id": "",
       "version_major": 2,
       "version_minor": 0
      },
      "text/plain": [
       "FloatProgress(value=0.0, bar_style='info', description='Progress:', layout=Layout(height='25px', width='50%'),…"
      ]
     },
     "metadata": {},
     "output_type": "display_data"
    },
    {
     "name": "stdout",
     "output_type": "stream",
     "text": [
      "+--------+--------------------+--------------------+----------+--------------------+-------------+---------+\n",
      "|      id|            owner_id|                name|      type|         location_id|      country|continent|\n",
      "+--------+--------------------+--------------------+----------+--------------------+-------------+---------+\n",
      "| D877542|deb57160757b2f0bb...|Attendance on Dem...|   company|49dca65f362fee401...|United States|       NA|\n",
      "| D874679|deb57160757b2f0bb...|Attendance on Dem...|   company|49dca65f362fee401...|United States|       NA|\n",
      "| 7179436|0668165141eddab5a...|     Gregory L. Noss|individual|49dca65f362fee401...|United States|       NA|\n",
      "| 7287558|924220f93869caaa8...|Arizona Public Se...|   company|49dca65f362fee401...|United States|       NA|\n",
      "| 7275569|924220f93869caaa8...|Arizona Public Se...|   company|49dca65f362fee401...|United States|       NA|\n",
      "| 7647924|924220f93869caaa8...|Arizona Public Se...|   company|49dca65f362fee401...|United States|       NA|\n",
      "| 8043847|924220f93869caaa8...|Arizona Public Se...|   company|49dca65f362fee401...|United States|       NA|\n",
      "| 6352645|924220f93869caaa8...|Arizona Public Se...|   company|49dca65f362fee401...|United States|       NA|\n",
      "| 6792200|924220f93869caaa8...|Arizona Public Se...|   company|49dca65f362fee401...|United States|       NA|\n",
      "| 7531096|924220f93869caaa8...|Arizona Public Se...|   company|49dca65f362fee401...|United States|       NA|\n",
      "| 7647202|924220f93869caaa8...|Arizona Public Se...|   company|49dca65f362fee401...|United States|       NA|\n",
      "| 8781756|924220f93869caaa8...|Arizona Public Se...|   company|49dca65f362fee401...|United States|       NA|\n",
      "| 7411371|924220f93869caaa8...|Arizona Public Se...|   company|49dca65f362fee401...|United States|       NA|\n",
      "| 7747417|924220f93869caaa8...|Arizona Public Se...|   company|49dca65f362fee401...|United States|       NA|\n",
      "|11080127|924220f93869caaa8...|Arizona Public Se...|   company|49dca65f362fee401...|United States|       NA|\n",
      "| 8236072|924220f93869caaa8...|Arizona Public Se...|   company|49dca65f362fee401...|United States|       NA|\n",
      "| 7357132|924220f93869caaa8...|Arizona Public Se...|   company|49dca65f362fee401...|United States|       NA|\n",
      "| 8152875|924220f93869caaa8...|Arizona Public Se...|   company|49dca65f362fee401...|United States|       NA|\n",
      "|10935945|924220f93869caaa8...|Arizona Public Se...|   company|49dca65f362fee401...|United States|       NA|\n",
      "| 8529645|924220f93869caaa8...|Arizona Public Se...|   company|49dca65f362fee401...|United States|       NA|\n",
      "+--------+--------------------+--------------------+----------+--------------------+-------------+---------+\n",
      "only showing top 20 rows"
     ]
    }
   ],
   "source": [
    "patent_combined.show()"
   ]
  },
  {
   "cell_type": "code",
   "execution_count": 49,
   "id": "50633831-a682-4ebd-acc7-5f87ba22cf9a",
   "metadata": {
    "execution": {
     "iopub.execute_input": "2022-09-07T11:30:21.162083Z",
     "iopub.status.busy": "2022-09-07T11:30:21.161825Z",
     "iopub.status.idle": "2022-09-07T11:30:40.562578Z",
     "shell.execute_reply": "2022-09-07T11:30:40.561950Z",
     "shell.execute_reply.started": "2022-09-07T11:30:21.162048Z"
    },
    "tags": []
   },
   "outputs": [
    {
     "data": {
      "application/vnd.jupyter.widget-view+json": {
       "model_id": "d4f05129c9f647db858efa8c2fb5c1a6",
       "version_major": 2,
       "version_minor": 0
      },
      "text/plain": [
       "VBox()"
      ]
     },
     "metadata": {},
     "output_type": "display_data"
    },
    {
     "data": {
      "application/vnd.jupyter.widget-view+json": {
       "model_id": "",
       "version_major": 2,
       "version_minor": 0
      },
      "text/plain": [
       "FloatProgress(value=0.0, bar_style='info', description='Progress:', layout=Layout(height='25px', width='50%'),…"
      ]
     },
     "metadata": {},
     "output_type": "display_data"
    },
    {
     "name": "stdout",
     "output_type": "stream",
     "text": [
      "5718002"
     ]
    }
   ],
   "source": [
    "patent_combined.count()"
   ]
  },
  {
   "cell_type": "markdown",
   "id": "ee1b4ce0-f78c-44a9-99ea-2029f86f0323",
   "metadata": {},
   "source": [
    "### Load Owner Table"
   ]
  },
  {
   "cell_type": "code",
   "execution_count": 50,
   "id": "7e71b2dc-3ea1-451a-a169-c1c853dafc8c",
   "metadata": {
    "execution": {
     "iopub.execute_input": "2022-09-07T11:30:40.563629Z",
     "iopub.status.busy": "2022-09-07T11:30:40.563466Z",
     "iopub.status.idle": "2022-09-07T11:30:40.826608Z",
     "shell.execute_reply": "2022-09-07T11:30:40.826003Z",
     "shell.execute_reply.started": "2022-09-07T11:30:40.563609Z"
    },
    "tags": []
   },
   "outputs": [
    {
     "data": {
      "application/vnd.jupyter.widget-view+json": {
       "model_id": "fc115a09d0eb4484b325835896a19c25",
       "version_major": 2,
       "version_minor": 0
      },
      "text/plain": [
       "VBox()"
      ]
     },
     "metadata": {},
     "output_type": "display_data"
    },
    {
     "data": {
      "application/vnd.jupyter.widget-view+json": {
       "model_id": "",
       "version_major": 2,
       "version_minor": 0
      },
      "text/plain": [
       "FloatProgress(value=0.0, bar_style='info', description='Progress:', layout=Layout(height='25px', width='50%'),…"
      ]
     },
     "metadata": {},
     "output_type": "display_data"
    }
   ],
   "source": [
    "owner = patent_combined.select(\"owner_id\", \"type\", \"name\").distinct()"
   ]
  },
  {
   "cell_type": "code",
   "execution_count": 51,
   "id": "5e699b02-7e7e-46d2-8059-02b805cc5358",
   "metadata": {
    "execution": {
     "iopub.execute_input": "2022-09-07T11:30:40.827653Z",
     "iopub.status.busy": "2022-09-07T11:30:40.827486Z",
     "iopub.status.idle": "2022-09-07T11:30:40.884032Z",
     "shell.execute_reply": "2022-09-07T11:30:40.883476Z",
     "shell.execute_reply.started": "2022-09-07T11:30:40.827632Z"
    }
   },
   "outputs": [
    {
     "data": {
      "application/vnd.jupyter.widget-view+json": {
       "model_id": "3096f471967b47ddb2f7c90ffe95d391",
       "version_major": 2,
       "version_minor": 0
      },
      "text/plain": [
       "VBox()"
      ]
     },
     "metadata": {},
     "output_type": "display_data"
    },
    {
     "data": {
      "application/vnd.jupyter.widget-view+json": {
       "model_id": "",
       "version_major": 2,
       "version_minor": 0
      },
      "text/plain": [
       "FloatProgress(value=0.0, bar_style='info', description='Progress:', layout=Layout(height='25px', width='50%'),…"
      ]
     },
     "metadata": {},
     "output_type": "display_data"
    }
   ],
   "source": [
    "owner2 = owner.filter(F.col(\"owner_id\").isNotNull())"
   ]
  },
  {
   "cell_type": "code",
   "execution_count": 52,
   "id": "b02bbfa4-4e6c-460b-ad7f-88e510c36b25",
   "metadata": {
    "execution": {
     "iopub.execute_input": "2022-09-07T11:30:40.885051Z",
     "iopub.status.busy": "2022-09-07T11:30:40.884885Z",
     "iopub.status.idle": "2022-09-07T11:31:12.281489Z",
     "shell.execute_reply": "2022-09-07T11:31:12.280739Z",
     "shell.execute_reply.started": "2022-09-07T11:30:40.885031Z"
    },
    "tags": []
   },
   "outputs": [
    {
     "data": {
      "application/vnd.jupyter.widget-view+json": {
       "model_id": "a2ddf990f95740b7aba6e7f5beb580cc",
       "version_major": 2,
       "version_minor": 0
      },
      "text/plain": [
       "VBox()"
      ]
     },
     "metadata": {},
     "output_type": "display_data"
    },
    {
     "data": {
      "application/vnd.jupyter.widget-view+json": {
       "model_id": "",
       "version_major": 2,
       "version_minor": 0
      },
      "text/plain": [
       "FloatProgress(value=0.0, bar_style='info', description='Progress:', layout=Layout(height='25px', width='50%'),…"
      ]
     },
     "metadata": {},
     "output_type": "display_data"
    },
    {
     "name": "stdout",
     "output_type": "stream",
     "text": [
      "+--------------------+----------+--------------------+\n",
      "|            owner_id|      type|                name|\n",
      "+--------------------+----------+--------------------+\n",
      "|a21665f1cfe64e179...|   company|Lightspeed Semico...|\n",
      "|baa277a81335916e9...|   company|New Affinity Conc...|\n",
      "|a6ffea4e3ca0230d6...|   company|John J. Pemboke L...|\n",
      "|feb17eb9101af0f63...|   company|    RNCommerce, Inc.|\n",
      "|97db85c4c92aefcce...|   company|Breeze-Torce Prod...|\n",
      "|32f8892789b9e6e62...|   company|FUISZ HNB TECHNOL...|\n",
      "|cff099f5942dcbc82...|   company|VistaLab Technolo...|\n",
      "|6e00f5e295e070f55...|   company|    PHARMA MAR, S.A.|\n",
      "|1ac468b579ef69daf...|   company|          LuxAI S.A.|\n",
      "|d2455ee81c36c31a2...|   company|       PIP Co., Ltd.|\n",
      "|b701b1f5d8cc8fbd0...|   company|MILBRANK MANUFACT...|\n",
      "|24498123f3def598f...|   company|   H3 Platform, Inc.|\n",
      "|3b2975d432fc39cde...|   company|Handle Financial,...|\n",
      "|717bb481efe0652fb...|   company|ERDA MASTER IPCO ...|\n",
      "|79ec08fecd707a60c...|   company|Lih Rurng Instrum...|\n",
      "|19869e9a3d953d4b5...|individual|     David Changaris|\n",
      "|fe7b6786fe7cb9542...|   company|LAMINATE MEDICAL ...|\n",
      "|58ebb43192e767b59...|   company|Laurentian Athlet...|\n",
      "|e168cc68d492e2f6d...|   company|VUU TECHNOLOGIES ...|\n",
      "|f69429a4999819df2...|   company|Wanbishi Industry...|\n",
      "+--------------------+----------+--------------------+\n",
      "only showing top 20 rows"
     ]
    }
   ],
   "source": [
    "owner2.show()"
   ]
  },
  {
   "cell_type": "code",
   "execution_count": 53,
   "id": "41b4d17e-0a29-4df2-91c4-511d3833e61b",
   "metadata": {
    "execution": {
     "iopub.execute_input": "2022-09-07T11:31:12.282571Z",
     "iopub.status.busy": "2022-09-07T11:31:12.282357Z",
     "iopub.status.idle": "2022-09-07T11:32:05.791664Z",
     "shell.execute_reply": "2022-09-07T11:32:05.791096Z",
     "shell.execute_reply.started": "2022-09-07T11:31:12.282546Z"
    },
    "tags": []
   },
   "outputs": [
    {
     "data": {
      "application/vnd.jupyter.widget-view+json": {
       "model_id": "ceca161eb3e9489aaa6b75f4ad206c7e",
       "version_major": 2,
       "version_minor": 0
      },
      "text/plain": [
       "VBox()"
      ]
     },
     "metadata": {},
     "output_type": "display_data"
    },
    {
     "data": {
      "application/vnd.jupyter.widget-view+json": {
       "model_id": "",
       "version_major": 2,
       "version_minor": 0
      },
      "text/plain": [
       "FloatProgress(value=0.0, bar_style='info', description='Progress:', layout=Layout(height='25px', width='50%'),…"
      ]
     },
     "metadata": {},
     "output_type": "display_data"
    }
   ],
   "source": [
    "owner2.write\\\n",
    "    .format(\"io.github.spark_redshift_community.spark.redshift\")\\\n",
    "    .option(\"url\", url)\\\n",
    "    .option(\"tempdir\", s3_tempdir)\\\n",
    "    .option(\"dbtable\", \"owners\")\\\n",
    "    .mode(\"overwrite\")\\\n",
    "    .option(\"aws_iam_role\", \"arn:aws:iam::735201909841:role/redshift_read_s3\")\\\n",
    "    .save()"
   ]
  },
  {
   "cell_type": "markdown",
   "id": "02e38541-f91f-4536-a522-703596692a10",
   "metadata": {},
   "source": [
    "### Load Location Data"
   ]
  },
  {
   "cell_type": "code",
   "execution_count": 54,
   "id": "6c60cdfe-5825-42ac-8bec-93c869a15d2f",
   "metadata": {
    "execution": {
     "iopub.execute_input": "2022-09-07T11:32:05.793687Z",
     "iopub.status.busy": "2022-09-07T11:32:05.793517Z",
     "iopub.status.idle": "2022-09-07T11:32:05.852351Z",
     "shell.execute_reply": "2022-09-07T11:32:05.851792Z",
     "shell.execute_reply.started": "2022-09-07T11:32:05.793667Z"
    },
    "tags": []
   },
   "outputs": [
    {
     "data": {
      "application/vnd.jupyter.widget-view+json": {
       "model_id": "6274af9125cb475ca333af692eaba9fc",
       "version_major": 2,
       "version_minor": 0
      },
      "text/plain": [
       "VBox()"
      ]
     },
     "metadata": {},
     "output_type": "display_data"
    },
    {
     "data": {
      "application/vnd.jupyter.widget-view+json": {
       "model_id": "",
       "version_major": 2,
       "version_minor": 0
      },
      "text/plain": [
       "FloatProgress(value=0.0, bar_style='info', description='Progress:', layout=Layout(height='25px', width='50%'),…"
      ]
     },
     "metadata": {},
     "output_type": "display_data"
    }
   ],
   "source": [
    "location = patent_combined.select(\"location_id\", \"country\", \"continent\").distinct()"
   ]
  },
  {
   "cell_type": "code",
   "execution_count": 55,
   "id": "0d3a3d86-032d-4a4c-bedb-283d230a6986",
   "metadata": {
    "execution": {
     "iopub.execute_input": "2022-09-07T11:32:05.853446Z",
     "iopub.status.busy": "2022-09-07T11:32:05.853272Z",
     "iopub.status.idle": "2022-09-07T11:32:25.227663Z",
     "shell.execute_reply": "2022-09-07T11:32:25.226828Z",
     "shell.execute_reply.started": "2022-09-07T11:32:05.853419Z"
    },
    "tags": []
   },
   "outputs": [
    {
     "data": {
      "application/vnd.jupyter.widget-view+json": {
       "model_id": "4e49b4f9a66e4056bda232142c459b41",
       "version_major": 2,
       "version_minor": 0
      },
      "text/plain": [
       "VBox()"
      ]
     },
     "metadata": {},
     "output_type": "display_data"
    },
    {
     "data": {
      "application/vnd.jupyter.widget-view+json": {
       "model_id": "",
       "version_major": 2,
       "version_minor": 0
      },
      "text/plain": [
       "FloatProgress(value=0.0, bar_style='info', description='Progress:', layout=Layout(height='25px', width='50%'),…"
      ]
     },
     "metadata": {},
     "output_type": "display_data"
    },
    {
     "name": "stdout",
     "output_type": "stream",
     "text": [
      "+--------------------+--------------------+---------+\n",
      "|         location_id|             country|continent|\n",
      "+--------------------+--------------------+---------+\n",
      "|7f69649ad70496d44...|              Poland|       EU|\n",
      "|55ccc5014f2a6d4c4...|               Qatar|       AS|\n",
      "|94b2859b913c9e2cf...|             Bahrain|       AS|\n",
      "|49dca65f362fee401...|       United States|       NA|\n",
      "|                null|                null|     null|\n",
      "|c408d26c1ec1301a8...|         El Salvador|       NA|\n",
      "|a2ea3384e02f917ad...|            Slovakia|       EU|\n",
      "|6ff080c07894909d1...|       Liechtenstein|       EU|\n",
      "|2275583196d791405...|         Switzerland|       EU|\n",
      "|71dc81f13c2d66fa5...|              Belize|       NA|\n",
      "|0e89123f46fcba83a...|Saint Kitts and N...|       NA|\n",
      "|c3668f581289444ea...|              Panama|       NA|\n",
      "|c65742ceb289d67f6...|    Papua New Guinea|       OC|\n",
      "|7e222a78e771f1b9b...|               Gabon|       AF|\n",
      "|c387e2d50fff5b38c...|    Falkland Islands|       SA|\n",
      "|abe06aae4495f3cf8...|         Saint Lucia|       NA|\n",
      "|de5008d194a73211f...|                Iraq|       AS|\n",
      "|c96dd81db196cca5f...|           Singapore|       AS|\n",
      "|07f62b021771d3cf6...|              Brazil|       SA|\n",
      "|10c3c2e2edc1f1f06...|              Kuwait|       AS|\n",
      "+--------------------+--------------------+---------+\n",
      "only showing top 20 rows"
     ]
    }
   ],
   "source": [
    "location.show()"
   ]
  },
  {
   "cell_type": "code",
   "execution_count": 56,
   "id": "b523c8e7-cbef-477e-a550-691cc7b2a7f7",
   "metadata": {
    "execution": {
     "iopub.execute_input": "2022-09-07T11:32:25.230510Z",
     "iopub.status.busy": "2022-09-07T11:32:25.230293Z",
     "iopub.status.idle": "2022-09-07T11:32:25.296948Z",
     "shell.execute_reply": "2022-09-07T11:32:25.296378Z",
     "shell.execute_reply.started": "2022-09-07T11:32:25.230479Z"
    },
    "tags": []
   },
   "outputs": [
    {
     "data": {
      "application/vnd.jupyter.widget-view+json": {
       "model_id": "3425996a80184f4f98b4942a092dd811",
       "version_major": 2,
       "version_minor": 0
      },
      "text/plain": [
       "VBox()"
      ]
     },
     "metadata": {},
     "output_type": "display_data"
    },
    {
     "data": {
      "application/vnd.jupyter.widget-view+json": {
       "model_id": "",
       "version_major": 2,
       "version_minor": 0
      },
      "text/plain": [
       "FloatProgress(value=0.0, bar_style='info', description='Progress:', layout=Layout(height='25px', width='50%'),…"
      ]
     },
     "metadata": {},
     "output_type": "display_data"
    }
   ],
   "source": [
    "location2 = location.filter(F.col(\"location_id\").isNotNull())"
   ]
  },
  {
   "cell_type": "code",
   "execution_count": 57,
   "id": "07ac1f49-7bb6-48ec-9f93-a993ebe77bd1",
   "metadata": {
    "execution": {
     "iopub.execute_input": "2022-09-07T11:32:25.298036Z",
     "iopub.status.busy": "2022-09-07T11:32:25.297868Z",
     "iopub.status.idle": "2022-09-07T11:32:56.734105Z",
     "shell.execute_reply": "2022-09-07T11:32:56.733558Z",
     "shell.execute_reply.started": "2022-09-07T11:32:25.298015Z"
    },
    "tags": []
   },
   "outputs": [
    {
     "data": {
      "application/vnd.jupyter.widget-view+json": {
       "model_id": "04aaa5fea531484ca1280482fea60920",
       "version_major": 2,
       "version_minor": 0
      },
      "text/plain": [
       "VBox()"
      ]
     },
     "metadata": {},
     "output_type": "display_data"
    },
    {
     "data": {
      "application/vnd.jupyter.widget-view+json": {
       "model_id": "",
       "version_major": 2,
       "version_minor": 0
      },
      "text/plain": [
       "FloatProgress(value=0.0, bar_style='info', description='Progress:', layout=Layout(height='25px', width='50%'),…"
      ]
     },
     "metadata": {},
     "output_type": "display_data"
    }
   ],
   "source": [
    "location2.write\\\n",
    "    .format(\"io.github.spark_redshift_community.spark.redshift\")\\\n",
    "    .option(\"url\", url)\\\n",
    "    .option(\"tempdir\", s3_tempdir)\\\n",
    "    .option(\"dbtable\", \"locations\")\\\n",
    "    .mode(\"overwrite\")\\\n",
    "    .option(\"aws_iam_role\", \"arn:aws:iam::735201909841:role/redshift_read_s3\")\\\n",
    "    .save()"
   ]
  },
  {
   "cell_type": "markdown",
   "id": "e602e389-2edb-44f9-ba1a-0d6952e0ca94",
   "metadata": {},
   "source": [
    "### Load the Patent Fact table"
   ]
  },
  {
   "cell_type": "code",
   "execution_count": 56,
   "id": "bae411b5-9b7c-4290-9d47-d9384f98bc73",
   "metadata": {
    "execution": {
     "iopub.execute_input": "2022-09-06T05:14:11.117458Z",
     "iopub.status.busy": "2022-09-06T05:14:11.117202Z",
     "iopub.status.idle": "2022-09-06T05:14:11.172272Z",
     "shell.execute_reply": "2022-09-06T05:14:11.171383Z",
     "shell.execute_reply.started": "2022-09-06T05:14:11.117433Z"
    }
   },
   "outputs": [
    {
     "data": {
      "application/vnd.jupyter.widget-view+json": {
       "model_id": "5fd96fa541cd4789a807813fe94657de",
       "version_major": 2,
       "version_minor": 0
      },
      "text/plain": [
       "VBox()"
      ]
     },
     "metadata": {},
     "output_type": "display_data"
    },
    {
     "data": {
      "application/vnd.jupyter.widget-view+json": {
       "model_id": "",
       "version_major": 2,
       "version_minor": 0
      },
      "text/plain": [
       "FloatProgress(value=0.0, bar_style='info', description='Progress:', layout=Layout(height='25px', width='50%'),…"
      ]
     },
     "metadata": {},
     "output_type": "display_data"
    }
   ],
   "source": [
    "patent_with_owner_location = patent_combined.select(\"id\", \"owner_id\", \"location_id\")"
   ]
  },
  {
   "cell_type": "code",
   "execution_count": 58,
   "id": "7dfd4a63-1665-440b-bbae-1f4287f446b8",
   "metadata": {
    "execution": {
     "iopub.execute_input": "2022-09-06T05:17:06.318309Z",
     "iopub.status.busy": "2022-09-06T05:17:06.318033Z",
     "iopub.status.idle": "2022-09-06T05:17:06.588377Z",
     "shell.execute_reply": "2022-09-06T05:17:06.587567Z",
     "shell.execute_reply.started": "2022-09-06T05:17:06.318280Z"
    },
    "tags": []
   },
   "outputs": [
    {
     "data": {
      "application/vnd.jupyter.widget-view+json": {
       "model_id": "44cee8615dc346a9803bb42704dbbaed",
       "version_major": 2,
       "version_minor": 0
      },
      "text/plain": [
       "VBox()"
      ]
     },
     "metadata": {},
     "output_type": "display_data"
    },
    {
     "data": {
      "application/vnd.jupyter.widget-view+json": {
       "model_id": "",
       "version_major": 2,
       "version_minor": 0
      },
      "text/plain": [
       "FloatProgress(value=0.0, bar_style='info', description='Progress:', layout=Layout(height='25px', width='50%'),…"
      ]
     },
     "metadata": {},
     "output_type": "display_data"
    }
   ],
   "source": [
    "patent_with_all_fields = patent_with_owner_location.join(patent_cleaned, patent_with_owner_location.id == patent_cleaned.id).drop(patent_cleaned.id).select(\"id\",F.col(\"date\").alias(\"granted_date\"), F.col(\"id\").alias(\"detail_id\"), \"owner_id\", \"location_id\",F.col(\"id\").alias(\"wipo_classification_id\"), \"num_claims\"  )"
   ]
  },
  {
   "cell_type": "code",
   "execution_count": 59,
   "id": "842318e3-15ed-44ba-b1d2-0c335515edbd",
   "metadata": {
    "execution": {
     "iopub.execute_input": "2022-09-06T05:17:15.375789Z",
     "iopub.status.busy": "2022-09-06T05:17:15.375548Z",
     "iopub.status.idle": "2022-09-06T05:17:46.900795Z",
     "shell.execute_reply": "2022-09-06T05:17:46.899862Z",
     "shell.execute_reply.started": "2022-09-06T05:17:15.375765Z"
    }
   },
   "outputs": [
    {
     "data": {
      "application/vnd.jupyter.widget-view+json": {
       "model_id": "8e518c80a8134015a11f78471b55395e",
       "version_major": 2,
       "version_minor": 0
      },
      "text/plain": [
       "VBox()"
      ]
     },
     "metadata": {},
     "output_type": "display_data"
    },
    {
     "data": {
      "application/vnd.jupyter.widget-view+json": {
       "model_id": "",
       "version_major": 2,
       "version_minor": 0
      },
      "text/plain": [
       "FloatProgress(value=0.0, bar_style='info', description='Progress:', layout=Layout(height='25px', width='50%'),…"
      ]
     },
     "metadata": {},
     "output_type": "display_data"
    },
    {
     "name": "stdout",
     "output_type": "stream",
     "text": [
      "+--------+-------------------+---------+--------------------+--------------------+----------------------+----------+\n",
      "|      id|       granted_date|detail_id|            owner_id|         location_id|wipo_classification_id|num_claims|\n",
      "+--------+-------------------+---------+--------------------+--------------------+----------------------+----------+\n",
      "|10000001|2018-06-19 00:00:00| 10000001|1811ccc2f6d60eac3...|fa34f97bf4bcb580f...|              10000001|        12|\n",
      "|10000040|2018-06-19 00:00:00| 10000040|85f93d76014d5588f...|50326770c34ca13ba...|              10000040|        17|\n",
      "|10000043|2018-06-19 00:00:00| 10000043|d5e078a70f7ee0732...|501c26b2571a1f7fd...|              10000043|        19|\n",
      "|10000099|2018-06-19 00:00:00| 10000099|9ec77b49813b21610...|6814ef46f686990cf...|              10000099|        14|\n",
      "|10000136|2018-06-19 00:00:00| 10000136|25a9b70e4a769fb37...|fa34f97bf4bcb580f...|              10000136|        21|\n",
      "|10000144|2018-06-19 00:00:00| 10000144|8afd7a5207031e796...|8a934fad7bbf4b682...|              10000144|         3|\n",
      "|10000212|2018-06-19 00:00:00| 10000212|71e2c7d471f994cb9...|fa34f97bf4bcb580f...|              10000212|        16|\n",
      "|10000231|2018-06-19 00:00:00| 10000231|c7d9e0d4eac28a868...|6814ef46f686990cf...|              10000231|        11|\n",
      "|10000235|2018-06-19 00:00:00| 10000235|43b758b1f6cb37718...|569ec6135d377e8ac...|              10000235|         7|\n",
      "|10000283|2018-06-19 00:00:00| 10000283|ad0d04752b565769f...|9b202ecbc6d45c6d8...|              10000283|        10|\n",
      "|10000304|2018-06-19 00:00:00| 10000304|5d693377c48d24147...|9b202ecbc6d45c6d8...|              10000304|        14|\n",
      "|10000341|2018-06-19 00:00:00| 10000341|ffb51d17dd97073e5...|9b202ecbc6d45c6d8...|              10000341|         7|\n",
      "|10000354|2018-06-19 00:00:00| 10000354|e0541864d740e0443...|569ec6135d377e8ac...|              10000354|        11|\n",
      "|10000427|2018-06-19 00:00:00| 10000427|ab401da513a823a5d...|4b650e5c4785025de...|              10000427|        18|\n",
      "|10000463|2018-06-19 00:00:00| 10000463|27397cdca03c2640f...|569ec6135d377e8ac...|              10000463|        18|\n",
      "|10000477|2018-06-19 00:00:00| 10000477|355d21b74cb0775b2...|b4043b0b8297e379b...|              10000477|        33|\n",
      "|10000479|2018-06-19 00:00:00| 10000479|d10ead2c2a7af534e...|9b202ecbc6d45c6d8...|              10000479|        25|\n",
      "|10000490|2018-06-19 00:00:00| 10000490|406da699b7fcc1095...|9b202ecbc6d45c6d8...|              10000490|        12|\n",
      "|10000536|2018-06-19 00:00:00| 10000536|f3d6bb700a3e2406e...|6814ef46f686990cf...|              10000536|         7|\n",
      "|10000551|2018-06-19 00:00:00| 10000551|02b6cb8cc20b841d7...|9b90fa7f6a8a28309...|              10000551|        24|\n",
      "+--------+-------------------+---------+--------------------+--------------------+----------------------+----------+\n",
      "only showing top 20 rows"
     ]
    }
   ],
   "source": [
    "patent_with_all_fields.show()"
   ]
  },
  {
   "cell_type": "code",
   "execution_count": 60,
   "id": "60020405-c21a-4dbe-ac19-ec6c1621f82f",
   "metadata": {
    "execution": {
     "iopub.execute_input": "2022-09-06T05:17:46.902189Z",
     "iopub.status.busy": "2022-09-06T05:17:46.902005Z",
     "iopub.status.idle": "2022-09-06T05:18:16.376014Z",
     "shell.execute_reply": "2022-09-06T05:18:16.375293Z",
     "shell.execute_reply.started": "2022-09-06T05:17:46.902156Z"
    }
   },
   "outputs": [
    {
     "data": {
      "application/vnd.jupyter.widget-view+json": {
       "model_id": "92b667a0c3a44d289076a2c03ebaa5b7",
       "version_major": 2,
       "version_minor": 0
      },
      "text/plain": [
       "VBox()"
      ]
     },
     "metadata": {},
     "output_type": "display_data"
    },
    {
     "data": {
      "application/vnd.jupyter.widget-view+json": {
       "model_id": "",
       "version_major": 2,
       "version_minor": 0
      },
      "text/plain": [
       "FloatProgress(value=0.0, bar_style='info', description='Progress:', layout=Layout(height='25px', width='50%'),…"
      ]
     },
     "metadata": {},
     "output_type": "display_data"
    },
    {
     "name": "stdout",
     "output_type": "stream",
     "text": [
      "5718002"
     ]
    }
   ],
   "source": [
    "patent_with_all_fields.count()"
   ]
  },
  {
   "cell_type": "code",
   "execution_count": 61,
   "id": "19feb535-c8b8-497c-b744-1aa3b4c8df95",
   "metadata": {
    "execution": {
     "iopub.execute_input": "2022-09-06T05:19:27.473457Z",
     "iopub.status.busy": "2022-09-06T05:19:27.473222Z",
     "iopub.status.idle": "2022-09-06T05:21:23.126964Z",
     "shell.execute_reply": "2022-09-06T05:21:23.126321Z",
     "shell.execute_reply.started": "2022-09-06T05:19:27.473434Z"
    }
   },
   "outputs": [
    {
     "data": {
      "application/vnd.jupyter.widget-view+json": {
       "model_id": "11f28576e3124089a51d9537f92dc04f",
       "version_major": 2,
       "version_minor": 0
      },
      "text/plain": [
       "VBox()"
      ]
     },
     "metadata": {},
     "output_type": "display_data"
    },
    {
     "data": {
      "application/vnd.jupyter.widget-view+json": {
       "model_id": "",
       "version_major": 2,
       "version_minor": 0
      },
      "text/plain": [
       "FloatProgress(value=0.0, bar_style='info', description='Progress:', layout=Layout(height='25px', width='50%'),…"
      ]
     },
     "metadata": {},
     "output_type": "display_data"
    }
   ],
   "source": [
    "patent_with_all_fields.write\\\n",
    "    .format(\"io.github.spark_redshift_community.spark.redshift\")\\\n",
    "    .option(\"url\", url)\\\n",
    "    .option(\"tempdir\", s3_tempdir)\\\n",
    "    .option(\"dbtable\", \"patents\")\\\n",
    "    .mode(\"overwrite\")\\\n",
    "    .option(\"aws_iam_role\", \"arn:aws:iam::735201909841:role/redshift_read_s3\")\\\n",
    "    .save()"
   ]
  },
  {
   "cell_type": "markdown",
   "id": "65686039-e17f-4e4e-b97e-0fce43417b26",
   "metadata": {},
   "source": [
    "## ETL for Patent Keywords"
   ]
  },
  {
   "cell_type": "markdown",
   "id": "60a0e12a-3088-466b-b02e-30143ff7a32d",
   "metadata": {},
   "source": [
    "### Load patent keyword"
   ]
  },
  {
   "cell_type": "code",
   "execution_count": 63,
   "id": "e9d50084-e009-4d97-b288-3d559c1ceac2",
   "metadata": {
    "execution": {
     "iopub.execute_input": "2022-09-06T05:21:23.187878Z",
     "iopub.status.busy": "2022-09-06T05:21:23.187615Z",
     "iopub.status.idle": "2022-09-06T05:21:23.239121Z",
     "shell.execute_reply": "2022-09-06T05:21:23.238564Z",
     "shell.execute_reply.started": "2022-09-06T05:21:23.187834Z"
    }
   },
   "outputs": [
    {
     "data": {
      "application/vnd.jupyter.widget-view+json": {
       "model_id": "ae1efe86a2f14177abc3ec1f142e1131",
       "version_major": 2,
       "version_minor": 0
      },
      "text/plain": [
       "VBox()"
      ]
     },
     "metadata": {},
     "output_type": "display_data"
    },
    {
     "data": {
      "application/vnd.jupyter.widget-view+json": {
       "model_id": "",
       "version_major": 2,
       "version_minor": 0
      },
      "text/plain": [
       "FloatProgress(value=0.0, bar_style='info', description='Progress:', layout=Layout(height='25px', width='50%'),…"
      ]
     },
     "metadata": {},
     "output_type": "display_data"
    }
   ],
   "source": [
    "patent_keyword_path = \"s3://patents-analytics/cleaned/patent_keyword.parquet/\""
   ]
  },
  {
   "cell_type": "code",
   "execution_count": 64,
   "id": "808f6c63-12cf-480d-98ac-f9746add3ff4",
   "metadata": {
    "execution": {
     "iopub.execute_input": "2022-09-06T05:21:23.240275Z",
     "iopub.status.busy": "2022-09-06T05:21:23.240093Z",
     "iopub.status.idle": "2022-09-06T05:21:24.009364Z",
     "shell.execute_reply": "2022-09-06T05:21:24.008487Z",
     "shell.execute_reply.started": "2022-09-06T05:21:23.240251Z"
    }
   },
   "outputs": [
    {
     "data": {
      "application/vnd.jupyter.widget-view+json": {
       "model_id": "3d5c45b105a347f595a4110aeadec12d",
       "version_major": 2,
       "version_minor": 0
      },
      "text/plain": [
       "VBox()"
      ]
     },
     "metadata": {},
     "output_type": "display_data"
    },
    {
     "data": {
      "application/vnd.jupyter.widget-view+json": {
       "model_id": "",
       "version_major": 2,
       "version_minor": 0
      },
      "text/plain": [
       "FloatProgress(value=0.0, bar_style='info', description='Progress:', layout=Layout(height='25px', width='50%'),…"
      ]
     },
     "metadata": {},
     "output_type": "display_data"
    }
   ],
   "source": [
    "patent_keyword = spark.read.parquet(patent_keyword_path)"
   ]
  },
  {
   "cell_type": "code",
   "execution_count": 65,
   "id": "e6ebbf6d-095c-4016-a3b4-c96828f468e7",
   "metadata": {
    "execution": {
     "iopub.execute_input": "2022-09-06T05:21:30.508232Z",
     "iopub.status.busy": "2022-09-06T05:21:30.507993Z",
     "iopub.status.idle": "2022-09-06T05:21:30.572320Z",
     "shell.execute_reply": "2022-09-06T05:21:30.571533Z",
     "shell.execute_reply.started": "2022-09-06T05:21:30.508207Z"
    }
   },
   "outputs": [
    {
     "data": {
      "application/vnd.jupyter.widget-view+json": {
       "model_id": "0e6a063b2fa04072af1003cbe5010ed3",
       "version_major": 2,
       "version_minor": 0
      },
      "text/plain": [
       "VBox()"
      ]
     },
     "metadata": {},
     "output_type": "display_data"
    },
    {
     "data": {
      "application/vnd.jupyter.widget-view+json": {
       "model_id": "",
       "version_major": 2,
       "version_minor": 0
      },
      "text/plain": [
       "FloatProgress(value=0.0, bar_style='info', description='Progress:', layout=Layout(height='25px', width='50%'),…"
      ]
     },
     "metadata": {},
     "output_type": "display_data"
    },
    {
     "name": "stdout",
     "output_type": "stream",
     "text": [
      "root\n",
      " |-- id: string (nullable = true)\n",
      " |-- keyword: string (nullable = true)\n",
      " |-- score: string (nullable = true)\n",
      " |-- row: integer (nullable = true)"
     ]
    }
   ],
   "source": [
    "patent_keyword.printSchema()"
   ]
  },
  {
   "cell_type": "markdown",
   "id": "99caeb81-23bc-4d7f-9146-8de5058c7adc",
   "metadata": {},
   "source": [
    "### Transform"
   ]
  },
  {
   "cell_type": "code",
   "execution_count": 67,
   "id": "23fb540b-f1b0-468c-a515-7b8551922383",
   "metadata": {
    "execution": {
     "iopub.execute_input": "2022-09-06T05:24:29.101301Z",
     "iopub.status.busy": "2022-09-06T05:24:29.101053Z",
     "iopub.status.idle": "2022-09-06T05:24:29.372580Z",
     "shell.execute_reply": "2022-09-06T05:24:29.371723Z",
     "shell.execute_reply.started": "2022-09-06T05:24:29.101277Z"
    },
    "tags": []
   },
   "outputs": [
    {
     "data": {
      "application/vnd.jupyter.widget-view+json": {
       "model_id": "053a587ac7ff461b82212c766157343a",
       "version_major": 2,
       "version_minor": 0
      },
      "text/plain": [
       "VBox()"
      ]
     },
     "metadata": {},
     "output_type": "display_data"
    },
    {
     "data": {
      "application/vnd.jupyter.widget-view+json": {
       "model_id": "",
       "version_major": 2,
       "version_minor": 0
      },
      "text/plain": [
       "FloatProgress(value=0.0, bar_style='info', description='Progress:', layout=Layout(height='25px', width='50%'),…"
      ]
     },
     "metadata": {},
     "output_type": "display_data"
    }
   ],
   "source": [
    "patent_keyword2 = patent_keyword.select(F.sha2(F.concat(F.col(\"id\"), F.col(\"keyword\")),256).alias(\"patent_keyword_id\"), F.col(\"id\").alias(\"patent_id\"), \"keyword\")"
   ]
  },
  {
   "cell_type": "code",
   "execution_count": 68,
   "id": "748b6ce1-7559-450c-8a23-79e756a7f3a6",
   "metadata": {
    "execution": {
     "iopub.execute_input": "2022-09-06T05:24:34.874641Z",
     "iopub.status.busy": "2022-09-06T05:24:34.874414Z",
     "iopub.status.idle": "2022-09-06T05:24:35.640708Z",
     "shell.execute_reply": "2022-09-06T05:24:35.640018Z",
     "shell.execute_reply.started": "2022-09-06T05:24:34.874617Z"
    }
   },
   "outputs": [
    {
     "data": {
      "application/vnd.jupyter.widget-view+json": {
       "model_id": "c60fc78c56f040b1ab17cdb9df7d5465",
       "version_major": 2,
       "version_minor": 0
      },
      "text/plain": [
       "VBox()"
      ]
     },
     "metadata": {},
     "output_type": "display_data"
    },
    {
     "data": {
      "application/vnd.jupyter.widget-view+json": {
       "model_id": "",
       "version_major": 2,
       "version_minor": 0
      },
      "text/plain": [
       "FloatProgress(value=0.0, bar_style='info', description='Progress:', layout=Layout(height='25px', width='50%'),…"
      ]
     },
     "metadata": {},
     "output_type": "display_data"
    },
    {
     "name": "stdout",
     "output_type": "stream",
     "text": [
      "+--------------------+---------+-------------------+\n",
      "|   patent_keyword_id|patent_id|            keyword|\n",
      "+--------------------+---------+-------------------+\n",
      "|c85df9e841b7b26ac...| 10000057|             nozzle|\n",
      "|ac95cb1259eacb4c2...| 10000057|         nozzle set|\n",
      "|6450c2ddafdc06116...| 10000057|       first nozzle|\n",
      "|55a82174ee8579de4...| 10000057|              print|\n",
      "|27ee2715256ab679a...| 10000057|                set|\n",
      "|45ff2df52c5d2e117...| 10000057|              first|\n",
      "|4774307f4c54803bf...| 10000057|         print head|\n",
      "|2293f3a85de28cb21...| 10000057|           printing|\n",
      "|d301a8c72b5013dad...| 10000057|        information|\n",
      "|bd2be7d682955fea7...| 10000057|               head|\n",
      "|5e17f86f567f7e9db...| 10000517|          complexes|\n",
      "|2bbf17582b02a0a42...| 10000638|             weight|\n",
      "|1a7f91409c7f504cd...| 10000638|            asphalt|\n",
      "|b12523faafadddcc4...| 10000638|asphalt composition|\n",
      "|d772b6bc373e37fbd...| 10000638|  synthetic rubbers|\n",
      "|dc2249b4b9fcee96f...| 10000638|   modified asphalt|\n",
      "|5bdf79a8b7e2e146f...| 10000638|       neat asphalt|\n",
      "|4edee446c1a3cc593...| 10000638|            rubbers|\n",
      "|489fda29ee4553630...| 10000638|             rubber|\n",
      "|ffd0fabbd79438aac...| 10000638|       devulcanized|\n",
      "+--------------------+---------+-------------------+\n",
      "only showing top 20 rows"
     ]
    }
   ],
   "source": [
    "patent_keyword2.show()"
   ]
  },
  {
   "cell_type": "markdown",
   "id": "a2bb011b-1b5d-4907-9a51-72a896b08d34",
   "metadata": {},
   "source": [
    "### Load"
   ]
  },
  {
   "cell_type": "code",
   "execution_count": 69,
   "id": "cef31443-341b-4eb4-8f8a-31a2997e77d7",
   "metadata": {
    "execution": {
     "iopub.execute_input": "2022-09-06T05:25:36.104445Z",
     "iopub.status.busy": "2022-09-06T05:25:36.104214Z",
     "iopub.status.idle": "2022-09-06T05:30:36.136106Z",
     "shell.execute_reply": "2022-09-06T05:30:36.135377Z",
     "shell.execute_reply.started": "2022-09-06T05:25:36.104422Z"
    }
   },
   "outputs": [
    {
     "data": {
      "application/vnd.jupyter.widget-view+json": {
       "model_id": "480f3099740c4ee1986ea01e45ee31dd",
       "version_major": 2,
       "version_minor": 0
      },
      "text/plain": [
       "VBox()"
      ]
     },
     "metadata": {},
     "output_type": "display_data"
    },
    {
     "data": {
      "application/vnd.jupyter.widget-view+json": {
       "model_id": "",
       "version_major": 2,
       "version_minor": 0
      },
      "text/plain": [
       "FloatProgress(value=0.0, bar_style='info', description='Progress:', layout=Layout(height='25px', width='50%'),…"
      ]
     },
     "metadata": {},
     "output_type": "display_data"
    }
   ],
   "source": [
    "patent_keyword2.write\\\n",
    "    .format(\"io.github.spark_redshift_community.spark.redshift\")\\\n",
    "    .option(\"url\", url)\\\n",
    "    .option(\"tempdir\", s3_tempdir)\\\n",
    "    .option(\"dbtable\", \"patent_keywords\")\\\n",
    "    .mode(\"overwrite\")\\\n",
    "    .option(\"aws_iam_role\", \"arn:aws:iam::735201909841:role/redshift_read_s3\")\\\n",
    "    .save()"
   ]
  },
  {
   "cell_type": "code",
   "execution_count": null,
   "id": "507f2f66-c374-4751-84ab-6a8dbe16ca40",
   "metadata": {},
   "outputs": [],
   "source": []
  }
 ],
 "metadata": {
  "kernelspec": {
   "display_name": "PySpark",
   "language": "",
   "name": "pysparkkernel"
  },
  "language_info": {
   "codemirror_mode": {
    "name": "python",
    "version": 3
   },
   "mimetype": "text/x-python",
   "name": "pyspark",
   "pygments_lexer": "python3"
  }
 },
 "nbformat": 4,
 "nbformat_minor": 5
}
