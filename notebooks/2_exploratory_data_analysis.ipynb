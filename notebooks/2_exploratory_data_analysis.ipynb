{
 "cells": [
  {
   "cell_type": "code",
   "execution_count": 1,
   "id": "eff2c1a3-db66-4d45-a878-a19f2b1cedb4",
   "metadata": {
    "execution": {
     "iopub.execute_input": "2022-08-20T07:32:35.841676Z",
     "iopub.status.busy": "2022-08-20T07:32:35.841441Z",
     "iopub.status.idle": "2022-08-20T07:33:30.056492Z",
     "shell.execute_reply": "2022-08-20T07:33:30.055639Z",
     "shell.execute_reply.started": "2022-08-20T07:32:35.841651Z"
    },
    "tags": []
   },
   "outputs": [
    {
     "data": {
      "application/vnd.jupyter.widget-view+json": {
       "model_id": "62589f75199d44a29762296827a376d4",
       "version_major": 2,
       "version_minor": 0
      },
      "text/plain": [
       "VBox()"
      ]
     },
     "metadata": {},
     "output_type": "display_data"
    },
    {
     "name": "stdout",
     "output_type": "stream",
     "text": [
      "Starting Spark application\n"
     ]
    },
    {
     "data": {
      "text/html": [
       "<table>\n",
       "<tr><th>ID</th><th>YARN Application ID</th><th>Kind</th><th>State</th><th>Spark UI</th><th>Driver log</th><th>User</th><th>Current session?</th></tr><tr><td>0</td><td>application_1660980033939_0001</td><td>pyspark</td><td>idle</td><td><a target=\"_blank\" href=\"http://ip-172-31-23-123.ap-southeast-1.compute.internal:20888/proxy/application_1660980033939_0001/\" class=\"emr-proxy-link\" emr-resource=\"j-34AP8X922UXQ8\n",
       "\" application-id=\"application_1660980033939_0001\">Link</a></td><td><a target=\"_blank\" href=\"http://ip-172-31-30-123.ap-southeast-1.compute.internal:8042/node/containerlogs/container_1660980033939_0001_01_000001/livy\" >Link</a></td><td>None</td><td>✔</td></tr></table>"
      ],
      "text/plain": [
       "<IPython.core.display.HTML object>"
      ]
     },
     "metadata": {},
     "output_type": "display_data"
    },
    {
     "data": {
      "application/vnd.jupyter.widget-view+json": {
       "model_id": "",
       "version_major": 2,
       "version_minor": 0
      },
      "text/plain": [
       "FloatProgress(value=0.0, bar_style='info', description='Progress:', layout=Layout(height='25px', width='50%'),…"
      ]
     },
     "metadata": {},
     "output_type": "display_data"
    },
    {
     "name": "stdout",
     "output_type": "stream",
     "text": [
      "SparkSession available as 'spark'.\n"
     ]
    },
    {
     "data": {
      "application/vnd.jupyter.widget-view+json": {
       "model_id": "",
       "version_major": 2,
       "version_minor": 0
      },
      "text/plain": [
       "FloatProgress(value=0.0, bar_style='info', description='Progress:', layout=Layout(height='25px', width='50%'),…"
      ]
     },
     "metadata": {},
     "output_type": "display_data"
    }
   ],
   "source": [
    "from pyspark.sql import SparkSession"
   ]
  },
  {
   "cell_type": "markdown",
   "id": "ccc802b0-94de-4511-8006-701f53b9cca7",
   "metadata": {},
   "source": [
    "## Exploratory Analysis on Patent Data"
   ]
  },
  {
   "cell_type": "code",
   "execution_count": 2,
   "id": "92092c24-4894-4a82-840c-de2e93c3d5bf",
   "metadata": {
    "execution": {
     "iopub.execute_input": "2022-08-20T07:33:30.058051Z",
     "iopub.status.busy": "2022-08-20T07:33:30.057806Z",
     "iopub.status.idle": "2022-08-20T07:33:30.149868Z",
     "shell.execute_reply": "2022-08-20T07:33:30.149149Z",
     "shell.execute_reply.started": "2022-08-20T07:33:30.058017Z"
    },
    "tags": []
   },
   "outputs": [
    {
     "data": {
      "application/vnd.jupyter.widget-view+json": {
       "model_id": "7b4ae16ffb054664b77bfdbe640d7827",
       "version_major": 2,
       "version_minor": 0
      },
      "text/plain": [
       "VBox()"
      ]
     },
     "metadata": {},
     "output_type": "display_data"
    },
    {
     "data": {
      "application/vnd.jupyter.widget-view+json": {
       "model_id": "",
       "version_major": 2,
       "version_minor": 0
      },
      "text/plain": [
       "FloatProgress(value=0.0, bar_style='info', description='Progress:', layout=Layout(height='25px', width='50%'),…"
      ]
     },
     "metadata": {},
     "output_type": "display_data"
    }
   ],
   "source": [
    "patent_path = \"s3://patents-analytics/raw/patent.tsv\""
   ]
  },
  {
   "cell_type": "code",
   "execution_count": 3,
   "id": "3a7c963f-bb1a-4c92-ae4b-23ff028ab775",
   "metadata": {
    "execution": {
     "iopub.execute_input": "2022-08-20T07:33:30.151711Z",
     "iopub.status.busy": "2022-08-20T07:33:30.151441Z",
     "iopub.status.idle": "2022-08-20T07:35:26.123850Z",
     "shell.execute_reply": "2022-08-20T07:35:26.123030Z",
     "shell.execute_reply.started": "2022-08-20T07:33:30.151675Z"
    },
    "tags": []
   },
   "outputs": [
    {
     "data": {
      "application/vnd.jupyter.widget-view+json": {
       "model_id": "22efc0c4c3104f2b8b2252733011d7b4",
       "version_major": 2,
       "version_minor": 0
      },
      "text/plain": [
       "VBox()"
      ]
     },
     "metadata": {},
     "output_type": "display_data"
    },
    {
     "data": {
      "application/vnd.jupyter.widget-view+json": {
       "model_id": "",
       "version_major": 2,
       "version_minor": 0
      },
      "text/plain": [
       "FloatProgress(value=0.0, bar_style='info', description='Progress:', layout=Layout(height='25px', width='50%'),…"
      ]
     },
     "metadata": {},
     "output_type": "display_data"
    }
   ],
   "source": [
    "patent = spark.read.options(header='True', delimiter='\\t', inferSchema='True', escape=\"\\\"\", multiline='True').csv(patent_path).repartition(10)"
   ]
  },
  {
   "cell_type": "code",
   "execution_count": 4,
   "id": "00710526-af97-4916-b46d-8e407752e171",
   "metadata": {
    "execution": {
     "iopub.execute_input": "2022-08-20T07:35:26.125171Z",
     "iopub.status.busy": "2022-08-20T07:35:26.124987Z",
     "iopub.status.idle": "2022-08-20T07:39:00.151182Z",
     "shell.execute_reply": "2022-08-20T07:39:00.150560Z",
     "shell.execute_reply.started": "2022-08-20T07:35:26.125148Z"
    },
    "tags": []
   },
   "outputs": [
    {
     "data": {
      "application/vnd.jupyter.widget-view+json": {
       "model_id": "c0f0a03f010645b08584dedb92534482",
       "version_major": 2,
       "version_minor": 0
      },
      "text/plain": [
       "VBox()"
      ]
     },
     "metadata": {},
     "output_type": "display_data"
    },
    {
     "data": {
      "application/vnd.jupyter.widget-view+json": {
       "model_id": "",
       "version_major": 2,
       "version_minor": 0
      },
      "text/plain": [
       "FloatProgress(value=0.0, bar_style='info', description='Progress:', layout=Layout(height='25px', width='50%'),…"
      ]
     },
     "metadata": {},
     "output_type": "display_data"
    },
    {
     "name": "stdout",
     "output_type": "stream",
     "text": [
      "10"
     ]
    }
   ],
   "source": [
    "patent.rdd.getNumPartitions()"
   ]
  },
  {
   "cell_type": "code",
   "execution_count": 5,
   "id": "8e201548-801b-40ee-821a-2e6482032465",
   "metadata": {
    "execution": {
     "iopub.execute_input": "2022-08-20T07:39:00.152284Z",
     "iopub.status.busy": "2022-08-20T07:39:00.152108Z",
     "iopub.status.idle": "2022-08-20T07:42:28.080567Z",
     "shell.execute_reply": "2022-08-20T07:42:28.079961Z",
     "shell.execute_reply.started": "2022-08-20T07:39:00.152261Z"
    },
    "tags": []
   },
   "outputs": [
    {
     "data": {
      "application/vnd.jupyter.widget-view+json": {
       "model_id": "134f550b33624814aeac25d54bfb82f8",
       "version_major": 2,
       "version_minor": 0
      },
      "text/plain": [
       "VBox()"
      ]
     },
     "metadata": {},
     "output_type": "display_data"
    },
    {
     "data": {
      "application/vnd.jupyter.widget-view+json": {
       "model_id": "",
       "version_major": 2,
       "version_minor": 0
      },
      "text/plain": [
       "FloatProgress(value=0.0, bar_style='info', description='Progress:', layout=Layout(height='25px', width='50%'),…"
      ]
     },
     "metadata": {},
     "output_type": "display_data"
    },
    {
     "name": "stdout",
     "output_type": "stream",
     "text": [
      "[Row(id='9074694', type='utility', number='9074694', country='US', date=datetime.datetime(2015, 7, 7, 0, 0), abstract='A control device for hydraulic media with a control valve, in particular, a proportional valve that has a sleeve housing provided with radial openings, wherein at least one pressurized flow feed line, at least one control line, and at least one return line are connected to the openings, and the opening for the pressurized flow feed line is connected to a ring-shaped groove, with a control slide that has control edges and is supported in the sleeve housing so that it can move in the axial direction and is actuated by an electromagnetically constructed control unit, advantageously for controlling a phase adjustment device for the variable adjustment of the control times of gas exchange valves of a reciprocating piston internal combustion engine. A non-return valve is installed in the pressurized flow feed line or in the ring-shaped groove that is arranged in the sleeve housing.', title='Control valve for hydraulic media', kind='B2', num_claims=10, filename='ipg150707.xml', withdrawn=0), Row(id='7687494', type='utility', number='7687494', country='US', date=datetime.datetime(2010, 3, 30, 0, 0), abstract='The invention is directed to nonpeptide substituted benzazepines of Formula I, which are useful as vasopressin receptor antagonists for treating conditions associated with vasopressin receptor activity such as those involving increased vascular resistance and cardiac insufficiency, including congestive heart failure, hyponatremia, and hypertension, among others disclosed. Pharmaceutical compositions comprising a compound of Formula I and methods of treating conditions such as hypertension, congestive heart failure, cardiac insufficiency, coronary vasospasm, cardiac ischemia, liver cirrhosis, hyponatremia, renal vasospasm, renal failure, diabetic nephropathy, cerebral edema, cerebral ischemia, stroke, thrombosis, or water retention are also disclosed.', title='Substituted spirobenzazepines', kind='B2', num_claims=22, filename='ipg100330.xml', withdrawn=0), Row(id='4489348', type='utility', number='4489348', country='US', date=datetime.datetime(1984, 12, 18, 0, 0), abstract=' An apparatus for providing video signal synchronized operation between two or more video signal originating devices, such as video color cameras, one operating as a master, and the other one or more video cameras or devices operating as slaves or masters, is described. The apparatus takes the latch output of the master camera channel and derives a positive-going ramp one horizontal line long. The slave latch output is also caused to form a sample pulse. The master ramp and slave sample pulse are compared and the resultant positive correction voltage is applied to the voltage controlled oscillator of the slave. The apparatus develops positive error pulses if the master and slave video signals are not synchronized. The error pulses are combined with the slave composite sync, resulting in a series of sharp, negative-going, oscillator shut-off pulses for slowing down the slave sync generator until the master catches up with the slave, the pulses being turned off when the master and slave cameras are in synchronization. ', title='Video camera synchronizer', kind='A', num_claims=13, filename='pftaps19841218_wk51.zip', withdrawn=0), Row(id='D502268', type='design', number='D502268', country='US', date=datetime.datetime(2005, 2, 22, 0, 0), abstract=None, title='Reagent container', kind='S1', num_claims=1, filename='ipg050222.xml', withdrawn=0), Row(id='9727246', type='utility', number='9727246', country='US', date=datetime.datetime(2017, 8, 8, 0, 0), abstract='An example of the invention is a memory device including a controller and a plurality of randomly accessible memories that are capable of storing user data from a host. The controller includes data management information managing correspondence relations between address areas to be designated by the host and the plurality of memories, and compression policy management information managing associations of the address areas to be designated by the host with priorities in compressing user data to be stored in the plurality of memories. The controller is configured to determine a compression policy associated with a designated address area included in an access request from the host based on a priority associated with the designated address area and information on free space of the plurality of memories.', title='Memory device, computer system, and method of controlling memory device', kind='B2', num_claims=12, filename='ipg170808.xml', withdrawn=0)]"
     ]
    }
   ],
   "source": [
    "patent.take(5)"
   ]
  },
  {
   "cell_type": "code",
   "execution_count": 6,
   "id": "e32faed9-cc63-4c88-8619-abd23d875dd1",
   "metadata": {
    "execution": {
     "iopub.execute_input": "2022-08-20T07:42:28.081614Z",
     "iopub.status.busy": "2022-08-20T07:42:28.081440Z",
     "iopub.status.idle": "2022-08-20T07:42:28.144014Z",
     "shell.execute_reply": "2022-08-20T07:42:28.143408Z",
     "shell.execute_reply.started": "2022-08-20T07:42:28.081592Z"
    },
    "tags": []
   },
   "outputs": [
    {
     "data": {
      "application/vnd.jupyter.widget-view+json": {
       "model_id": "58ee11e689da44059db9043bb6066191",
       "version_major": 2,
       "version_minor": 0
      },
      "text/plain": [
       "VBox()"
      ]
     },
     "metadata": {},
     "output_type": "display_data"
    },
    {
     "data": {
      "application/vnd.jupyter.widget-view+json": {
       "model_id": "",
       "version_major": 2,
       "version_minor": 0
      },
      "text/plain": [
       "FloatProgress(value=0.0, bar_style='info', description='Progress:', layout=Layout(height='25px', width='50%'),…"
      ]
     },
     "metadata": {},
     "output_type": "display_data"
    },
    {
     "name": "stdout",
     "output_type": "stream",
     "text": [
      "root\n",
      " |-- id: string (nullable = true)\n",
      " |-- type: string (nullable = true)\n",
      " |-- number: string (nullable = true)\n",
      " |-- country: string (nullable = true)\n",
      " |-- date: timestamp (nullable = true)\n",
      " |-- abstract: string (nullable = true)\n",
      " |-- title: string (nullable = true)\n",
      " |-- kind: string (nullable = true)\n",
      " |-- num_claims: integer (nullable = true)\n",
      " |-- filename: string (nullable = true)\n",
      " |-- withdrawn: integer (nullable = true)"
     ]
    }
   ],
   "source": [
    "patent.printSchema()"
   ]
  },
  {
   "cell_type": "code",
   "execution_count": 7,
   "id": "a5426bea-43b3-4f2a-96df-797774238064",
   "metadata": {
    "execution": {
     "iopub.execute_input": "2022-08-20T07:42:28.145139Z",
     "iopub.status.busy": "2022-08-20T07:42:28.144965Z",
     "iopub.status.idle": "2022-08-20T07:43:43.653082Z",
     "shell.execute_reply": "2022-08-20T07:43:43.652390Z",
     "shell.execute_reply.started": "2022-08-20T07:42:28.145117Z"
    },
    "tags": []
   },
   "outputs": [
    {
     "data": {
      "application/vnd.jupyter.widget-view+json": {
       "model_id": "9269a6c4c2674b72a7532450e178a4ed",
       "version_major": 2,
       "version_minor": 0
      },
      "text/plain": [
       "VBox()"
      ]
     },
     "metadata": {},
     "output_type": "display_data"
    },
    {
     "data": {
      "application/vnd.jupyter.widget-view+json": {
       "model_id": "",
       "version_major": 2,
       "version_minor": 0
      },
      "text/plain": [
       "FloatProgress(value=0.0, bar_style='info', description='Progress:', layout=Layout(height='25px', width='50%'),…"
      ]
     },
     "metadata": {},
     "output_type": "display_data"
    },
    {
     "name": "stdout",
     "output_type": "stream",
     "text": [
      "7991058"
     ]
    }
   ],
   "source": [
    "patent.count()"
   ]
  },
  {
   "cell_type": "code",
   "execution_count": 8,
   "id": "bf6eca6a-0aac-4ec5-a0c6-cd60d9e0234c",
   "metadata": {
    "execution": {
     "iopub.execute_input": "2022-08-20T07:43:43.655113Z",
     "iopub.status.busy": "2022-08-20T07:43:43.654830Z",
     "iopub.status.idle": "2022-08-20T07:43:44.423821Z",
     "shell.execute_reply": "2022-08-20T07:43:44.423038Z",
     "shell.execute_reply.started": "2022-08-20T07:43:43.655077Z"
    },
    "tags": []
   },
   "outputs": [
    {
     "data": {
      "application/vnd.jupyter.widget-view+json": {
       "model_id": "90a46bef735242fba329607b6b04720b",
       "version_major": 2,
       "version_minor": 0
      },
      "text/plain": [
       "VBox()"
      ]
     },
     "metadata": {},
     "output_type": "display_data"
    },
    {
     "data": {
      "application/vnd.jupyter.widget-view+json": {
       "model_id": "",
       "version_major": 2,
       "version_minor": 0
      },
      "text/plain": [
       "FloatProgress(value=0.0, bar_style='info', description='Progress:', layout=Layout(height='25px', width='50%'),…"
      ]
     },
     "metadata": {},
     "output_type": "display_data"
    }
   ],
   "source": [
    "patent.createOrReplaceTempView('patent')"
   ]
  },
  {
   "cell_type": "markdown",
   "id": "e90ee601-8d49-43ae-8a77-1388a0e56ae2",
   "metadata": {
    "tags": []
   },
   "source": [
    "### Analyse the field id"
   ]
  },
  {
   "cell_type": "code",
   "execution_count": 32,
   "id": "f80188a8-f3ec-4eba-bc54-0a3ba260e32d",
   "metadata": {
    "execution": {
     "iopub.execute_input": "2022-08-20T08:27:31.468409Z",
     "iopub.status.busy": "2022-08-20T08:27:31.468178Z",
     "iopub.status.idle": "2022-08-20T08:29:06.993710Z",
     "shell.execute_reply": "2022-08-20T08:29:06.993009Z",
     "shell.execute_reply.started": "2022-08-20T08:27:31.468384Z"
    }
   },
   "outputs": [
    {
     "data": {
      "application/vnd.jupyter.widget-view+json": {
       "model_id": "3d82636b736a4402b31cbc00523c25e2",
       "version_major": 2,
       "version_minor": 0
      },
      "text/plain": [
       "VBox()"
      ]
     },
     "metadata": {},
     "output_type": "display_data"
    },
    {
     "data": {
      "application/vnd.jupyter.widget-view+json": {
       "model_id": "",
       "version_major": 2,
       "version_minor": 0
      },
      "text/plain": [
       "FloatProgress(value=0.0, bar_style='info', description='Progress:', layout=Layout(height='25px', width='50%'),…"
      ]
     },
     "metadata": {},
     "output_type": "display_data"
    },
    {
     "name": "stdout",
     "output_type": "stream",
     "text": [
      "+------------------+\n",
      "|count(DISTINCT id)|\n",
      "+------------------+\n",
      "|           7991058|\n",
      "+------------------+"
     ]
    }
   ],
   "source": [
    "spark.sql(\"\"\"\n",
    "    SELECT COUNT(DISTINCT(id)) FROM patent\n",
    "\"\"\").show()"
   ]
  },
  {
   "cell_type": "markdown",
   "id": "448af534-1c32-4480-bdb5-27b5bb7245e4",
   "metadata": {
    "execution": {
     "iopub.execute_input": "2022-08-20T02:33:06.659774Z",
     "iopub.status.busy": "2022-08-20T02:33:06.659538Z",
     "iopub.status.idle": "2022-08-20T02:33:06.726611Z",
     "shell.execute_reply": "2022-08-20T02:33:06.725973Z",
     "shell.execute_reply.started": "2022-08-20T02:33:06.659749Z"
    }
   },
   "source": [
    "### Analyse the field `type`"
   ]
  },
  {
   "cell_type": "code",
   "execution_count": 22,
   "id": "4069c532-69b2-4886-a15c-c17c45272fd7",
   "metadata": {
    "execution": {
     "iopub.execute_input": "2022-08-20T03:26:26.438050Z",
     "iopub.status.busy": "2022-08-20T03:26:26.437816Z",
     "iopub.status.idle": "2022-08-20T03:27:51.955916Z",
     "shell.execute_reply": "2022-08-20T03:27:51.955290Z",
     "shell.execute_reply.started": "2022-08-20T03:26:26.438026Z"
    },
    "tags": []
   },
   "outputs": [
    {
     "data": {
      "application/vnd.jupyter.widget-view+json": {
       "model_id": "34c7a531add1484dacc947ae7651ae03",
       "version_major": 2,
       "version_minor": 0
      },
      "text/plain": [
       "VBox()"
      ]
     },
     "metadata": {},
     "output_type": "display_data"
    },
    {
     "data": {
      "application/vnd.jupyter.widget-view+json": {
       "model_id": "",
       "version_major": 2,
       "version_minor": 0
      },
      "text/plain": [
       "FloatProgress(value=0.0, bar_style='info', description='Progress:', layout=Layout(height='25px', width='50%'),…"
      ]
     },
     "metadata": {},
     "output_type": "display_data"
    },
    {
     "name": "stdout",
     "output_type": "stream",
     "text": [
      "+--------------------+--------+\n",
      "|                type|count(1)|\n",
      "+--------------------+--------+\n",
      "|                TVPP|       3|\n",
      "|              design|  696387|\n",
      "|             reissue|   20012|\n",
      "|defensive publica...|     509|\n",
      "|             utility| 7242132|\n",
      "|statutory inventi...|    2259|\n",
      "|               plant|   29756|\n",
      "+--------------------+--------+"
     ]
    }
   ],
   "source": [
    "spark.sql(\"\"\"\n",
    "    SELECT type, count(*) FROM patent GROUP BY type\n",
    "\"\"\").show()"
   ]
  },
  {
   "cell_type": "markdown",
   "id": "99d817fa-cbba-4291-b18f-4978465bd747",
   "metadata": {},
   "source": [
    "**Observations**:\n",
    "- There is no missing data in patent type"
   ]
  },
  {
   "cell_type": "markdown",
   "id": "48737ac1-0c15-4fc5-a067-01cdc08ea62e",
   "metadata": {},
   "source": [
    "### Analyse the field `number`"
   ]
  },
  {
   "cell_type": "code",
   "execution_count": 23,
   "id": "0d2336d3-c02c-4381-bc5a-6690e7d04510",
   "metadata": {
    "execution": {
     "iopub.execute_input": "2022-08-20T03:28:08.449636Z",
     "iopub.status.busy": "2022-08-20T03:28:08.449389Z",
     "iopub.status.idle": "2022-08-20T03:29:40.219751Z",
     "shell.execute_reply": "2022-08-20T03:29:40.219132Z",
     "shell.execute_reply.started": "2022-08-20T03:28:08.449609Z"
    },
    "tags": []
   },
   "outputs": [
    {
     "data": {
      "application/vnd.jupyter.widget-view+json": {
       "model_id": "8cae2a5270c7487b96bdf54bab8aa901",
       "version_major": 2,
       "version_minor": 0
      },
      "text/plain": [
       "VBox()"
      ]
     },
     "metadata": {},
     "output_type": "display_data"
    },
    {
     "data": {
      "application/vnd.jupyter.widget-view+json": {
       "model_id": "",
       "version_major": 2,
       "version_minor": 0
      },
      "text/plain": [
       "FloatProgress(value=0.0, bar_style='info', description='Progress:', layout=Layout(height='25px', width='50%'),…"
      ]
     },
     "metadata": {},
     "output_type": "display_data"
    },
    {
     "name": "stdout",
     "output_type": "stream",
     "text": [
      "+-------------+\n",
      "|unique_number|\n",
      "+-------------+\n",
      "|      7991058|\n",
      "+-------------+"
     ]
    }
   ],
   "source": [
    "spark.sql(\"\"\"\n",
    "    SELECT COUNT(DISTINCT number) as unique_number FROM patent\n",
    "\"\"\").show()"
   ]
  },
  {
   "cell_type": "markdown",
   "id": "62ee60ea-cb4c-4f83-a367-8d990472cdee",
   "metadata": {},
   "source": [
    "**Observations**:\n",
    "- All the patent numbers are unique, no duplicates"
   ]
  },
  {
   "cell_type": "markdown",
   "id": "ec3d229a-afea-43d5-aecd-3176959ec7eb",
   "metadata": {},
   "source": [
    "### Analyze the field `country`"
   ]
  },
  {
   "cell_type": "code",
   "execution_count": 24,
   "id": "1107ad15-78c6-4be4-bbb3-0bf439eee45a",
   "metadata": {
    "execution": {
     "iopub.execute_input": "2022-08-20T03:29:40.220961Z",
     "iopub.status.busy": "2022-08-20T03:29:40.220767Z",
     "iopub.status.idle": "2022-08-20T03:30:59.725743Z",
     "shell.execute_reply": "2022-08-20T03:30:59.724873Z",
     "shell.execute_reply.started": "2022-08-20T03:29:40.220937Z"
    },
    "tags": []
   },
   "outputs": [
    {
     "data": {
      "application/vnd.jupyter.widget-view+json": {
       "model_id": "edcfff9fdb484c7bbeb1884f578ec77d",
       "version_major": 2,
       "version_minor": 0
      },
      "text/plain": [
       "VBox()"
      ]
     },
     "metadata": {},
     "output_type": "display_data"
    },
    {
     "data": {
      "application/vnd.jupyter.widget-view+json": {
       "model_id": "",
       "version_major": 2,
       "version_minor": 0
      },
      "text/plain": [
       "FloatProgress(value=0.0, bar_style='info', description='Progress:', layout=Layout(height='25px', width='50%'),…"
      ]
     },
     "metadata": {},
     "output_type": "display_data"
    },
    {
     "name": "stdout",
     "output_type": "stream",
     "text": [
      "+-------+\n",
      "|country|\n",
      "+-------+\n",
      "|     US|\n",
      "+-------+"
     ]
    }
   ],
   "source": [
    "spark.sql(\"\"\"\n",
    "    SELECT DISTINCT(country) FROM patent\n",
    "\"\"\").show()"
   ]
  },
  {
   "cell_type": "markdown",
   "id": "0e2b63c8-e702-4f3f-b077-aff9c23cdd05",
   "metadata": {},
   "source": [
    "**Observations**:\n",
    "    - All the patents are issued in US"
   ]
  },
  {
   "cell_type": "markdown",
   "id": "35edb3ef-0425-40f2-8c9a-0df1777edfbf",
   "metadata": {},
   "source": [
    "### Analyze the field `date`"
   ]
  },
  {
   "cell_type": "code",
   "execution_count": 12,
   "id": "32c42c93-dfe3-47ee-aac7-e10b3320d316",
   "metadata": {
    "execution": {
     "iopub.execute_input": "2022-08-20T07:57:46.961030Z",
     "iopub.status.busy": "2022-08-20T07:57:46.960787Z",
     "iopub.status.idle": "2022-08-20T07:59:32.576459Z",
     "shell.execute_reply": "2022-08-20T07:59:32.575617Z",
     "shell.execute_reply.started": "2022-08-20T07:57:46.961005Z"
    },
    "tags": []
   },
   "outputs": [
    {
     "data": {
      "application/vnd.jupyter.widget-view+json": {
       "model_id": "a82400d77cda470c923f7b2648c04347",
       "version_major": 2,
       "version_minor": 0
      },
      "text/plain": [
       "VBox()"
      ]
     },
     "metadata": {},
     "output_type": "display_data"
    },
    {
     "data": {
      "application/vnd.jupyter.widget-view+json": {
       "model_id": "",
       "version_major": 2,
       "version_minor": 0
      },
      "text/plain": [
       "FloatProgress(value=0.0, bar_style='info', description='Progress:', layout=Layout(height='25px', width='50%'),…"
      ]
     },
     "metadata": {},
     "output_type": "display_data"
    },
    {
     "name": "stdout",
     "output_type": "stream",
     "text": [
      "+----+--------+\n",
      "|year|count(1)|\n",
      "+----+--------+\n",
      "|2021|  363829|\n",
      "|2020|  390572|\n",
      "|2019|  392618|\n",
      "|2018|  341104|\n",
      "|2017|  352587|\n",
      "|2016|  334674|\n",
      "|2015|  326969|\n",
      "|2014|  327014|\n",
      "|2013|  303658|\n",
      "|2012|  277285|\n",
      "|2011|  248101|\n",
      "|2010|  244599|\n",
      "|2009|  192052|\n",
      "|2008|  185260|\n",
      "|2007|  182978|\n",
      "|2006|  196489|\n",
      "|2005|  157829|\n",
      "|2004|  181413|\n",
      "|2003|  187104|\n",
      "|2002|  184494|\n",
      "+----+--------+\n",
      "only showing top 20 rows"
     ]
    }
   ],
   "source": [
    "spark.sql(\"\"\"\n",
    "    SELECT YEAR(CAST(date as date)) as year, count(*)  FROM patent GROUP BY year ORDER BY year DESC LIMIT ALL\n",
    "\"\"\").show()"
   ]
  },
  {
   "cell_type": "markdown",
   "id": "134f18f2-997d-4dcf-8924-db127a362ad7",
   "metadata": {},
   "source": [
    "### Analyse field abstract"
   ]
  },
  {
   "cell_type": "code",
   "execution_count": 13,
   "id": "0d4b7db4-471e-4aa5-b079-bc2b0af485c3",
   "metadata": {
    "execution": {
     "iopub.execute_input": "2022-08-20T08:01:16.990882Z",
     "iopub.status.busy": "2022-08-20T08:01:16.990623Z",
     "iopub.status.idle": "2022-08-20T08:03:32.649505Z",
     "shell.execute_reply": "2022-08-20T08:03:32.648795Z",
     "shell.execute_reply.started": "2022-08-20T08:01:16.990833Z"
    }
   },
   "outputs": [
    {
     "data": {
      "application/vnd.jupyter.widget-view+json": {
       "model_id": "9b47c1da81cc45e393a212bbccab7e4d",
       "version_major": 2,
       "version_minor": 0
      },
      "text/plain": [
       "VBox()"
      ]
     },
     "metadata": {},
     "output_type": "display_data"
    },
    {
     "data": {
      "application/vnd.jupyter.widget-view+json": {
       "model_id": "",
       "version_major": 2,
       "version_minor": 0
      },
      "text/plain": [
       "FloatProgress(value=0.0, bar_style='info', description='Progress:', layout=Layout(height='25px', width='50%'),…"
      ]
     },
     "metadata": {},
     "output_type": "display_data"
    },
    {
     "name": "stdout",
     "output_type": "stream",
     "text": [
      "+-------+------+-------+-------+-------------------+--------+--------------------+----+----------+-------------+---------+\n",
      "|     id|  type| number|country|               date|abstract|               title|kind|num_claims|     filename|withdrawn|\n",
      "+-------+------+-------+-------+-------------------+--------+--------------------+----+----------+-------------+---------+\n",
      "|D768887|design|D768887|     US|2016-10-11 00:00:00|    null|          LED module|  S1|         1|ipg161011.xml|        0|\n",
      "|D538744|design|D538744|     US|2007-03-20 00:00:00|    null|Electrical connector|  S1|         1|ipg070320.xml|        0|\n",
      "|D697662|design|D697662|     US|2014-01-14 00:00:00|    null|       Cigar pendant|  S1|         1|ipg140114.xml|        0|\n",
      "|D680819|design|D680819|     US|2013-04-30 00:00:00|    null|Cutter for making...|  S1|         1|ipg130430.xml|        0|\n",
      "|D859388|design|D859388|     US|2019-09-10 00:00:00|    null|Case for mobile p...|  S1|         1|ipg190910.xml|        0|\n",
      "|D547004|design|D547004|     US|2007-07-17 00:00:00|    null|Hair treatment ap...|  S1|         1|ipg070717.xml|        0|\n",
      "|D936252|design|D936252|     US|2021-11-16 00:00:00|    null|Auxiliary electro...|  S1|         1|ipg211116.xml|        0|\n",
      "|D617951|design|D617951|     US|2010-06-15 00:00:00|    null|Blade set for a s...|  S1|         1|ipg100615.xml|        0|\n",
      "|D929025|design|D929025|     US|2021-08-24 00:00:00|    null|LED ring light wi...|  S1|         1|ipg210824.xml|        0|\n",
      "|D770829|design|D770829|     US|2016-11-08 00:00:00|    null|Head rail for pat...|  S1|         1|ipg161108.xml|        0|\n",
      "|D831971|design|D831971|     US|2018-10-30 00:00:00|    null|Hair color tint b...|  S1|         1|ipg181030.xml|        0|\n",
      "|D883935|design|D883935|     US|2020-05-12 00:00:00|    null|Charging connecto...|  S1|         1|ipg200512.xml|        0|\n",
      "|D909480|design|D909480|     US|2021-02-02 00:00:00|    null|Electronic compan...|  S1|         1|ipg210202.xml|        0|\n",
      "|D707804|design|D707804|     US|2014-06-24 00:00:00|    null|Handheld, inline ...|  S1|         1|ipg140624.xml|        0|\n",
      "|D742056|design|D742056|     US|2015-10-27 00:00:00|    null|Low profile light...|  S1|         1|ipg151027.xml|        0|\n",
      "|D851246|design|D851246|     US|2019-06-11 00:00:00|    null|   Multi-part collar|  S1|         1|ipg190611.xml|        0|\n",
      "|D648875|design|D648875|     US|2011-11-15 00:00:00|    null|            LED lamp|  S1|         1|ipg111115.xml|        0|\n",
      "|D817617|design|D817617|     US|2018-05-15 00:00:00|    null|           Shoe sole|  S1|         1|ipg180515.xml|        0|\n",
      "|D629861|design|D629861|     US|2010-12-28 00:00:00|    null|               Slide|  S1|         1|ipg101228.xml|        0|\n",
      "|D836861|design|D836861|     US|2018-12-25 00:00:00|    null|              Blower|  S1|         1|ipg181225.xml|        0|\n",
      "+-------+------+-------+-------+-------------------+--------+--------------------+----+----------+-------------+---------+\n",
      "only showing top 20 rows"
     ]
    }
   ],
   "source": [
    "spark.sql(\"\"\"\n",
    "    SELECT *  FROM patent WHERE abstract IS NULL OR abstract=''\n",
    "\"\"\").show()"
   ]
  },
  {
   "cell_type": "code",
   "execution_count": 15,
   "id": "4ea127ea-2c88-405c-a5d7-5ac912d69c34",
   "metadata": {
    "execution": {
     "iopub.execute_input": "2022-08-20T08:06:12.669655Z",
     "iopub.status.busy": "2022-08-20T08:06:12.669250Z",
     "iopub.status.idle": "2022-08-20T08:07:36.184006Z",
     "shell.execute_reply": "2022-08-20T08:07:36.183181Z",
     "shell.execute_reply.started": "2022-08-20T08:06:12.669618Z"
    }
   },
   "outputs": [
    {
     "data": {
      "application/vnd.jupyter.widget-view+json": {
       "model_id": "262d0ed734fa4de29be5af458a638ccb",
       "version_major": 2,
       "version_minor": 0
      },
      "text/plain": [
       "VBox()"
      ]
     },
     "metadata": {},
     "output_type": "display_data"
    },
    {
     "data": {
      "application/vnd.jupyter.widget-view+json": {
       "model_id": "",
       "version_major": 2,
       "version_minor": 0
      },
      "text/plain": [
       "FloatProgress(value=0.0, bar_style='info', description='Progress:', layout=Layout(height='25px', width='50%'),…"
      ]
     },
     "metadata": {},
     "output_type": "display_data"
    },
    {
     "name": "stdout",
     "output_type": "stream",
     "text": [
      "+----+--------+\n",
      "|kind|count(1)|\n",
      "+----+--------+\n",
      "|  E1|     305|\n",
      "|  S1|  439083|\n",
      "|  B2|       4|\n",
      "|  B1|       6|\n",
      "|  H1|       6|\n",
      "|   A|       3|\n",
      "+----+--------+"
     ]
    }
   ],
   "source": [
    "spark.sql(\"\"\"\n",
    "    SELECT kind, count(*)  FROM patent WHERE abstract IS NULL OR abstract='' GROUP BY kind\n",
    "\"\"\").show()"
   ]
  },
  {
   "cell_type": "markdown",
   "id": "3c6bb0c0-61e4-4ed1-94f2-902d596a6f2d",
   "metadata": {},
   "source": [
    "**Observations**:\n",
    "- There are several patents with null abstracts, mostly for S1 patent (Design Patent)"
   ]
  },
  {
   "cell_type": "markdown",
   "id": "9c45140e-6422-4059-b6ca-c340fa93c170",
   "metadata": {},
   "source": [
    "### Analyse field title"
   ]
  },
  {
   "cell_type": "code",
   "execution_count": 14,
   "id": "42d4602d-3531-4c32-a522-bbf0ba42bbc0",
   "metadata": {
    "execution": {
     "iopub.execute_input": "2022-08-20T08:04:03.041466Z",
     "iopub.status.busy": "2022-08-20T08:04:03.041233Z",
     "iopub.status.idle": "2022-08-20T08:06:12.667990Z",
     "shell.execute_reply": "2022-08-20T08:06:12.667263Z",
     "shell.execute_reply.started": "2022-08-20T08:04:03.041443Z"
    }
   },
   "outputs": [
    {
     "data": {
      "application/vnd.jupyter.widget-view+json": {
       "model_id": "2e516b7fd5424033ab08a742dca8d7d7",
       "version_major": 2,
       "version_minor": 0
      },
      "text/plain": [
       "VBox()"
      ]
     },
     "metadata": {},
     "output_type": "display_data"
    },
    {
     "data": {
      "application/vnd.jupyter.widget-view+json": {
       "model_id": "",
       "version_major": 2,
       "version_minor": 0
      },
      "text/plain": [
       "FloatProgress(value=0.0, bar_style='info', description='Progress:', layout=Layout(height='25px', width='50%'),…"
      ]
     },
     "metadata": {},
     "output_type": "display_data"
    },
    {
     "name": "stdout",
     "output_type": "stream",
     "text": [
      "+---+----+------+-------+----+--------+-----+----+----------+--------+---------+\n",
      "| id|type|number|country|date|abstract|title|kind|num_claims|filename|withdrawn|\n",
      "+---+----+------+-------+----+--------+-----+----+----------+--------+---------+\n",
      "+---+----+------+-------+----+--------+-----+----+----------+--------+---------+"
     ]
    }
   ],
   "source": [
    "spark.sql(\"\"\"\n",
    "    SELECT *  FROM patent WHERE title IS NULL OR title=''\n",
    "\"\"\").show()"
   ]
  },
  {
   "cell_type": "markdown",
   "id": "9a521507-0ebe-4711-93c3-2e2158011561",
   "metadata": {},
   "source": [
    "**Observations**:\n",
    "- All the patents have a title"
   ]
  },
  {
   "cell_type": "markdown",
   "id": "51890a6a-8f90-4c43-bc91-69c6064dad9e",
   "metadata": {},
   "source": [
    "### Analyse field kind"
   ]
  },
  {
   "cell_type": "code",
   "execution_count": 17,
   "id": "02b9bc21-82ce-42e8-8d9e-5d1bef8b9ff9",
   "metadata": {
    "execution": {
     "iopub.execute_input": "2022-08-20T08:09:26.251305Z",
     "iopub.status.busy": "2022-08-20T08:09:26.251030Z",
     "iopub.status.idle": "2022-08-20T08:10:41.727243Z",
     "shell.execute_reply": "2022-08-20T08:10:41.726509Z",
     "shell.execute_reply.started": "2022-08-20T08:09:26.251278Z"
    },
    "tags": []
   },
   "outputs": [
    {
     "data": {
      "application/vnd.jupyter.widget-view+json": {
       "model_id": "a768fe4c457d4d28a561f84d6001a8f5",
       "version_major": 2,
       "version_minor": 0
      },
      "text/plain": [
       "VBox()"
      ]
     },
     "metadata": {},
     "output_type": "display_data"
    },
    {
     "data": {
      "application/vnd.jupyter.widget-view+json": {
       "model_id": "",
       "version_major": 2,
       "version_minor": 0
      },
      "text/plain": [
       "FloatProgress(value=0.0, bar_style='info', description='Progress:', layout=Layout(height='25px', width='50%'),…"
      ]
     },
     "metadata": {},
     "output_type": "display_data"
    },
    {
     "name": "stdout",
     "output_type": "stream",
     "text": [
      "+----+--------+\n",
      "|kind|count(1)|\n",
      "+----+--------+\n",
      "|  E1|   11320|\n",
      "|  S1|  486805|\n",
      "|  I5|       3|\n",
      "|  B2| 4162294|\n",
      "|   S|  209582|\n",
      "|  I4|     509|\n",
      "|  B1|  688460|\n",
      "|   P|    8282|\n",
      "|   H|    1982|\n",
      "|  H2|       3|\n",
      "|  H1|     273|\n",
      "|  P2|   14787|\n",
      "|   E|    8692|\n",
      "|  P3|    6687|\n",
      "|   A| 2391379|\n",
      "+----+--------+"
     ]
    }
   ],
   "source": [
    "spark.sql(\"\"\"\n",
    "    SELECT kind, count(*)  FROM patent GROUP BY kind\n",
    "\"\"\").show()"
   ]
  },
  {
   "cell_type": "code",
   "execution_count": null,
   "id": "36df353e-02ee-4d3b-9cb2-d3b75b0633e3",
   "metadata": {},
   "outputs": [],
   "source": []
  },
  {
   "cell_type": "markdown",
   "id": "67e18c76-c030-42a0-bae1-69a56c2fed4a",
   "metadata": {},
   "source": [
    "### Analyse field num_claims"
   ]
  },
  {
   "cell_type": "code",
   "execution_count": 18,
   "id": "2671e834-bb61-4f44-9e80-11588735db9c",
   "metadata": {
    "execution": {
     "iopub.execute_input": "2022-08-20T08:10:41.728467Z",
     "iopub.status.busy": "2022-08-20T08:10:41.728300Z",
     "iopub.status.idle": "2022-08-20T08:11:57.227933Z",
     "shell.execute_reply": "2022-08-20T08:11:57.227324Z",
     "shell.execute_reply.started": "2022-08-20T08:10:41.728446Z"
    }
   },
   "outputs": [
    {
     "data": {
      "application/vnd.jupyter.widget-view+json": {
       "model_id": "998cd3f09866402fa873dcdb7c631f9c",
       "version_major": 2,
       "version_minor": 0
      },
      "text/plain": [
       "VBox()"
      ]
     },
     "metadata": {},
     "output_type": "display_data"
    },
    {
     "data": {
      "application/vnd.jupyter.widget-view+json": {
       "model_id": "",
       "version_major": 2,
       "version_minor": 0
      },
      "text/plain": [
       "FloatProgress(value=0.0, bar_style='info', description='Progress:', layout=Layout(height='25px', width='50%'),…"
      ]
     },
     "metadata": {},
     "output_type": "display_data"
    },
    {
     "name": "stdout",
     "output_type": "stream",
     "text": [
      "+---------------+---------------+\n",
      "|min(num_claims)|max(num_claims)|\n",
      "+---------------+---------------+\n",
      "|              1|            887|\n",
      "+---------------+---------------+"
     ]
    }
   ],
   "source": [
    "spark.sql(\"\"\"\n",
    "    SELECT min(num_claims), max(num_claims)  FROM patent \n",
    "\"\"\").show()"
   ]
  },
  {
   "cell_type": "code",
   "execution_count": null,
   "id": "59066eed-3fb1-4e60-8032-22ea5b6a0412",
   "metadata": {},
   "outputs": [],
   "source": []
  },
  {
   "cell_type": "markdown",
   "id": "d8699004-9cc6-45b1-b1a8-4babfb812e01",
   "metadata": {},
   "source": [
    "### Analyse field filename"
   ]
  },
  {
   "cell_type": "code",
   "execution_count": 19,
   "id": "09b6ae95-0359-45fb-acd2-3e4f8bd0c103",
   "metadata": {
    "execution": {
     "iopub.execute_input": "2022-08-20T08:11:57.229613Z",
     "iopub.status.busy": "2022-08-20T08:11:57.229401Z",
     "iopub.status.idle": "2022-08-20T08:14:04.858364Z",
     "shell.execute_reply": "2022-08-20T08:14:04.857507Z",
     "shell.execute_reply.started": "2022-08-20T08:11:57.229589Z"
    }
   },
   "outputs": [
    {
     "data": {
      "application/vnd.jupyter.widget-view+json": {
       "model_id": "5ac59f57b14c4cbd975aa21b55fdfe26",
       "version_major": 2,
       "version_minor": 0
      },
      "text/plain": [
       "VBox()"
      ]
     },
     "metadata": {},
     "output_type": "display_data"
    },
    {
     "data": {
      "application/vnd.jupyter.widget-view+json": {
       "model_id": "",
       "version_major": 2,
       "version_minor": 0
      },
      "text/plain": [
       "FloatProgress(value=0.0, bar_style='info', description='Progress:', layout=Layout(height='25px', width='50%'),…"
      ]
     },
     "metadata": {},
     "output_type": "display_data"
    },
    {
     "name": "stdout",
     "output_type": "stream",
     "text": [
      "+---+----+------+-------+----+--------+-----+----+----------+--------+---------+\n",
      "| id|type|number|country|date|abstract|title|kind|num_claims|filename|withdrawn|\n",
      "+---+----+------+-------+----+--------+-----+----+----------+--------+---------+\n",
      "+---+----+------+-------+----+--------+-----+----+----------+--------+---------+"
     ]
    }
   ],
   "source": [
    "spark.sql(\"\"\"\n",
    "    SELECT *  FROM patent WHERE filename IS NULL or filename=''\n",
    "\"\"\").show()"
   ]
  },
  {
   "cell_type": "markdown",
   "id": "c55c7e53-1592-4874-beea-63aaac29a50e",
   "metadata": {},
   "source": [
    "**Observations**:\n",
    "- All patents have filename"
   ]
  },
  {
   "cell_type": "markdown",
   "id": "1b2df80c-e1de-4b25-a07e-3e44fe3586c0",
   "metadata": {},
   "source": [
    "### Analyse field withdrawn"
   ]
  },
  {
   "cell_type": "code",
   "execution_count": 21,
   "id": "701f463b-9fd3-41bd-aa07-62b60fc2afdb",
   "metadata": {
    "execution": {
     "iopub.execute_input": "2022-08-20T08:15:20.343928Z",
     "iopub.status.busy": "2022-08-20T08:15:20.343751Z",
     "iopub.status.idle": "2022-08-20T08:16:31.801517Z",
     "shell.execute_reply": "2022-08-20T08:16:31.800905Z",
     "shell.execute_reply.started": "2022-08-20T08:15:20.343905Z"
    }
   },
   "outputs": [
    {
     "data": {
      "application/vnd.jupyter.widget-view+json": {
       "model_id": "774edd4379ff44a99928d26ac77a57f0",
       "version_major": 2,
       "version_minor": 0
      },
      "text/plain": [
       "VBox()"
      ]
     },
     "metadata": {},
     "output_type": "display_data"
    },
    {
     "data": {
      "application/vnd.jupyter.widget-view+json": {
       "model_id": "",
       "version_major": 2,
       "version_minor": 0
      },
      "text/plain": [
       "FloatProgress(value=0.0, bar_style='info', description='Progress:', layout=Layout(height='25px', width='50%'),…"
      ]
     },
     "metadata": {},
     "output_type": "display_data"
    },
    {
     "name": "stdout",
     "output_type": "stream",
     "text": [
      "+---------+--------+\n",
      "|withdrawn|count(1)|\n",
      "+---------+--------+\n",
      "|        1|   13600|\n",
      "|        0| 7977458|\n",
      "+---------+--------+"
     ]
    }
   ],
   "source": [
    "spark.sql(\"\"\"\n",
    "    SELECT withdrawn, count(*)  FROM patent GROUP BY withdrawn\n",
    "\"\"\").show()"
   ]
  },
  {
   "cell_type": "markdown",
   "id": "7e7c08f9-d4ea-4fd1-9fcf-cb25b211647a",
   "metadata": {},
   "source": [
    "**Observations**:\n",
    "- 0.17% of the patents are withdrawn"
   ]
  },
  {
   "cell_type": "markdown",
   "id": "6b7bec63-ce15-4bb0-ab34-90d533495210",
   "metadata": {},
   "source": [
    "## Exploratory Analysis on Patent Assignee"
   ]
  },
  {
   "cell_type": "code",
   "execution_count": 22,
   "id": "13bff75e-75ae-470f-baaf-15197f726df7",
   "metadata": {
    "execution": {
     "iopub.execute_input": "2022-08-20T08:21:41.379017Z",
     "iopub.status.busy": "2022-08-20T08:21:41.378747Z",
     "iopub.status.idle": "2022-08-20T08:21:41.430692Z",
     "shell.execute_reply": "2022-08-20T08:21:41.430154Z",
     "shell.execute_reply.started": "2022-08-20T08:21:41.378990Z"
    }
   },
   "outputs": [
    {
     "data": {
      "application/vnd.jupyter.widget-view+json": {
       "model_id": "e316b309d0a5472a9ae619873610bf13",
       "version_major": 2,
       "version_minor": 0
      },
      "text/plain": [
       "VBox()"
      ]
     },
     "metadata": {},
     "output_type": "display_data"
    },
    {
     "data": {
      "application/vnd.jupyter.widget-view+json": {
       "model_id": "",
       "version_major": 2,
       "version_minor": 0
      },
      "text/plain": [
       "FloatProgress(value=0.0, bar_style='info', description='Progress:', layout=Layout(height='25px', width='50%'),…"
      ]
     },
     "metadata": {},
     "output_type": "display_data"
    }
   ],
   "source": [
    "patent_assignee_path = \"s3://patents-analytics/raw/patent_assignee.tsv\""
   ]
  },
  {
   "cell_type": "code",
   "execution_count": 23,
   "id": "0ebd94ef-31a8-4308-a5cb-ca428932dda2",
   "metadata": {
    "execution": {
     "iopub.execute_input": "2022-08-20T08:22:08.141544Z",
     "iopub.status.busy": "2022-08-20T08:22:08.141314Z",
     "iopub.status.idle": "2022-08-20T08:22:27.478917Z",
     "shell.execute_reply": "2022-08-20T08:22:27.478262Z",
     "shell.execute_reply.started": "2022-08-20T08:22:08.141521Z"
    }
   },
   "outputs": [
    {
     "data": {
      "application/vnd.jupyter.widget-view+json": {
       "model_id": "79ba340747e24df595fe15e6a3b6a7b1",
       "version_major": 2,
       "version_minor": 0
      },
      "text/plain": [
       "VBox()"
      ]
     },
     "metadata": {},
     "output_type": "display_data"
    },
    {
     "data": {
      "application/vnd.jupyter.widget-view+json": {
       "model_id": "",
       "version_major": 2,
       "version_minor": 0
      },
      "text/plain": [
       "FloatProgress(value=0.0, bar_style='info', description='Progress:', layout=Layout(height='25px', width='50%'),…"
      ]
     },
     "metadata": {},
     "output_type": "display_data"
    }
   ],
   "source": [
    "patent_assignee = spark.read.options(header='True', delimiter='\\t', inferSchema='True', escape=\"\\\"\", multiline='True').csv(patent_assignee_path).repartition(10)"
   ]
  },
  {
   "cell_type": "code",
   "execution_count": 24,
   "id": "449a230f-ae59-4f0f-8215-0c3417902730",
   "metadata": {
    "execution": {
     "iopub.execute_input": "2022-08-20T08:22:28.600246Z",
     "iopub.status.busy": "2022-08-20T08:22:28.600020Z",
     "iopub.status.idle": "2022-08-20T08:22:53.938166Z",
     "shell.execute_reply": "2022-08-20T08:22:53.937548Z",
     "shell.execute_reply.started": "2022-08-20T08:22:28.600222Z"
    }
   },
   "outputs": [
    {
     "data": {
      "application/vnd.jupyter.widget-view+json": {
       "model_id": "49e10fe3155446f28750431cc4b03dc4",
       "version_major": 2,
       "version_minor": 0
      },
      "text/plain": [
       "VBox()"
      ]
     },
     "metadata": {},
     "output_type": "display_data"
    },
    {
     "data": {
      "application/vnd.jupyter.widget-view+json": {
       "model_id": "",
       "version_major": 2,
       "version_minor": 0
      },
      "text/plain": [
       "FloatProgress(value=0.0, bar_style='info', description='Progress:', layout=Layout(height='25px', width='50%'),…"
      ]
     },
     "metadata": {},
     "output_type": "display_data"
    },
    {
     "name": "stdout",
     "output_type": "stream",
     "text": [
      "[Row(patent_id='9098154', assignee_id='bec1d9ba-7ad6-48cc-9191-3c644c0d9a56', location_id='ed8be594-09bd-11ec-893a-12de62d610b1'), Row(patent_id='6241143', assignee_id='6f8a613b-f7a6-4991-ba1a-f57e00ccc607', location_id='ff405b60-cb8e-11eb-9615-121df0c29c1e'), Row(patent_id='8423973', assignee_id='2a04f703-2243-4deb-a0fa-8ecec900f529', location_id='3fac045d-cb8e-11eb-9615-121df0c29c1e'), Row(patent_id='9731019', assignee_id='8cf738cf-7134-427e-a550-1c217cebeceb', location_id='f1b6c93e-cb8e-11eb-9615-121df0c29c1e'), Row(patent_id='5927243', assignee_id='f4b333a6-bc14-460e-b4ca-6d9454cf1db2', location_id='fef7fa78-cb90-11eb-9615-121df0c29c1e')]"
     ]
    }
   ],
   "source": [
    "patent_assignee.take(5)"
   ]
  },
  {
   "cell_type": "code",
   "execution_count": 25,
   "id": "8d557a64-e6ae-47d9-8cc4-726a7c4d7fee",
   "metadata": {
    "execution": {
     "iopub.execute_input": "2022-08-20T08:22:53.939398Z",
     "iopub.status.busy": "2022-08-20T08:22:53.939220Z",
     "iopub.status.idle": "2022-08-20T08:22:54.008389Z",
     "shell.execute_reply": "2022-08-20T08:22:54.007665Z",
     "shell.execute_reply.started": "2022-08-20T08:22:53.939375Z"
    }
   },
   "outputs": [
    {
     "data": {
      "application/vnd.jupyter.widget-view+json": {
       "model_id": "d6517d21a700490c998453cf1fb4c6f2",
       "version_major": 2,
       "version_minor": 0
      },
      "text/plain": [
       "VBox()"
      ]
     },
     "metadata": {},
     "output_type": "display_data"
    },
    {
     "data": {
      "application/vnd.jupyter.widget-view+json": {
       "model_id": "",
       "version_major": 2,
       "version_minor": 0
      },
      "text/plain": [
       "FloatProgress(value=0.0, bar_style='info', description='Progress:', layout=Layout(height='25px', width='50%'),…"
      ]
     },
     "metadata": {},
     "output_type": "display_data"
    },
    {
     "name": "stdout",
     "output_type": "stream",
     "text": [
      "root\n",
      " |-- patent_id: string (nullable = true)\n",
      " |-- assignee_id: string (nullable = true)\n",
      " |-- location_id: string (nullable = true)"
     ]
    }
   ],
   "source": [
    "patent_assignee.printSchema()"
   ]
  },
  {
   "cell_type": "code",
   "execution_count": 26,
   "id": "5cb49430-5b23-4e2c-85c8-ac8199e677c9",
   "metadata": {
    "execution": {
     "iopub.execute_input": "2022-08-20T08:23:09.558250Z",
     "iopub.status.busy": "2022-08-20T08:23:09.558005Z",
     "iopub.status.idle": "2022-08-20T08:23:20.878311Z",
     "shell.execute_reply": "2022-08-20T08:23:20.877627Z",
     "shell.execute_reply.started": "2022-08-20T08:23:09.558223Z"
    }
   },
   "outputs": [
    {
     "data": {
      "application/vnd.jupyter.widget-view+json": {
       "model_id": "0ae1a58676884ce4878a924dcd81d48f",
       "version_major": 2,
       "version_minor": 0
      },
      "text/plain": [
       "VBox()"
      ]
     },
     "metadata": {},
     "output_type": "display_data"
    },
    {
     "data": {
      "application/vnd.jupyter.widget-view+json": {
       "model_id": "",
       "version_major": 2,
       "version_minor": 0
      },
      "text/plain": [
       "FloatProgress(value=0.0, bar_style='info', description='Progress:', layout=Layout(height='25px', width='50%'),…"
      ]
     },
     "metadata": {},
     "output_type": "display_data"
    },
    {
     "name": "stdout",
     "output_type": "stream",
     "text": [
      "7334687"
     ]
    }
   ],
   "source": [
    "patent_assignee.count()"
   ]
  },
  {
   "cell_type": "code",
   "execution_count": 27,
   "id": "f32dace4-b199-435c-bb04-540972dfac83",
   "metadata": {
    "execution": {
     "iopub.execute_input": "2022-08-20T08:24:10.754202Z",
     "iopub.status.busy": "2022-08-20T08:24:10.753965Z",
     "iopub.status.idle": "2022-08-20T08:24:10.823090Z",
     "shell.execute_reply": "2022-08-20T08:24:10.822434Z",
     "shell.execute_reply.started": "2022-08-20T08:24:10.754179Z"
    }
   },
   "outputs": [
    {
     "data": {
      "application/vnd.jupyter.widget-view+json": {
       "model_id": "d053d86e92ea49608355c36dcd6b2f81",
       "version_major": 2,
       "version_minor": 0
      },
      "text/plain": [
       "VBox()"
      ]
     },
     "metadata": {},
     "output_type": "display_data"
    },
    {
     "data": {
      "application/vnd.jupyter.widget-view+json": {
       "model_id": "",
       "version_major": 2,
       "version_minor": 0
      },
      "text/plain": [
       "FloatProgress(value=0.0, bar_style='info', description='Progress:', layout=Layout(height='25px', width='50%'),…"
      ]
     },
     "metadata": {},
     "output_type": "display_data"
    }
   ],
   "source": [
    "patent_assignee.createOrReplaceTempView('patent_assignee')"
   ]
  },
  {
   "cell_type": "markdown",
   "id": "4753442c-99aa-4eb1-94e9-a6df585ff792",
   "metadata": {},
   "source": [
    "## Analyse field patent_id"
   ]
  },
  {
   "cell_type": "code",
   "execution_count": 31,
   "id": "27ae26ec-8536-4ca0-bb13-dd32514d0f3f",
   "metadata": {
    "execution": {
     "iopub.execute_input": "2022-08-20T08:25:34.701134Z",
     "iopub.status.busy": "2022-08-20T08:25:34.700837Z",
     "iopub.status.idle": "2022-08-20T08:26:10.085555Z",
     "shell.execute_reply": "2022-08-20T08:26:10.084604Z",
     "shell.execute_reply.started": "2022-08-20T08:25:34.701099Z"
    },
    "tags": []
   },
   "outputs": [
    {
     "data": {
      "application/vnd.jupyter.widget-view+json": {
       "model_id": "480d9e755201409eb60a32b7319b646d",
       "version_major": 2,
       "version_minor": 0
      },
      "text/plain": [
       "VBox()"
      ]
     },
     "metadata": {},
     "output_type": "display_data"
    },
    {
     "data": {
      "application/vnd.jupyter.widget-view+json": {
       "model_id": "",
       "version_major": 2,
       "version_minor": 0
      },
      "text/plain": [
       "FloatProgress(value=0.0, bar_style='info', description='Progress:', layout=Layout(height='25px', width='50%'),…"
      ]
     },
     "metadata": {},
     "output_type": "display_data"
    },
    {
     "name": "stdout",
     "output_type": "stream",
     "text": [
      "+---------------+\n",
      "|count_patent_id|\n",
      "+---------------+\n",
      "|        7084751|\n",
      "+---------------+"
     ]
    }
   ],
   "source": [
    "spark.sql(\"\"\"\n",
    "    SELECT COUNT(DISTINCT(patent_id)) as count_patent_id FROM patent_assignee\n",
    "\"\"\").show()"
   ]
  },
  {
   "cell_type": "markdown",
   "id": "d3d440eb-2eb8-415a-86dc-91f7ba2084bc",
   "metadata": {},
   "source": [
    "**Observations**:\n",
    "- The number of unique patent id is only 7084751, which means there are 906,307 patents with no assignee"
   ]
  },
  {
   "cell_type": "code",
   "execution_count": 34,
   "id": "546ca29e-8949-499c-840e-0b791c00bb99",
   "metadata": {
    "execution": {
     "iopub.execute_input": "2022-08-20T08:41:40.726497Z",
     "iopub.status.busy": "2022-08-20T08:41:40.726254Z",
     "iopub.status.idle": "2022-08-20T08:45:42.669289Z",
     "shell.execute_reply": "2022-08-20T08:45:42.668511Z",
     "shell.execute_reply.started": "2022-08-20T08:41:40.726473Z"
    },
    "tags": []
   },
   "outputs": [
    {
     "data": {
      "application/vnd.jupyter.widget-view+json": {
       "model_id": "88b7b0824f234d0c94120fed0e3e992d",
       "version_major": 2,
       "version_minor": 0
      },
      "text/plain": [
       "VBox()"
      ]
     },
     "metadata": {},
     "output_type": "display_data"
    },
    {
     "data": {
      "application/vnd.jupyter.widget-view+json": {
       "model_id": "",
       "version_major": 2,
       "version_minor": 0
      },
      "text/plain": [
       "FloatProgress(value=0.0, bar_style='info', description='Progress:', layout=Layout(height='25px', width='50%'),…"
      ]
     },
     "metadata": {},
     "output_type": "display_data"
    },
    {
     "name": "stdout",
     "output_type": "stream",
     "text": [
      "+--------+-------+--------+-------+-------------------+--------------------+--------------------+----+----------+-------------+---------+---------+-----------+-----------+\n",
      "|      id|   type|  number|country|               date|            abstract|               title|kind|num_claims|     filename|withdrawn|patent_id|assignee_id|location_id|\n",
      "+--------+-------+--------+-------+-------------------+--------------------+--------------------+----+----------+-------------+---------+---------+-----------+-----------+\n",
      "|10000304|utility|10000304|     US|2018-06-19 00:00:00|The present discl...|Method for saniti...|  B2|        14|ipg180619.xml|        0|     null|       null|       null|\n",
      "|10002552|utility|10002552|     US|2018-06-19 00:00:00|A light panel dis...|Light panel displ...|  B1|        17|ipg180619.xml|        0|     null|       null|       null|\n",
      "|10002595|utility|10002595|     US|2018-06-19 00:00:00|A wind instrument...|Rhino resonator a...|  B2|        16|ipg180619.xml|        0|     null|       null|       null|\n",
      "|10004944|utility|10004944|     US|2018-06-26 00:00:00|A mandatory hooki...|Hooking and locki...|  B2|         2|ipg180626.xml|        0|     null|       null|       null|\n",
      "|10006385|utility|10006385|     US|2018-06-26 00:00:00|A positive crankc...|Positive crankcas...|  B1|        17|ipg180626.xml|        0|     null|       null|       null|\n",
      "|10010167|utility|10010167|     US|2018-07-03 00:00:00|A brush cleaning ...|Motorized cleanin...|  B2|        19|ipg180703.xml|        0|     null|       null|       null|\n",
      "|10011236|utility|10011236|     US|2018-07-03 00:00:00|In some embodimen...|Tire tread collec...|  B2|        19|ipg180703.xml|        0|     null|       null|       null|\n",
      "|10011473|utility|10011473|     US|2018-07-03 00:00:00|A milk jug includ...| Milk jug and method|  B2|        18|ipg180703.xml|        0|     null|       null|       null|\n",
      "|10011993|utility|10011993|     US|2018-07-03 00:00:00|A roofing tool ha...|Roofing tool for ...|  B2|        18|ipg180703.xml|        0|     null|       null|       null|\n",
      "|10016904|utility|10016904|     US|2018-07-10 00:00:00|Guide blades for ...|Guide blades for ...|  B2|        20|ipg180710.xml|        0|     null|       null|       null|\n",
      "|10019973|utility|10019973|     US|2018-07-10 00:00:00|An airflow indica...|Airflow indicator...|  B2|        22|ipg180710.xml|        0|     null|       null|       null|\n",
      "|10021087|utility|10021087|     US|2018-07-10 00:00:00|A system and meth...|Method and system...|  B2|        23|ipg180710.xml|        0|     null|       null|       null|\n",
      "|10022069|utility|10022069|     US|2018-07-17 00:00:00|An apparatus (20)...|Apparatus and met...|  B2|        18|ipg180717.xml|        0|     null|       null|       null|\n",
      "|10024586|utility|10024586|     US|2018-07-17 00:00:00|A system for pre-...|Evaporative cooli...|  B2|        10|ipg180717.xml|        0|     null|       null|       null|\n",
      "|10034155|utility|10034155|     US|2018-07-24 00:00:00|A method includes...|Decentralized sys...|  B2|        14|ipg180724.xml|        0|     null|       null|       null|\n",
      "|10034467|utility|10034467|     US|2018-07-31 00:00:00|According to an a...|   Ice fishing stand|  B2|        13|ipg180731.xml|        0|     null|       null|       null|\n",
      "|10040547|utility|10040547|     US|2018-08-07 00:00:00|An unmanned aeria...|Unmanned aerial v...|  B1|        20|ipg180807.xml|        0|     null|       null|       null|\n",
      "|10040612|utility|10040612|     US|2018-08-07 00:00:00|A separator syste...|Separator system ...|  B2|         5|ipg180807.xml|        0|     null|       null|       null|\n",
      "|10041262|utility|10041262|     US|2018-08-07 00:00:00|A lap siding prod...|Lap siding produc...|  B2|        12|ipg180807.xml|        0|     null|       null|       null|\n",
      "|10041797|utility|10041797|     US|2018-08-07 00:00:00|This invention de...|Fiber optic gyros...|  B2|         4|ipg180807.xml|        0|     null|       null|       null|\n",
      "+--------+-------+--------+-------+-------------------+--------------------+--------------------+----+----------+-------------+---------+---------+-----------+-----------+\n",
      "only showing top 20 rows"
     ]
    }
   ],
   "source": [
    "spark.sql(\"\"\"\n",
    "    SELECT * FROM patent LEFT JOIN patent_assignee ON patent.id = patent_assignee.patent_id WHERE patent_assignee.patent_id is NULL\n",
    "\"\"\").show()"
   ]
  },
  {
   "cell_type": "code",
   "execution_count": 35,
   "id": "be7db877-d831-4dbe-be25-9a67c97b3587",
   "metadata": {
    "execution": {
     "iopub.execute_input": "2022-08-20T08:57:28.243079Z",
     "iopub.status.busy": "2022-08-20T08:57:28.242825Z",
     "iopub.status.idle": "2022-08-20T09:02:00.244721Z",
     "shell.execute_reply": "2022-08-20T09:02:00.243971Z",
     "shell.execute_reply.started": "2022-08-20T08:57:28.243054Z"
    }
   },
   "outputs": [
    {
     "data": {
      "application/vnd.jupyter.widget-view+json": {
       "model_id": "f3fcf264b6734dcc8b329e5518d75c04",
       "version_major": 2,
       "version_minor": 0
      },
      "text/plain": [
       "VBox()"
      ]
     },
     "metadata": {},
     "output_type": "display_data"
    },
    {
     "data": {
      "application/vnd.jupyter.widget-view+json": {
       "model_id": "",
       "version_major": 2,
       "version_minor": 0
      },
      "text/plain": [
       "FloatProgress(value=0.0, bar_style='info', description='Progress:', layout=Layout(height='25px', width='50%'),…"
      ]
     },
     "metadata": {},
     "output_type": "display_data"
    },
    {
     "name": "stdout",
     "output_type": "stream",
     "text": [
      "+---+----+------+-------+----+--------+-----+----+----------+--------+---------+---------+-----------+-----------+\n",
      "| id|type|number|country|date|abstract|title|kind|num_claims|filename|withdrawn|patent_id|assignee_id|location_id|\n",
      "+---+----+------+-------+----+--------+-----+----+----------+--------+---------+---------+-----------+-----------+\n",
      "+---+----+------+-------+----+--------+-----+----+----------+--------+---------+---------+-----------+-----------+"
     ]
    }
   ],
   "source": [
    "spark.sql(\"\"\"\n",
    "    SELECT * FROM patent RIGHT JOIN patent_assignee ON patent.id = patent_assignee.patent_id WHERE patent.id is NULL\n",
    "\"\"\").show()"
   ]
  },
  {
   "cell_type": "markdown",
   "id": "cf3ee8a7-da3d-49ea-b804-4320cfcfdc19",
   "metadata": {},
   "source": [
    "**Observations**:\n",
    "- All patent id in the patent_assignee table are found in patent table"
   ]
  },
  {
   "cell_type": "markdown",
   "id": "d59123a8-de4a-44d9-903c-8380c6c8b6e9",
   "metadata": {},
   "source": [
    "### Analyse field assignee id"
   ]
  },
  {
   "cell_type": "code",
   "execution_count": 36,
   "id": "2dcf464d-df56-40b8-8e7e-5d3d97cb1616",
   "metadata": {
    "execution": {
     "iopub.execute_input": "2022-08-20T09:05:54.189060Z",
     "iopub.status.busy": "2022-08-20T09:05:54.188832Z",
     "iopub.status.idle": "2022-08-20T09:06:17.523145Z",
     "shell.execute_reply": "2022-08-20T09:06:17.522410Z",
     "shell.execute_reply.started": "2022-08-20T09:05:54.189035Z"
    }
   },
   "outputs": [
    {
     "data": {
      "application/vnd.jupyter.widget-view+json": {
       "model_id": "a35bcdd5173b44bda62e7e0279cfd433",
       "version_major": 2,
       "version_minor": 0
      },
      "text/plain": [
       "VBox()"
      ]
     },
     "metadata": {},
     "output_type": "display_data"
    },
    {
     "data": {
      "application/vnd.jupyter.widget-view+json": {
       "model_id": "",
       "version_major": 2,
       "version_minor": 0
      },
      "text/plain": [
       "FloatProgress(value=0.0, bar_style='info', description='Progress:', layout=Layout(height='25px', width='50%'),…"
      ]
     },
     "metadata": {},
     "output_type": "display_data"
    },
    {
     "name": "stdout",
     "output_type": "stream",
     "text": [
      "+---------+-----------+-----------+\n",
      "|patent_id|assignee_id|location_id|\n",
      "+---------+-----------+-----------+\n",
      "+---------+-----------+-----------+"
     ]
    }
   ],
   "source": [
    "spark.sql(\"\"\"\n",
    "    SELECT * FROM patent_assignee WHERE assignee_id IS NULL or assignee_id =''\n",
    "\"\"\").show()"
   ]
  },
  {
   "cell_type": "markdown",
   "id": "7dce82ab-0ce4-4c30-9f65-b28a06aaade7",
   "metadata": {},
   "source": [
    "### Analyse field location id"
   ]
  },
  {
   "cell_type": "code",
   "execution_count": 37,
   "id": "79d748eb-b23c-4d2a-b9e3-4c61ecc96294",
   "metadata": {
    "execution": {
     "iopub.execute_input": "2022-08-20T09:07:41.515418Z",
     "iopub.status.busy": "2022-08-20T09:07:41.515165Z",
     "iopub.status.idle": "2022-08-20T09:08:04.880492Z",
     "shell.execute_reply": "2022-08-20T09:08:04.879805Z",
     "shell.execute_reply.started": "2022-08-20T09:07:41.515386Z"
    }
   },
   "outputs": [
    {
     "data": {
      "application/vnd.jupyter.widget-view+json": {
       "model_id": "1f2515a39e4249d2b26a6e70875c3743",
       "version_major": 2,
       "version_minor": 0
      },
      "text/plain": [
       "VBox()"
      ]
     },
     "metadata": {},
     "output_type": "display_data"
    },
    {
     "data": {
      "application/vnd.jupyter.widget-view+json": {
       "model_id": "",
       "version_major": 2,
       "version_minor": 0
      },
      "text/plain": [
       "FloatProgress(value=0.0, bar_style='info', description='Progress:', layout=Layout(height='25px', width='50%'),…"
      ]
     },
     "metadata": {},
     "output_type": "display_data"
    },
    {
     "name": "stdout",
     "output_type": "stream",
     "text": [
      "+---------+--------------------+-----------+\n",
      "|patent_id|         assignee_id|location_id|\n",
      "+---------+--------------------+-----------+\n",
      "| 11121230|8c265a09-164a-4c1...|       null|\n",
      "|  9273411|df0a8e74-6099-450...|       null|\n",
      "|  7175684|3569fbc5-25c8-4b7...|       null|\n",
      "|  9394589|d71eabf4-1c32-4bb...|       null|\n",
      "|  8116931|85d586ac-cbda-44b...|       null|\n",
      "|  7852445|41ff8c06-dc7b-4f6...|       null|\n",
      "|  8032989|ffbd2f08-b39f-4b0...|       null|\n",
      "|  D644083|f80edb85-5f36-432...|       null|\n",
      "|  8919099|85d586ac-cbda-44b...|       null|\n",
      "|  7630440|4eab510f-771b-4d8...|       null|\n",
      "| 11088486|c459201c-5993-405...|       null|\n",
      "|  8593403|a99ebb70-0ab9-4bc...|       null|\n",
      "|  RE41585|33757ce1-f2df-4bc...|       null|\n",
      "|  D924109|31580c0f-8eab-49e...|       null|\n",
      "|  6899863|0aeaa72e-18ca-482...|       null|\n",
      "|  7825052|8ff48169-9291-4e4...|       null|\n",
      "|  8175781|85d586ac-cbda-44b...|       null|\n",
      "|  8259845|151087a6-ae76-469...|       null|\n",
      "|  8539933|85d586ac-cbda-44b...|       null|\n",
      "|  9712677|1c08cacb-5519-41d...|       null|\n",
      "+---------+--------------------+-----------+\n",
      "only showing top 20 rows"
     ]
    }
   ],
   "source": [
    "spark.sql(\"\"\"\n",
    "    SELECT * FROM patent_assignee WHERE location_id IS NULL or location_id =''\n",
    "\"\"\").show()"
   ]
  },
  {
   "cell_type": "markdown",
   "id": "79d583ac-13c9-4543-bc9a-d15b2e297210",
   "metadata": {},
   "source": [
    "**Observations**:\n",
    "- Some locations are missing"
   ]
  },
  {
   "cell_type": "markdown",
   "id": "9d5288cd-d9bd-4508-9af3-a72fa24bcad2",
   "metadata": {},
   "source": [
    "### Check whether there is any duplicate"
   ]
  },
  {
   "cell_type": "code",
   "execution_count": 39,
   "id": "688c532c-1771-4158-a47b-4fbb3994feaa",
   "metadata": {
    "execution": {
     "iopub.execute_input": "2022-08-20T09:12:13.612769Z",
     "iopub.status.busy": "2022-08-20T09:12:13.612523Z",
     "iopub.status.idle": "2022-08-20T09:12:59.011329Z",
     "shell.execute_reply": "2022-08-20T09:12:59.010445Z",
     "shell.execute_reply.started": "2022-08-20T09:12:13.612744Z"
    },
    "tags": []
   },
   "outputs": [
    {
     "data": {
      "application/vnd.jupyter.widget-view+json": {
       "model_id": "2df856df68f1447dae3be2c3206f57d2",
       "version_major": 2,
       "version_minor": 0
      },
      "text/plain": [
       "VBox()"
      ]
     },
     "metadata": {},
     "output_type": "display_data"
    },
    {
     "data": {
      "application/vnd.jupyter.widget-view+json": {
       "model_id": "",
       "version_major": 2,
       "version_minor": 0
      },
      "text/plain": [
       "FloatProgress(value=0.0, bar_style='info', description='Progress:', layout=Layout(height='25px', width='50%'),…"
      ]
     },
     "metadata": {},
     "output_type": "display_data"
    },
    {
     "name": "stdout",
     "output_type": "stream",
     "text": [
      "+---------+--------------------+--------------------+--------+\n",
      "|patent_id|         assignee_id|         location_id|count(1)|\n",
      "+---------+--------------------+--------------------+--------+\n",
      "|  8913287|4a7adfa5-124c-4f3...|ff4052ad-cb90-11e...|       2|\n",
      "|  8131177|4a7adfa5-124c-4f3...|ff4052ad-cb90-11e...|       2|\n",
      "| 10064485|63ed96b5-cb45-45a...|ff010a8c-cb8f-11e...|       2|\n",
      "|  4691509|f87620f1-eeaf-46f...|fdacbf44-cb8f-11e...|       2|\n",
      "|  9827781|4a7adfa5-124c-4f3...|ff4052ad-cb90-11e...|       2|\n",
      "|  6858639|6021d0f9-f8e8-42b...|ff4052ad-cb90-11e...|       2|\n",
      "|  7737243|1d1a8301-3e0c-416...|                null|       2|\n",
      "|  D553748|4a7adfa5-124c-4f3...|fc671a1c-cb8e-11e...|       2|\n",
      "|  6977736|4a7adfa5-124c-4f3...|ff4052ad-cb90-11e...|       2|\n",
      "|  4955327|6c890ba7-0444-42f...|ff4052ad-cb90-11e...|       2|\n",
      "|  8508822|4a7adfa5-124c-4f3...|ff4052ad-cb90-11e...|       2|\n",
      "|  8228573|4a7adfa5-124c-4f3...|ff4052ad-cb90-11e...|       2|\n",
      "|  7577381|4a7adfa5-124c-4f3...|ff4052ad-cb90-11e...|       2|\n",
      "|  9978760|e092c8a8-f56d-440...|eee88093-cb8e-11e...|       2|\n",
      "| 10382040|e092c8a8-f56d-440...|eee88093-cb8e-11e...|       2|\n",
      "|  8526838|4a7adfa5-124c-4f3...|ff4052ad-cb90-11e...|       2|\n",
      "|  7706022|4a7adfa5-124c-4f3...|ff4052ad-cb90-11e...|       2|\n",
      "|  6366798|0989d697-63c3-426...|fb118380-cb8f-11e...|       2|\n",
      "|  7064514|8767aa58-80ff-4b4...|ff4052ad-cb90-11e...|       2|\n",
      "|  7161123|4a7adfa5-124c-4f3...|ff4052ad-cb90-11e...|       2|\n",
      "+---------+--------------------+--------------------+--------+\n",
      "only showing top 20 rows"
     ]
    }
   ],
   "source": [
    "spark.sql(\"\"\"SELECT patent_id, assignee_id, location_id,  COUNT(*)\n",
    "    FROM patent_assignee\n",
    "    GROUP BY patent_id, assignee_id, location_id\n",
    "    HAVING COUNT(*) > 1\n",
    "\"\"\").show()"
   ]
  },
  {
   "cell_type": "markdown",
   "id": "a439ffd5-b944-4d78-bd33-4c238b41d64c",
   "metadata": {},
   "source": [
    "**Observations**:\n",
    "- There are some duplicates in this patent_assignee"
   ]
  },
  {
   "cell_type": "markdown",
   "id": "0f792200-09b2-4f62-ad97-cd0115abf92f",
   "metadata": {},
   "source": [
    "## Exploratory Analysis on Assignee"
   ]
  },
  {
   "cell_type": "code",
   "execution_count": 40,
   "id": "6acd6f44-362d-4138-ab58-7e2bc2cb79b9",
   "metadata": {
    "execution": {
     "iopub.execute_input": "2022-08-20T09:17:25.615932Z",
     "iopub.status.busy": "2022-08-20T09:17:25.615672Z",
     "iopub.status.idle": "2022-08-20T09:17:25.672689Z",
     "shell.execute_reply": "2022-08-20T09:17:25.672073Z",
     "shell.execute_reply.started": "2022-08-20T09:17:25.615904Z"
    }
   },
   "outputs": [
    {
     "data": {
      "application/vnd.jupyter.widget-view+json": {
       "model_id": "65f3c01b0fff4206a3eb3823f4bee845",
       "version_major": 2,
       "version_minor": 0
      },
      "text/plain": [
       "VBox()"
      ]
     },
     "metadata": {},
     "output_type": "display_data"
    },
    {
     "data": {
      "application/vnd.jupyter.widget-view+json": {
       "model_id": "",
       "version_major": 2,
       "version_minor": 0
      },
      "text/plain": [
       "FloatProgress(value=0.0, bar_style='info', description='Progress:', layout=Layout(height='25px', width='50%'),…"
      ]
     },
     "metadata": {},
     "output_type": "display_data"
    }
   ],
   "source": [
    "assignee_path = \"s3://patents-analytics/raw/assignee.tsv\""
   ]
  },
  {
   "cell_type": "code",
   "execution_count": 41,
   "id": "f8ca63bf-75d5-4f45-ae34-af6b2e58ceeb",
   "metadata": {
    "execution": {
     "iopub.execute_input": "2022-08-20T09:17:49.543410Z",
     "iopub.status.busy": "2022-08-20T09:17:49.543181Z",
     "iopub.status.idle": "2022-08-20T09:17:58.861956Z",
     "shell.execute_reply": "2022-08-20T09:17:58.861218Z",
     "shell.execute_reply.started": "2022-08-20T09:17:49.543386Z"
    }
   },
   "outputs": [
    {
     "data": {
      "application/vnd.jupyter.widget-view+json": {
       "model_id": "39803b10d1b04e65bcc3307cd289c00c",
       "version_major": 2,
       "version_minor": 0
      },
      "text/plain": [
       "VBox()"
      ]
     },
     "metadata": {},
     "output_type": "display_data"
    },
    {
     "data": {
      "application/vnd.jupyter.widget-view+json": {
       "model_id": "",
       "version_major": 2,
       "version_minor": 0
      },
      "text/plain": [
       "FloatProgress(value=0.0, bar_style='info', description='Progress:', layout=Layout(height='25px', width='50%'),…"
      ]
     },
     "metadata": {},
     "output_type": "display_data"
    }
   ],
   "source": [
    "assignee = spark.read.options(header='True', delimiter='\\t', inferSchema='True', escape=\"\\\"\", multiline='True').csv(assignee_path).repartition(10)"
   ]
  },
  {
   "cell_type": "code",
   "execution_count": 42,
   "id": "59b8905b-8fed-4351-a559-114fc2e35d7a",
   "metadata": {
    "execution": {
     "iopub.execute_input": "2022-08-20T09:17:59.640328Z",
     "iopub.status.busy": "2022-08-20T09:17:59.640105Z",
     "iopub.status.idle": "2022-08-20T09:18:02.919864Z",
     "shell.execute_reply": "2022-08-20T09:18:02.918992Z",
     "shell.execute_reply.started": "2022-08-20T09:17:59.640304Z"
    }
   },
   "outputs": [
    {
     "data": {
      "application/vnd.jupyter.widget-view+json": {
       "model_id": "c8fc358532c64be689aadb60f14690f0",
       "version_major": 2,
       "version_minor": 0
      },
      "text/plain": [
       "VBox()"
      ]
     },
     "metadata": {},
     "output_type": "display_data"
    },
    {
     "data": {
      "application/vnd.jupyter.widget-view+json": {
       "model_id": "",
       "version_major": 2,
       "version_minor": 0
      },
      "text/plain": [
       "FloatProgress(value=0.0, bar_style='info', description='Progress:', layout=Layout(height='25px', width='50%'),…"
      ]
     },
     "metadata": {},
     "output_type": "display_data"
    },
    {
     "name": "stdout",
     "output_type": "stream",
     "text": [
      "[Row(id='cf06cbad-b4f3-45f7-888a-c0d078f5b856', type=2.0, name_first=None, name_last=None, organization='Rainbow Display, Inc.'), Row(id='4f18552a-5db7-4b04-a17c-14621545f46d', type=2.0, name_first=None, name_last=None, organization='LECO Corporation'), Row(id='24effb01-7bc0-43c6-beea-9b96fec05d75', type=2.0, name_first=None, name_last=None, organization='Sper Scientific Ltd'), Row(id='e47b6be9-98b3-46c6-8dcd-9b15bd0a6614', type=2.0, name_first=None, name_last=None, organization='Amenex Associates, Inc.'), Row(id='91d19128-6b46-4546-9c35-8b0679dfae66', type=3.0, name_first=None, name_last=None, organization='Living Technologies, Cooperatieve Vennootschap Met Beperkteaansprakelijkheid')]"
     ]
    }
   ],
   "source": [
    "assignee.take(5)"
   ]
  },
  {
   "cell_type": "code",
   "execution_count": 43,
   "id": "b0e17590-44b5-4be3-b159-9206a67798cd",
   "metadata": {
    "execution": {
     "iopub.execute_input": "2022-08-20T09:18:05.090413Z",
     "iopub.status.busy": "2022-08-20T09:18:05.090173Z",
     "iopub.status.idle": "2022-08-20T09:18:05.147412Z",
     "shell.execute_reply": "2022-08-20T09:18:05.146809Z",
     "shell.execute_reply.started": "2022-08-20T09:18:05.090386Z"
    }
   },
   "outputs": [
    {
     "data": {
      "application/vnd.jupyter.widget-view+json": {
       "model_id": "ad888f9cfb284d79bea693d2b3c55952",
       "version_major": 2,
       "version_minor": 0
      },
      "text/plain": [
       "VBox()"
      ]
     },
     "metadata": {},
     "output_type": "display_data"
    },
    {
     "data": {
      "application/vnd.jupyter.widget-view+json": {
       "model_id": "",
       "version_major": 2,
       "version_minor": 0
      },
      "text/plain": [
       "FloatProgress(value=0.0, bar_style='info', description='Progress:', layout=Layout(height='25px', width='50%'),…"
      ]
     },
     "metadata": {},
     "output_type": "display_data"
    },
    {
     "name": "stdout",
     "output_type": "stream",
     "text": [
      "root\n",
      " |-- id: string (nullable = true)\n",
      " |-- type: double (nullable = true)\n",
      " |-- name_first: string (nullable = true)\n",
      " |-- name_last: string (nullable = true)\n",
      " |-- organization: string (nullable = true)"
     ]
    }
   ],
   "source": [
    "assignee.printSchema()"
   ]
  },
  {
   "cell_type": "code",
   "execution_count": 45,
   "id": "7feee1a3-7d91-428e-839c-9d554ca19ea7",
   "metadata": {
    "execution": {
     "iopub.execute_input": "2022-08-20T09:19:32.176917Z",
     "iopub.status.busy": "2022-08-20T09:19:32.176692Z",
     "iopub.status.idle": "2022-08-20T09:19:41.482909Z",
     "shell.execute_reply": "2022-08-20T09:19:41.482190Z",
     "shell.execute_reply.started": "2022-08-20T09:19:32.176893Z"
    }
   },
   "outputs": [
    {
     "data": {
      "application/vnd.jupyter.widget-view+json": {
       "model_id": "32c03240f7294277a5a207a734a5e67d",
       "version_major": 2,
       "version_minor": 0
      },
      "text/plain": [
       "VBox()"
      ]
     },
     "metadata": {},
     "output_type": "display_data"
    },
    {
     "data": {
      "application/vnd.jupyter.widget-view+json": {
       "model_id": "",
       "version_major": 2,
       "version_minor": 0
      },
      "text/plain": [
       "FloatProgress(value=0.0, bar_style='info', description='Progress:', layout=Layout(height='25px', width='50%'),…"
      ]
     },
     "metadata": {},
     "output_type": "display_data"
    },
    {
     "name": "stdout",
     "output_type": "stream",
     "text": [
      "540183"
     ]
    }
   ],
   "source": [
    "assignee.count()"
   ]
  },
  {
   "cell_type": "code",
   "execution_count": 44,
   "id": "ab7d36f1-f013-4534-801e-7dcd996b18b9",
   "metadata": {
    "execution": {
     "iopub.execute_input": "2022-08-20T09:18:38.964535Z",
     "iopub.status.busy": "2022-08-20T09:18:38.964304Z",
     "iopub.status.idle": "2022-08-20T09:18:39.025406Z",
     "shell.execute_reply": "2022-08-20T09:18:39.024636Z",
     "shell.execute_reply.started": "2022-08-20T09:18:38.964509Z"
    }
   },
   "outputs": [
    {
     "data": {
      "application/vnd.jupyter.widget-view+json": {
       "model_id": "b864a7fa5b814b4da27c5f019b762df9",
       "version_major": 2,
       "version_minor": 0
      },
      "text/plain": [
       "VBox()"
      ]
     },
     "metadata": {},
     "output_type": "display_data"
    },
    {
     "data": {
      "application/vnd.jupyter.widget-view+json": {
       "model_id": "",
       "version_major": 2,
       "version_minor": 0
      },
      "text/plain": [
       "FloatProgress(value=0.0, bar_style='info', description='Progress:', layout=Layout(height='25px', width='50%'),…"
      ]
     },
     "metadata": {},
     "output_type": "display_data"
    }
   ],
   "source": [
    "assignee.createOrReplaceTempView('assignee')"
   ]
  },
  {
   "cell_type": "markdown",
   "id": "b910d5ca-3cf3-4b6e-9b34-e950a47cad42",
   "metadata": {},
   "source": [
    "### Check duplicates"
   ]
  },
  {
   "cell_type": "code",
   "execution_count": 46,
   "id": "ed24267d-419d-46c8-9291-d25a881aecaf",
   "metadata": {
    "execution": {
     "iopub.execute_input": "2022-08-20T09:19:58.327556Z",
     "iopub.status.busy": "2022-08-20T09:19:58.327194Z",
     "iopub.status.idle": "2022-08-20T09:20:03.810740Z",
     "shell.execute_reply": "2022-08-20T09:20:03.810094Z",
     "shell.execute_reply.started": "2022-08-20T09:19:58.327526Z"
    }
   },
   "outputs": [
    {
     "data": {
      "application/vnd.jupyter.widget-view+json": {
       "model_id": "482c53189d384c00823507b28cf0ed47",
       "version_major": 2,
       "version_minor": 0
      },
      "text/plain": [
       "VBox()"
      ]
     },
     "metadata": {},
     "output_type": "display_data"
    },
    {
     "data": {
      "application/vnd.jupyter.widget-view+json": {
       "model_id": "",
       "version_major": 2,
       "version_minor": 0
      },
      "text/plain": [
       "FloatProgress(value=0.0, bar_style='info', description='Progress:', layout=Layout(height='25px', width='50%'),…"
      ]
     },
     "metadata": {},
     "output_type": "display_data"
    },
    {
     "name": "stdout",
     "output_type": "stream",
     "text": [
      "+------------------+\n",
      "|count(DISTINCT ID)|\n",
      "+------------------+\n",
      "|            540183|\n",
      "+------------------+"
     ]
    }
   ],
   "source": [
    "spark.sql(\"\"\"\n",
    "    SELECT COUNT(DISTINCT(ID)) FROM assignee\n",
    "\"\"\").show()"
   ]
  },
  {
   "cell_type": "markdown",
   "id": "2283deab-4c20-47eb-9d9b-edbe0d4d698d",
   "metadata": {
    "execution": {
     "iopub.execute_input": "2022-08-20T09:20:40.925543Z",
     "iopub.status.busy": "2022-08-20T09:20:40.925305Z",
     "iopub.status.idle": "2022-08-20T09:20:40.991872Z",
     "shell.execute_reply": "2022-08-20T09:20:40.991172Z",
     "shell.execute_reply.started": "2022-08-20T09:20:40.925517Z"
    }
   },
   "source": [
    "**Observations**:\n",
    "    - No duplicates"
   ]
  },
  {
   "cell_type": "markdown",
   "id": "d9a89e05-3394-4bf9-a296-22ba0ef1cdea",
   "metadata": {},
   "source": [
    "### Analyse field type"
   ]
  },
  {
   "cell_type": "code",
   "execution_count": 48,
   "id": "ae1a86cf-9ded-4eda-b529-b0a754e7e7a6",
   "metadata": {
    "execution": {
     "iopub.execute_input": "2022-08-20T09:21:19.672383Z",
     "iopub.status.busy": "2022-08-20T09:21:19.672163Z",
     "iopub.status.idle": "2022-08-20T09:21:30.978539Z",
     "shell.execute_reply": "2022-08-20T09:21:30.977936Z",
     "shell.execute_reply.started": "2022-08-20T09:21:19.672361Z"
    }
   },
   "outputs": [
    {
     "data": {
      "application/vnd.jupyter.widget-view+json": {
       "model_id": "2875393896a74a91879162745509e142",
       "version_major": 2,
       "version_minor": 0
      },
      "text/plain": [
       "VBox()"
      ]
     },
     "metadata": {},
     "output_type": "display_data"
    },
    {
     "data": {
      "application/vnd.jupyter.widget-view+json": {
       "model_id": "",
       "version_major": 2,
       "version_minor": 0
      },
      "text/plain": [
       "FloatProgress(value=0.0, bar_style='info', description='Progress:', layout=Layout(height='25px', width='50%'),…"
      ]
     },
     "metadata": {},
     "output_type": "display_data"
    },
    {
     "name": "stdout",
     "output_type": "stream",
     "text": [
      "+----+--------+\n",
      "|type|count(1)|\n",
      "+----+--------+\n",
      "|null|   14220|\n",
      "| 1.0|       2|\n",
      "|13.0|     143|\n",
      "|17.0|       2|\n",
      "| 6.0|     250|\n",
      "|15.0|     337|\n",
      "| 5.0|   21538|\n",
      "| 2.0|  219182|\n",
      "| 4.0|   29931|\n",
      "|14.0|    1809|\n",
      "| 8.0|      12|\n",
      "| 0.0|      78|\n",
      "| 7.0|     699|\n",
      "| 3.0|  251764|\n",
      "| 9.0|      21|\n",
      "|12.0|     195|\n",
      "+----+--------+"
     ]
    }
   ],
   "source": [
    "spark.sql(\"\"\"\n",
    "    SELECT type, count(*) FROM assignee GROUP BY type\n",
    "\"\"\").show()"
   ]
  },
  {
   "cell_type": "markdown",
   "id": "452dc62d-9e57-425e-8c70-2b1c06fad512",
   "metadata": {},
   "source": [
    "**Observations**:\n",
    "- There are 14,220 assignee with no type\n",
    "- Based on the data dictionary, type ranges from 1 to 9. If there is \"1\" appearing before the codes signifies part interest.\n"
   ]
  },
  {
   "cell_type": "markdown",
   "id": "f33c1f27-000f-4aa0-8092-83bb27582ad7",
   "metadata": {},
   "source": [
    "### Analyse name_first and name_last and organisation"
   ]
  },
  {
   "cell_type": "code",
   "execution_count": 51,
   "id": "6aa9b216-b8af-4148-ae7b-d2b1a4675130",
   "metadata": {
    "execution": {
     "iopub.execute_input": "2022-08-20T09:31:06.089515Z",
     "iopub.status.busy": "2022-08-20T09:31:06.089276Z",
     "iopub.status.idle": "2022-08-20T09:31:15.395134Z",
     "shell.execute_reply": "2022-08-20T09:31:15.394509Z",
     "shell.execute_reply.started": "2022-08-20T09:31:06.089489Z"
    },
    "tags": []
   },
   "outputs": [
    {
     "data": {
      "application/vnd.jupyter.widget-view+json": {
       "model_id": "abe7d9c1103449028d4d941ef16ea4aa",
       "version_major": 2,
       "version_minor": 0
      },
      "text/plain": [
       "VBox()"
      ]
     },
     "metadata": {},
     "output_type": "display_data"
    },
    {
     "data": {
      "application/vnd.jupyter.widget-view+json": {
       "model_id": "",
       "version_major": 2,
       "version_minor": 0
      },
      "text/plain": [
       "FloatProgress(value=0.0, bar_style='info', description='Progress:', layout=Layout(height='25px', width='50%'),…"
      ]
     },
     "metadata": {},
     "output_type": "display_data"
    },
    {
     "name": "stdout",
     "output_type": "stream",
     "text": [
      "+--------------------+----+--------------------+---------+--------------------+\n",
      "|                  id|type|          name_first|name_last|        organization|\n",
      "+--------------------+----+--------------------+---------+--------------------+\n",
      "|463a3ff8-fe60-4fb...| 4.0|       NOVOZYMES A/S|     null|                null|\n",
      "|2521098e-ecd9-46b...| 4.0|Shenzhen Raysees ...|     null|                null|\n",
      "|42a22cb3-1e13-4bf...| 4.0|                null|     null|Victoria and Olee...|\n",
      "|9dce7efd-904f-469...| 4.0|GEBERIT INTERNATI...|     null|                null|\n",
      "|f83254bb-5101-4df...| 4.0|                null|     null|  Helmut E. W. Masch|\n",
      "|895c19c7-6181-46a...| 4.0|                null|     null| William J. McNamara|\n",
      "|b85d6049-d511-4f1...| 4.0|                null|     null|      Mervyn Shapiro|\n",
      "|50578afa-ccb2-416...| 4.0|Wonderland Switze...|     null|                null|\n",
      "|baeacd89-4276-42a...| 4.0|TAIWAN SEMICONDUC...|     null|                null|\n",
      "|5b855ed1-81e0-46a...| 4.0|                null|     null|      Bruce Grainger|\n",
      "|ca4bf1af-aaca-4f4...| 5.0|                null|        .|                null|\n",
      "|83b78000-d89d-4ab...| 4.0|                null|     null|W. Wally Niemela,...|\n",
      "|46407492-91b1-42f...| 5.0|                null|     null|  Edward I. Kavanagh|\n",
      "|70f6c13a-f947-45a...| 4.0|                null|     null|   McKenna: Kathleen|\n",
      "|e3fe416b-043e-4fd...| 4.0|                null|     null| Brinson, Jr., James|\n",
      "|cc8642e4-897e-469...| 5.0|                null|     null|    Naomitsu Tokieda|\n",
      "|050d0ea1-3630-4f4...| 5.0|                null|     null|          Adly Chamy|\n",
      "|8d4f3916-57be-47a...| 5.0|                null|     null|       Yoshizo Obata|\n",
      "|dab70f61-dffc-442...| 4.0|                null|     null|Victor B. Godin, ...|\n",
      "|b2c42bcf-869d-4f3...| 4.0|CANON MEDICAL SYS...|     null|                null|\n",
      "+--------------------+----+--------------------+---------+--------------------+\n",
      "only showing top 20 rows"
     ]
    }
   ],
   "source": [
    "spark.sql(\"\"\"\n",
    "    SELECT * FROM assignee WHERE (type=4 or type=5) and ((name_first IS NULL or name_first='') OR (name_last IS NULL or name_last=''))\n",
    "\"\"\").show()"
   ]
  },
  {
   "cell_type": "markdown",
   "id": "f7e79efd-37dc-4dcc-a5a9-f385068db087",
   "metadata": {},
   "source": [
    "**Observations**:\n",
    "- Some individual assignee name is placed in the organization instead of name_first and name_last"
   ]
  },
  {
   "cell_type": "code",
   "execution_count": 52,
   "id": "2c6136be-318e-42c0-a76a-bc16cd66c2bf",
   "metadata": {
    "execution": {
     "iopub.execute_input": "2022-08-20T09:34:49.658140Z",
     "iopub.status.busy": "2022-08-20T09:34:49.657875Z",
     "iopub.status.idle": "2022-08-20T09:34:58.967346Z",
     "shell.execute_reply": "2022-08-20T09:34:58.966615Z",
     "shell.execute_reply.started": "2022-08-20T09:34:49.658112Z"
    }
   },
   "outputs": [
    {
     "data": {
      "application/vnd.jupyter.widget-view+json": {
       "model_id": "ce0c5ed09d22452484d4e4d393f9892c",
       "version_major": 2,
       "version_minor": 0
      },
      "text/plain": [
       "VBox()"
      ]
     },
     "metadata": {},
     "output_type": "display_data"
    },
    {
     "data": {
      "application/vnd.jupyter.widget-view+json": {
       "model_id": "",
       "version_major": 2,
       "version_minor": 0
      },
      "text/plain": [
       "FloatProgress(value=0.0, bar_style='info', description='Progress:', layout=Layout(height='25px', width='50%'),…"
      ]
     },
     "metadata": {},
     "output_type": "display_data"
    },
    {
     "name": "stdout",
     "output_type": "stream",
     "text": [
      "+--------------------+----+--------------------+-----------+------------+\n",
      "|                  id|type|          name_first|  name_last|organization|\n",
      "+--------------------+----+--------------------+-----------+------------+\n",
      "|d010f495-dff2-4f4...|15.0|       Howard Ingram|     Cairns|        null|\n",
      "|913a43da-9d99-4d7...| 2.0|                 Jed|     Gaines|        null|\n",
      "|af97c6d8-d161-497...|14.0|           Samuel R.|     Carter|        null|\n",
      "|44be01e8-3fe9-47c...| 2.0|       Miss. Gregory|    Valente|        null|\n",
      "|e49b3161-3d1f-414...| 2.0|       Mr. Alexander|    Fridman|        null|\n",
      "|3a8e7332-f9b4-4e8...| 3.0|Timfold-es Mukoru...|Magyarovari|        null|\n",
      "|299c10b5-c17e-4e0...| 2.0|               Henry|       Lobe|        null|\n",
      "|d2f6adb4-cb81-41c...|14.0|          Charles W.|     Pierce|        null|\n",
      "|53323de1-fc87-4d7...|14.0|              Joseph|     Regard|        null|\n",
      "|51ea1c5d-65aa-46a...|15.0|                Gina|        Lie|        null|\n",
      "|9d0b75ed-66c3-48a...|14.0|              Andrew| Kubek, Sr.|        null|\n",
      "|43b3a9ef-4ddc-4d5...| 3.0|           Ray-Guang|      Cheng|        null|\n",
      "|fcbea3f8-9061-4f9...|15.0|              Katumi|  Takahashi|        null|\n",
      "|8ce0d355-9ee8-4cb...|14.0|           Alfred T.|    Moffatt|        null|\n",
      "|12f06c9d-f838-421...| 3.0|              Pascal|    Le Roux|        null|\n",
      "|2b76ae96-18c2-473...|14.0|            Larry D.|    Madoski|        null|\n",
      "|0ea06905-df66-481...| 3.0|            Jean-Hwa|      Chiou|        null|\n",
      "|79dfd78e-dd29-46e...|14.0|               Paula|   Fletcher|        null|\n",
      "|f22aa7d5-130c-43a...|14.0|           Ernest P.| Rolli, Jr.|        null|\n",
      "|6db8d3e5-5eae-484...|14.0|                Paul|      Henry|        null|\n",
      "+--------------------+----+--------------------+-----------+------------+\n",
      "only showing top 20 rows"
     ]
    }
   ],
   "source": [
    "spark.sql(\"\"\"\n",
    "    SELECT * FROM assignee WHERE type!=4 and type!=5 and name_first IS NOT NULL AND name_last IS NOT NULL\n",
    "\"\"\").show()"
   ]
  },
  {
   "cell_type": "code",
   "execution_count": 53,
   "id": "ad609188-cdbf-419d-b3d3-908783a892be",
   "metadata": {
    "execution": {
     "iopub.execute_input": "2022-08-20T09:41:00.203467Z",
     "iopub.status.busy": "2022-08-20T09:41:00.203226Z",
     "iopub.status.idle": "2022-08-20T09:41:09.496861Z",
     "shell.execute_reply": "2022-08-20T09:41:09.496156Z",
     "shell.execute_reply.started": "2022-08-20T09:41:00.203443Z"
    }
   },
   "outputs": [
    {
     "data": {
      "application/vnd.jupyter.widget-view+json": {
       "model_id": "51bed5bdbb2645f3a9ca5bd2461f7c97",
       "version_major": 2,
       "version_minor": 0
      },
      "text/plain": [
       "VBox()"
      ]
     },
     "metadata": {},
     "output_type": "display_data"
    },
    {
     "data": {
      "application/vnd.jupyter.widget-view+json": {
       "model_id": "",
       "version_major": 2,
       "version_minor": 0
      },
      "text/plain": [
       "FloatProgress(value=0.0, bar_style='info', description='Progress:', layout=Layout(height='25px', width='50%'),…"
      ]
     },
     "metadata": {},
     "output_type": "display_data"
    },
    {
     "name": "stdout",
     "output_type": "stream",
     "text": [
      "+--------------------+----+------------+------------+--------------------+\n",
      "|                  id|type|  name_first|   name_last|        organization|\n",
      "+--------------------+----+------------+------------+--------------------+\n",
      "|5e94b55d-681a-4d2...| 6.0|     William|Lockett, III|Tennesee Valley A...|\n",
      "|c6cd5696-6b8c-4eb...| 6.0|     William|Lockett, III|The United States...|\n",
      "|0fc8a6e5-04d6-4ae...| 2.0|    James P.|    Liautaud|Bell Telephone La...|\n",
      "|ff8e39c4-7f4f-480...| 2.0|     William|Lockett, III|AT&T Bell Laborat...|\n",
      "|69d57865-cf4f-454...| 6.0|     William|Lockett, III|The United States...|\n",
      "|4f299bfd-8d2a-487...| 2.0|    James P.|    Liautaud|AT&T Technologies...|\n",
      "|6824d7c9-8f1f-4bd...| 2.0|Frederick H.|       Kroll|   W. R. Grace & Co.|\n",
      "|3103651b-f835-411...| 7.0|    James P.|    Liautaud|The United States...|\n",
      "|29a08113-069e-49f...| 6.0|     William|Lockett, III|The United States...|\n",
      "|38cc49c5-f655-4a9...| 3.0|    James P.|    Liautaud|BBC Brown, Boveri...|\n",
      "|479eb83f-4741-4d8...| 2.0|     William|Lockett, III|Polaroid Corporation|\n",
      "|920fb610-06db-457...| 6.0|     William|Lockett, III|The Government of...|\n",
      "+--------------------+----+------------+------------+--------------------+"
     ]
    }
   ],
   "source": [
    "spark.sql(\"\"\"\n",
    "    SELECT * FROM assignee WHERE organization is not null and name_first is not null and name_last is not null\n",
    "\"\"\").show()"
   ]
  },
  {
   "cell_type": "markdown",
   "id": "ed5c5547-2800-4cd2-b059-ce1b90356e5e",
   "metadata": {},
   "source": [
    "**Observations**:\n",
    "    - Some patent have individual name as well as the organisation name"
   ]
  },
  {
   "cell_type": "code",
   "execution_count": 55,
   "id": "d1f7bfd6-38ed-4216-ad84-1a256b7ae915",
   "metadata": {
    "execution": {
     "iopub.execute_input": "2022-08-20T09:44:05.510249Z",
     "iopub.status.busy": "2022-08-20T09:44:05.510019Z",
     "iopub.status.idle": "2022-08-20T09:44:14.820077Z",
     "shell.execute_reply": "2022-08-20T09:44:14.819336Z",
     "shell.execute_reply.started": "2022-08-20T09:44:05.510226Z"
    },
    "tags": []
   },
   "outputs": [
    {
     "data": {
      "application/vnd.jupyter.widget-view+json": {
       "model_id": "c28a6bd0de594c0a946ffe3ca98754c6",
       "version_major": 2,
       "version_minor": 0
      },
      "text/plain": [
       "VBox()"
      ]
     },
     "metadata": {},
     "output_type": "display_data"
    },
    {
     "data": {
      "application/vnd.jupyter.widget-view+json": {
       "model_id": "",
       "version_major": 2,
       "version_minor": 0
      },
      "text/plain": [
       "FloatProgress(value=0.0, bar_style='info', description='Progress:', layout=Layout(height='25px', width='50%'),…"
      ]
     },
     "metadata": {},
     "output_type": "display_data"
    },
    {
     "name": "stdout",
     "output_type": "stream",
     "text": [
      "+---+----+----------+---------+------------+\n",
      "| id|type|name_first|name_last|organization|\n",
      "+---+----+----------+---------+------------+\n",
      "+---+----+----------+---------+------------+"
     ]
    }
   ],
   "source": [
    "spark.sql(\"\"\"\n",
    "    SELECT * FROM assignee WHERE organization is null and name_first is null and name_last is null\n",
    "\"\"\").show()"
   ]
  },
  {
   "cell_type": "markdown",
   "id": "49e6d461-826d-4f31-a3ab-9061363cbd3a",
   "metadata": {},
   "source": [
    "**Observations**:\n",
    "- All the rows has either name or organisation"
   ]
  },
  {
   "cell_type": "markdown",
   "id": "6df4e948-147a-4c7f-b796-959315858984",
   "metadata": {},
   "source": [
    "## Exploratory Analysis on Location"
   ]
  },
  {
   "cell_type": "code",
   "execution_count": 57,
   "id": "55dba366-ee45-494f-910d-c182ebfcf776",
   "metadata": {
    "execution": {
     "iopub.execute_input": "2022-08-20T09:45:30.382469Z",
     "iopub.status.busy": "2022-08-20T09:45:30.382246Z",
     "iopub.status.idle": "2022-08-20T09:45:30.436719Z",
     "shell.execute_reply": "2022-08-20T09:45:30.436047Z",
     "shell.execute_reply.started": "2022-08-20T09:45:30.382445Z"
    },
    "tags": []
   },
   "outputs": [
    {
     "data": {
      "application/vnd.jupyter.widget-view+json": {
       "model_id": "7f1fa404af50422c88080c82ee7e4eb5",
       "version_major": 2,
       "version_minor": 0
      },
      "text/plain": [
       "VBox()"
      ]
     },
     "metadata": {},
     "output_type": "display_data"
    },
    {
     "data": {
      "application/vnd.jupyter.widget-view+json": {
       "model_id": "",
       "version_major": 2,
       "version_minor": 0
      },
      "text/plain": [
       "FloatProgress(value=0.0, bar_style='info', description='Progress:', layout=Layout(height='25px', width='50%'),…"
      ]
     },
     "metadata": {},
     "output_type": "display_data"
    }
   ],
   "source": [
    "location_path = \"s3://patents-analytics/raw/location.tsv\""
   ]
  },
  {
   "cell_type": "code",
   "execution_count": 58,
   "id": "079c006b-19dc-425a-bb43-54c1a8fc275b",
   "metadata": {
    "execution": {
     "iopub.execute_input": "2022-08-20T09:45:59.614056Z",
     "iopub.status.busy": "2022-08-20T09:45:59.613823Z",
     "iopub.status.idle": "2022-08-20T09:46:06.904063Z",
     "shell.execute_reply": "2022-08-20T09:46:06.903445Z",
     "shell.execute_reply.started": "2022-08-20T09:45:59.614030Z"
    }
   },
   "outputs": [
    {
     "data": {
      "application/vnd.jupyter.widget-view+json": {
       "model_id": "65ab200998f14930a69ea9acb4af1ef4",
       "version_major": 2,
       "version_minor": 0
      },
      "text/plain": [
       "VBox()"
      ]
     },
     "metadata": {},
     "output_type": "display_data"
    },
    {
     "data": {
      "application/vnd.jupyter.widget-view+json": {
       "model_id": "",
       "version_major": 2,
       "version_minor": 0
      },
      "text/plain": [
       "FloatProgress(value=0.0, bar_style='info', description='Progress:', layout=Layout(height='25px', width='50%'),…"
      ]
     },
     "metadata": {},
     "output_type": "display_data"
    }
   ],
   "source": [
    "location = spark.read.options(header='True', delimiter='\\t', inferSchema='True', escape=\"\\\"\", multiline='True').csv(location_path).repartition(10)"
   ]
  },
  {
   "cell_type": "code",
   "execution_count": 59,
   "id": "483071ad-ec2d-4ee1-b0bb-1badb6f4c007",
   "metadata": {
    "execution": {
     "iopub.execute_input": "2022-08-20T09:46:09.718533Z",
     "iopub.status.busy": "2022-08-20T09:46:09.718299Z",
     "iopub.status.idle": "2022-08-20T09:46:13.000299Z",
     "shell.execute_reply": "2022-08-20T09:46:12.999587Z",
     "shell.execute_reply.started": "2022-08-20T09:46:09.718508Z"
    }
   },
   "outputs": [
    {
     "data": {
      "application/vnd.jupyter.widget-view+json": {
       "model_id": "9ef615a45da64e4484b6157abec43b33",
       "version_major": 2,
       "version_minor": 0
      },
      "text/plain": [
       "VBox()"
      ]
     },
     "metadata": {},
     "output_type": "display_data"
    },
    {
     "data": {
      "application/vnd.jupyter.widget-view+json": {
       "model_id": "",
       "version_major": 2,
       "version_minor": 0
      },
      "text/plain": [
       "FloatProgress(value=0.0, bar_style='info', description='Progress:', layout=Layout(height='25px', width='50%'),…"
      ]
     },
     "metadata": {},
     "output_type": "display_data"
    },
    {
     "name": "stdout",
     "output_type": "stream",
     "text": [
      "[Row(id='e10f3d8a-cb8e-11eb-9615-121df0c29c1e', city='Saint Laurant du Var', state=None, country='FR', latitude=46.2621, longitude=-0.21006, county=None, state_fips=None, county_fips=None), Row(id='02b3429f-cb90-11eb-9615-121df0c29c1e', city='Zornhcim', state=None, country='DE', latitude=None, longitude=None, county=None, state_fips=None, county_fips=None), Row(id='bfe59c31-cb8e-11eb-9615-121df0c29c1e', city='Doddanankundi', state=None, country='IN', latitude=None, longitude=None, county=None, state_fips=None, county_fips=None), Row(id='8147f6e3-cb8e-11eb-9615-121df0c29c1e', city='Stella-Plage', state=None, country='FR', latitude=50.4799, longitude=1.57714, county=None, state_fips=None, county_fips=None), Row(id='fa670c89-cb8e-11eb-9615-121df0c29c1e', city='Naremburn', state=None, country='AU', latitude=-33.8171, longitude=151.202, county=None, state_fips=None, county_fips=None)]"
     ]
    }
   ],
   "source": [
    "location.take(5)"
   ]
  },
  {
   "cell_type": "code",
   "execution_count": 60,
   "id": "e39a144c-cc80-4cc5-91da-d6d3c1743bbd",
   "metadata": {
    "execution": {
     "iopub.execute_input": "2022-08-20T09:46:14.029187Z",
     "iopub.status.busy": "2022-08-20T09:46:14.028958Z",
     "iopub.status.idle": "2022-08-20T09:46:15.301456Z",
     "shell.execute_reply": "2022-08-20T09:46:15.300726Z",
     "shell.execute_reply.started": "2022-08-20T09:46:14.029163Z"
    }
   },
   "outputs": [
    {
     "data": {
      "application/vnd.jupyter.widget-view+json": {
       "model_id": "d62e57e73096440b85e7d53ec1663aa3",
       "version_major": 2,
       "version_minor": 0
      },
      "text/plain": [
       "VBox()"
      ]
     },
     "metadata": {},
     "output_type": "display_data"
    },
    {
     "data": {
      "application/vnd.jupyter.widget-view+json": {
       "model_id": "",
       "version_major": 2,
       "version_minor": 0
      },
      "text/plain": [
       "FloatProgress(value=0.0, bar_style='info', description='Progress:', layout=Layout(height='25px', width='50%'),…"
      ]
     },
     "metadata": {},
     "output_type": "display_data"
    },
    {
     "name": "stdout",
     "output_type": "stream",
     "text": [
      "242926"
     ]
    }
   ],
   "source": [
    "location.count()"
   ]
  },
  {
   "cell_type": "code",
   "execution_count": 61,
   "id": "29504f68-5733-4109-858d-445c8a37b96f",
   "metadata": {
    "execution": {
     "iopub.execute_input": "2022-08-20T09:46:19.479327Z",
     "iopub.status.busy": "2022-08-20T09:46:19.479075Z",
     "iopub.status.idle": "2022-08-20T09:46:19.539806Z",
     "shell.execute_reply": "2022-08-20T09:46:19.539127Z",
     "shell.execute_reply.started": "2022-08-20T09:46:19.479302Z"
    }
   },
   "outputs": [
    {
     "data": {
      "application/vnd.jupyter.widget-view+json": {
       "model_id": "b0c5cd434cb64683b8362910e6e44c96",
       "version_major": 2,
       "version_minor": 0
      },
      "text/plain": [
       "VBox()"
      ]
     },
     "metadata": {},
     "output_type": "display_data"
    },
    {
     "data": {
      "application/vnd.jupyter.widget-view+json": {
       "model_id": "",
       "version_major": 2,
       "version_minor": 0
      },
      "text/plain": [
       "FloatProgress(value=0.0, bar_style='info', description='Progress:', layout=Layout(height='25px', width='50%'),…"
      ]
     },
     "metadata": {},
     "output_type": "display_data"
    },
    {
     "name": "stdout",
     "output_type": "stream",
     "text": [
      "root\n",
      " |-- id: string (nullable = true)\n",
      " |-- city: string (nullable = true)\n",
      " |-- state: string (nullable = true)\n",
      " |-- country: string (nullable = true)\n",
      " |-- latitude: double (nullable = true)\n",
      " |-- longitude: double (nullable = true)\n",
      " |-- county: string (nullable = true)\n",
      " |-- state_fips: double (nullable = true)\n",
      " |-- county_fips: integer (nullable = true)"
     ]
    }
   ],
   "source": [
    "location.printSchema()"
   ]
  },
  {
   "cell_type": "code",
   "execution_count": 62,
   "id": "b1298b3a-0cf8-4e26-9823-9abdc5e13ea0",
   "metadata": {
    "execution": {
     "iopub.execute_input": "2022-08-20T09:46:56.368375Z",
     "iopub.status.busy": "2022-08-20T09:46:56.368148Z",
     "iopub.status.idle": "2022-08-20T09:46:56.430825Z",
     "shell.execute_reply": "2022-08-20T09:46:56.430220Z",
     "shell.execute_reply.started": "2022-08-20T09:46:56.368351Z"
    }
   },
   "outputs": [
    {
     "data": {
      "application/vnd.jupyter.widget-view+json": {
       "model_id": "3d91258cd5a34a2c9429e5192bdcf863",
       "version_major": 2,
       "version_minor": 0
      },
      "text/plain": [
       "VBox()"
      ]
     },
     "metadata": {},
     "output_type": "display_data"
    },
    {
     "data": {
      "application/vnd.jupyter.widget-view+json": {
       "model_id": "",
       "version_major": 2,
       "version_minor": 0
      },
      "text/plain": [
       "FloatProgress(value=0.0, bar_style='info', description='Progress:', layout=Layout(height='25px', width='50%'),…"
      ]
     },
     "metadata": {},
     "output_type": "display_data"
    }
   ],
   "source": [
    "location.createOrReplaceTempView('location')"
   ]
  },
  {
   "cell_type": "markdown",
   "id": "77a401a9-1c23-4535-853e-d7fe8254151f",
   "metadata": {},
   "source": [
    "### Analyse field city"
   ]
  },
  {
   "cell_type": "code",
   "execution_count": 63,
   "id": "090b62ae-f615-4efd-ad9c-fb03dc9ae9e0",
   "metadata": {
    "execution": {
     "iopub.execute_input": "2022-08-20T09:47:54.776240Z",
     "iopub.status.busy": "2022-08-20T09:47:54.776004Z",
     "iopub.status.idle": "2022-08-20T09:48:04.088788Z",
     "shell.execute_reply": "2022-08-20T09:48:04.088142Z",
     "shell.execute_reply.started": "2022-08-20T09:47:54.776216Z"
    }
   },
   "outputs": [
    {
     "data": {
      "application/vnd.jupyter.widget-view+json": {
       "model_id": "003140fe64c44fedad1cd402ea1ef55a",
       "version_major": 2,
       "version_minor": 0
      },
      "text/plain": [
       "VBox()"
      ]
     },
     "metadata": {},
     "output_type": "display_data"
    },
    {
     "data": {
      "application/vnd.jupyter.widget-view+json": {
       "model_id": "",
       "version_major": 2,
       "version_minor": 0
      },
      "text/plain": [
       "FloatProgress(value=0.0, bar_style='info', description='Progress:', layout=Layout(height='25px', width='50%'),…"
      ]
     },
     "metadata": {},
     "output_type": "display_data"
    },
    {
     "name": "stdout",
     "output_type": "stream",
     "text": [
      "+--------------------+----+-----+-------+--------+---------+------+----------+-----------+\n",
      "|                  id|city|state|country|latitude|longitude|county|state_fips|county_fips|\n",
      "+--------------------+----+-----+-------+--------+---------+------+----------+-----------+\n",
      "|f965f0dd-cb90-11e...|null|   AK|     US| 61.9328| -153.723|  null|       2.0|       null|\n",
      "|f192fea1-cb8e-11e...|null| null|     NE| 17.6049|  9.90205|  null|      null|       null|\n",
      "|535779c9-cb8e-11e...|null|   NV|     US| 38.5031| -116.667|  null|      32.0|       null|\n",
      "|fbfbf758-cb8f-11e...|null|   AZ|     US| 34.1685| -111.669|  null|       4.0|       null|\n",
      "|aa58c5bc-cb90-11e...|null| null|     SC|-4.29879|  55.5891|  null|      null|       null|\n",
      "|7c99c93f-cb90-11e...|null| null|     KZ| 48.0069|  66.3074|  null|      null|       null|\n",
      "|28fe4971-cb8f-11e...|null| null|     NG| 8.97718|  7.80771|  null|      null|       null|\n",
      "|0738d5fb-cb91-11e...|null| null|     GC|    null|     null|  null|      null|       null|\n",
      "|bb43ad2f-cb8e-11e...|null| null|     ZA|-28.5794|  24.0868|  null|      null|       null|\n",
      "|3eb1cb5d-cb8e-11e...|null| null|     RU|    null|     null|  null|      null|       null|\n",
      "|bd5a07a2-cb90-11e...|null|   RI|     US| 41.6009| -71.4628|  null|      44.0|       null|\n",
      "|73f1845d-cb8e-11e...|null| null|   null|    null|     null|  null|      null|       null|\n",
      "|fe9ef38c-cb8f-11e...|null| null|     CH| 46.5732|  9.93446|  null|      null|       null|\n",
      "|ccbec8f2-cb8e-11e...|null| null|     IM| 54.1995| -4.54384|  null|      null|       null|\n",
      "|fa72cada-cb8e-11e...|null| null|     KM|-11.8925|  43.3965|  null|      null|       null|\n",
      "|fcdaf4fd-cb8e-11e...|null|   NC|     US| 35.1705| -78.5747|  null|      37.0|       null|\n",
      "|9e81bb10-cb8e-11e...|null|   PR|     US| 18.2214| -66.4133|  null|      72.0|       null|\n",
      "|9fac6d61-cb8e-11e...|null| null|     CY| 35.1696|  33.1396|  null|      null|       null|\n",
      "|c8dbe00c-cb8f-11e...|null| null|     AT| 47.6964|  14.7548|  null|      null|       null|\n",
      "|b1002773-cb8f-11e...|null|   HI|     US| 19.5873| -155.427|  null|      15.0|       null|\n",
      "+--------------------+----+-----+-------+--------+---------+------+----------+-----------+\n",
      "only showing top 20 rows"
     ]
    }
   ],
   "source": [
    "spark.sql(\"\"\"\n",
    "    SELECT * from location WHERE city IS NULL or city=''\n",
    "\"\"\").show()"
   ]
  },
  {
   "cell_type": "markdown",
   "id": "754df75a-c53b-48fb-a686-03e3f222928e",
   "metadata": {},
   "source": [
    "**Observations**:\n",
    "- There are some missing values in the city, state, latitude, longitude, country, state_fips, county_fips"
   ]
  },
  {
   "cell_type": "markdown",
   "id": "620be3a0-e88a-4bc9-aaf6-bdb5d7be5ed8",
   "metadata": {},
   "source": [
    "### Analyse field Country"
   ]
  },
  {
   "cell_type": "code",
   "execution_count": 64,
   "id": "b76f8731-bbbc-4e8b-9e9d-eeed43fb319e",
   "metadata": {
    "execution": {
     "iopub.execute_input": "2022-08-20T09:51:40.032154Z",
     "iopub.status.busy": "2022-08-20T09:51:40.031899Z",
     "iopub.status.idle": "2022-08-20T09:51:49.328089Z",
     "shell.execute_reply": "2022-08-20T09:51:49.327453Z",
     "shell.execute_reply.started": "2022-08-20T09:51:40.032128Z"
    }
   },
   "outputs": [
    {
     "data": {
      "application/vnd.jupyter.widget-view+json": {
       "model_id": "dafa2189523d4ffa9ea8b941f103879c",
       "version_major": 2,
       "version_minor": 0
      },
      "text/plain": [
       "VBox()"
      ]
     },
     "metadata": {},
     "output_type": "display_data"
    },
    {
     "data": {
      "application/vnd.jupyter.widget-view+json": {
       "model_id": "",
       "version_major": 2,
       "version_minor": 0
      },
      "text/plain": [
       "FloatProgress(value=0.0, bar_style='info', description='Progress:', layout=Layout(height='25px', width='50%'),…"
      ]
     },
     "metadata": {},
     "output_type": "display_data"
    },
    {
     "name": "stdout",
     "output_type": "stream",
     "text": [
      "+--------------------+--------------------+-----+-------+--------+---------+------+----------+-----------+\n",
      "|                  id|                city|state|country|latitude|longitude|county|state_fips|county_fips|\n",
      "+--------------------+--------------------+-----+-------+--------+---------+------+----------+-----------+\n",
      "|b9dd4981-09bc-11e...|                Hilo|   HI|   null| 19.6854|   -155.1|  null|      null|       null|\n",
      "|327f81b8-09bd-11e...|            Longmont| null|   null| 49.2933|  2.74558|  null|      null|       null|\n",
      "|4a1aa0df-cb8e-11e...|          Birmingham|   AL|   null|    null|     null|  null|      null|       null|\n",
      "|8c7eed53-cb8e-11e...|         Charmichael|   CA|   null|    null|     null|  null|      null|       null|\n",
      "|980f301c-cb8f-11e...|Haneda, Ota-ku, T...| null|   null| 35.5498|  139.786|  null|      null|       null|\n",
      "|0730c945-09bd-11e...|     Kibbutz Yizrael| null|   null|    null|     null|  null|      null|       null|\n",
      "|82329f91-cb8e-11e...|          Louisville|   CO|   null| 39.9694| -105.154|  null|      null|       null|\n",
      "|df51a052-cb8f-11e...|          Burnsville|   MN|   null|    null|     null|  null|      null|       null|\n",
      "|3cd79aae-cb8e-11e...|         St. Charles|   MO|   null| 38.7504| -90.7287|  null|      null|       null|\n",
      "|b444e2a4-09bc-11e...|           Henderson|   NV|   null| 36.0076| -115.016|  null|      null|       null|\n",
      "|d9a07759-09bd-11e...|           Puyiallup|   WA|   null|    null|     null|  null|      null|       null|\n",
      "|7b714f62-cb8e-11e...|             LaBelle|   PA|   null|    null|     null|  null|      null|       null|\n",
      "|4e05e1f6-cb8e-11e...|             Waldorf|   MD|   null|  38.635| -76.9063|  null|      null|       null|\n",
      "|b77bc741-cb8e-11e...|                   S| null|   null|    null|     null|  null|      null|       null|\n",
      "|5dabdbb7-cb8e-11e...|              Denver|   CO|   null|    null|     null|  null|      null|       null|\n",
      "|5005910b-cb8f-11e...|         White Plain|   MD|   null| 39.0417| -76.9888|  null|      null|       null|\n",
      "|8c4ab33a-cb8e-11e...|             both of|   AL|   null|    null|     null|  null|      null|       null|\n",
      "|846006e0-09bc-11e...|      Fredericksburg|   MD|   null|    null|     null|  null|      null|       null|\n",
      "|a5a441dd-cb8f-11e...|          Minnetonka|   MN|   null|    null|     null|  null|      null|       null|\n",
      "|b68d3779-cb8f-11e...|             Waltham|   MA|   null|  42.389| -71.2321|  null|      null|       null|\n",
      "+--------------------+--------------------+-----+-------+--------+---------+------+----------+-----------+\n",
      "only showing top 20 rows"
     ]
    }
   ],
   "source": [
    "spark.sql(\"\"\"\n",
    "    SELECT * from location WHERE country IS NULL or country=''\n",
    "\"\"\").show()"
   ]
  },
  {
   "cell_type": "markdown",
   "id": "69e5bece-fafc-440f-af4b-2f2d5e79f7c1",
   "metadata": {},
   "source": [
    "**Observations**:\n",
    "    - Some data has missing country, but have city or state, or latitude and longitude provided, we may be able to derive the country value from this information"
   ]
  },
  {
   "cell_type": "code",
   "execution_count": 65,
   "id": "ae43d791-4897-4334-9f62-82b0d96c1343",
   "metadata": {
    "execution": {
     "iopub.execute_input": "2022-08-20T09:54:19.803258Z",
     "iopub.status.busy": "2022-08-20T09:54:19.803019Z",
     "iopub.status.idle": "2022-08-20T09:54:29.105305Z",
     "shell.execute_reply": "2022-08-20T09:54:29.104728Z",
     "shell.execute_reply.started": "2022-08-20T09:54:19.803234Z"
    },
    "tags": []
   },
   "outputs": [
    {
     "data": {
      "application/vnd.jupyter.widget-view+json": {
       "model_id": "08ce007e3fd3406a8ec7f640e94f30cd",
       "version_major": 2,
       "version_minor": 0
      },
      "text/plain": [
       "VBox()"
      ]
     },
     "metadata": {},
     "output_type": "display_data"
    },
    {
     "data": {
      "application/vnd.jupyter.widget-view+json": {
       "model_id": "",
       "version_major": 2,
       "version_minor": 0
      },
      "text/plain": [
       "FloatProgress(value=0.0, bar_style='info', description='Progress:', layout=Layout(height='25px', width='50%'),…"
      ]
     },
     "metadata": {},
     "output_type": "display_data"
    },
    {
     "name": "stdout",
     "output_type": "stream",
     "text": [
      "+--------------------+----+-----+-------+--------+---------+------+----------+-----------+\n",
      "|                  id|city|state|country|latitude|longitude|county|state_fips|county_fips|\n",
      "+--------------------+----+-----+-------+--------+---------+------+----------+-----------+\n",
      "|3cb80671-cb8e-11e...|null| null|   null|    null|     null|  null|      null|       null|\n",
      "|73f1845d-cb8e-11e...|null| null|   null|    null|     null|  null|      null|       null|\n",
      "+--------------------+----+-----+-------+--------+---------+------+----------+-----------+"
     ]
    }
   ],
   "source": [
    "spark.sql(\"\"\"\n",
    "    SELECT * from location WHERE city is null and state is null and country is null and latitude is null and longitude is null and county is null and state_fips is null and county_fips is null\n",
    "\"\"\").show()"
   ]
  },
  {
   "cell_type": "markdown",
   "id": "d89097bb-299d-4866-80ea-893178e22a1e",
   "metadata": {},
   "source": [
    "**Observations**:\n",
    "- There are two data which does not have any location information at all"
   ]
  },
  {
   "cell_type": "markdown",
   "id": "0bba9ad1-c569-43db-990e-0910fe194c4f",
   "metadata": {},
   "source": [
    "## Exploratory Analysis on WIPO"
   ]
  },
  {
   "cell_type": "code",
   "execution_count": 66,
   "id": "ba3c338c-4fa4-436a-b0d5-90333daecc70",
   "metadata": {
    "execution": {
     "iopub.execute_input": "2022-08-20T09:55:36.563698Z",
     "iopub.status.busy": "2022-08-20T09:55:36.563430Z",
     "iopub.status.idle": "2022-08-20T09:55:36.626554Z",
     "shell.execute_reply": "2022-08-20T09:55:36.625901Z",
     "shell.execute_reply.started": "2022-08-20T09:55:36.563671Z"
    }
   },
   "outputs": [
    {
     "data": {
      "application/vnd.jupyter.widget-view+json": {
       "model_id": "def77675c3be461f84682e1f6405bfa8",
       "version_major": 2,
       "version_minor": 0
      },
      "text/plain": [
       "VBox()"
      ]
     },
     "metadata": {},
     "output_type": "display_data"
    },
    {
     "data": {
      "application/vnd.jupyter.widget-view+json": {
       "model_id": "",
       "version_major": 2,
       "version_minor": 0
      },
      "text/plain": [
       "FloatProgress(value=0.0, bar_style='info', description='Progress:', layout=Layout(height='25px', width='50%'),…"
      ]
     },
     "metadata": {},
     "output_type": "display_data"
    }
   ],
   "source": [
    "wipo_path = \"s3://patents-analytics/raw/wipo.tsv\""
   ]
  },
  {
   "cell_type": "code",
   "execution_count": 67,
   "id": "0251da4c-6912-4c93-a023-2aa302e509fc",
   "metadata": {
    "execution": {
     "iopub.execute_input": "2022-08-20T09:55:54.439436Z",
     "iopub.status.busy": "2022-08-20T09:55:54.439206Z",
     "iopub.status.idle": "2022-08-20T09:56:07.755098Z",
     "shell.execute_reply": "2022-08-20T09:56:07.754410Z",
     "shell.execute_reply.started": "2022-08-20T09:55:54.439412Z"
    }
   },
   "outputs": [
    {
     "data": {
      "application/vnd.jupyter.widget-view+json": {
       "model_id": "bb31f8b532c54eef862d99e006fd594e",
       "version_major": 2,
       "version_minor": 0
      },
      "text/plain": [
       "VBox()"
      ]
     },
     "metadata": {},
     "output_type": "display_data"
    },
    {
     "data": {
      "application/vnd.jupyter.widget-view+json": {
       "model_id": "",
       "version_major": 2,
       "version_minor": 0
      },
      "text/plain": [
       "FloatProgress(value=0.0, bar_style='info', description='Progress:', layout=Layout(height='25px', width='50%'),…"
      ]
     },
     "metadata": {},
     "output_type": "display_data"
    }
   ],
   "source": [
    "wipo = spark.read.options(header='True', delimiter='\\t', inferSchema='True', escape=\"\\\"\", multiline='True').csv(wipo_path).repartition(10)"
   ]
  },
  {
   "cell_type": "code",
   "execution_count": 68,
   "id": "daed9227-5279-4d56-8aa6-ef56abb9264f",
   "metadata": {
    "execution": {
     "iopub.execute_input": "2022-08-20T09:56:09.243365Z",
     "iopub.status.busy": "2022-08-20T09:56:09.243143Z",
     "iopub.status.idle": "2022-08-20T09:56:30.576766Z",
     "shell.execute_reply": "2022-08-20T09:56:30.576037Z",
     "shell.execute_reply.started": "2022-08-20T09:56:09.243342Z"
    }
   },
   "outputs": [
    {
     "data": {
      "application/vnd.jupyter.widget-view+json": {
       "model_id": "26212561597d4188b8aa07a756b20659",
       "version_major": 2,
       "version_minor": 0
      },
      "text/plain": [
       "VBox()"
      ]
     },
     "metadata": {},
     "output_type": "display_data"
    },
    {
     "data": {
      "application/vnd.jupyter.widget-view+json": {
       "model_id": "",
       "version_major": 2,
       "version_minor": 0
      },
      "text/plain": [
       "FloatProgress(value=0.0, bar_style='info', description='Progress:', layout=Layout(height='25px', width='50%'),…"
      ]
     },
     "metadata": {},
     "output_type": "display_data"
    },
    {
     "name": "stdout",
     "output_type": "stream",
     "text": [
      "[Row(patent_id=9219777, field_id=6.0, sequence=1), Row(patent_id=6262715, field_id=6.0, sequence=0), Row(patent_id=10123471, field_id=29.0, sequence=0), Row(patent_id=8779043, field_id=17.0, sequence=0), Row(patent_id=10281292, field_id=12.0, sequence=0)]"
     ]
    }
   ],
   "source": [
    "wipo.take(5)"
   ]
  },
  {
   "cell_type": "code",
   "execution_count": 69,
   "id": "8d08348e-1b4e-4919-ad96-de21627b8839",
   "metadata": {
    "execution": {
     "iopub.execute_input": "2022-08-20T09:56:30.577970Z",
     "iopub.status.busy": "2022-08-20T09:56:30.577792Z",
     "iopub.status.idle": "2022-08-20T09:56:39.879631Z",
     "shell.execute_reply": "2022-08-20T09:56:39.878921Z",
     "shell.execute_reply.started": "2022-08-20T09:56:30.577947Z"
    }
   },
   "outputs": [
    {
     "data": {
      "application/vnd.jupyter.widget-view+json": {
       "model_id": "74dd3648cbef4ae9b9bb8b3cfb3e8c8a",
       "version_major": 2,
       "version_minor": 0
      },
      "text/plain": [
       "VBox()"
      ]
     },
     "metadata": {},
     "output_type": "display_data"
    },
    {
     "data": {
      "application/vnd.jupyter.widget-view+json": {
       "model_id": "",
       "version_major": 2,
       "version_minor": 0
      },
      "text/plain": [
       "FloatProgress(value=0.0, bar_style='info', description='Progress:', layout=Layout(height='25px', width='50%'),…"
      ]
     },
     "metadata": {},
     "output_type": "display_data"
    },
    {
     "name": "stdout",
     "output_type": "stream",
     "text": [
      "10658264"
     ]
    }
   ],
   "source": [
    "wipo.count()"
   ]
  },
  {
   "cell_type": "code",
   "execution_count": 70,
   "id": "2477e18b-f7a4-448c-9b12-8a9fbb4093e6",
   "metadata": {
    "execution": {
     "iopub.execute_input": "2022-08-20T09:56:39.880981Z",
     "iopub.status.busy": "2022-08-20T09:56:39.880808Z",
     "iopub.status.idle": "2022-08-20T09:56:39.942217Z",
     "shell.execute_reply": "2022-08-20T09:56:39.941619Z",
     "shell.execute_reply.started": "2022-08-20T09:56:39.880958Z"
    }
   },
   "outputs": [
    {
     "data": {
      "application/vnd.jupyter.widget-view+json": {
       "model_id": "ea41c74f2a45493a97b9d57602b3a79f",
       "version_major": 2,
       "version_minor": 0
      },
      "text/plain": [
       "VBox()"
      ]
     },
     "metadata": {},
     "output_type": "display_data"
    },
    {
     "data": {
      "application/vnd.jupyter.widget-view+json": {
       "model_id": "",
       "version_major": 2,
       "version_minor": 0
      },
      "text/plain": [
       "FloatProgress(value=0.0, bar_style='info', description='Progress:', layout=Layout(height='25px', width='50%'),…"
      ]
     },
     "metadata": {},
     "output_type": "display_data"
    },
    {
     "name": "stdout",
     "output_type": "stream",
     "text": [
      "root\n",
      " |-- patent_id: integer (nullable = true)\n",
      " |-- field_id: double (nullable = true)\n",
      " |-- sequence: integer (nullable = true)"
     ]
    }
   ],
   "source": [
    "wipo.printSchema()"
   ]
  },
  {
   "cell_type": "code",
   "execution_count": 71,
   "id": "c8b5b066-23ca-48fb-ae0c-48da28898671",
   "metadata": {
    "execution": {
     "iopub.execute_input": "2022-08-20T09:56:39.943384Z",
     "iopub.status.busy": "2022-08-20T09:56:39.943203Z",
     "iopub.status.idle": "2022-08-20T09:56:40.620363Z",
     "shell.execute_reply": "2022-08-20T09:56:40.560554Z",
     "shell.execute_reply.started": "2022-08-20T09:56:39.943362Z"
    }
   },
   "outputs": [
    {
     "data": {
      "application/vnd.jupyter.widget-view+json": {
       "model_id": "c3cd73490bef4e4d84083340f412fabc",
       "version_major": 2,
       "version_minor": 0
      },
      "text/plain": [
       "VBox()"
      ]
     },
     "metadata": {},
     "output_type": "display_data"
    },
    {
     "data": {
      "application/vnd.jupyter.widget-view+json": {
       "model_id": "",
       "version_major": 2,
       "version_minor": 0
      },
      "text/plain": [
       "FloatProgress(value=0.0, bar_style='info', description='Progress:', layout=Layout(height='25px', width='50%'),…"
      ]
     },
     "metadata": {},
     "output_type": "display_data"
    }
   ],
   "source": [
    "wipo.createOrReplaceTempView('wipo')"
   ]
  },
  {
   "cell_type": "markdown",
   "id": "f938081e-9650-4fa7-aa06-27100da0faba",
   "metadata": {},
   "source": [
    "### Check duplicates"
   ]
  },
  {
   "cell_type": "code",
   "execution_count": 73,
   "id": "6bbd8d36-600e-45ee-adba-33612b79b5db",
   "metadata": {
    "execution": {
     "iopub.execute_input": "2022-08-20T09:58:49.673815Z",
     "iopub.status.busy": "2022-08-20T09:58:49.673586Z",
     "iopub.status.idle": "2022-08-20T09:59:17.039529Z",
     "shell.execute_reply": "2022-08-20T09:59:17.026173Z",
     "shell.execute_reply.started": "2022-08-20T09:58:49.673791Z"
    }
   },
   "outputs": [
    {
     "data": {
      "application/vnd.jupyter.widget-view+json": {
       "model_id": "9f6dc072a363463b925310151f45b61f",
       "version_major": 2,
       "version_minor": 0
      },
      "text/plain": [
       "VBox()"
      ]
     },
     "metadata": {},
     "output_type": "display_data"
    },
    {
     "data": {
      "application/vnd.jupyter.widget-view+json": {
       "model_id": "",
       "version_major": 2,
       "version_minor": 0
      },
      "text/plain": [
       "FloatProgress(value=0.0, bar_style='info', description='Progress:', layout=Layout(height='25px', width='50%'),…"
      ]
     },
     "metadata": {},
     "output_type": "display_data"
    },
    {
     "name": "stdout",
     "output_type": "stream",
     "text": [
      "+---------+--------+--------+-----+\n",
      "|patent_id|field_id|sequence|count|\n",
      "+---------+--------+--------+-----+\n",
      "+---------+--------+--------+-----+"
     ]
    }
   ],
   "source": [
    "spark.sql(\"\"\"\n",
    "    SELECT patent_id, field_id, sequence, count(*) as count from wipo GROUP BY patent_id, field_id, sequence HAVING count>1\n",
    "\"\"\").show()"
   ]
  },
  {
   "cell_type": "markdown",
   "id": "25df84b3-fea4-4d34-abfe-cc5cb1fecee9",
   "metadata": {},
   "source": [
    "**Observations**:\n",
    "- no duplicates"
   ]
  },
  {
   "cell_type": "markdown",
   "id": "e743d072-b7a7-4119-9664-f8979d49d15a",
   "metadata": {},
   "source": [
    "### Analyse field patent_id"
   ]
  },
  {
   "cell_type": "code",
   "execution_count": 72,
   "id": "964d363b-a830-49a8-afd3-d360ae0685f3",
   "metadata": {
    "execution": {
     "iopub.execute_input": "2022-08-20T09:57:42.428198Z",
     "iopub.status.busy": "2022-08-20T09:57:42.427853Z",
     "iopub.status.idle": "2022-08-20T09:58:17.793864Z",
     "shell.execute_reply": "2022-08-20T09:58:17.792983Z",
     "shell.execute_reply.started": "2022-08-20T09:57:42.428160Z"
    }
   },
   "outputs": [
    {
     "data": {
      "application/vnd.jupyter.widget-view+json": {
       "model_id": "bcc7a4a1a7154a6393aa35a1e7132888",
       "version_major": 2,
       "version_minor": 0
      },
      "text/plain": [
       "VBox()"
      ]
     },
     "metadata": {},
     "output_type": "display_data"
    },
    {
     "data": {
      "application/vnd.jupyter.widget-view+json": {
       "model_id": "",
       "version_major": 2,
       "version_minor": 0
      },
      "text/plain": [
       "FloatProgress(value=0.0, bar_style='info', description='Progress:', layout=Layout(height='25px', width='50%'),…"
      ]
     },
     "metadata": {},
     "output_type": "display_data"
    },
    {
     "name": "stdout",
     "output_type": "stream",
     "text": [
      "+-------------------------+\n",
      "|count(DISTINCT patent_id)|\n",
      "+-------------------------+\n",
      "|                  7221215|\n",
      "+-------------------------+"
     ]
    }
   ],
   "source": [
    "spark.sql(\"\"\"\n",
    "    SELECT COUNT(DISTINCT(patent_id)) from wipo\n",
    "\"\"\").show()"
   ]
  },
  {
   "cell_type": "code",
   "execution_count": 76,
   "id": "32a0a274-4b0c-48d6-be8d-3bce368cf70d",
   "metadata": {
    "execution": {
     "iopub.execute_input": "2022-08-20T10:09:12.050508Z",
     "iopub.status.busy": "2022-08-20T10:09:12.050246Z",
     "iopub.status.idle": "2022-08-20T10:13:01.947631Z",
     "shell.execute_reply": "2022-08-20T10:13:01.946834Z",
     "shell.execute_reply.started": "2022-08-20T10:09:12.050472Z"
    },
    "tags": []
   },
   "outputs": [
    {
     "data": {
      "application/vnd.jupyter.widget-view+json": {
       "model_id": "f5da07d91835469eb16db76ae3c0ae9f",
       "version_major": 2,
       "version_minor": 0
      },
      "text/plain": [
       "VBox()"
      ]
     },
     "metadata": {},
     "output_type": "display_data"
    },
    {
     "data": {
      "application/vnd.jupyter.widget-view+json": {
       "model_id": "",
       "version_major": 2,
       "version_minor": 0
      },
      "text/plain": [
       "FloatProgress(value=0.0, bar_style='info', description='Progress:', layout=Layout(height='25px', width='50%'),…"
      ]
     },
     "metadata": {},
     "output_type": "display_data"
    },
    {
     "name": "stdout",
     "output_type": "stream",
     "text": [
      "+-------+-------+-------+-------+-------------------+--------------------+--------------------+----+----------+--------------------+---------+---------+--------+--------+\n",
      "|     id|   type| number|country|               date|            abstract|               title|kind|num_claims|            filename|withdrawn|patent_id|field_id|sequence|\n",
      "+-------+-------+-------+-------+-------------------+--------------------+--------------------+----+----------+--------------------+---------+---------+--------+--------+\n",
      "|3962445|utility|3962445|     US|1976-06-08 00:00:00| A class of 4-hyd...|Anti-allergenic c...|   A|        58|pftaps19760608_wk...|        0|     null|    null|    null|\n",
      "|3981900|utility|3981900|     US|1976-09-21 00:00:00| The addition of ...|Preparation of al...|   A|         9|pftaps19760921_wk...|        0|     null|    null|    null|\n",
      "|3998879|utility|3998879|     US|1976-12-21 00:00:00| A new class of a...|Arylsulfonylcarba...|   A|         4|pftaps19761221_wk...|        0|     null|    null|    null|\n",
      "|4034041|utility|4034041|     US|1977-07-05 00:00:00| 1,3-Bridged-2-am...|1,3-Bridged amino...|   A|         4|pftaps19770705_wk...|        0|     null|    null|    null|\n",
      "|4323706|utility|4323706|     US|1982-04-06 00:00:00| Acetaldehyde oxi...|Production of ace...|   A|        11|pftaps19820406_wk...|        0|     null|    null|    null|\n",
      "|5973580|utility|5973580|     US|1999-10-26 00:00:00| A nonradiative p...|Nonradiative plan...|   A|        10|pftaps19991026_wk...|        1|     null|    null|    null|\n",
      "|6028933|utility|6028933|     US|2000-02-22 00:00:00| The specificatio...|Encrypting method...|   A|        34|pftaps20000222_wk...|        0|     null|    null|    null|\n",
      "|6225337|utility|6225337|     US|2001-05-01 00:00:00| The present inve...|    Use of efomycins|   A|         9|pftaps20010501_wk...|        1|     null|    null|    null|\n",
      "|6816817|utility|6816817|     US|2004-11-09 00:00:00|A technique for m...|Networked control...|  B1|        36|        pg041109.zip|        0|     null|    null|    null|\n",
      "|7000006|utility|7000006|     US|2006-02-14 00:00:00|A method and appa...|Implementing netw...|  B1|        17|       ipg060214.xml|        0|     null|    null|    null|\n",
      "|7263609|utility|7263609|     US|2007-08-28 00:00:00|A packet quaranti...|Method and appara...|  B1|        18|       ipg070828.xml|        0|     null|    null|    null|\n",
      "|7275260|utility|7275260|     US|2007-09-25 00:00:00|A method for enha...|Enhanced privacy ...|  B2|        10|       ipg070925.xml|        0|     null|    null|    null|\n",
      "|7318097|utility|7318097|     US|2008-01-08 00:00:00|A method for dete...|Security checking...|  B2|         5|       ipg080108.xml|        0|     null|    null|    null|\n",
      "|7432833|utility|7432833|     US|2008-10-07 00:00:00|Systems and metho...|Data compression ...|  B2|        80|       ipg081007.xml|        1|     null|    null|    null|\n",
      "|7436770|utility|7436770|     US|2008-10-14 00:00:00|The packet rate l...|Metering packet f...|  B2|         6|       ipg081014.xml|        0|     null|    null|    null|\n",
      "|7451476|utility|7451476|     US|2008-11-11 00:00:00|A services delive...|Method and appara...|  B1|        37|       ipg081111.xml|        0|     null|    null|    null|\n",
      "|7519986|utility|7519986|     US|2009-04-14 00:00:00|A router based au...|Method and appara...|  B2|        20|       ipg090414.xml|        0|     null|    null|    null|\n",
      "|7529933|utility|7529933|     US|2009-05-05 00:00:00|An authentication...|       TLS tunneling|  B2|        33|       ipg090505.xml|        0|     null|    null|    null|\n",
      "|7543141|utility|7543141|     US|2009-06-02 00:00:00|A method and appa...|Method and appara...|  B2|        12|       ipg090602.xml|        0|     null|    null|    null|\n",
      "|7601867|utility|7601867|     US|2009-10-13 00:00:00|A diamine of form...|Sulphonylated dip...|  B2|        20|       ipg091013.xml|        1|     null|    null|    null|\n",
      "+-------+-------+-------+-------+-------------------+--------------------+--------------------+----+----------+--------------------+---------+---------+--------+--------+\n",
      "only showing top 20 rows"
     ]
    }
   ],
   "source": [
    "spark.sql(\"\"\"\n",
    "    SELECT * from patent LEFT JOIN wipo ON patent.id = wipo.patent_id WHERE wipo.patent_id IS NULL\n",
    "\"\"\").show()"
   ]
  },
  {
   "cell_type": "markdown",
   "id": "838c50b9-d19a-4844-ba3f-f99012d4d6eb",
   "metadata": {},
   "source": [
    "**Observations**:\n",
    "- There are some patent that do not have WIPO classification"
   ]
  },
  {
   "cell_type": "code",
   "execution_count": 77,
   "id": "bc4c23f6-a1ee-4ebe-a7d8-5a49205bb4eb",
   "metadata": {
    "execution": {
     "iopub.execute_input": "2022-08-20T10:13:01.948852Z",
     "iopub.status.busy": "2022-08-20T10:13:01.948678Z",
     "iopub.status.idle": "2022-08-20T10:17:09.952353Z",
     "shell.execute_reply": "2022-08-20T10:17:09.951639Z",
     "shell.execute_reply.started": "2022-08-20T10:13:01.948829Z"
    }
   },
   "outputs": [
    {
     "data": {
      "application/vnd.jupyter.widget-view+json": {
       "model_id": "fc9cb064e7344b389e48f905d8cce037",
       "version_major": 2,
       "version_minor": 0
      },
      "text/plain": [
       "VBox()"
      ]
     },
     "metadata": {},
     "output_type": "display_data"
    },
    {
     "data": {
      "application/vnd.jupyter.widget-view+json": {
       "model_id": "",
       "version_major": 2,
       "version_minor": 0
      },
      "text/plain": [
       "FloatProgress(value=0.0, bar_style='info', description='Progress:', layout=Layout(height='25px', width='50%'),…"
      ]
     },
     "metadata": {},
     "output_type": "display_data"
    },
    {
     "name": "stdout",
     "output_type": "stream",
     "text": [
      "+---+----+------+-------+----+--------+-----+----+----------+--------+---------+---------+--------+--------+\n",
      "| id|type|number|country|date|abstract|title|kind|num_claims|filename|withdrawn|patent_id|field_id|sequence|\n",
      "+---+----+------+-------+----+--------+-----+----+----------+--------+---------+---------+--------+--------+\n",
      "+---+----+------+-------+----+--------+-----+----+----------+--------+---------+---------+--------+--------+"
     ]
    }
   ],
   "source": [
    "spark.sql(\"\"\"\n",
    "    SELECT * from patent RIGHT JOIN wipo ON patent.id = wipo.patent_id WHERE patent.id IS NULL\n",
    "\"\"\").show()"
   ]
  },
  {
   "cell_type": "markdown",
   "id": "240e9374-83f0-4e3d-9087-98324497c4ce",
   "metadata": {},
   "source": [
    "**Observations**:\n",
    "- All patent_id in WIPO table can be found in patent table"
   ]
  },
  {
   "cell_type": "markdown",
   "id": "6412e36d-178b-4c9f-a195-2fcf811f3aaf",
   "metadata": {},
   "source": [
    "### Analyse field_id"
   ]
  },
  {
   "cell_type": "code",
   "execution_count": 90,
   "id": "814e5d44-c770-4274-b770-c77f241e50d3",
   "metadata": {
    "execution": {
     "iopub.execute_input": "2022-08-20T10:27:11.422032Z",
     "iopub.status.busy": "2022-08-20T10:27:11.421786Z",
     "iopub.status.idle": "2022-08-20T10:27:34.770669Z",
     "shell.execute_reply": "2022-08-20T10:27:34.770011Z",
     "shell.execute_reply.started": "2022-08-20T10:27:11.422007Z"
    },
    "tags": []
   },
   "outputs": [
    {
     "data": {
      "application/vnd.jupyter.widget-view+json": {
       "model_id": "168e5d3632074691bb1ffc4656859c0e",
       "version_major": 2,
       "version_minor": 0
      },
      "text/plain": [
       "VBox()"
      ]
     },
     "metadata": {},
     "output_type": "display_data"
    },
    {
     "data": {
      "application/vnd.jupyter.widget-view+json": {
       "model_id": "",
       "version_major": 2,
       "version_minor": 0
      },
      "text/plain": [
       "FloatProgress(value=0.0, bar_style='info', description='Progress:', layout=Layout(height='25px', width='50%'),…"
      ]
     },
     "metadata": {},
     "output_type": "display_data"
    },
    {
     "name": "stdout",
     "output_type": "stream",
     "text": [
      "+--------+\n",
      "|field_id|\n",
      "+--------+\n",
      "|    29.0|\n",
      "|     1.0|\n",
      "|    28.0|\n",
      "|    13.0|\n",
      "|    26.0|\n",
      "|    21.0|\n",
      "|    17.0|\n",
      "|    27.0|\n",
      "|     6.0|\n",
      "|    20.0|\n",
      "|    15.0|\n",
      "|     5.0|\n",
      "|    35.0|\n",
      "|    25.0|\n",
      "|    23.0|\n",
      "|    19.0|\n",
      "|     2.0|\n",
      "|    24.0|\n",
      "|    34.0|\n",
      "|     4.0|\n",
      "|    31.0|\n",
      "|    14.0|\n",
      "|    10.0|\n",
      "|    30.0|\n",
      "|    32.0|\n",
      "|     8.0|\n",
      "|     7.0|\n",
      "|    18.0|\n",
      "|    11.0|\n",
      "|    22.0|\n",
      "|     3.0|\n",
      "|    33.0|\n",
      "|     9.0|\n",
      "|    16.0|\n",
      "|    12.0|\n",
      "+--------+"
     ]
    }
   ],
   "source": [
    "spark.sql(\"\"\"\n",
    "    SELECT distinct(field_id) from wipo\n",
    "\"\"\").show(50)"
   ]
  },
  {
   "cell_type": "markdown",
   "id": "c24096db-ae59-46ee-a508-88c4e62efa23",
   "metadata": {},
   "source": [
    "**Observations**:\n",
    "- The field_id ranges from 1 to 35 (in line with WIPO classification)"
   ]
  },
  {
   "cell_type": "markdown",
   "id": "28e5e7e8-f7a7-41ec-926c-817038a503c3",
   "metadata": {},
   "source": [
    "### Analyse sequence"
   ]
  },
  {
   "cell_type": "code",
   "execution_count": 82,
   "id": "329b24f2-870f-4b34-aced-77c0b4434b7f",
   "metadata": {
    "execution": {
     "iopub.execute_input": "2022-08-20T10:21:21.321284Z",
     "iopub.status.busy": "2022-08-20T10:21:21.321053Z",
     "iopub.status.idle": "2022-08-20T10:21:32.625258Z",
     "shell.execute_reply": "2022-08-20T10:21:32.624688Z",
     "shell.execute_reply.started": "2022-08-20T10:21:21.321258Z"
    }
   },
   "outputs": [
    {
     "data": {
      "application/vnd.jupyter.widget-view+json": {
       "model_id": "000df88ef5e14178a33ec704a90ae6d6",
       "version_major": 2,
       "version_minor": 0
      },
      "text/plain": [
       "VBox()"
      ]
     },
     "metadata": {},
     "output_type": "display_data"
    },
    {
     "data": {
      "application/vnd.jupyter.widget-view+json": {
       "model_id": "",
       "version_major": 2,
       "version_minor": 0
      },
      "text/plain": [
       "FloatProgress(value=0.0, bar_style='info', description='Progress:', layout=Layout(height='25px', width='50%'),…"
      ]
     },
     "metadata": {},
     "output_type": "display_data"
    },
    {
     "name": "stdout",
     "output_type": "stream",
     "text": [
      "+--------+\n",
      "|sequence|\n",
      "+--------+\n",
      "|       1|\n",
      "|       6|\n",
      "|       3|\n",
      "|       4|\n",
      "|       5|\n",
      "|       2|\n",
      "|       7|\n",
      "|       0|\n",
      "+--------+"
     ]
    }
   ],
   "source": [
    "spark.sql(\"\"\"\n",
    "    SELECT DISTINCT(sequence) from wipo\n",
    "\"\"\").show()"
   ]
  },
  {
   "cell_type": "markdown",
   "id": "cdb0ff78-4e6b-4d11-930f-ef961e178307",
   "metadata": {},
   "source": [
    "**Observations**:\n",
    "- The classification sequence ranges from 0 to 7"
   ]
  },
  {
   "cell_type": "markdown",
   "id": "6bd301a9-77d4-43ef-8e28-8dcf1ea3c95f",
   "metadata": {},
   "source": [
    "## Exploratory Analysis on WIPO_FIELD"
   ]
  },
  {
   "cell_type": "code",
   "execution_count": 83,
   "id": "478bdcb3-7c56-4fdc-8fb6-2d9366222235",
   "metadata": {
    "execution": {
     "iopub.execute_input": "2022-08-20T10:24:29.668188Z",
     "iopub.status.busy": "2022-08-20T10:24:29.667943Z",
     "iopub.status.idle": "2022-08-20T10:24:29.720785Z",
     "shell.execute_reply": "2022-08-20T10:24:29.720193Z",
     "shell.execute_reply.started": "2022-08-20T10:24:29.668164Z"
    }
   },
   "outputs": [
    {
     "data": {
      "application/vnd.jupyter.widget-view+json": {
       "model_id": "c324696fd25a43e6a3f543e05d206e54",
       "version_major": 2,
       "version_minor": 0
      },
      "text/plain": [
       "VBox()"
      ]
     },
     "metadata": {},
     "output_type": "display_data"
    },
    {
     "data": {
      "application/vnd.jupyter.widget-view+json": {
       "model_id": "",
       "version_major": 2,
       "version_minor": 0
      },
      "text/plain": [
       "FloatProgress(value=0.0, bar_style='info', description='Progress:', layout=Layout(height='25px', width='50%'),…"
      ]
     },
     "metadata": {},
     "output_type": "display_data"
    }
   ],
   "source": [
    "wipo_field_path = \"s3://patents-analytics/raw/wipo_field.tsv\""
   ]
  },
  {
   "cell_type": "code",
   "execution_count": 85,
   "id": "13b34a11-f672-4cd0-925d-1c15c12d38c9",
   "metadata": {
    "execution": {
     "iopub.execute_input": "2022-08-20T10:24:59.317577Z",
     "iopub.status.busy": "2022-08-20T10:24:59.317347Z",
     "iopub.status.idle": "2022-08-20T10:25:00.107271Z",
     "shell.execute_reply": "2022-08-20T10:25:00.106589Z",
     "shell.execute_reply.started": "2022-08-20T10:24:59.317552Z"
    },
    "tags": []
   },
   "outputs": [
    {
     "data": {
      "application/vnd.jupyter.widget-view+json": {
       "model_id": "13e9c2df316243468f1f1807a34cc3eb",
       "version_major": 2,
       "version_minor": 0
      },
      "text/plain": [
       "VBox()"
      ]
     },
     "metadata": {},
     "output_type": "display_data"
    },
    {
     "data": {
      "application/vnd.jupyter.widget-view+json": {
       "model_id": "",
       "version_major": 2,
       "version_minor": 0
      },
      "text/plain": [
       "FloatProgress(value=0.0, bar_style='info', description='Progress:', layout=Layout(height='25px', width='50%'),…"
      ]
     },
     "metadata": {},
     "output_type": "display_data"
    }
   ],
   "source": [
    "wipo_field = spark.read.options(header='True', delimiter='\\t', inferSchema='True', escape=\"\\\"\", multiline='True').csv(wipo_field_path).repartition(2)"
   ]
  },
  {
   "cell_type": "code",
   "execution_count": 86,
   "id": "78153f96-d66e-4294-ba19-7099b06a6303",
   "metadata": {
    "execution": {
     "iopub.execute_input": "2022-08-20T10:25:06.059649Z",
     "iopub.status.busy": "2022-08-20T10:25:06.059382Z",
     "iopub.status.idle": "2022-08-20T10:25:07.340477Z",
     "shell.execute_reply": "2022-08-20T10:25:07.339755Z",
     "shell.execute_reply.started": "2022-08-20T10:25:06.059620Z"
    }
   },
   "outputs": [
    {
     "data": {
      "application/vnd.jupyter.widget-view+json": {
       "model_id": "d49d44cca25b49d7b13c97f46343418f",
       "version_major": 2,
       "version_minor": 0
      },
      "text/plain": [
       "VBox()"
      ]
     },
     "metadata": {},
     "output_type": "display_data"
    },
    {
     "data": {
      "application/vnd.jupyter.widget-view+json": {
       "model_id": "",
       "version_major": 2,
       "version_minor": 0
      },
      "text/plain": [
       "FloatProgress(value=0.0, bar_style='info', description='Progress:', layout=Layout(height='25px', width='50%'),…"
      ]
     },
     "metadata": {},
     "output_type": "display_data"
    },
    {
     "name": "stdout",
     "output_type": "stream",
     "text": [
      "[Row(id='6', sector_title='Electrical engineering', field_title='Computer technology'), Row(id='D15', sector_title='Design', field_title='Machines, not elsewhere specified'), Row(id='9', sector_title='Instruments', field_title='Optics'), Row(id='D34', sector_title='Design', field_title='Material or Article Handling Equipment'), Row(id='34', sector_title='Other fields', field_title='Other consumer goods')]"
     ]
    }
   ],
   "source": [
    "wipo_field.take(5)"
   ]
  },
  {
   "cell_type": "code",
   "execution_count": 87,
   "id": "ac4f49a8-6fde-4942-a08d-fb54e685c7dd",
   "metadata": {
    "execution": {
     "iopub.execute_input": "2022-08-20T10:25:11.507358Z",
     "iopub.status.busy": "2022-08-20T10:25:11.507122Z",
     "iopub.status.idle": "2022-08-20T10:25:11.561215Z",
     "shell.execute_reply": "2022-08-20T10:25:11.560631Z",
     "shell.execute_reply.started": "2022-08-20T10:25:11.507333Z"
    }
   },
   "outputs": [
    {
     "data": {
      "application/vnd.jupyter.widget-view+json": {
       "model_id": "c9a1ad509af44adc8200808305fc00e8",
       "version_major": 2,
       "version_minor": 0
      },
      "text/plain": [
       "VBox()"
      ]
     },
     "metadata": {},
     "output_type": "display_data"
    },
    {
     "data": {
      "application/vnd.jupyter.widget-view+json": {
       "model_id": "",
       "version_major": 2,
       "version_minor": 0
      },
      "text/plain": [
       "FloatProgress(value=0.0, bar_style='info', description='Progress:', layout=Layout(height='25px', width='50%'),…"
      ]
     },
     "metadata": {},
     "output_type": "display_data"
    },
    {
     "name": "stdout",
     "output_type": "stream",
     "text": [
      "root\n",
      " |-- id: string (nullable = true)\n",
      " |-- sector_title: string (nullable = true)\n",
      " |-- field_title: string (nullable = true)"
     ]
    }
   ],
   "source": [
    "wipo_field.printSchema()"
   ]
  },
  {
   "cell_type": "code",
   "execution_count": 89,
   "id": "46c02597-76b4-4c37-ae88-5fe3554e553a",
   "metadata": {
    "execution": {
     "iopub.execute_input": "2022-08-20T10:25:19.880775Z",
     "iopub.status.busy": "2022-08-20T10:25:19.880550Z",
     "iopub.status.idle": "2022-08-20T10:25:20.657944Z",
     "shell.execute_reply": "2022-08-20T10:25:20.657121Z",
     "shell.execute_reply.started": "2022-08-20T10:25:19.880751Z"
    },
    "tags": []
   },
   "outputs": [
    {
     "data": {
      "application/vnd.jupyter.widget-view+json": {
       "model_id": "e0adebcd543b4a4280293eaafa6f531f",
       "version_major": 2,
       "version_minor": 0
      },
      "text/plain": [
       "VBox()"
      ]
     },
     "metadata": {},
     "output_type": "display_data"
    },
    {
     "data": {
      "application/vnd.jupyter.widget-view+json": {
       "model_id": "",
       "version_major": 2,
       "version_minor": 0
      },
      "text/plain": [
       "FloatProgress(value=0.0, bar_style='info', description='Progress:', layout=Layout(height='25px', width='50%'),…"
      ]
     },
     "metadata": {},
     "output_type": "display_data"
    },
    {
     "name": "stdout",
     "output_type": "stream",
     "text": [
      "70"
     ]
    }
   ],
   "source": [
    "wipo_field.count()"
   ]
  },
  {
   "cell_type": "code",
   "execution_count": 93,
   "id": "6ff0e2db-f10a-4dd5-be87-0bec177666a2",
   "metadata": {
    "execution": {
     "iopub.execute_input": "2022-08-20T10:28:54.274325Z",
     "iopub.status.busy": "2022-08-20T10:28:54.274102Z",
     "iopub.status.idle": "2022-08-20T10:28:54.335621Z",
     "shell.execute_reply": "2022-08-20T10:28:54.334684Z",
     "shell.execute_reply.started": "2022-08-20T10:28:54.274301Z"
    }
   },
   "outputs": [
    {
     "data": {
      "application/vnd.jupyter.widget-view+json": {
       "model_id": "2c1f89ff65d04c899f2698d1778a25ee",
       "version_major": 2,
       "version_minor": 0
      },
      "text/plain": [
       "VBox()"
      ]
     },
     "metadata": {},
     "output_type": "display_data"
    },
    {
     "data": {
      "application/vnd.jupyter.widget-view+json": {
       "model_id": "",
       "version_major": 2,
       "version_minor": 0
      },
      "text/plain": [
       "FloatProgress(value=0.0, bar_style='info', description='Progress:', layout=Layout(height='25px', width='50%'),…"
      ]
     },
     "metadata": {},
     "output_type": "display_data"
    }
   ],
   "source": [
    "wipo_field.createOrReplaceTempView('wipo_field')"
   ]
  },
  {
   "cell_type": "markdown",
   "id": "98920035-cb94-4591-bcca-3aaf05f6415b",
   "metadata": {},
   "source": [
    "### Analyse id"
   ]
  },
  {
   "cell_type": "code",
   "execution_count": 94,
   "id": "4638044f-1c7c-4b56-bac5-810cbc5996ac",
   "metadata": {
    "execution": {
     "iopub.execute_input": "2022-08-20T10:28:55.221020Z",
     "iopub.status.busy": "2022-08-20T10:28:55.220755Z",
     "iopub.status.idle": "2022-08-20T10:29:04.517264Z",
     "shell.execute_reply": "2022-08-20T10:29:04.516510Z",
     "shell.execute_reply.started": "2022-08-20T10:28:55.220983Z"
    },
    "tags": []
   },
   "outputs": [
    {
     "data": {
      "application/vnd.jupyter.widget-view+json": {
       "model_id": "cf35a971d9f745ef9c8aef9afe6a8071",
       "version_major": 2,
       "version_minor": 0
      },
      "text/plain": [
       "VBox()"
      ]
     },
     "metadata": {},
     "output_type": "display_data"
    },
    {
     "data": {
      "application/vnd.jupyter.widget-view+json": {
       "model_id": "",
       "version_major": 2,
       "version_minor": 0
      },
      "text/plain": [
       "FloatProgress(value=0.0, bar_style='info', description='Progress:', layout=Layout(height='25px', width='50%'),…"
      ]
     },
     "metadata": {},
     "output_type": "display_data"
    },
    {
     "name": "stdout",
     "output_type": "stream",
     "text": [
      "+---+\n",
      "| id|\n",
      "+---+\n",
      "|  7|\n",
      "|D27|\n",
      "|D20|\n",
      "|D03|\n",
      "| 31|\n",
      "| 18|\n",
      "| 27|\n",
      "| 26|\n",
      "|D31|\n",
      "| 25|\n",
      "| 33|\n",
      "|D08|\n",
      "|  9|\n",
      "|D10|\n",
      "| 36|\n",
      "|D13|\n",
      "|D28|\n",
      "|D23|\n",
      "| 15|\n",
      "|D29|\n",
      "|D34|\n",
      "| 29|\n",
      "|D32|\n",
      "| 23|\n",
      "|D26|\n",
      "|D01|\n",
      "| 13|\n",
      "| 14|\n",
      "|D16|\n",
      "|D11|\n",
      "|  3|\n",
      "| 30|\n",
      "| 34|\n",
      "|D05|\n",
      "| 28|\n",
      "| 22|\n",
      "|D12|\n",
      "|D15|\n",
      "|D06|\n",
      "|D30|\n",
      "| 24|\n",
      "|D14|\n",
      "|D21|\n",
      "|D18|\n",
      "| 16|\n",
      "| 35|\n",
      "| 17|\n",
      "|  6|\n",
      "|D24|\n",
      "|D25|\n",
      "|D19|\n",
      "|D17|\n",
      "|D02|\n",
      "|  1|\n",
      "| 20|\n",
      "| 21|\n",
      "|D22|\n",
      "| 11|\n",
      "|D09|\n",
      "|  8|\n",
      "|  5|\n",
      "|D04|\n",
      "|D07|\n",
      "| 19|\n",
      "| 32|\n",
      "| 10|\n",
      "| 12|\n",
      "|  4|\n",
      "|  2|\n",
      "|D99|\n",
      "+---+"
     ]
    }
   ],
   "source": [
    "spark.sql(\"\"\"\n",
    "    SELECT DISTINCT(id) from wipo_field\n",
    "\"\"\").show(70)"
   ]
  },
  {
   "cell_type": "markdown",
   "id": "a4b97b4f-eb4e-45ba-9cf6-1f9b946f0f28",
   "metadata": {},
   "source": [
    "**Observations**:\n",
    "- In the wipo table the field_id only ranges from 1-35, there is no field_id which starts with D"
   ]
  },
  {
   "cell_type": "markdown",
   "id": "a2f2a521-aaa9-4a22-bb99-db134f9d97a7",
   "metadata": {},
   "source": [
    "### Analyse sector_title"
   ]
  },
  {
   "cell_type": "code",
   "execution_count": 95,
   "id": "81c83289-57cd-4c1b-8efd-b31c4644c111",
   "metadata": {
    "execution": {
     "iopub.execute_input": "2022-08-20T10:32:25.092869Z",
     "iopub.status.busy": "2022-08-20T10:32:25.092615Z",
     "iopub.status.idle": "2022-08-20T10:32:34.380258Z",
     "shell.execute_reply": "2022-08-20T10:32:34.379623Z",
     "shell.execute_reply.started": "2022-08-20T10:32:25.092841Z"
    }
   },
   "outputs": [
    {
     "data": {
      "application/vnd.jupyter.widget-view+json": {
       "model_id": "6f27900c2191422a9f51d7d7d69aa2f7",
       "version_major": 2,
       "version_minor": 0
      },
      "text/plain": [
       "VBox()"
      ]
     },
     "metadata": {},
     "output_type": "display_data"
    },
    {
     "data": {
      "application/vnd.jupyter.widget-view+json": {
       "model_id": "",
       "version_major": 2,
       "version_minor": 0
      },
      "text/plain": [
       "FloatProgress(value=0.0, bar_style='info', description='Progress:', layout=Layout(height='25px', width='50%'),…"
      ]
     },
     "metadata": {},
     "output_type": "display_data"
    },
    {
     "name": "stdout",
     "output_type": "stream",
     "text": [
      "+--------------------+--------+\n",
      "|        sector_title|count(1)|\n",
      "+--------------------+--------+\n",
      "|Mechanical engine...|       8|\n",
      "|        Other fields|       3|\n",
      "|              Design|      34|\n",
      "|         Instruments|       5|\n",
      "|           Chemistry|      11|\n",
      "|Electrical engine...|       8|\n",
      "|               Plant|       1|\n",
      "+--------------------+--------+"
     ]
    }
   ],
   "source": [
    "spark.sql(\"\"\"\n",
    "    SELECT sector_title, count(*) from wipo_field GROUP BY sector_title\n",
    "\"\"\").show()"
   ]
  },
  {
   "cell_type": "code",
   "execution_count": 98,
   "id": "8cd87a91-61a2-49ec-9997-044522dd82ce",
   "metadata": {
    "execution": {
     "iopub.execute_input": "2022-08-20T10:36:13.245815Z",
     "iopub.status.busy": "2022-08-20T10:36:13.245585Z",
     "iopub.status.idle": "2022-08-20T10:36:14.010931Z",
     "shell.execute_reply": "2022-08-20T10:36:14.010227Z",
     "shell.execute_reply.started": "2022-08-20T10:36:13.245791Z"
    }
   },
   "outputs": [
    {
     "data": {
      "application/vnd.jupyter.widget-view+json": {
       "model_id": "b02cac6cd68a41b395c305e9e86a0244",
       "version_major": 2,
       "version_minor": 0
      },
      "text/plain": [
       "VBox()"
      ]
     },
     "metadata": {},
     "output_type": "display_data"
    },
    {
     "data": {
      "application/vnd.jupyter.widget-view+json": {
       "model_id": "",
       "version_major": 2,
       "version_minor": 0
      },
      "text/plain": [
       "FloatProgress(value=0.0, bar_style='info', description='Progress:', layout=Layout(height='25px', width='50%'),…"
      ]
     },
     "metadata": {},
     "output_type": "display_data"
    },
    {
     "name": "stdout",
     "output_type": "stream",
     "text": [
      "+---+------------+--------------------+\n",
      "| id|sector_title|         field_title|\n",
      "+---+------------+--------------------+\n",
      "|D15|      Design|Machines, not els...|\n",
      "|D18|      Design|Printing and offi...|\n",
      "|D06|      Design|          Furnishing|\n",
      "|D04|      Design|           Brushware|\n",
      "|D14|      Design|Recording, commun...|\n",
      "|D11|      Design|Articles of adorn...|\n",
      "|D19|      Design|Stationery and of...|\n",
      "|D21|      Design|Games, toys, tent...|\n",
      "|D07|      Design|Household goods, ...|\n",
      "|D26|      Design|  Lighting apparatus|\n",
      "|D13|      Design|Equipment for pro...|\n",
      "|D17|      Design| Musical instruments|\n",
      "|D22|      Design|Arms, pyrotechnic...|\n",
      "|D10|      Design|Clocks and watche...|\n",
      "|D31|      Design|Machines and appl...|\n",
      "|D29|      Design|Devices and equip...|\n",
      "|D01|      Design|          Foodstuffs|\n",
      "|D23|      Design|Fluid distributio...|\n",
      "|D34|      Design|Material or Artic...|\n",
      "|D05|      Design|Textile piecegood...|\n",
      "+---+------------+--------------------+\n",
      "only showing top 20 rows"
     ]
    }
   ],
   "source": [
    "spark.sql(\"\"\"\n",
    "    SELECT * from wipo_field WHERE sector_title='Design'\n",
    "\"\"\").show()"
   ]
  },
  {
   "cell_type": "markdown",
   "id": "56aa1044-31d1-4563-953e-8864f942bffd",
   "metadata": {},
   "source": [
    "### Analyse field_title"
   ]
  },
  {
   "cell_type": "code",
   "execution_count": 97,
   "id": "a06e2bdc-c426-41ec-919f-64affd103b0a",
   "metadata": {
    "execution": {
     "iopub.execute_input": "2022-08-20T10:35:27.139506Z",
     "iopub.status.busy": "2022-08-20T10:35:27.139269Z",
     "iopub.status.idle": "2022-08-20T10:35:27.914547Z",
     "shell.execute_reply": "2022-08-20T10:35:27.913704Z",
     "shell.execute_reply.started": "2022-08-20T10:35:27.139481Z"
    },
    "tags": []
   },
   "outputs": [
    {
     "data": {
      "application/vnd.jupyter.widget-view+json": {
       "model_id": "a265375c2ed14aa7942d620e1286fda9",
       "version_major": 2,
       "version_minor": 0
      },
      "text/plain": [
       "VBox()"
      ]
     },
     "metadata": {},
     "output_type": "display_data"
    },
    {
     "data": {
      "application/vnd.jupyter.widget-view+json": {
       "model_id": "",
       "version_major": 2,
       "version_minor": 0
      },
      "text/plain": [
       "FloatProgress(value=0.0, bar_style='info', description='Progress:', layout=Layout(height='25px', width='50%'),…"
      ]
     },
     "metadata": {},
     "output_type": "display_data"
    },
    {
     "name": "stdout",
     "output_type": "stream",
     "text": [
      "+---+------------+-----------+\n",
      "| id|sector_title|field_title|\n",
      "+---+------------+-----------+\n",
      "+---+------------+-----------+"
     ]
    }
   ],
   "source": [
    "spark.sql(\"\"\"\n",
    "    SELECT * from wipo_field where field_title IS NULL or field_title=''\n",
    "\"\"\").show()"
   ]
  },
  {
   "cell_type": "markdown",
   "id": "8749e961-d5e5-48ec-98d3-793da120e69e",
   "metadata": {},
   "source": [
    "**Observations**:\n",
    "- There is no missing value in field_title"
   ]
  }
 ],
 "metadata": {
  "kernelspec": {
   "display_name": "PySpark",
   "language": "python",
   "name": "pysparkkernel"
  },
  "language_info": {
   "codemirror_mode": {
    "name": "python",
    "version": 3
   },
   "file_extension": ".py",
   "mimetype": "text/x-python",
   "name": "pyspark",
   "pygments_lexer": "python3"
  }
 },
 "nbformat": 4,
 "nbformat_minor": 5
}
