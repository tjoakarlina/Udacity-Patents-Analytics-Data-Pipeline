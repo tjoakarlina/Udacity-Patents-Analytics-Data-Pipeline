{
 "cells": [
  {
   "cell_type": "code",
   "execution_count": 1,
   "id": "ae5936be",
   "metadata": {},
   "outputs": [],
   "source": [
    "import boto3\n",
    "import requests\n",
    "from io import BytesIO\n",
    "from zipfile import ZipFile"
   ]
  },
  {
   "cell_type": "code",
   "execution_count": 2,
   "id": "5e673bd5",
   "metadata": {},
   "outputs": [],
   "source": [
    "client = boto3.client(\n",
    "    's3',\n",
    "    aws_access_key_id='',\n",
    "    aws_secret_access_key=''\n",
    ")"
   ]
  },
  {
   "cell_type": "code",
   "execution_count": 3,
   "id": "99032bcf",
   "metadata": {},
   "outputs": [],
   "source": [
    "patent_data_urls = [\n",
    "    \"https://s3.amazonaws.com/data.patentsview.org/download/patent.tsv.zip\",\n",
    "    \"https://s3.amazonaws.com/data.patentsview.org/download/patent_assignee.tsv.zip\",\n",
    "    \"https://s3.amazonaws.com/data.patentsview.org/download/assignee.tsv.zip\",\n",
    "    \"https://s3.amazonaws.com/data.patentsview.org/download/location.tsv.zip\",\n",
    "    \"https://s3.amazonaws.com/data.patentsview.org/download/wipo.tsv.zip\",\n",
    "    \"https://s3.amazonaws.com/data.patentsview.org/download/wipo_field.tsv.zip\"\n",
    "    \"https://s3.amazonaws.com/data.patentsview.org/download/inventor.tsv.zip\",\n",
    "    \"https://s3.amazonaws.com/data.patentsview.org/download/patent_inventor.tsv.zip\"\n",
    "]"
   ]
  },
  {
   "cell_type": "code",
   "execution_count": 4,
   "id": "3c34d18a",
   "metadata": {},
   "outputs": [],
   "source": [
    "s3_bucket_name = \"patents-analytics\""
   ]
  },
  {
   "cell_type": "code",
   "execution_count": 5,
   "id": "548409fe",
   "metadata": {},
   "outputs": [],
   "source": [
    "for url in patent_data_urls:\n",
    "    response = requests.get(url)\n",
    "    zipfile = ZipFile(BytesIO(response.content))\n",
    "    filename = zipfile.namelist()[0]\n",
    "    client.upload_fileobj(zipfile.open(filename), Bucket=s3_bucket_name, Key=f\"raw/{filename}\")"
   ]
  },
  {
   "cell_type": "code",
   "execution_count": null,
   "id": "c8396dd5",
   "metadata": {},
   "outputs": [],
   "source": []
  }
 ],
 "metadata": {
  "kernelspec": {
   "display_name": "Python 3 (ipykernel)",
   "language": "python",
   "name": "python3"
  },
  "language_info": {
   "codemirror_mode": {
    "name": "ipython",
    "version": 3
   },
   "file_extension": ".py",
   "mimetype": "text/x-python",
   "name": "python",
   "nbconvert_exporter": "python",
   "pygments_lexer": "ipython3",
   "version": "3.8.8"
  }
 },
 "nbformat": 4,
 "nbformat_minor": 5
}
