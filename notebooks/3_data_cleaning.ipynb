{
 "cells": [
  {
   "cell_type": "code",
   "execution_count": 1,
   "id": "e993559b-046f-4fec-80ac-1b2ebda031f3",
   "metadata": {
    "execution": {
     "iopub.execute_input": "2022-09-07T10:58:34.901632Z",
     "iopub.status.busy": "2022-09-07T10:58:34.901395Z",
     "iopub.status.idle": "2022-09-07T10:59:02.851733Z",
     "shell.execute_reply": "2022-09-07T10:59:02.851175Z",
     "shell.execute_reply.started": "2022-09-07T10:58:34.901608Z"
    },
    "tags": []
   },
   "outputs": [
    {
     "data": {
      "application/vnd.jupyter.widget-view+json": {
       "model_id": "8fde7ed41ef9448ea58920761967999a",
       "version_major": 2,
       "version_minor": 0
      },
      "text/plain": [
       "VBox()"
      ]
     },
     "metadata": {},
     "output_type": "display_data"
    },
    {
     "name": "stdout",
     "output_type": "stream",
     "text": [
      "Starting Spark application\n"
     ]
    },
    {
     "data": {
      "text/html": [
       "<table>\n",
       "<tr><th>ID</th><th>YARN Application ID</th><th>Kind</th><th>State</th><th>Spark UI</th><th>Driver log</th><th>Current session?</th></tr><tr><td>0</td><td>application_1662547440890_0002</td><td>pyspark</td><td>idle</td><td><a target=\"_blank\" href=\"http://ip-172-31-30-61.ap-southeast-1.compute.internal:20888/proxy/application_1662547440890_0002/\" class=\"emr-proxy-link\" emr-resource=\"j-3ARZDRRII7SQZ\n",
       "\" application-id=\"application_1662547440890_0002\">Link</a></td><td><a target=\"_blank\" href=\"http://ip-172-31-26-211.ap-southeast-1.compute.internal:8042/node/containerlogs/container_1662547440890_0002_01_000001/livy\" >Link</a></td><td>✔</td></tr></table>"
      ],
      "text/plain": [
       "<IPython.core.display.HTML object>"
      ]
     },
     "metadata": {},
     "output_type": "display_data"
    },
    {
     "data": {
      "application/vnd.jupyter.widget-view+json": {
       "model_id": "",
       "version_major": 2,
       "version_minor": 0
      },
      "text/plain": [
       "FloatProgress(value=0.0, bar_style='info', description='Progress:', layout=Layout(height='25px', width='50%'),…"
      ]
     },
     "metadata": {},
     "output_type": "display_data"
    },
    {
     "name": "stdout",
     "output_type": "stream",
     "text": [
      "SparkSession available as 'spark'.\n"
     ]
    },
    {
     "data": {
      "application/vnd.jupyter.widget-view+json": {
       "model_id": "",
       "version_major": 2,
       "version_minor": 0
      },
      "text/plain": [
       "FloatProgress(value=0.0, bar_style='info', description='Progress:', layout=Layout(height='25px', width='50%'),…"
      ]
     },
     "metadata": {},
     "output_type": "display_data"
    }
   ],
   "source": [
    "from pyspark.sql import SparkSession"
   ]
  },
  {
   "cell_type": "code",
   "execution_count": 2,
   "id": "18dad760-c949-4346-a779-fa450dbd4344",
   "metadata": {
    "execution": {
     "iopub.execute_input": "2022-09-07T10:59:02.852922Z",
     "iopub.status.busy": "2022-09-07T10:59:02.852744Z",
     "iopub.status.idle": "2022-09-07T10:59:02.926520Z",
     "shell.execute_reply": "2022-09-07T10:59:02.925835Z",
     "shell.execute_reply.started": "2022-09-07T10:59:02.852898Z"
    },
    "tags": []
   },
   "outputs": [
    {
     "data": {
      "application/vnd.jupyter.widget-view+json": {
       "model_id": "6127b12c09ff4d2c866e2e0a6a7246d9",
       "version_major": 2,
       "version_minor": 0
      },
      "text/plain": [
       "VBox()"
      ]
     },
     "metadata": {},
     "output_type": "display_data"
    },
    {
     "data": {
      "application/vnd.jupyter.widget-view+json": {
       "model_id": "",
       "version_major": 2,
       "version_minor": 0
      },
      "text/plain": [
       "FloatProgress(value=0.0, bar_style='info', description='Progress:', layout=Layout(height='25px', width='50%'),…"
      ]
     },
     "metadata": {},
     "output_type": "display_data"
    }
   ],
   "source": [
    "spark = SparkSession.builder.getOrCreate()"
   ]
  },
  {
   "cell_type": "code",
   "execution_count": 3,
   "id": "cad8ed95-5bdb-48e8-997a-c596cc3a91b9",
   "metadata": {
    "execution": {
     "iopub.execute_input": "2022-09-07T10:59:02.928198Z",
     "iopub.status.busy": "2022-09-07T10:59:02.927952Z",
     "iopub.status.idle": "2022-09-07T10:59:03.241504Z",
     "shell.execute_reply": "2022-09-07T10:59:03.240817Z",
     "shell.execute_reply.started": "2022-09-07T10:59:02.928165Z"
    },
    "tags": []
   },
   "outputs": [
    {
     "data": {
      "application/vnd.jupyter.widget-view+json": {
       "model_id": "7d68305264134721b9e8d2f6fddb715a",
       "version_major": 2,
       "version_minor": 0
      },
      "text/plain": [
       "VBox()"
      ]
     },
     "metadata": {},
     "output_type": "display_data"
    },
    {
     "data": {
      "application/vnd.jupyter.widget-view+json": {
       "model_id": "",
       "version_major": 2,
       "version_minor": 0
      },
      "text/plain": [
       "FloatProgress(value=0.0, bar_style='info', description='Progress:', layout=Layout(height='25px', width='50%'),…"
      ]
     },
     "metadata": {},
     "output_type": "display_data"
    }
   ],
   "source": [
    "from pyspark.sql.functions import col, year, lit, udf, sha2, concat, explode, min, max\n",
    "from pyspark.sql.types import StringType, ArrayType"
   ]
  },
  {
   "cell_type": "code",
   "execution_count": 4,
   "id": "ac2776cb-53a2-4974-ace7-dbea8be74973",
   "metadata": {
    "execution": {
     "iopub.execute_input": "2022-09-07T10:59:03.243064Z",
     "iopub.status.busy": "2022-09-07T10:59:03.242702Z",
     "iopub.status.idle": "2022-09-07T10:59:04.053553Z",
     "shell.execute_reply": "2022-09-07T10:59:04.052837Z",
     "shell.execute_reply.started": "2022-09-07T10:59:03.243029Z"
    },
    "tags": []
   },
   "outputs": [
    {
     "data": {
      "application/vnd.jupyter.widget-view+json": {
       "model_id": "1a6c7926736e485cbbdc28763afad1c4",
       "version_major": 2,
       "version_minor": 0
      },
      "text/plain": [
       "VBox()"
      ]
     },
     "metadata": {},
     "output_type": "display_data"
    },
    {
     "data": {
      "application/vnd.jupyter.widget-view+json": {
       "model_id": "",
       "version_major": 2,
       "version_minor": 0
      },
      "text/plain": [
       "FloatProgress(value=0.0, bar_style='info', description='Progress:', layout=Layout(height='25px', width='50%'),…"
      ]
     },
     "metadata": {},
     "output_type": "display_data"
    },
    {
     "name": "stdout",
     "output_type": "stream",
     "text": [
      "aws-cfn-bootstrap (2.0)\n",
      "beautifulsoup4 (4.9.3)\n",
      "boto (2.49.0)\n",
      "click (8.0.3)\n",
      "docutils (0.14)\n",
      "jmespath (0.10.0)\n",
      "joblib (1.1.0)\n",
      "lockfile (0.11.0)\n",
      "lxml (4.6.3)\n",
      "mysqlclient (1.4.2)\n",
      "nltk (3.6.5)\n",
      "nose (1.3.4)\n",
      "numpy (1.16.5)\n",
      "pip (9.0.1)\n",
      "py-dateutil (2.2)\n",
      "pystache (0.5.4)\n",
      "python-daemon (2.2.3)\n",
      "python37-sagemaker-pyspark (1.4.1)\n",
      "pytz (2021.3)\n",
      "PyYAML (5.4.1)\n",
      "regex (2021.10.21)\n",
      "setuptools (28.8.0)\n",
      "simplejson (3.2.0)\n",
      "six (1.13.0)\n",
      "tqdm (4.62.3)\n",
      "wheel (0.29.0)\n",
      "windmill (1.6)\n",
      "\n",
      "DEPRECATION: The default format will switch to columns in the future. You can use --format=(legacy|columns) (or define a format=(legacy|columns) in your pip.conf under the [list] section) to disable this warning.\n",
      "You are using pip version 9.0.1, however version 22.2.2 is available.\n",
      "You should consider upgrading via the 'pip install --upgrade pip' command."
     ]
    }
   ],
   "source": [
    "sc.list_packages()"
   ]
  },
  {
   "cell_type": "code",
   "execution_count": 5,
   "id": "efc31634-77f2-472c-808f-40c11e205f03",
   "metadata": {
    "execution": {
     "iopub.execute_input": "2022-09-07T10:59:04.055233Z",
     "iopub.status.busy": "2022-09-07T10:59:04.054784Z",
     "iopub.status.idle": "2022-09-07T10:59:11.417984Z",
     "shell.execute_reply": "2022-09-07T10:59:11.417405Z",
     "shell.execute_reply.started": "2022-09-07T10:59:04.055195Z"
    },
    "tags": []
   },
   "outputs": [
    {
     "data": {
      "application/vnd.jupyter.widget-view+json": {
       "model_id": "8fbb2ad7ae1e49609f12dd6145b13ae4",
       "version_major": 2,
       "version_minor": 0
      },
      "text/plain": [
       "VBox()"
      ]
     },
     "metadata": {},
     "output_type": "display_data"
    },
    {
     "data": {
      "application/vnd.jupyter.widget-view+json": {
       "model_id": "",
       "version_major": 2,
       "version_minor": 0
      },
      "text/plain": [
       "FloatProgress(value=0.0, bar_style='info', description='Progress:', layout=Layout(height='25px', width='50%'),…"
      ]
     },
     "metadata": {},
     "output_type": "display_data"
    },
    {
     "name": "stdout",
     "output_type": "stream",
     "text": [
      "Collecting pygeodesy\n",
      "  Downloading https://files.pythonhosted.org/packages/0a/bc/d7d916fd351c7fad610d70158fc3bdf7f7718d644174468f7e076c22c25f/PyGeodesy-22.8.28-py2.py3-none-any.whl (814kB)\n",
      "Installing collected packages: pygeodesy\n",
      "Successfully installed pygeodesy-22.8.28\n",
      "\n",
      "You are using pip version 9.0.1, however version 22.2.2 is available.\n",
      "You should consider upgrading via the 'pip install --upgrade pip' command."
     ]
    }
   ],
   "source": [
    "sc.install_pypi_package(\"pygeodesy\")"
   ]
  },
  {
   "cell_type": "code",
   "execution_count": 6,
   "id": "37167dc6-84f2-4749-9cda-cc26c44a667e",
   "metadata": {
    "execution": {
     "iopub.execute_input": "2022-09-07T10:59:11.419346Z",
     "iopub.status.busy": "2022-09-07T10:59:11.419159Z",
     "iopub.status.idle": "2022-09-07T10:59:11.496965Z",
     "shell.execute_reply": "2022-09-07T10:59:11.496293Z",
     "shell.execute_reply.started": "2022-09-07T10:59:11.419323Z"
    },
    "tags": []
   },
   "outputs": [
    {
     "data": {
      "application/vnd.jupyter.widget-view+json": {
       "model_id": "6276e857b279407bbd5bbd592c68ece2",
       "version_major": 2,
       "version_minor": 0
      },
      "text/plain": [
       "VBox()"
      ]
     },
     "metadata": {},
     "output_type": "display_data"
    },
    {
     "data": {
      "application/vnd.jupyter.widget-view+json": {
       "model_id": "",
       "version_major": 2,
       "version_minor": 0
      },
      "text/plain": [
       "FloatProgress(value=0.0, bar_style='info', description='Progress:', layout=Layout(height='25px', width='50%'),…"
      ]
     },
     "metadata": {},
     "output_type": "display_data"
    }
   ],
   "source": [
    "output_path =\"s3://patents-analytics/cleaned\""
   ]
  },
  {
   "cell_type": "markdown",
   "id": "f83f3ab0-2974-4cdc-9348-3c35854d9998",
   "metadata": {},
   "source": [
    "## Cleaning Patent table"
   ]
  },
  {
   "cell_type": "code",
   "execution_count": 52,
   "id": "e9819abb-fff9-4c67-a87a-45a70367c37b",
   "metadata": {
    "execution": {
     "iopub.execute_input": "2022-08-23T04:48:25.165097Z",
     "iopub.status.busy": "2022-08-23T04:48:25.164845Z",
     "iopub.status.idle": "2022-08-23T04:48:25.222621Z",
     "shell.execute_reply": "2022-08-23T04:48:25.222052Z",
     "shell.execute_reply.started": "2022-08-23T04:48:25.165072Z"
    },
    "tags": []
   },
   "outputs": [
    {
     "data": {
      "application/vnd.jupyter.widget-view+json": {
       "model_id": "a22e35f94ee84257b61fb01214aea450",
       "version_major": 2,
       "version_minor": 0
      },
      "text/plain": [
       "VBox()"
      ]
     },
     "metadata": {},
     "output_type": "display_data"
    },
    {
     "data": {
      "application/vnd.jupyter.widget-view+json": {
       "model_id": "",
       "version_major": 2,
       "version_minor": 0
      },
      "text/plain": [
       "FloatProgress(value=0.0, bar_style='info', description='Progress:', layout=Layout(height='25px', width='50%'),…"
      ]
     },
     "metadata": {},
     "output_type": "display_data"
    }
   ],
   "source": [
    "patent_path = \"s3://patents-analytics/raw/patent.tsv\""
   ]
  },
  {
   "cell_type": "code",
   "execution_count": 53,
   "id": "03bfb66d-97f8-43bb-853f-4038752127d0",
   "metadata": {
    "execution": {
     "iopub.execute_input": "2022-08-23T04:48:25.542055Z",
     "iopub.status.busy": "2022-08-23T04:48:25.541819Z",
     "iopub.status.idle": "2022-08-23T04:50:21.138742Z",
     "shell.execute_reply": "2022-08-23T04:50:21.138103Z",
     "shell.execute_reply.started": "2022-08-23T04:48:25.542027Z"
    },
    "tags": []
   },
   "outputs": [
    {
     "data": {
      "application/vnd.jupyter.widget-view+json": {
       "model_id": "ca837ea0fd8f4813b3266379f3d21c1b",
       "version_major": 2,
       "version_minor": 0
      },
      "text/plain": [
       "VBox()"
      ]
     },
     "metadata": {},
     "output_type": "display_data"
    },
    {
     "data": {
      "application/vnd.jupyter.widget-view+json": {
       "model_id": "",
       "version_major": 2,
       "version_minor": 0
      },
      "text/plain": [
       "FloatProgress(value=0.0, bar_style='info', description='Progress:', layout=Layout(height='25px', width='50%'),…"
      ]
     },
     "metadata": {},
     "output_type": "display_data"
    }
   ],
   "source": [
    "patent = spark.read.options(header='True', delimiter='\\t', inferSchema='True', escape=\"\\\"\", multiline='True').csv(patent_path).repartition(10)"
   ]
  },
  {
   "cell_type": "code",
   "execution_count": 54,
   "id": "7e1539bc-eb06-40e7-b93a-1df1f227e116",
   "metadata": {
    "execution": {
     "iopub.execute_input": "2022-08-23T04:50:21.140074Z",
     "iopub.status.busy": "2022-08-23T04:50:21.139889Z",
     "iopub.status.idle": "2022-08-23T04:51:32.777633Z",
     "shell.execute_reply": "2022-08-23T04:51:32.776900Z",
     "shell.execute_reply.started": "2022-08-23T04:50:21.140052Z"
    },
    "tags": []
   },
   "outputs": [
    {
     "data": {
      "application/vnd.jupyter.widget-view+json": {
       "model_id": "a954cac298a545ba914f58addff2f5cd",
       "version_major": 2,
       "version_minor": 0
      },
      "text/plain": [
       "VBox()"
      ]
     },
     "metadata": {},
     "output_type": "display_data"
    },
    {
     "data": {
      "application/vnd.jupyter.widget-view+json": {
       "model_id": "",
       "version_major": 2,
       "version_minor": 0
      },
      "text/plain": [
       "FloatProgress(value=0.0, bar_style='info', description='Progress:', layout=Layout(height='25px', width='50%'),…"
      ]
     },
     "metadata": {},
     "output_type": "display_data"
    },
    {
     "name": "stdout",
     "output_type": "stream",
     "text": [
      "7991058"
     ]
    }
   ],
   "source": [
    "patent.count()"
   ]
  },
  {
   "cell_type": "code",
   "execution_count": 55,
   "id": "5ea282b0-e85b-4157-a003-6dd5a1fb6fc7",
   "metadata": {
    "execution": {
     "iopub.execute_input": "2022-08-23T04:51:32.779105Z",
     "iopub.status.busy": "2022-08-23T04:51:32.778900Z",
     "iopub.status.idle": "2022-08-23T04:51:32.836376Z",
     "shell.execute_reply": "2022-08-23T04:51:32.835703Z",
     "shell.execute_reply.started": "2022-08-23T04:51:32.779080Z"
    },
    "tags": []
   },
   "outputs": [
    {
     "data": {
      "application/vnd.jupyter.widget-view+json": {
       "model_id": "975e73e1528f406280d576b3839ea0d6",
       "version_major": 2,
       "version_minor": 0
      },
      "text/plain": [
       "VBox()"
      ]
     },
     "metadata": {},
     "output_type": "display_data"
    },
    {
     "data": {
      "application/vnd.jupyter.widget-view+json": {
       "model_id": "",
       "version_major": 2,
       "version_minor": 0
      },
      "text/plain": [
       "FloatProgress(value=0.0, bar_style='info', description='Progress:', layout=Layout(height='25px', width='50%'),…"
      ]
     },
     "metadata": {},
     "output_type": "display_data"
    },
    {
     "name": "stdout",
     "output_type": "stream",
     "text": [
      "root\n",
      " |-- id: string (nullable = true)\n",
      " |-- type: string (nullable = true)\n",
      " |-- number: string (nullable = true)\n",
      " |-- country: string (nullable = true)\n",
      " |-- date: timestamp (nullable = true)\n",
      " |-- abstract: string (nullable = true)\n",
      " |-- title: string (nullable = true)\n",
      " |-- kind: string (nullable = true)\n",
      " |-- num_claims: integer (nullable = true)\n",
      " |-- filename: string (nullable = true)\n",
      " |-- withdrawn: integer (nullable = true)"
     ]
    }
   ],
   "source": [
    "patent.printSchema()"
   ]
  },
  {
   "cell_type": "code",
   "execution_count": 56,
   "id": "d9ce669f-bc61-4bfb-bd9e-3da1c8bae31e",
   "metadata": {
    "execution": {
     "iopub.execute_input": "2022-08-23T04:51:32.837926Z",
     "iopub.status.busy": "2022-08-23T04:51:32.837677Z",
     "iopub.status.idle": "2022-08-23T04:51:33.099573Z",
     "shell.execute_reply": "2022-08-23T04:51:33.098916Z",
     "shell.execute_reply.started": "2022-08-23T04:51:32.837891Z"
    },
    "tags": []
   },
   "outputs": [
    {
     "data": {
      "application/vnd.jupyter.widget-view+json": {
       "model_id": "494948db93064be69f34b7706000fbf6",
       "version_major": 2,
       "version_minor": 0
      },
      "text/plain": [
       "VBox()"
      ]
     },
     "metadata": {},
     "output_type": "display_data"
    },
    {
     "data": {
      "application/vnd.jupyter.widget-view+json": {
       "model_id": "",
       "version_major": 2,
       "version_minor": 0
      },
      "text/plain": [
       "FloatProgress(value=0.0, bar_style='info', description='Progress:', layout=Layout(height='25px', width='50%'),…"
      ]
     },
     "metadata": {},
     "output_type": "display_data"
    }
   ],
   "source": [
    "patent_cleaned = patent.filter(col('withdrawn') == 0).filter(year(col('date'))>1999).select(\"id\", \"type\", \"date\", \"abstract\", \"title\", \"kind\", \"num_claims\")"
   ]
  },
  {
   "cell_type": "code",
   "execution_count": 57,
   "id": "ecac52ad-f1e1-4d33-878b-e3fe2808969c",
   "metadata": {
    "execution": {
     "iopub.execute_input": "2022-08-23T04:52:24.865410Z",
     "iopub.status.busy": "2022-08-23T04:52:24.865168Z",
     "iopub.status.idle": "2022-08-23T04:52:25.135810Z",
     "shell.execute_reply": "2022-08-23T04:52:25.135003Z",
     "shell.execute_reply.started": "2022-08-23T04:52:24.865385Z"
    },
    "tags": []
   },
   "outputs": [
    {
     "data": {
      "application/vnd.jupyter.widget-view+json": {
       "model_id": "273a0a4d53d4417fb8dccea53d7d1403",
       "version_major": 2,
       "version_minor": 0
      },
      "text/plain": [
       "VBox()"
      ]
     },
     "metadata": {},
     "output_type": "display_data"
    },
    {
     "data": {
      "application/vnd.jupyter.widget-view+json": {
       "model_id": "",
       "version_major": 2,
       "version_minor": 0
      },
      "text/plain": [
       "FloatProgress(value=0.0, bar_style='info', description='Progress:', layout=Layout(height='25px', width='50%'),…"
      ]
     },
     "metadata": {},
     "output_type": "display_data"
    }
   ],
   "source": [
    "patent_cleaned = patent_cleaned.cache()"
   ]
  },
  {
   "cell_type": "code",
   "execution_count": 58,
   "id": "fcd3ba9a-589f-419d-80a2-9066f21ba118",
   "metadata": {
    "execution": {
     "iopub.execute_input": "2022-08-23T04:52:28.197020Z",
     "iopub.status.busy": "2022-08-23T04:52:28.196781Z",
     "iopub.status.idle": "2022-08-23T04:52:28.256838Z",
     "shell.execute_reply": "2022-08-23T04:52:28.256262Z",
     "shell.execute_reply.started": "2022-08-23T04:52:28.196994Z"
    },
    "tags": []
   },
   "outputs": [
    {
     "data": {
      "application/vnd.jupyter.widget-view+json": {
       "model_id": "d2ba273287a145b7bf976b37008faf8d",
       "version_major": 2,
       "version_minor": 0
      },
      "text/plain": [
       "VBox()"
      ]
     },
     "metadata": {},
     "output_type": "display_data"
    },
    {
     "data": {
      "application/vnd.jupyter.widget-view+json": {
       "model_id": "",
       "version_major": 2,
       "version_minor": 0
      },
      "text/plain": [
       "FloatProgress(value=0.0, bar_style='info', description='Progress:', layout=Layout(height='25px', width='50%'),…"
      ]
     },
     "metadata": {},
     "output_type": "display_data"
    },
    {
     "name": "stdout",
     "output_type": "stream",
     "text": [
      "root\n",
      " |-- id: string (nullable = true)\n",
      " |-- type: string (nullable = true)\n",
      " |-- date: timestamp (nullable = true)\n",
      " |-- abstract: string (nullable = true)\n",
      " |-- title: string (nullable = true)\n",
      " |-- kind: string (nullable = true)\n",
      " |-- num_claims: integer (nullable = true)"
     ]
    }
   ],
   "source": [
    "patent_cleaned.printSchema()"
   ]
  },
  {
   "cell_type": "markdown",
   "id": "17556823-bd1d-4b5a-b9df-dcbd699dec66",
   "metadata": {},
   "source": [
    "### Test the data cleaning"
   ]
  },
  {
   "cell_type": "code",
   "execution_count": 60,
   "id": "7a6fa76e-90b5-477f-b53a-136714e57a05",
   "metadata": {
    "execution": {
     "iopub.execute_input": "2022-08-23T04:58:28.142269Z",
     "iopub.status.busy": "2022-08-23T04:58:28.142029Z",
     "iopub.status.idle": "2022-08-23T04:58:28.908714Z",
     "shell.execute_reply": "2022-08-23T04:58:28.908091Z",
     "shell.execute_reply.started": "2022-08-23T04:58:28.142243Z"
    },
    "tags": []
   },
   "outputs": [
    {
     "data": {
      "application/vnd.jupyter.widget-view+json": {
       "model_id": "1260e109ebe5439bb8d0f4f9c1591b00",
       "version_major": 2,
       "version_minor": 0
      },
      "text/plain": [
       "VBox()"
      ]
     },
     "metadata": {},
     "output_type": "display_data"
    },
    {
     "data": {
      "application/vnd.jupyter.widget-view+json": {
       "model_id": "",
       "version_major": 2,
       "version_minor": 0
      },
      "text/plain": [
       "FloatProgress(value=0.0, bar_style='info', description='Progress:', layout=Layout(height='25px', width='50%'),…"
      ]
     },
     "metadata": {},
     "output_type": "display_data"
    }
   ],
   "source": [
    "assert patent_cleaned.count() > 0"
   ]
  },
  {
   "cell_type": "code",
   "execution_count": 67,
   "id": "0900aeaf-946e-4f61-ad7c-5165d8e8b130",
   "metadata": {
    "execution": {
     "iopub.execute_input": "2022-08-23T05:01:31.090510Z",
     "iopub.status.busy": "2022-08-23T05:01:31.090281Z",
     "iopub.status.idle": "2022-08-23T05:01:33.364825Z",
     "shell.execute_reply": "2022-08-23T05:01:33.364226Z",
     "shell.execute_reply.started": "2022-08-23T05:01:31.090485Z"
    },
    "tags": []
   },
   "outputs": [
    {
     "data": {
      "application/vnd.jupyter.widget-view+json": {
       "model_id": "c0490477fab9430ca1aaf30e23248d6b",
       "version_major": 2,
       "version_minor": 0
      },
      "text/plain": [
       "VBox()"
      ]
     },
     "metadata": {},
     "output_type": "display_data"
    },
    {
     "data": {
      "application/vnd.jupyter.widget-view+json": {
       "model_id": "",
       "version_major": 2,
       "version_minor": 0
      },
      "text/plain": [
       "FloatProgress(value=0.0, bar_style='info', description='Progress:', layout=Layout(height='25px', width='50%'),…"
      ]
     },
     "metadata": {},
     "output_type": "display_data"
    }
   ],
   "source": [
    "assert patent_cleaned.agg({\"date\":\"min\"}).collect()[0][\"min(date)\"].year == 2000"
   ]
  },
  {
   "cell_type": "code",
   "execution_count": 68,
   "id": "9cbee8d5-5da4-485d-9507-492beed44391",
   "metadata": {
    "execution": {
     "iopub.execute_input": "2022-08-23T05:02:16.939690Z",
     "iopub.status.busy": "2022-08-23T05:02:16.939448Z",
     "iopub.status.idle": "2022-08-23T05:04:00.468878Z",
     "shell.execute_reply": "2022-08-23T05:04:00.468076Z",
     "shell.execute_reply.started": "2022-08-23T05:02:16.939663Z"
    }
   },
   "outputs": [
    {
     "data": {
      "application/vnd.jupyter.widget-view+json": {
       "model_id": "291336821ef64b939a4dd88f033811ee",
       "version_major": 2,
       "version_minor": 0
      },
      "text/plain": [
       "VBox()"
      ]
     },
     "metadata": {},
     "output_type": "display_data"
    },
    {
     "data": {
      "application/vnd.jupyter.widget-view+json": {
       "model_id": "",
       "version_major": 2,
       "version_minor": 0
      },
      "text/plain": [
       "FloatProgress(value=0.0, bar_style='info', description='Progress:', layout=Layout(height='25px', width='50%'),…"
      ]
     },
     "metadata": {},
     "output_type": "display_data"
    }
   ],
   "source": [
    "assert patent_cleaned.filter(col(\"withdrawn\")==1).count() == 0"
   ]
  },
  {
   "cell_type": "markdown",
   "id": "90b927a4-9982-48ae-891c-84bb150c48ea",
   "metadata": {},
   "source": [
    "### Write the cleaned data to S3 partitioned by year"
   ]
  },
  {
   "cell_type": "code",
   "execution_count": 71,
   "id": "ad57169b-cfa2-4959-a7b0-5f5a576f27e5",
   "metadata": {
    "execution": {
     "iopub.execute_input": "2022-08-23T05:14:35.783345Z",
     "iopub.status.busy": "2022-08-23T05:14:35.783110Z",
     "iopub.status.idle": "2022-08-23T05:14:35.846206Z",
     "shell.execute_reply": "2022-08-23T05:14:35.845622Z",
     "shell.execute_reply.started": "2022-08-23T05:14:35.783320Z"
    }
   },
   "outputs": [
    {
     "data": {
      "application/vnd.jupyter.widget-view+json": {
       "model_id": "ebca59d6c66543498b972b0dcb86b199",
       "version_major": 2,
       "version_minor": 0
      },
      "text/plain": [
       "VBox()"
      ]
     },
     "metadata": {},
     "output_type": "display_data"
    },
    {
     "data": {
      "application/vnd.jupyter.widget-view+json": {
       "model_id": "",
       "version_major": 2,
       "version_minor": 0
      },
      "text/plain": [
       "FloatProgress(value=0.0, bar_style='info', description='Progress:', layout=Layout(height='25px', width='50%'),…"
      ]
     },
     "metadata": {},
     "output_type": "display_data"
    }
   ],
   "source": [
    "patent_cleaned = patent_cleaned.withColumn('year', year(col('date')))"
   ]
  },
  {
   "cell_type": "code",
   "execution_count": 72,
   "id": "19a7b626-9f35-4ed1-88f5-dfcda21986b8",
   "metadata": {
    "execution": {
     "iopub.execute_input": "2022-08-23T05:14:37.908871Z",
     "iopub.status.busy": "2022-08-23T05:14:37.908626Z",
     "iopub.status.idle": "2022-08-23T05:18:07.750304Z",
     "shell.execute_reply": "2022-08-23T05:18:07.749497Z",
     "shell.execute_reply.started": "2022-08-23T05:14:37.908840Z"
    },
    "tags": []
   },
   "outputs": [
    {
     "data": {
      "application/vnd.jupyter.widget-view+json": {
       "model_id": "23646f703260451bb054e0e159f60c34",
       "version_major": 2,
       "version_minor": 0
      },
      "text/plain": [
       "VBox()"
      ]
     },
     "metadata": {},
     "output_type": "display_data"
    },
    {
     "data": {
      "application/vnd.jupyter.widget-view+json": {
       "model_id": "",
       "version_major": 2,
       "version_minor": 0
      },
      "text/plain": [
       "FloatProgress(value=0.0, bar_style='info', description='Progress:', layout=Layout(height='25px', width='50%'),…"
      ]
     },
     "metadata": {},
     "output_type": "display_data"
    }
   ],
   "source": [
    "patent_cleaned.write.partitionBy(\"year\").mode(\"overwrite\").parquet(f\"{output_path}/patent.parquet\")"
   ]
  },
  {
   "cell_type": "markdown",
   "id": "18670690-904a-4256-926d-16fcbf0bfec1",
   "metadata": {},
   "source": [
    "## Cleaning the Assignee Table"
   ]
  },
  {
   "cell_type": "code",
   "execution_count": 3,
   "id": "1456406d-1c22-4200-8b8f-afbd6a00f3a9",
   "metadata": {
    "execution": {
     "iopub.execute_input": "2022-08-27T05:42:39.270244Z",
     "iopub.status.busy": "2022-08-27T05:42:39.269859Z",
     "iopub.status.idle": "2022-08-27T05:42:39.396556Z",
     "shell.execute_reply": "2022-08-27T05:42:39.395887Z",
     "shell.execute_reply.started": "2022-08-27T05:42:39.270205Z"
    },
    "tags": []
   },
   "outputs": [
    {
     "data": {
      "application/vnd.jupyter.widget-view+json": {
       "model_id": "86847b950911482f894edfe36c82d027",
       "version_major": 2,
       "version_minor": 0
      },
      "text/plain": [
       "VBox()"
      ]
     },
     "metadata": {},
     "output_type": "display_data"
    },
    {
     "data": {
      "application/vnd.jupyter.widget-view+json": {
       "model_id": "",
       "version_major": 2,
       "version_minor": 0
      },
      "text/plain": [
       "FloatProgress(value=0.0, bar_style='info', description='Progress:', layout=Layout(height='25px', width='50%'),…"
      ]
     },
     "metadata": {},
     "output_type": "display_data"
    }
   ],
   "source": [
    "assignee_path = \"s3://patents-analytics/raw/assignee.tsv\""
   ]
  },
  {
   "cell_type": "code",
   "execution_count": 4,
   "id": "e5eb279b-b9fd-4d8e-8596-455cc09c0519",
   "metadata": {
    "execution": {
     "iopub.execute_input": "2022-08-27T05:42:39.404672Z",
     "iopub.status.busy": "2022-08-27T05:42:39.397911Z",
     "iopub.status.idle": "2022-08-27T05:42:49.133640Z",
     "shell.execute_reply": "2022-08-27T05:42:49.132626Z",
     "shell.execute_reply.started": "2022-08-27T05:42:39.404629Z"
    },
    "tags": []
   },
   "outputs": [
    {
     "data": {
      "application/vnd.jupyter.widget-view+json": {
       "model_id": "11bf0a3fef614012820f3abed389d5fd",
       "version_major": 2,
       "version_minor": 0
      },
      "text/plain": [
       "VBox()"
      ]
     },
     "metadata": {},
     "output_type": "display_data"
    },
    {
     "data": {
      "application/vnd.jupyter.widget-view+json": {
       "model_id": "",
       "version_major": 2,
       "version_minor": 0
      },
      "text/plain": [
       "FloatProgress(value=0.0, bar_style='info', description='Progress:', layout=Layout(height='25px', width='50%'),…"
      ]
     },
     "metadata": {},
     "output_type": "display_data"
    }
   ],
   "source": [
    "assignee = spark.read.options(header='True', delimiter='\\t', inferSchema='True', escape=\"\\\"\", multiline='True').csv(assignee_path).repartition(10)"
   ]
  },
  {
   "cell_type": "code",
   "execution_count": 5,
   "id": "7df99e98-9417-4541-b6d6-72eec30aedf0",
   "metadata": {
    "execution": {
     "iopub.execute_input": "2022-08-27T05:42:49.135300Z",
     "iopub.status.busy": "2022-08-27T05:42:49.134919Z",
     "iopub.status.idle": "2022-08-27T05:42:54.514308Z",
     "shell.execute_reply": "2022-08-27T05:42:54.513648Z",
     "shell.execute_reply.started": "2022-08-27T05:42:49.135262Z"
    },
    "tags": []
   },
   "outputs": [
    {
     "data": {
      "application/vnd.jupyter.widget-view+json": {
       "model_id": "fcdc0e8ebe4d42948fb2e8a18e7a37be",
       "version_major": 2,
       "version_minor": 0
      },
      "text/plain": [
       "VBox()"
      ]
     },
     "metadata": {},
     "output_type": "display_data"
    },
    {
     "data": {
      "application/vnd.jupyter.widget-view+json": {
       "model_id": "",
       "version_major": 2,
       "version_minor": 0
      },
      "text/plain": [
       "FloatProgress(value=0.0, bar_style='info', description='Progress:', layout=Layout(height='25px', width='50%'),…"
      ]
     },
     "metadata": {},
     "output_type": "display_data"
    },
    {
     "name": "stdout",
     "output_type": "stream",
     "text": [
      "540183"
     ]
    }
   ],
   "source": [
    "assignee.count()"
   ]
  },
  {
   "cell_type": "code",
   "execution_count": 6,
   "id": "14060623-a7df-4477-b5c3-d00d1812b7ea",
   "metadata": {
    "execution": {
     "iopub.execute_input": "2022-08-27T05:42:54.515314Z",
     "iopub.status.busy": "2022-08-27T05:42:54.515142Z",
     "iopub.status.idle": "2022-08-27T05:42:54.583339Z",
     "shell.execute_reply": "2022-08-27T05:42:54.582720Z",
     "shell.execute_reply.started": "2022-08-27T05:42:54.515292Z"
    },
    "tags": []
   },
   "outputs": [
    {
     "data": {
      "application/vnd.jupyter.widget-view+json": {
       "model_id": "7de8325a08704584be53362ff7273acb",
       "version_major": 2,
       "version_minor": 0
      },
      "text/plain": [
       "VBox()"
      ]
     },
     "metadata": {},
     "output_type": "display_data"
    },
    {
     "data": {
      "application/vnd.jupyter.widget-view+json": {
       "model_id": "",
       "version_major": 2,
       "version_minor": 0
      },
      "text/plain": [
       "FloatProgress(value=0.0, bar_style='info', description='Progress:', layout=Layout(height='25px', width='50%'),…"
      ]
     },
     "metadata": {},
     "output_type": "display_data"
    },
    {
     "name": "stdout",
     "output_type": "stream",
     "text": [
      "root\n",
      " |-- id: string (nullable = true)\n",
      " |-- type: double (nullable = true)\n",
      " |-- name_first: string (nullable = true)\n",
      " |-- name_last: string (nullable = true)\n",
      " |-- organization: string (nullable = true)"
     ]
    }
   ],
   "source": [
    "assignee.printSchema()"
   ]
  },
  {
   "cell_type": "markdown",
   "id": "73cca21e-efa1-46ce-ae15-cdc90c960644",
   "metadata": {},
   "source": [
    "### Replace the type with string"
   ]
  },
  {
   "cell_type": "code",
   "execution_count": 7,
   "id": "21cbc557-cc52-4191-bcbd-077e0c185315",
   "metadata": {
    "execution": {
     "iopub.execute_input": "2022-08-27T05:42:54.584659Z",
     "iopub.status.busy": "2022-08-27T05:42:54.584407Z",
     "iopub.status.idle": "2022-08-27T05:42:54.653519Z",
     "shell.execute_reply": "2022-08-27T05:42:54.652908Z",
     "shell.execute_reply.started": "2022-08-27T05:42:54.584624Z"
    },
    "tags": []
   },
   "outputs": [
    {
     "data": {
      "application/vnd.jupyter.widget-view+json": {
       "model_id": "9d6fb6f16a1f4f30a4116cb3a1c6cbfe",
       "version_major": 2,
       "version_minor": 0
      },
      "text/plain": [
       "VBox()"
      ]
     },
     "metadata": {},
     "output_type": "display_data"
    },
    {
     "data": {
      "application/vnd.jupyter.widget-view+json": {
       "model_id": "",
       "version_major": 2,
       "version_minor": 0
      },
      "text/plain": [
       "FloatProgress(value=0.0, bar_style='info', description='Progress:', layout=Layout(height='25px', width='50%'),…"
      ]
     },
     "metadata": {},
     "output_type": "display_data"
    }
   ],
   "source": [
    "def convert_type_to_string(type):\n",
    "    if type == 1:\n",
    "        return 'unassigned'\n",
    "    elif type == 12 or type == 2 or type == 13 or type == 3:\n",
    "        return 'company'\n",
    "    elif type == 4 or type == 5 or type == 14 or type == 15:\n",
    "        return 'individual'\n",
    "    elif type == 6 or type == 7 or type == 8 or type == 9 or type == 16 or type == 17 or type == 18 or type == 19:\n",
    "        return 'government'\n",
    "    else:\n",
    "        'unknown'\n",
    "    "
   ]
  },
  {
   "cell_type": "code",
   "execution_count": 8,
   "id": "63a7ec19-362e-440c-b412-16e81b4c9edb",
   "metadata": {
    "execution": {
     "iopub.execute_input": "2022-08-27T05:42:54.656146Z",
     "iopub.status.busy": "2022-08-27T05:42:54.655893Z",
     "iopub.status.idle": "2022-08-27T05:42:54.726721Z",
     "shell.execute_reply": "2022-08-27T05:42:54.726090Z",
     "shell.execute_reply.started": "2022-08-27T05:42:54.656120Z"
    },
    "tags": []
   },
   "outputs": [
    {
     "data": {
      "application/vnd.jupyter.widget-view+json": {
       "model_id": "1f588ae72f794893abf510ed742818d2",
       "version_major": 2,
       "version_minor": 0
      },
      "text/plain": [
       "VBox()"
      ]
     },
     "metadata": {},
     "output_type": "display_data"
    },
    {
     "data": {
      "application/vnd.jupyter.widget-view+json": {
       "model_id": "",
       "version_major": 2,
       "version_minor": 0
      },
      "text/plain": [
       "FloatProgress(value=0.0, bar_style='info', description='Progress:', layout=Layout(height='25px', width='50%'),…"
      ]
     },
     "metadata": {},
     "output_type": "display_data"
    }
   ],
   "source": [
    "convert_type_to_string_udf = udf(lambda type:convert_type_to_string(type), StringType())"
   ]
  },
  {
   "cell_type": "code",
   "execution_count": 9,
   "id": "a16ed16b-bd7f-4723-a357-232d19734b8c",
   "metadata": {
    "execution": {
     "iopub.execute_input": "2022-08-27T05:42:54.728741Z",
     "iopub.status.busy": "2022-08-27T05:42:54.728470Z",
     "iopub.status.idle": "2022-08-27T05:42:55.002551Z",
     "shell.execute_reply": "2022-08-27T05:42:55.001951Z",
     "shell.execute_reply.started": "2022-08-27T05:42:54.728704Z"
    },
    "tags": []
   },
   "outputs": [
    {
     "data": {
      "application/vnd.jupyter.widget-view+json": {
       "model_id": "54cf445388e24f9985ba705e5e185a9a",
       "version_major": 2,
       "version_minor": 0
      },
      "text/plain": [
       "VBox()"
      ]
     },
     "metadata": {},
     "output_type": "display_data"
    },
    {
     "data": {
      "application/vnd.jupyter.widget-view+json": {
       "model_id": "",
       "version_major": 2,
       "version_minor": 0
      },
      "text/plain": [
       "FloatProgress(value=0.0, bar_style='info', description='Progress:', layout=Layout(height='25px', width='50%'),…"
      ]
     },
     "metadata": {},
     "output_type": "display_data"
    }
   ],
   "source": [
    "assignee_cleaned = assignee.withColumn('type_string', convert_type_to_string_udf(col(\"type\")))"
   ]
  },
  {
   "cell_type": "code",
   "execution_count": 10,
   "id": "bf5ff822-b150-4fb5-90d9-aea4ef52917d",
   "metadata": {
    "execution": {
     "iopub.execute_input": "2022-08-27T05:42:55.003844Z",
     "iopub.status.busy": "2022-08-27T05:42:55.003597Z",
     "iopub.status.idle": "2022-08-27T05:43:02.445768Z",
     "shell.execute_reply": "2022-08-27T05:43:02.445172Z",
     "shell.execute_reply.started": "2022-08-27T05:42:55.003808Z"
    },
    "tags": []
   },
   "outputs": [
    {
     "data": {
      "application/vnd.jupyter.widget-view+json": {
       "model_id": "39eb21e9c1b541ffa14131e4893dc661",
       "version_major": 2,
       "version_minor": 0
      },
      "text/plain": [
       "VBox()"
      ]
     },
     "metadata": {},
     "output_type": "display_data"
    },
    {
     "data": {
      "application/vnd.jupyter.widget-view+json": {
       "model_id": "",
       "version_major": 2,
       "version_minor": 0
      },
      "text/plain": [
       "FloatProgress(value=0.0, bar_style='info', description='Progress:', layout=Layout(height='25px', width='50%'),…"
      ]
     },
     "metadata": {},
     "output_type": "display_data"
    }
   ],
   "source": [
    "assert assignee_cleaned.filter(col('type_string') == 'unknown').count() == 0"
   ]
  },
  {
   "cell_type": "code",
   "execution_count": 11,
   "id": "063ee324-c6c1-4ece-a8e5-2346348fcb1b",
   "metadata": {
    "execution": {
     "iopub.execute_input": "2022-08-27T05:43:02.447254Z",
     "iopub.status.busy": "2022-08-27T05:43:02.447001Z",
     "iopub.status.idle": "2022-08-27T05:43:05.790168Z",
     "shell.execute_reply": "2022-08-27T05:43:05.789534Z",
     "shell.execute_reply.started": "2022-08-27T05:43:02.447218Z"
    },
    "tags": []
   },
   "outputs": [
    {
     "data": {
      "application/vnd.jupyter.widget-view+json": {
       "model_id": "c70522cffcbe4e45996fe79f3f970767",
       "version_major": 2,
       "version_minor": 0
      },
      "text/plain": [
       "VBox()"
      ]
     },
     "metadata": {},
     "output_type": "display_data"
    },
    {
     "data": {
      "application/vnd.jupyter.widget-view+json": {
       "model_id": "",
       "version_major": 2,
       "version_minor": 0
      },
      "text/plain": [
       "FloatProgress(value=0.0, bar_style='info', description='Progress:', layout=Layout(height='25px', width='50%'),…"
      ]
     },
     "metadata": {},
     "output_type": "display_data"
    },
    {
     "name": "stdout",
     "output_type": "stream",
     "text": [
      "+--------------------+----+----------+---------+--------------------+-----------+\n",
      "|                  id|type|name_first|name_last|        organization|type_string|\n",
      "+--------------------+----+----------+---------+--------------------+-----------+\n",
      "|f396335b-4315-4d2...|null|      null|     null|ROI Media LLC, a ...|       null|\n",
      "|ea9e34d1-0610-417...|null|      null|     null|ZETA POTENTIAL IN...|       null|\n",
      "|264b42fa-8451-4bc...|null|      null|     null|Dong Ahm Bio-Tech...|       null|\n",
      "|6e620470-8766-421...|null|      null|     null|Shenzhen Joyhong ...|       null|\n",
      "|0d083a92-6a48-4a5...|null|      null|     null| Lucemitek Co., Ltd.|       null|\n",
      "|9037e1d8-c403-4f1...|null|      null|     null|Home Phone Tunes,...|       null|\n",
      "|ec759e88-b2c5-4d1...|null|      null|     null|   Juicy Tours, Inc.|       null|\n",
      "|ecd46ec5-fa4a-449...|null|      null|     null|Truplast Kunststo...|       null|\n",
      "|bd4801df-0484-4ad...|null|      null|     null|         Nooreq Inc.|       null|\n",
      "|1f30dece-956f-4a3...|null|      null|     null|    Yugen Kaisha NOC|       null|\n",
      "|fc4e661e-9190-457...|null|      null|     null|SHAOXING CONTUO T...|       null|\n",
      "|a8c3b215-b613-4dc...|null|      null|     null|    Unique Seal, LLC|       null|\n",
      "|05d62524-0a78-45c...|null|      null|     null|    CoffeeChain, LLC|       null|\n",
      "|a7d7991e-0636-463...|null|      null|     null|         Sandbox LLC|       null|\n",
      "|e3040aee-1ffe-48b...|null|      null|     null|   Bethel Farms Ltd.|       null|\n",
      "|b2ae1001-4069-49e...|null| DONALD M.|    DANKO|                null|       null|\n",
      "|2017ed91-2050-4ba...|null|      null|     null|Wolverine Brass, ...|       null|\n",
      "|204bdf3b-af3b-4d1...|null|      null|     null|Sherex Industries...|       null|\n",
      "|9a5e726e-2182-4dc...|null|      null|     null|      FLUONICS CORP.|       null|\n",
      "|61a53b0f-b026-460...|null|      null|     null|Fincase Company Est.|       null|\n",
      "+--------------------+----+----------+---------+--------------------+-----------+\n",
      "only showing top 20 rows"
     ]
    }
   ],
   "source": [
    "assignee_cleaned.filter(col('type_string').isNull()).show()"
   ]
  },
  {
   "cell_type": "code",
   "execution_count": 12,
   "id": "50cb61b8-cb0d-4e05-84ec-ee87e988cb94",
   "metadata": {
    "execution": {
     "iopub.execute_input": "2022-08-27T05:43:05.791621Z",
     "iopub.status.busy": "2022-08-27T05:43:05.791269Z",
     "iopub.status.idle": "2022-08-27T05:43:05.856498Z",
     "shell.execute_reply": "2022-08-27T05:43:05.855906Z",
     "shell.execute_reply.started": "2022-08-27T05:43:05.791582Z"
    },
    "tags": []
   },
   "outputs": [
    {
     "data": {
      "application/vnd.jupyter.widget-view+json": {
       "model_id": "2725ad8c0722456eb1ad48ba92c1bb7c",
       "version_major": 2,
       "version_minor": 0
      },
      "text/plain": [
       "VBox()"
      ]
     },
     "metadata": {},
     "output_type": "display_data"
    },
    {
     "data": {
      "application/vnd.jupyter.widget-view+json": {
       "model_id": "",
       "version_major": 2,
       "version_minor": 0
      },
      "text/plain": [
       "FloatProgress(value=0.0, bar_style='info', description='Progress:', layout=Layout(height='25px', width='50%'),…"
      ]
     },
     "metadata": {},
     "output_type": "display_data"
    }
   ],
   "source": [
    "def infer_type(type_string, name_first, name_last, organization):\n",
    "    if type_string:\n",
    "        return type_string\n",
    "    else:\n",
    "        if organization:\n",
    "            return 'company'\n",
    "        elif name_first or name_last:\n",
    "            return 'individual'\n",
    "        else:\n",
    "            return 'unknown'\n",
    "        "
   ]
  },
  {
   "cell_type": "code",
   "execution_count": 13,
   "id": "34180dc6-d72f-4348-8116-64f2da3f732a",
   "metadata": {
    "execution": {
     "iopub.execute_input": "2022-08-27T05:43:05.857483Z",
     "iopub.status.busy": "2022-08-27T05:43:05.857316Z",
     "iopub.status.idle": "2022-08-27T05:43:05.918517Z",
     "shell.execute_reply": "2022-08-27T05:43:05.917850Z",
     "shell.execute_reply.started": "2022-08-27T05:43:05.857461Z"
    },
    "tags": []
   },
   "outputs": [
    {
     "data": {
      "application/vnd.jupyter.widget-view+json": {
       "model_id": "c97736bda3b14f9bb125092bcf3b25a2",
       "version_major": 2,
       "version_minor": 0
      },
      "text/plain": [
       "VBox()"
      ]
     },
     "metadata": {},
     "output_type": "display_data"
    },
    {
     "data": {
      "application/vnd.jupyter.widget-view+json": {
       "model_id": "",
       "version_major": 2,
       "version_minor": 0
      },
      "text/plain": [
       "FloatProgress(value=0.0, bar_style='info', description='Progress:', layout=Layout(height='25px', width='50%'),…"
      ]
     },
     "metadata": {},
     "output_type": "display_data"
    }
   ],
   "source": [
    "infer_type_udf = udf(infer_type, StringType())"
   ]
  },
  {
   "cell_type": "code",
   "execution_count": 14,
   "id": "e53ab720-69ea-4566-bb58-f085a1075f32",
   "metadata": {
    "execution": {
     "iopub.execute_input": "2022-08-27T05:43:05.919883Z",
     "iopub.status.busy": "2022-08-27T05:43:05.919633Z",
     "iopub.status.idle": "2022-08-27T05:43:06.202030Z",
     "shell.execute_reply": "2022-08-27T05:43:06.201483Z",
     "shell.execute_reply.started": "2022-08-27T05:43:05.919848Z"
    },
    "tags": []
   },
   "outputs": [
    {
     "data": {
      "application/vnd.jupyter.widget-view+json": {
       "model_id": "90d8596d87f241208898bab18351e68e",
       "version_major": 2,
       "version_minor": 0
      },
      "text/plain": [
       "VBox()"
      ]
     },
     "metadata": {},
     "output_type": "display_data"
    },
    {
     "data": {
      "application/vnd.jupyter.widget-view+json": {
       "model_id": "",
       "version_major": 2,
       "version_minor": 0
      },
      "text/plain": [
       "FloatProgress(value=0.0, bar_style='info', description='Progress:', layout=Layout(height='25px', width='50%'),…"
      ]
     },
     "metadata": {},
     "output_type": "display_data"
    }
   ],
   "source": [
    "assignee_cleaned = assignee_cleaned.withColumn('type_string_cleaned', infer_type_udf(col(\"type_string\"), col(\"name_first\"), col(\"name_last\"), col(\"organization\")))"
   ]
  },
  {
   "cell_type": "code",
   "execution_count": 15,
   "id": "c7376fd7-d634-4374-8e92-46250c2b201d",
   "metadata": {
    "execution": {
     "iopub.execute_input": "2022-08-27T05:43:06.203070Z",
     "iopub.status.busy": "2022-08-27T05:43:06.202864Z",
     "iopub.status.idle": "2022-08-27T05:43:09.500242Z",
     "shell.execute_reply": "2022-08-27T05:43:09.499492Z",
     "shell.execute_reply.started": "2022-08-27T05:43:06.203036Z"
    },
    "tags": []
   },
   "outputs": [
    {
     "data": {
      "application/vnd.jupyter.widget-view+json": {
       "model_id": "be20a871de3d4ce8b6cf4042c74d4844",
       "version_major": 2,
       "version_minor": 0
      },
      "text/plain": [
       "VBox()"
      ]
     },
     "metadata": {},
     "output_type": "display_data"
    },
    {
     "data": {
      "application/vnd.jupyter.widget-view+json": {
       "model_id": "",
       "version_major": 2,
       "version_minor": 0
      },
      "text/plain": [
       "FloatProgress(value=0.0, bar_style='info', description='Progress:', layout=Layout(height='25px', width='50%'),…"
      ]
     },
     "metadata": {},
     "output_type": "display_data"
    },
    {
     "name": "stdout",
     "output_type": "stream",
     "text": [
      "+--------------------+----+----------+---------+--------------------+-----------+-------------------+\n",
      "|                  id|type|name_first|name_last|        organization|type_string|type_string_cleaned|\n",
      "+--------------------+----+----------+---------+--------------------+-----------+-------------------+\n",
      "|cf06cbad-b4f3-45f...| 2.0|      null|     null|Rainbow Display, ...|    company|            company|\n",
      "|4f18552a-5db7-4b0...| 2.0|      null|     null|    LECO Corporation|    company|            company|\n",
      "|24effb01-7bc0-43c...| 2.0|      null|     null| Sper Scientific Ltd|    company|            company|\n",
      "|e47b6be9-98b3-46c...| 2.0|      null|     null|Amenex Associates...|    company|            company|\n",
      "|91d19128-6b46-454...| 3.0|      null|     null|Living Technologi...|    company|            company|\n",
      "+--------------------+----+----------+---------+--------------------+-----------+-------------------+\n",
      "only showing top 5 rows"
     ]
    }
   ],
   "source": [
    "assignee_cleaned.show(5)"
   ]
  },
  {
   "cell_type": "code",
   "execution_count": 16,
   "id": "d4c6d6c3-5c94-4682-81d7-a822c86c0981",
   "metadata": {
    "execution": {
     "iopub.execute_input": "2022-08-27T05:43:09.501303Z",
     "iopub.status.busy": "2022-08-27T05:43:09.501112Z",
     "iopub.status.idle": "2022-08-27T05:43:12.835342Z",
     "shell.execute_reply": "2022-08-27T05:43:12.834667Z",
     "shell.execute_reply.started": "2022-08-27T05:43:09.501280Z"
    },
    "tags": []
   },
   "outputs": [
    {
     "data": {
      "application/vnd.jupyter.widget-view+json": {
       "model_id": "c2347e5ae38b458f8440489462a4b0c3",
       "version_major": 2,
       "version_minor": 0
      },
      "text/plain": [
       "VBox()"
      ]
     },
     "metadata": {},
     "output_type": "display_data"
    },
    {
     "data": {
      "application/vnd.jupyter.widget-view+json": {
       "model_id": "",
       "version_major": 2,
       "version_minor": 0
      },
      "text/plain": [
       "FloatProgress(value=0.0, bar_style='info', description='Progress:', layout=Layout(height='25px', width='50%'),…"
      ]
     },
     "metadata": {},
     "output_type": "display_data"
    },
    {
     "name": "stdout",
     "output_type": "stream",
     "text": [
      "+--------------------+----+----------+---------+--------------------+-----------+-------------------+\n",
      "|                  id|type|name_first|name_last|        organization|type_string|type_string_cleaned|\n",
      "+--------------------+----+----------+---------+--------------------+-----------+-------------------+\n",
      "|f396335b-4315-4d2...|null|      null|     null|ROI Media LLC, a ...|       null|            company|\n",
      "|ea9e34d1-0610-417...|null|      null|     null|ZETA POTENTIAL IN...|       null|            company|\n",
      "|264b42fa-8451-4bc...|null|      null|     null|Dong Ahm Bio-Tech...|       null|            company|\n",
      "|6e620470-8766-421...|null|      null|     null|Shenzhen Joyhong ...|       null|            company|\n",
      "|0d083a92-6a48-4a5...|null|      null|     null| Lucemitek Co., Ltd.|       null|            company|\n",
      "|9037e1d8-c403-4f1...|null|      null|     null|Home Phone Tunes,...|       null|            company|\n",
      "|ec759e88-b2c5-4d1...|null|      null|     null|   Juicy Tours, Inc.|       null|            company|\n",
      "|ecd46ec5-fa4a-449...|null|      null|     null|Truplast Kunststo...|       null|            company|\n",
      "|bd4801df-0484-4ad...|null|      null|     null|         Nooreq Inc.|       null|            company|\n",
      "|1f30dece-956f-4a3...|null|      null|     null|    Yugen Kaisha NOC|       null|            company|\n",
      "|fc4e661e-9190-457...|null|      null|     null|SHAOXING CONTUO T...|       null|            company|\n",
      "|a8c3b215-b613-4dc...|null|      null|     null|    Unique Seal, LLC|       null|            company|\n",
      "|05d62524-0a78-45c...|null|      null|     null|    CoffeeChain, LLC|       null|            company|\n",
      "|a7d7991e-0636-463...|null|      null|     null|         Sandbox LLC|       null|            company|\n",
      "|e3040aee-1ffe-48b...|null|      null|     null|   Bethel Farms Ltd.|       null|            company|\n",
      "|b2ae1001-4069-49e...|null| DONALD M.|    DANKO|                null|       null|         individual|\n",
      "|2017ed91-2050-4ba...|null|      null|     null|Wolverine Brass, ...|       null|            company|\n",
      "|204bdf3b-af3b-4d1...|null|      null|     null|Sherex Industries...|       null|            company|\n",
      "|9a5e726e-2182-4dc...|null|      null|     null|      FLUONICS CORP.|       null|            company|\n",
      "|61a53b0f-b026-460...|null|      null|     null|Fincase Company Est.|       null|            company|\n",
      "+--------------------+----+----------+---------+--------------------+-----------+-------------------+\n",
      "only showing top 20 rows"
     ]
    }
   ],
   "source": [
    "assignee_cleaned.filter(col(\"type_string\").isNull()).show()"
   ]
  },
  {
   "cell_type": "code",
   "execution_count": 17,
   "id": "852c8abc-9dfb-400c-b0c2-d6eb77076623",
   "metadata": {
    "execution": {
     "iopub.execute_input": "2022-08-27T05:43:12.836439Z",
     "iopub.status.busy": "2022-08-27T05:43:12.836270Z",
     "iopub.status.idle": "2022-08-27T05:43:18.447291Z",
     "shell.execute_reply": "2022-08-27T05:43:18.446599Z",
     "shell.execute_reply.started": "2022-08-27T05:43:12.836416Z"
    },
    "tags": []
   },
   "outputs": [
    {
     "data": {
      "application/vnd.jupyter.widget-view+json": {
       "model_id": "ee4bee7c04bd4fb085a9000903aa2794",
       "version_major": 2,
       "version_minor": 0
      },
      "text/plain": [
       "VBox()"
      ]
     },
     "metadata": {},
     "output_type": "display_data"
    },
    {
     "data": {
      "application/vnd.jupyter.widget-view+json": {
       "model_id": "",
       "version_major": 2,
       "version_minor": 0
      },
      "text/plain": [
       "FloatProgress(value=0.0, bar_style='info', description='Progress:', layout=Layout(height='25px', width='50%'),…"
      ]
     },
     "metadata": {},
     "output_type": "display_data"
    },
    {
     "name": "stdout",
     "output_type": "stream",
     "text": [
      "+---+----+----------+---------+------------+-----------+-------------------+\n",
      "| id|type|name_first|name_last|organization|type_string|type_string_cleaned|\n",
      "+---+----+----------+---------+------------+-----------+-------------------+\n",
      "+---+----+----------+---------+------------+-----------+-------------------+"
     ]
    }
   ],
   "source": [
    "assignee_cleaned.filter(col(\"type_string_cleaned\").isNull()).show()"
   ]
  },
  {
   "cell_type": "markdown",
   "id": "322ff347-17f9-436c-93e9-475aff40a93b",
   "metadata": {},
   "source": [
    "### Combine the column name_first, name_last, and organization"
   ]
  },
  {
   "cell_type": "code",
   "execution_count": 18,
   "id": "1518be49-7a53-4fb1-8825-4bf60398c1d3",
   "metadata": {
    "execution": {
     "iopub.execute_input": "2022-08-27T05:43:18.448540Z",
     "iopub.status.busy": "2022-08-27T05:43:18.448347Z",
     "iopub.status.idle": "2022-08-27T05:43:18.525758Z",
     "shell.execute_reply": "2022-08-27T05:43:18.525085Z",
     "shell.execute_reply.started": "2022-08-27T05:43:18.448515Z"
    },
    "tags": []
   },
   "outputs": [
    {
     "data": {
      "application/vnd.jupyter.widget-view+json": {
       "model_id": "5cecca2ae85a4c3e96b5412b52f731e3",
       "version_major": 2,
       "version_minor": 0
      },
      "text/plain": [
       "VBox()"
      ]
     },
     "metadata": {},
     "output_type": "display_data"
    },
    {
     "data": {
      "application/vnd.jupyter.widget-view+json": {
       "model_id": "",
       "version_major": 2,
       "version_minor": 0
      },
      "text/plain": [
       "FloatProgress(value=0.0, bar_style='info', description='Progress:', layout=Layout(height='25px', width='50%'),…"
      ]
     },
     "metadata": {},
     "output_type": "display_data"
    }
   ],
   "source": [
    "def combine_name(name_first, name_last, organization):\n",
    "    if organization:\n",
    "        return organization\n",
    "    elif name_first and name_last:\n",
    "        return f\"{name_first} {name_last}\"\n",
    "    elif name_last:\n",
    "        return name_last\n",
    "    elif name_first:\n",
    "        return name_first\n",
    "    else:\n",
    "        return null"
   ]
  },
  {
   "cell_type": "code",
   "execution_count": 19,
   "id": "770c3d68-e5a0-4dc8-89e4-9170cea52b04",
   "metadata": {
    "execution": {
     "iopub.execute_input": "2022-08-27T05:43:18.527235Z",
     "iopub.status.busy": "2022-08-27T05:43:18.526963Z",
     "iopub.status.idle": "2022-08-27T05:43:18.593700Z",
     "shell.execute_reply": "2022-08-27T05:43:18.593129Z",
     "shell.execute_reply.started": "2022-08-27T05:43:18.527183Z"
    },
    "tags": []
   },
   "outputs": [
    {
     "data": {
      "application/vnd.jupyter.widget-view+json": {
       "model_id": "0484725db0cc43a08e19f76688f938c5",
       "version_major": 2,
       "version_minor": 0
      },
      "text/plain": [
       "VBox()"
      ]
     },
     "metadata": {},
     "output_type": "display_data"
    },
    {
     "data": {
      "application/vnd.jupyter.widget-view+json": {
       "model_id": "",
       "version_major": 2,
       "version_minor": 0
      },
      "text/plain": [
       "FloatProgress(value=0.0, bar_style='info', description='Progress:', layout=Layout(height='25px', width='50%'),…"
      ]
     },
     "metadata": {},
     "output_type": "display_data"
    }
   ],
   "source": [
    "combine_name_udf = udf(combine_name, StringType())"
   ]
  },
  {
   "cell_type": "code",
   "execution_count": 20,
   "id": "27920733-39bc-4292-a12d-13ca5a62c43d",
   "metadata": {
    "execution": {
     "iopub.execute_input": "2022-08-27T05:43:18.594756Z",
     "iopub.status.busy": "2022-08-27T05:43:18.594589Z",
     "iopub.status.idle": "2022-08-27T05:43:18.865662Z",
     "shell.execute_reply": "2022-08-27T05:43:18.865095Z",
     "shell.execute_reply.started": "2022-08-27T05:43:18.594734Z"
    },
    "tags": []
   },
   "outputs": [
    {
     "data": {
      "application/vnd.jupyter.widget-view+json": {
       "model_id": "0ddd3c37c765427cb2e557c2b4f86099",
       "version_major": 2,
       "version_minor": 0
      },
      "text/plain": [
       "VBox()"
      ]
     },
     "metadata": {},
     "output_type": "display_data"
    },
    {
     "data": {
      "application/vnd.jupyter.widget-view+json": {
       "model_id": "",
       "version_major": 2,
       "version_minor": 0
      },
      "text/plain": [
       "FloatProgress(value=0.0, bar_style='info', description='Progress:', layout=Layout(height='25px', width='50%'),…"
      ]
     },
     "metadata": {},
     "output_type": "display_data"
    }
   ],
   "source": [
    "assignee_cleaned = assignee_cleaned.withColumn('name', combine_name_udf(col(\"name_first\"), col(\"name_last\"), col(\"organization\")))"
   ]
  },
  {
   "cell_type": "code",
   "execution_count": 21,
   "id": "c9b5683c-1d20-48d9-bc1c-3656bd644404",
   "metadata": {
    "execution": {
     "iopub.execute_input": "2022-08-27T05:43:18.866716Z",
     "iopub.status.busy": "2022-08-27T05:43:18.866547Z",
     "iopub.status.idle": "2022-08-27T05:43:22.187218Z",
     "shell.execute_reply": "2022-08-27T05:43:22.186610Z",
     "shell.execute_reply.started": "2022-08-27T05:43:18.866694Z"
    },
    "tags": []
   },
   "outputs": [
    {
     "data": {
      "application/vnd.jupyter.widget-view+json": {
       "model_id": "9efa3bc68fa4493e871dbfefabe4eb5a",
       "version_major": 2,
       "version_minor": 0
      },
      "text/plain": [
       "VBox()"
      ]
     },
     "metadata": {},
     "output_type": "display_data"
    },
    {
     "data": {
      "application/vnd.jupyter.widget-view+json": {
       "model_id": "",
       "version_major": 2,
       "version_minor": 0
      },
      "text/plain": [
       "FloatProgress(value=0.0, bar_style='info', description='Progress:', layout=Layout(height='25px', width='50%'),…"
      ]
     },
     "metadata": {},
     "output_type": "display_data"
    },
    {
     "name": "stdout",
     "output_type": "stream",
     "text": [
      "+--------------------+----+----------+---------+--------------------+-----------+-------------------+--------------------+\n",
      "|                  id|type|name_first|name_last|        organization|type_string|type_string_cleaned|                name|\n",
      "+--------------------+----+----------+---------+--------------------+-----------+-------------------+--------------------+\n",
      "|cf06cbad-b4f3-45f...| 2.0|      null|     null|Rainbow Display, ...|    company|            company|Rainbow Display, ...|\n",
      "|4f18552a-5db7-4b0...| 2.0|      null|     null|    LECO Corporation|    company|            company|    LECO Corporation|\n",
      "|24effb01-7bc0-43c...| 2.0|      null|     null| Sper Scientific Ltd|    company|            company| Sper Scientific Ltd|\n",
      "|e47b6be9-98b3-46c...| 2.0|      null|     null|Amenex Associates...|    company|            company|Amenex Associates...|\n",
      "|91d19128-6b46-454...| 3.0|      null|     null|Living Technologi...|    company|            company|Living Technologi...|\n",
      "|3390a121-64fd-481...| 2.0|      null|     null|Arnament Systems ...|    company|            company|Arnament Systems ...|\n",
      "|7e5690e0-36e7-4ac...| 2.0|      null|     null|     Zoomsafer, Inc.|    company|            company|     Zoomsafer, Inc.|\n",
      "|3480bb63-9a86-495...| 3.0|      null|     null|CARILLONS OPÉRA INC.|    company|            company|CARILLONS OPÉRA INC.|\n",
      "|bcbe945d-dcc1-4de...| 3.0|      null|     null|Kabushiki Kaisha ...|    company|            company|Kabushiki Kaisha ...|\n",
      "|b624c69f-eef4-415...| 3.0|      null|     null|Toray Battery Sep...|    company|            company|Toray Battery Sep...|\n",
      "|99708633-737a-4c6...| 3.0|      null|     null|Flexibility Conce...|    company|            company|Flexibility Conce...|\n",
      "|1b56d5e7-f0c3-43a...| 3.0|      null|     null|   PJSC Pharmsynthez|    company|            company|   PJSC Pharmsynthez|\n",
      "|60877347-acb9-4a5...| 3.0|      null|     null|ZHENGZHOU SYNTHET...|    company|            company|ZHENGZHOU SYNTHET...|\n",
      "|26abef34-f669-4d2...| 3.0|      null|     null|          Entress AB|    company|            company|          Entress AB|\n",
      "|7fdce896-799f-416...| 3.0|      null|     null|2568859 Ontario Inc.|    company|            company|2568859 Ontario Inc.|\n",
      "|d7391f3b-a8bf-422...| 3.0|      null|     null|FUJI IMPULSE CO.,...|    company|            company|FUJI IMPULSE CO.,...|\n",
      "|2095b512-c864-4bc...|null|      null|     null|  AVIDEA GROUP, INC.|       null|            company|  AVIDEA GROUP, INC.|\n",
      "|f334d3cf-585a-43f...| 2.0|      null|     null|McGuire Fishing &...|    company|            company|McGuire Fishing &...|\n",
      "|17a3fe39-63e6-439...| 5.0|  Takayuki| Yoneyama|                null| individual|         individual|   Takayuki Yoneyama|\n",
      "|35e8b86e-f022-4f0...| 3.0|      null|     null|     ABB Ricerca SpA|    company|            company|     ABB Ricerca SpA|\n",
      "+--------------------+----+----------+---------+--------------------+-----------+-------------------+--------------------+\n",
      "only showing top 20 rows"
     ]
    }
   ],
   "source": [
    "assignee_cleaned.show()"
   ]
  },
  {
   "cell_type": "code",
   "execution_count": 22,
   "id": "dcfde1cb-c94b-497f-ad6f-a7956110173b",
   "metadata": {
    "execution": {
     "iopub.execute_input": "2022-08-27T05:43:22.188627Z",
     "iopub.status.busy": "2022-08-27T05:43:22.188353Z",
     "iopub.status.idle": "2022-08-27T05:43:25.511888Z",
     "shell.execute_reply": "2022-08-27T05:43:25.511211Z",
     "shell.execute_reply.started": "2022-08-27T05:43:22.188590Z"
    },
    "tags": []
   },
   "outputs": [
    {
     "data": {
      "application/vnd.jupyter.widget-view+json": {
       "model_id": "67371c2978f34b7191ba20ad7ac2a269",
       "version_major": 2,
       "version_minor": 0
      },
      "text/plain": [
       "VBox()"
      ]
     },
     "metadata": {},
     "output_type": "display_data"
    },
    {
     "data": {
      "application/vnd.jupyter.widget-view+json": {
       "model_id": "",
       "version_major": 2,
       "version_minor": 0
      },
      "text/plain": [
       "FloatProgress(value=0.0, bar_style='info', description='Progress:', layout=Layout(height='25px', width='50%'),…"
      ]
     },
     "metadata": {},
     "output_type": "display_data"
    },
    {
     "name": "stdout",
     "output_type": "stream",
     "text": [
      "+---+----+----------+---------+------------+-----------+-------------------+----+\n",
      "| id|type|name_first|name_last|organization|type_string|type_string_cleaned|name|\n",
      "+---+----+----------+---------+------------+-----------+-------------------+----+\n",
      "+---+----+----------+---------+------------+-----------+-------------------+----+"
     ]
    }
   ],
   "source": [
    "assignee_cleaned.filter(col(\"name\").isNull()).show()"
   ]
  },
  {
   "cell_type": "code",
   "execution_count": 78,
   "id": "e7f60471-207f-47ee-9436-7408c0ab2d14",
   "metadata": {
    "execution": {
     "iopub.execute_input": "2022-08-24T02:44:45.807686Z",
     "iopub.status.busy": "2022-08-24T02:44:45.807400Z",
     "iopub.status.idle": "2022-08-24T02:44:47.576001Z",
     "shell.execute_reply": "2022-08-24T02:44:47.575132Z",
     "shell.execute_reply.started": "2022-08-24T02:44:45.807657Z"
    },
    "tags": []
   },
   "outputs": [
    {
     "data": {
      "application/vnd.jupyter.widget-view+json": {
       "model_id": "ac106c9f5e4a4269a3b92ab5983988e6",
       "version_major": 2,
       "version_minor": 0
      },
      "text/plain": [
       "VBox()"
      ]
     },
     "metadata": {},
     "output_type": "display_data"
    },
    {
     "data": {
      "application/vnd.jupyter.widget-view+json": {
       "model_id": "",
       "version_major": 2,
       "version_minor": 0
      },
      "text/plain": [
       "FloatProgress(value=0.0, bar_style='info', description='Progress:', layout=Layout(height='25px', width='50%'),…"
      ]
     },
     "metadata": {},
     "output_type": "display_data"
    },
    {
     "name": "stdout",
     "output_type": "stream",
     "text": [
      "540183"
     ]
    }
   ],
   "source": [
    "assignee_cleaned.count()"
   ]
  },
  {
   "cell_type": "markdown",
   "id": "1ad9ae5a-b910-4e03-b63c-534c5d15950f",
   "metadata": {},
   "source": [
    "### Delete the unassigned "
   ]
  },
  {
   "cell_type": "code",
   "execution_count": 23,
   "id": "756815c1-8ff3-4810-8bb4-ea1474893a60",
   "metadata": {
    "execution": {
     "iopub.execute_input": "2022-08-27T05:43:25.514120Z",
     "iopub.status.busy": "2022-08-27T05:43:25.513945Z",
     "iopub.status.idle": "2022-08-27T05:43:25.795331Z",
     "shell.execute_reply": "2022-08-27T05:43:25.794676Z",
     "shell.execute_reply.started": "2022-08-27T05:43:25.514097Z"
    },
    "tags": []
   },
   "outputs": [
    {
     "data": {
      "application/vnd.jupyter.widget-view+json": {
       "model_id": "0da863ddf5b2415a83b8f6de043bda2b",
       "version_major": 2,
       "version_minor": 0
      },
      "text/plain": [
       "VBox()"
      ]
     },
     "metadata": {},
     "output_type": "display_data"
    },
    {
     "data": {
      "application/vnd.jupyter.widget-view+json": {
       "model_id": "",
       "version_major": 2,
       "version_minor": 0
      },
      "text/plain": [
       "FloatProgress(value=0.0, bar_style='info', description='Progress:', layout=Layout(height='25px', width='50%'),…"
      ]
     },
     "metadata": {},
     "output_type": "display_data"
    }
   ],
   "source": [
    "assignee_cleaned = assignee_cleaned.filter((col('type_string_cleaned')!='unassigned'))"
   ]
  },
  {
   "cell_type": "code",
   "execution_count": 24,
   "id": "1c7f6195-95eb-408f-bcc0-412ad337a995",
   "metadata": {
    "execution": {
     "iopub.execute_input": "2022-08-27T05:43:25.797025Z",
     "iopub.status.busy": "2022-08-27T05:43:25.796601Z",
     "iopub.status.idle": "2022-08-27T05:43:31.365314Z",
     "shell.execute_reply": "2022-08-27T05:43:31.364580Z",
     "shell.execute_reply.started": "2022-08-27T05:43:25.796986Z"
    },
    "tags": []
   },
   "outputs": [
    {
     "data": {
      "application/vnd.jupyter.widget-view+json": {
       "model_id": "f7afb5c66b7342eeadc1f80631058784",
       "version_major": 2,
       "version_minor": 0
      },
      "text/plain": [
       "VBox()"
      ]
     },
     "metadata": {},
     "output_type": "display_data"
    },
    {
     "data": {
      "application/vnd.jupyter.widget-view+json": {
       "model_id": "",
       "version_major": 2,
       "version_minor": 0
      },
      "text/plain": [
       "FloatProgress(value=0.0, bar_style='info', description='Progress:', layout=Layout(height='25px', width='50%'),…"
      ]
     },
     "metadata": {},
     "output_type": "display_data"
    },
    {
     "name": "stdout",
     "output_type": "stream",
     "text": [
      "+---+----+----------+---------+------------+-----------+-------------------+----+\n",
      "| id|type|name_first|name_last|organization|type_string|type_string_cleaned|name|\n",
      "+---+----+----------+---------+------------+-----------+-------------------+----+\n",
      "+---+----+----------+---------+------------+-----------+-------------------+----+"
     ]
    }
   ],
   "source": [
    "assignee_cleaned.filter((col('type_string_cleaned')=='unassigned') | (col('type_string_cleaned')=='unknown')).show()"
   ]
  },
  {
   "cell_type": "markdown",
   "id": "8db2d66b-7663-434b-969d-8a756630f084",
   "metadata": {},
   "source": [
    "### Create unique ID based on the name and type_string_cleaned column"
   ]
  },
  {
   "cell_type": "code",
   "execution_count": 25,
   "id": "8189760a-6e69-4299-9fef-8e5282e2bb4c",
   "metadata": {
    "execution": {
     "iopub.execute_input": "2022-08-27T05:43:31.366407Z",
     "iopub.status.busy": "2022-08-27T05:43:31.366238Z",
     "iopub.status.idle": "2022-08-27T05:43:31.642255Z",
     "shell.execute_reply": "2022-08-27T05:43:31.641649Z",
     "shell.execute_reply.started": "2022-08-27T05:43:31.366384Z"
    },
    "tags": []
   },
   "outputs": [
    {
     "data": {
      "application/vnd.jupyter.widget-view+json": {
       "model_id": "f5d6cbc2a16948c0816e0fdd23934709",
       "version_major": 2,
       "version_minor": 0
      },
      "text/plain": [
       "VBox()"
      ]
     },
     "metadata": {},
     "output_type": "display_data"
    },
    {
     "data": {
      "application/vnd.jupyter.widget-view+json": {
       "model_id": "",
       "version_major": 2,
       "version_minor": 0
      },
      "text/plain": [
       "FloatProgress(value=0.0, bar_style='info', description='Progress:', layout=Layout(height='25px', width='50%'),…"
      ]
     },
     "metadata": {},
     "output_type": "display_data"
    }
   ],
   "source": [
    "assignee_cleaned_with_ID = assignee_cleaned.groupBy(\"name\", \"type_string_cleaned\").count().withColumn(\"new_id\", sha2(concat(col(\"name\"), col(\"type_string_cleaned\")),256)).select([\"name\", \"type_string_cleaned\", \"new_id\"])"
   ]
  },
  {
   "cell_type": "code",
   "execution_count": 26,
   "id": "1c1e998c-8130-4200-80ad-67f4365f5674",
   "metadata": {
    "execution": {
     "iopub.execute_input": "2022-08-27T05:43:31.643253Z",
     "iopub.status.busy": "2022-08-27T05:43:31.643061Z",
     "iopub.status.idle": "2022-08-27T05:43:40.982118Z",
     "shell.execute_reply": "2022-08-27T05:43:40.981441Z",
     "shell.execute_reply.started": "2022-08-27T05:43:31.643229Z"
    },
    "tags": []
   },
   "outputs": [
    {
     "data": {
      "application/vnd.jupyter.widget-view+json": {
       "model_id": "7ec8c8c5a57f4c8484a7bbd7c9f16340",
       "version_major": 2,
       "version_minor": 0
      },
      "text/plain": [
       "VBox()"
      ]
     },
     "metadata": {},
     "output_type": "display_data"
    },
    {
     "data": {
      "application/vnd.jupyter.widget-view+json": {
       "model_id": "",
       "version_major": 2,
       "version_minor": 0
      },
      "text/plain": [
       "FloatProgress(value=0.0, bar_style='info', description='Progress:', layout=Layout(height='25px', width='50%'),…"
      ]
     },
     "metadata": {},
     "output_type": "display_data"
    },
    {
     "name": "stdout",
     "output_type": "stream",
     "text": [
      "+--------------------+-------------------+--------------------+\n",
      "|                name|type_string_cleaned|              new_id|\n",
      "+--------------------+-------------------+--------------------+\n",
      "|   Medisol USA, Inc.|            company|6ebe7a88061c774f3...|\n",
      "|         Expii, Inc.|            company|a8a7e11b2eb6da7cb...|\n",
      "|     A.L. FILTER EAD|            company|e8dfa02ea03b1e34c...|\n",
      "|Wound Engineering...|            company|a78e711e20df5c9c4...|\n",
      "|M & B Plating Rac...|            company|0c06c9bfc48b0c904...|\n",
      "|        Mikroelektro|            company|616256456a5df3735...|\n",
      "|Sandblast Solutio...|            company|cbda75c71db098ddb...|\n",
      "|             Isoform|            company|413c7c04309760552...|\n",
      "|UP Management Gmb...|            company|801b25941581280e4...|\n",
      "|Bayerische Motore...|            company|a0403269fbface752...|\n",
      "|Rockwell Automoti...|            company|e896b40d6b47bb4e0...|\n",
      "|Constad Transfer,...|            company|cb90ea15069bab4ef...|\n",
      "|Yellowtuna Holdin...|            company|afb7966206bf3a436...|\n",
      "|       HD Clean, LLC|            company|cb41e6d1e932cf2e5...|\n",
      "|      Abram N. Spanl|         individual|e1b0d6a578cd2bf07...|\n",
      "|       Bassan & Cie.|            company|06087fed3301b53d8...|\n",
      "|Filtration & Coat...|            company|34c948bd149b5ed11...|\n",
      "|Ionterra Transpor...|            company|807fc43a7302b83d7...|\n",
      "|        C Note, Inc.|            company|93ae3f64f141542dd...|\n",
      "|Etablissements E....|            company|e75244f01452c8910...|\n",
      "+--------------------+-------------------+--------------------+\n",
      "only showing top 20 rows"
     ]
    }
   ],
   "source": [
    "assignee_cleaned_with_ID.show()"
   ]
  },
  {
   "cell_type": "code",
   "execution_count": 27,
   "id": "0b15128c-84de-4049-8f74-25e5e241a469",
   "metadata": {
    "execution": {
     "iopub.execute_input": "2022-08-27T05:43:40.983341Z",
     "iopub.status.busy": "2022-08-27T05:43:40.983126Z",
     "iopub.status.idle": "2022-08-27T05:43:41.259504Z",
     "shell.execute_reply": "2022-08-27T05:43:41.258917Z",
     "shell.execute_reply.started": "2022-08-27T05:43:40.983310Z"
    },
    "tags": []
   },
   "outputs": [
    {
     "data": {
      "application/vnd.jupyter.widget-view+json": {
       "model_id": "fcf5b5ebcba444ad8c86386444b191dd",
       "version_major": 2,
       "version_minor": 0
      },
      "text/plain": [
       "VBox()"
      ]
     },
     "metadata": {},
     "output_type": "display_data"
    },
    {
     "data": {
      "application/vnd.jupyter.widget-view+json": {
       "model_id": "",
       "version_major": 2,
       "version_minor": 0
      },
      "text/plain": [
       "FloatProgress(value=0.0, bar_style='info', description='Progress:', layout=Layout(height='25px', width='50%'),…"
      ]
     },
     "metadata": {},
     "output_type": "display_data"
    }
   ],
   "source": [
    "assignee_cleaned_with_ID = assignee_cleaned.join(assignee_cleaned_with_ID, (assignee_cleaned.name == assignee_cleaned_with_ID.name) & (assignee_cleaned.type_string_cleaned == assignee_cleaned_with_ID.type_string_cleaned)).drop(assignee_cleaned_with_ID.name).drop(assignee_cleaned_with_ID.type_string_cleaned)"
   ]
  },
  {
   "cell_type": "code",
   "execution_count": 30,
   "id": "d43d067f-25af-4169-aa38-1a61dc1a7a41",
   "metadata": {
    "execution": {
     "iopub.execute_input": "2022-08-27T05:43:58.919838Z",
     "iopub.status.busy": "2022-08-27T05:43:58.919580Z",
     "iopub.status.idle": "2022-08-27T05:43:58.981977Z",
     "shell.execute_reply": "2022-08-27T05:43:58.981387Z",
     "shell.execute_reply.started": "2022-08-27T05:43:58.919801Z"
    },
    "tags": []
   },
   "outputs": [
    {
     "data": {
      "application/vnd.jupyter.widget-view+json": {
       "model_id": "8c682c4af43e46d5bd83578fd86b7009",
       "version_major": 2,
       "version_minor": 0
      },
      "text/plain": [
       "VBox()"
      ]
     },
     "metadata": {},
     "output_type": "display_data"
    },
    {
     "data": {
      "application/vnd.jupyter.widget-view+json": {
       "model_id": "",
       "version_major": 2,
       "version_minor": 0
      },
      "text/plain": [
       "FloatProgress(value=0.0, bar_style='info', description='Progress:', layout=Layout(height='25px', width='50%'),…"
      ]
     },
     "metadata": {},
     "output_type": "display_data"
    }
   ],
   "source": [
    "assignee_cleaned_with_ID = assignee_cleaned_with_ID.select([\"id\", \"name\", col(\"type_string_cleaned\").alias(\"type\"), \"new_id\"])"
   ]
  },
  {
   "cell_type": "code",
   "execution_count": 29,
   "id": "ba812e4f-7998-4c57-ba7f-2a20956a97b5",
   "metadata": {
    "execution": {
     "iopub.execute_input": "2022-08-27T05:43:41.413561Z",
     "iopub.status.busy": "2022-08-27T05:43:41.411421Z",
     "iopub.status.idle": "2022-08-27T05:43:58.918105Z",
     "shell.execute_reply": "2022-08-27T05:43:58.917474Z",
     "shell.execute_reply.started": "2022-08-27T05:43:41.413520Z"
    },
    "tags": []
   },
   "outputs": [
    {
     "data": {
      "application/vnd.jupyter.widget-view+json": {
       "model_id": "df7c572e0ca94468b9c60906f0c4969a",
       "version_major": 2,
       "version_minor": 0
      },
      "text/plain": [
       "VBox()"
      ]
     },
     "metadata": {},
     "output_type": "display_data"
    },
    {
     "data": {
      "application/vnd.jupyter.widget-view+json": {
       "model_id": "",
       "version_major": 2,
       "version_minor": 0
      },
      "text/plain": [
       "FloatProgress(value=0.0, bar_style='info', description='Progress:', layout=Layout(height='25px', width='50%'),…"
      ]
     },
     "metadata": {},
     "output_type": "display_data"
    },
    {
     "name": "stdout",
     "output_type": "stream",
     "text": [
      "540181"
     ]
    }
   ],
   "source": [
    "assignee_cleaned_with_ID.count()"
   ]
  },
  {
   "cell_type": "code",
   "execution_count": 31,
   "id": "66b06ab1-4c2f-4409-a3e8-eba5ca489270",
   "metadata": {
    "execution": {
     "iopub.execute_input": "2022-08-27T05:44:29.650304Z",
     "iopub.status.busy": "2022-08-27T05:44:29.650054Z",
     "iopub.status.idle": "2022-08-27T05:44:29.706536Z",
     "shell.execute_reply": "2022-08-27T05:44:29.705959Z",
     "shell.execute_reply.started": "2022-08-27T05:44:29.650277Z"
    }
   },
   "outputs": [
    {
     "data": {
      "application/vnd.jupyter.widget-view+json": {
       "model_id": "ea4ceb5df2c24729aceb35664499aae9",
       "version_major": 2,
       "version_minor": 0
      },
      "text/plain": [
       "VBox()"
      ]
     },
     "metadata": {},
     "output_type": "display_data"
    },
    {
     "data": {
      "application/vnd.jupyter.widget-view+json": {
       "model_id": "",
       "version_major": 2,
       "version_minor": 0
      },
      "text/plain": [
       "FloatProgress(value=0.0, bar_style='info', description='Progress:', layout=Layout(height='25px', width='50%'),…"
      ]
     },
     "metadata": {},
     "output_type": "display_data"
    },
    {
     "name": "stdout",
     "output_type": "stream",
     "text": [
      "root\n",
      " |-- id: string (nullable = true)\n",
      " |-- name: string (nullable = true)\n",
      " |-- type: string (nullable = true)\n",
      " |-- new_id: string (nullable = true)"
     ]
    }
   ],
   "source": [
    "assignee_cleaned_with_ID.printSchema()"
   ]
  },
  {
   "cell_type": "markdown",
   "id": "e1f687ab-2f38-451a-aef7-db77da2b26bf",
   "metadata": {},
   "source": [
    "### Write the cleaned assignee data to S3"
   ]
  },
  {
   "cell_type": "code",
   "execution_count": 32,
   "id": "37aa3c12-5305-4ccd-a704-d58d5d8cf3db",
   "metadata": {
    "execution": {
     "iopub.execute_input": "2022-08-27T05:44:33.075301Z",
     "iopub.status.busy": "2022-08-27T05:44:33.075068Z",
     "iopub.status.idle": "2022-08-27T05:44:52.453277Z",
     "shell.execute_reply": "2022-08-27T05:44:52.452694Z",
     "shell.execute_reply.started": "2022-08-27T05:44:33.075275Z"
    },
    "tags": []
   },
   "outputs": [
    {
     "data": {
      "application/vnd.jupyter.widget-view+json": {
       "model_id": "510da267a5584f06a5f85c876f2958e2",
       "version_major": 2,
       "version_minor": 0
      },
      "text/plain": [
       "VBox()"
      ]
     },
     "metadata": {},
     "output_type": "display_data"
    },
    {
     "data": {
      "application/vnd.jupyter.widget-view+json": {
       "model_id": "",
       "version_major": 2,
       "version_minor": 0
      },
      "text/plain": [
       "FloatProgress(value=0.0, bar_style='info', description='Progress:', layout=Layout(height='25px', width='50%'),…"
      ]
     },
     "metadata": {},
     "output_type": "display_data"
    }
   ],
   "source": [
    "assignee_cleaned_with_ID.write.mode(\"overwrite\").parquet(f\"{output_path}/assignee.parquet\")"
   ]
  },
  {
   "cell_type": "markdown",
   "id": "a1ea92ff-c3d7-4f02-96e4-dac33103aee7",
   "metadata": {
    "tags": []
   },
   "source": [
    "## Cleaning the Location Table"
   ]
  },
  {
   "cell_type": "code",
   "execution_count": 7,
   "id": "6d31eeec-d4ec-417c-aeb4-3e0ee7234524",
   "metadata": {
    "execution": {
     "iopub.execute_input": "2022-09-07T10:59:15.157551Z",
     "iopub.status.busy": "2022-09-07T10:59:15.157308Z",
     "iopub.status.idle": "2022-09-07T10:59:15.227661Z",
     "shell.execute_reply": "2022-09-07T10:59:15.227110Z",
     "shell.execute_reply.started": "2022-09-07T10:59:15.157524Z"
    },
    "tags": []
   },
   "outputs": [
    {
     "data": {
      "application/vnd.jupyter.widget-view+json": {
       "model_id": "45d9b31dd9414155b44e7042e6691827",
       "version_major": 2,
       "version_minor": 0
      },
      "text/plain": [
       "VBox()"
      ]
     },
     "metadata": {},
     "output_type": "display_data"
    },
    {
     "data": {
      "application/vnd.jupyter.widget-view+json": {
       "model_id": "",
       "version_major": 2,
       "version_minor": 0
      },
      "text/plain": [
       "FloatProgress(value=0.0, bar_style='info', description='Progress:', layout=Layout(height='25px', width='50%'),…"
      ]
     },
     "metadata": {},
     "output_type": "display_data"
    }
   ],
   "source": [
    "location_path = \"s3://patents-analytics/raw/location.tsv\""
   ]
  },
  {
   "cell_type": "code",
   "execution_count": 8,
   "id": "6d411eab-2eb6-44b1-81ab-d5d229f7c199",
   "metadata": {
    "execution": {
     "iopub.execute_input": "2022-09-07T10:59:15.398560Z",
     "iopub.status.busy": "2022-09-07T10:59:15.398227Z",
     "iopub.status.idle": "2022-09-07T10:59:22.759272Z",
     "shell.execute_reply": "2022-09-07T10:59:22.758472Z",
     "shell.execute_reply.started": "2022-09-07T10:59:15.398521Z"
    },
    "tags": []
   },
   "outputs": [
    {
     "data": {
      "application/vnd.jupyter.widget-view+json": {
       "model_id": "efb283907c99434395b883206779eb48",
       "version_major": 2,
       "version_minor": 0
      },
      "text/plain": [
       "VBox()"
      ]
     },
     "metadata": {},
     "output_type": "display_data"
    },
    {
     "data": {
      "application/vnd.jupyter.widget-view+json": {
       "model_id": "",
       "version_major": 2,
       "version_minor": 0
      },
      "text/plain": [
       "FloatProgress(value=0.0, bar_style='info', description='Progress:', layout=Layout(height='25px', width='50%'),…"
      ]
     },
     "metadata": {},
     "output_type": "display_data"
    }
   ],
   "source": [
    "location = spark.read.options(header='True', delimiter='\\t', inferSchema='True', escape=\"\\\"\", multiline='True').csv(location_path).repartition(10)"
   ]
  },
  {
   "cell_type": "code",
   "execution_count": 9,
   "id": "f0522af4-9c96-43ee-a042-604152ada083",
   "metadata": {
    "execution": {
     "iopub.execute_input": "2022-09-07T10:59:22.760627Z",
     "iopub.status.busy": "2022-09-07T10:59:22.760445Z",
     "iopub.status.idle": "2022-09-07T10:59:28.116272Z",
     "shell.execute_reply": "2022-09-07T10:59:28.115464Z",
     "shell.execute_reply.started": "2022-09-07T10:59:22.760605Z"
    },
    "tags": []
   },
   "outputs": [
    {
     "data": {
      "application/vnd.jupyter.widget-view+json": {
       "model_id": "3c025053a3664230988d5a251fb16c84",
       "version_major": 2,
       "version_minor": 0
      },
      "text/plain": [
       "VBox()"
      ]
     },
     "metadata": {},
     "output_type": "display_data"
    },
    {
     "data": {
      "application/vnd.jupyter.widget-view+json": {
       "model_id": "",
       "version_major": 2,
       "version_minor": 0
      },
      "text/plain": [
       "FloatProgress(value=0.0, bar_style='info', description='Progress:', layout=Layout(height='25px', width='50%'),…"
      ]
     },
     "metadata": {},
     "output_type": "display_data"
    },
    {
     "name": "stdout",
     "output_type": "stream",
     "text": [
      "+--------------------+--------------------+-----+-------+--------+---------+------+----------+-----------+\n",
      "|                  id|                city|state|country|latitude|longitude|county|state_fips|county_fips|\n",
      "+--------------------+--------------------+-----+-------+--------+---------+------+----------+-----------+\n",
      "|e10f3d8a-cb8e-11e...|Saint Laurant du Var| null|     FR| 46.2621| -0.21006|  null|      null|       null|\n",
      "|02b3429f-cb90-11e...|            Zornhcim| null|     DE|    null|     null|  null|      null|       null|\n",
      "|bfe59c31-cb8e-11e...|       Doddanankundi| null|     IN|    null|     null|  null|      null|       null|\n",
      "|8147f6e3-cb8e-11e...|        Stella-Plage| null|     FR| 50.4799|  1.57714|  null|      null|       null|\n",
      "|fa670c89-cb8e-11e...|           Naremburn| null|     AU|-33.8171|  151.202|  null|      null|       null|\n",
      "+--------------------+--------------------+-----+-------+--------+---------+------+----------+-----------+\n",
      "only showing top 5 rows"
     ]
    }
   ],
   "source": [
    "location.show(5)"
   ]
  },
  {
   "cell_type": "code",
   "execution_count": 10,
   "id": "557682ac-83e9-4717-abd2-5be754424fbf",
   "metadata": {
    "execution": {
     "iopub.execute_input": "2022-09-07T10:59:28.118267Z",
     "iopub.status.busy": "2022-09-07T10:59:28.118005Z",
     "iopub.status.idle": "2022-09-07T10:59:29.412919Z",
     "shell.execute_reply": "2022-09-07T10:59:29.412189Z",
     "shell.execute_reply.started": "2022-09-07T10:59:28.118230Z"
    },
    "tags": []
   },
   "outputs": [
    {
     "data": {
      "application/vnd.jupyter.widget-view+json": {
       "model_id": "e119c2b061104c08a0c3ee72d10e0b20",
       "version_major": 2,
       "version_minor": 0
      },
      "text/plain": [
       "VBox()"
      ]
     },
     "metadata": {},
     "output_type": "display_data"
    },
    {
     "data": {
      "application/vnd.jupyter.widget-view+json": {
       "model_id": "",
       "version_major": 2,
       "version_minor": 0
      },
      "text/plain": [
       "FloatProgress(value=0.0, bar_style='info', description='Progress:', layout=Layout(height='25px', width='50%'),…"
      ]
     },
     "metadata": {},
     "output_type": "display_data"
    },
    {
     "name": "stdout",
     "output_type": "stream",
     "text": [
      "242926"
     ]
    }
   ],
   "source": [
    "location.count()"
   ]
  },
  {
   "cell_type": "code",
   "execution_count": 11,
   "id": "2ce1fad9-6a29-48a4-a9da-cedce1602402",
   "metadata": {
    "execution": {
     "iopub.execute_input": "2022-09-07T10:59:29.414243Z",
     "iopub.status.busy": "2022-09-07T10:59:29.414074Z",
     "iopub.status.idle": "2022-09-07T10:59:29.492312Z",
     "shell.execute_reply": "2022-09-07T10:59:29.491670Z",
     "shell.execute_reply.started": "2022-09-07T10:59:29.414222Z"
    },
    "tags": []
   },
   "outputs": [
    {
     "data": {
      "application/vnd.jupyter.widget-view+json": {
       "model_id": "baf33c3244244262a638efd463550809",
       "version_major": 2,
       "version_minor": 0
      },
      "text/plain": [
       "VBox()"
      ]
     },
     "metadata": {},
     "output_type": "display_data"
    },
    {
     "data": {
      "application/vnd.jupyter.widget-view+json": {
       "model_id": "",
       "version_major": 2,
       "version_minor": 0
      },
      "text/plain": [
       "FloatProgress(value=0.0, bar_style='info', description='Progress:', layout=Layout(height='25px', width='50%'),…"
      ]
     },
     "metadata": {},
     "output_type": "display_data"
    }
   ],
   "source": [
    "list_of_states_in_us = [\"AL\",  \"AK\",  \"AS\",  \"AZ\",  \"AR\",  \"CA\",  \"CO\",  \"CT\",  \"DE\",  \"DC\",  \"FL\",  \"GA\",  \"GU\",  \"HI\",  \"ID\",  \"IL\",  \"IN\",  \"IA\",  \"KS\",  \"KY\",  \"LA\",  \"ME\",  \"MD\",  \"MA\",  \"MI\",  \"MN\",  \"MS\",  \"MO\",  \"MT\",  \"NE\",  \"NV\",  \"NH\",  \"NJ\",  \"NM\",  \"NY\",  \"NC\",  \"ND\",  \"MP\",  \"OH\",  \"OK\",  \"OR\",  \"PA\",  \"PR\",  \"RI\",  \"SC\",  \"SD\",  \"TN\",  \"TX\",  \"UT\",  \"VT\",  \"VA\",  \"VI\",  \"WA\",  \"WV\",  \"WI\",  \"WY\"]"
   ]
  },
  {
   "cell_type": "code",
   "execution_count": 12,
   "id": "c5639a3e-b5ee-463c-8f13-63a36f7d2a09",
   "metadata": {
    "execution": {
     "iopub.execute_input": "2022-09-07T10:59:29.493681Z",
     "iopub.status.busy": "2022-09-07T10:59:29.493339Z",
     "iopub.status.idle": "2022-09-07T10:59:29.582937Z",
     "shell.execute_reply": "2022-09-07T10:59:29.582233Z",
     "shell.execute_reply.started": "2022-09-07T10:59:29.493648Z"
    },
    "tags": []
   },
   "outputs": [
    {
     "data": {
      "application/vnd.jupyter.widget-view+json": {
       "model_id": "ba1deb3b83fe46b3aa89fa96cb26f100",
       "version_major": 2,
       "version_minor": 0
      },
      "text/plain": [
       "VBox()"
      ]
     },
     "metadata": {},
     "output_type": "display_data"
    },
    {
     "data": {
      "application/vnd.jupyter.widget-view+json": {
       "model_id": "",
       "version_major": 2,
       "version_minor": 0
      },
      "text/plain": [
       "FloatProgress(value=0.0, bar_style='info', description='Progress:', layout=Layout(height='25px', width='50%'),…"
      ]
     },
     "metadata": {},
     "output_type": "display_data"
    }
   ],
   "source": [
    "def map_us_state_to_country(state):\n",
    "    list_of_states_in_us = [\"AL\",  \"AK\",  \"AS\",  \"AZ\",  \"AR\",  \"CA\",  \"CO\",  \"CT\",  \"DE\",  \"DC\",  \"FL\",  \"GA\",  \"GU\",  \"HI\",  \"ID\",  \"IL\",  \"IN\",  \"IA\",  \"KS\",  \"KY\",  \"LA\",  \"ME\",  \"MD\",  \"MA\",  \"MI\",  \"MN\",  \"MS\",  \"MO\",  \"MT\",  \"NE\",  \"NV\",  \"NH\",  \"NJ\",  \"NM\",  \"NY\",  \"NC\",  \"ND\",  \"MP\",  \"OH\",  \"OK\",  \"OR\",  \"PA\",  \"PR\",  \"RI\",  \"SC\",  \"SD\",  \"TN\",  \"TX\",  \"UT\",  \"VT\",  \"VA\",  \"VI\",  \"WA\",  \"WV\",  \"WI\",  \"WY\"]\n",
    "    if state and state in list_of_states_in_us:\n",
    "        return 'US'\n",
    "    else:\n",
    "        return None"
   ]
  },
  {
   "cell_type": "code",
   "execution_count": 13,
   "id": "97c988ff-3d0c-49ec-a928-3bd11875d256",
   "metadata": {
    "execution": {
     "iopub.execute_input": "2022-09-07T10:59:29.584223Z",
     "iopub.status.busy": "2022-09-07T10:59:29.583851Z",
     "iopub.status.idle": "2022-09-07T10:59:29.685362Z",
     "shell.execute_reply": "2022-09-07T10:59:29.684647Z",
     "shell.execute_reply.started": "2022-09-07T10:59:29.584185Z"
    },
    "tags": []
   },
   "outputs": [
    {
     "data": {
      "application/vnd.jupyter.widget-view+json": {
       "model_id": "655f6b0907334643a90fe66fb6be120c",
       "version_major": 2,
       "version_minor": 0
      },
      "text/plain": [
       "VBox()"
      ]
     },
     "metadata": {},
     "output_type": "display_data"
    },
    {
     "data": {
      "application/vnd.jupyter.widget-view+json": {
       "model_id": "",
       "version_major": 2,
       "version_minor": 0
      },
      "text/plain": [
       "FloatProgress(value=0.0, bar_style='info', description='Progress:', layout=Layout(height='25px', width='50%'),…"
      ]
     },
     "metadata": {},
     "output_type": "display_data"
    }
   ],
   "source": [
    "map_us_state_to_country_udf = udf(map_us_state_to_country, StringType())"
   ]
  },
  {
   "cell_type": "code",
   "execution_count": 14,
   "id": "77bcd785-a7eb-4215-a9cf-723c17bf7a03",
   "metadata": {
    "execution": {
     "iopub.execute_input": "2022-09-07T10:59:29.686765Z",
     "iopub.status.busy": "2022-09-07T10:59:29.686368Z",
     "iopub.status.idle": "2022-09-07T10:59:29.990332Z",
     "shell.execute_reply": "2022-09-07T10:59:29.989650Z",
     "shell.execute_reply.started": "2022-09-07T10:59:29.686730Z"
    },
    "tags": []
   },
   "outputs": [
    {
     "data": {
      "application/vnd.jupyter.widget-view+json": {
       "model_id": "3b52da5f60744e1885cfd4259192a931",
       "version_major": 2,
       "version_minor": 0
      },
      "text/plain": [
       "VBox()"
      ]
     },
     "metadata": {},
     "output_type": "display_data"
    },
    {
     "data": {
      "application/vnd.jupyter.widget-view+json": {
       "model_id": "",
       "version_major": 2,
       "version_minor": 0
      },
      "text/plain": [
       "FloatProgress(value=0.0, bar_style='info', description='Progress:', layout=Layout(height='25px', width='50%'),…"
      ]
     },
     "metadata": {},
     "output_type": "display_data"
    }
   ],
   "source": [
    "location = location.withColumn(\"derived_country_based_on_state\", map_us_state_to_country_udf(col(\"state\"))).cache()"
   ]
  },
  {
   "cell_type": "markdown",
   "id": "874e128f-3bab-4b86-97f4-b0f65f84c5fb",
   "metadata": {
    "tags": []
   },
   "source": [
    "### Load the country shapes data to transform latitude and longitude to country"
   ]
  },
  {
   "cell_type": "code",
   "execution_count": 18,
   "id": "bf1e72d0-7ef8-42d8-8abf-0b9f028593f0",
   "metadata": {
    "execution": {
     "iopub.execute_input": "2022-09-06T04:57:56.568214Z",
     "iopub.status.busy": "2022-09-06T04:57:56.568030Z",
     "iopub.status.idle": "2022-09-06T04:57:56.629791Z",
     "shell.execute_reply": "2022-09-06T04:57:56.629084Z",
     "shell.execute_reply.started": "2022-09-06T04:57:56.568192Z"
    },
    "tags": []
   },
   "outputs": [
    {
     "data": {
      "application/vnd.jupyter.widget-view+json": {
       "model_id": "82aa8f4ef0d54985b420d0d762778e6b",
       "version_major": 2,
       "version_minor": 0
      },
      "text/plain": [
       "VBox()"
      ]
     },
     "metadata": {},
     "output_type": "display_data"
    },
    {
     "data": {
      "application/vnd.jupyter.widget-view+json": {
       "model_id": "",
       "version_major": 2,
       "version_minor": 0
      },
      "text/plain": [
       "FloatProgress(value=0.0, bar_style='info', description='Progress:', layout=Layout(height='25px', width='50%'),…"
      ]
     },
     "metadata": {},
     "output_type": "display_data"
    }
   ],
   "source": [
    "country_shapes_path = \"s3://patents-analytics/raw/shapes_simplified_low.json\""
   ]
  },
  {
   "cell_type": "code",
   "execution_count": 19,
   "id": "0aa77781-5f83-4be2-845d-98f852bdc963",
   "metadata": {
    "execution": {
     "iopub.execute_input": "2022-09-06T04:57:56.631827Z",
     "iopub.status.busy": "2022-09-06T04:57:56.631577Z",
     "iopub.status.idle": "2022-09-06T04:57:57.724516Z",
     "shell.execute_reply": "2022-09-06T04:57:57.718479Z",
     "shell.execute_reply.started": "2022-09-06T04:57:56.631792Z"
    },
    "tags": []
   },
   "outputs": [
    {
     "data": {
      "application/vnd.jupyter.widget-view+json": {
       "model_id": "ba1cfefb93234677a004f563cb979b83",
       "version_major": 2,
       "version_minor": 0
      },
      "text/plain": [
       "VBox()"
      ]
     },
     "metadata": {},
     "output_type": "display_data"
    },
    {
     "data": {
      "application/vnd.jupyter.widget-view+json": {
       "model_id": "",
       "version_major": 2,
       "version_minor": 0
      },
      "text/plain": [
       "FloatProgress(value=0.0, bar_style='info', description='Progress:', layout=Layout(height='25px', width='50%'),…"
      ]
     },
     "metadata": {},
     "output_type": "display_data"
    }
   ],
   "source": [
    "country_shapes = spark.read.options(multiline=\"True\").json(country_shapes_path)"
   ]
  },
  {
   "cell_type": "code",
   "execution_count": 20,
   "id": "5a5e8c24-6f83-40a9-807b-b38eb34cc643",
   "metadata": {
    "execution": {
     "iopub.execute_input": "2022-09-06T04:57:57.726052Z",
     "iopub.status.busy": "2022-09-06T04:57:57.725660Z",
     "iopub.status.idle": "2022-09-06T04:57:57.792373Z",
     "shell.execute_reply": "2022-09-06T04:57:57.791815Z",
     "shell.execute_reply.started": "2022-09-06T04:57:57.726013Z"
    },
    "tags": []
   },
   "outputs": [
    {
     "data": {
      "application/vnd.jupyter.widget-view+json": {
       "model_id": "f7c295fd08714efcb33c313208d5bc30",
       "version_major": 2,
       "version_minor": 0
      },
      "text/plain": [
       "VBox()"
      ]
     },
     "metadata": {},
     "output_type": "display_data"
    },
    {
     "data": {
      "application/vnd.jupyter.widget-view+json": {
       "model_id": "",
       "version_major": 2,
       "version_minor": 0
      },
      "text/plain": [
       "FloatProgress(value=0.0, bar_style='info', description='Progress:', layout=Layout(height='25px', width='50%'),…"
      ]
     },
     "metadata": {},
     "output_type": "display_data"
    },
    {
     "name": "stdout",
     "output_type": "stream",
     "text": [
      "root\n",
      " |-- features: array (nullable = true)\n",
      " |    |-- element: struct (containsNull = true)\n",
      " |    |    |-- geometry: struct (nullable = true)\n",
      " |    |    |    |-- coordinates: array (nullable = true)\n",
      " |    |    |    |    |-- element: array (containsNull = true)\n",
      " |    |    |    |    |    |-- element: array (containsNull = true)\n",
      " |    |    |    |    |    |    |-- element: string (containsNull = true)\n",
      " |    |    |    |-- type: string (nullable = true)\n",
      " |    |    |-- properties: struct (nullable = true)\n",
      " |    |    |    |-- geoNameId: string (nullable = true)\n",
      " |    |    |-- type: string (nullable = true)\n",
      " |-- type: string (nullable = true)"
     ]
    }
   ],
   "source": [
    "country_shapes.printSchema()"
   ]
  },
  {
   "cell_type": "code",
   "execution_count": 21,
   "id": "c3fafec4-d977-4929-a87d-6e54f992c332",
   "metadata": {
    "execution": {
     "iopub.execute_input": "2022-09-06T04:57:57.793433Z",
     "iopub.status.busy": "2022-09-06T04:57:57.793262Z",
     "iopub.status.idle": "2022-09-06T04:57:58.581479Z",
     "shell.execute_reply": "2022-09-06T04:57:58.580865Z",
     "shell.execute_reply.started": "2022-09-06T04:57:57.793412Z"
    },
    "tags": []
   },
   "outputs": [
    {
     "data": {
      "application/vnd.jupyter.widget-view+json": {
       "model_id": "7315d97208e249c4bc61dc28f905a0c2",
       "version_major": 2,
       "version_minor": 0
      },
      "text/plain": [
       "VBox()"
      ]
     },
     "metadata": {},
     "output_type": "display_data"
    },
    {
     "data": {
      "application/vnd.jupyter.widget-view+json": {
       "model_id": "",
       "version_major": 2,
       "version_minor": 0
      },
      "text/plain": [
       "FloatProgress(value=0.0, bar_style='info', description='Progress:', layout=Layout(height='25px', width='50%'),…"
      ]
     },
     "metadata": {},
     "output_type": "display_data"
    },
    {
     "name": "stdout",
     "output_type": "stream",
     "text": [
      "1"
     ]
    }
   ],
   "source": [
    "country_shapes.count()"
   ]
  },
  {
   "cell_type": "code",
   "execution_count": 22,
   "id": "78d29c4a-b711-4111-82c5-b1851c568f50",
   "metadata": {
    "execution": {
     "iopub.execute_input": "2022-09-06T04:57:58.582566Z",
     "iopub.status.busy": "2022-09-06T04:57:58.582387Z",
     "iopub.status.idle": "2022-09-06T04:57:58.882276Z",
     "shell.execute_reply": "2022-09-06T04:57:58.881645Z",
     "shell.execute_reply.started": "2022-09-06T04:57:58.582543Z"
    },
    "tags": []
   },
   "outputs": [
    {
     "data": {
      "application/vnd.jupyter.widget-view+json": {
       "model_id": "e93de1593ce343e994c7ca6bd03921c3",
       "version_major": 2,
       "version_minor": 0
      },
      "text/plain": [
       "VBox()"
      ]
     },
     "metadata": {},
     "output_type": "display_data"
    },
    {
     "data": {
      "application/vnd.jupyter.widget-view+json": {
       "model_id": "",
       "version_major": 2,
       "version_minor": 0
      },
      "text/plain": [
       "FloatProgress(value=0.0, bar_style='info', description='Progress:', layout=Layout(height='25px', width='50%'),…"
      ]
     },
     "metadata": {},
     "output_type": "display_data"
    }
   ],
   "source": [
    "country_shapes2=country_shapes.select(explode(\"features\"))"
   ]
  },
  {
   "cell_type": "code",
   "execution_count": 23,
   "id": "a849a8ce-a58f-4a24-9482-8f496b4ece9d",
   "metadata": {
    "execution": {
     "iopub.execute_input": "2022-09-06T04:57:58.883427Z",
     "iopub.status.busy": "2022-09-06T04:57:58.883226Z",
     "iopub.status.idle": "2022-09-06T04:57:58.965788Z",
     "shell.execute_reply": "2022-09-06T04:57:58.963277Z",
     "shell.execute_reply.started": "2022-09-06T04:57:58.883405Z"
    },
    "tags": []
   },
   "outputs": [
    {
     "data": {
      "application/vnd.jupyter.widget-view+json": {
       "model_id": "a6f0ff7d36964286bd590d01950299dc",
       "version_major": 2,
       "version_minor": 0
      },
      "text/plain": [
       "VBox()"
      ]
     },
     "metadata": {},
     "output_type": "display_data"
    },
    {
     "data": {
      "application/vnd.jupyter.widget-view+json": {
       "model_id": "",
       "version_major": 2,
       "version_minor": 0
      },
      "text/plain": [
       "FloatProgress(value=0.0, bar_style='info', description='Progress:', layout=Layout(height='25px', width='50%'),…"
      ]
     },
     "metadata": {},
     "output_type": "display_data"
    },
    {
     "name": "stdout",
     "output_type": "stream",
     "text": [
      "root\n",
      " |-- col: struct (nullable = true)\n",
      " |    |-- geometry: struct (nullable = true)\n",
      " |    |    |-- coordinates: array (nullable = true)\n",
      " |    |    |    |-- element: array (containsNull = true)\n",
      " |    |    |    |    |-- element: array (containsNull = true)\n",
      " |    |    |    |    |    |-- element: string (containsNull = true)\n",
      " |    |    |-- type: string (nullable = true)\n",
      " |    |-- properties: struct (nullable = true)\n",
      " |    |    |-- geoNameId: string (nullable = true)\n",
      " |    |-- type: string (nullable = true)"
     ]
    }
   ],
   "source": [
    "country_shapes2.printSchema()"
   ]
  },
  {
   "cell_type": "code",
   "execution_count": 24,
   "id": "0b42df63-0a24-4401-bad9-3618d2753342",
   "metadata": {
    "execution": {
     "iopub.execute_input": "2022-09-06T04:57:58.974767Z",
     "iopub.status.busy": "2022-09-06T04:57:58.969415Z",
     "iopub.status.idle": "2022-09-06T04:57:59.237747Z",
     "shell.execute_reply": "2022-09-06T04:57:59.237083Z",
     "shell.execute_reply.started": "2022-09-06T04:57:58.974726Z"
    },
    "tags": []
   },
   "outputs": [
    {
     "data": {
      "application/vnd.jupyter.widget-view+json": {
       "model_id": "a58bcd18693b4fd58b12b82a1b57e444",
       "version_major": 2,
       "version_minor": 0
      },
      "text/plain": [
       "VBox()"
      ]
     },
     "metadata": {},
     "output_type": "display_data"
    },
    {
     "data": {
      "application/vnd.jupyter.widget-view+json": {
       "model_id": "",
       "version_major": 2,
       "version_minor": 0
      },
      "text/plain": [
       "FloatProgress(value=0.0, bar_style='info', description='Progress:', layout=Layout(height='25px', width='50%'),…"
      ]
     },
     "metadata": {},
     "output_type": "display_data"
    }
   ],
   "source": [
    "country_shapes3 = country_shapes2.select(\"col.properties.geoNameId\", \"col.geometry.coordinates\", \"col.geometry.type\")"
   ]
  },
  {
   "cell_type": "code",
   "execution_count": 25,
   "id": "0f169e41-9293-4914-998f-478cff8d6e2e",
   "metadata": {
    "execution": {
     "iopub.execute_input": "2022-09-06T04:57:59.239166Z",
     "iopub.status.busy": "2022-09-06T04:57:59.238916Z",
     "iopub.status.idle": "2022-09-06T04:57:59.510199Z",
     "shell.execute_reply": "2022-09-06T04:57:59.509629Z",
     "shell.execute_reply.started": "2022-09-06T04:57:59.239134Z"
    },
    "tags": []
   },
   "outputs": [
    {
     "data": {
      "application/vnd.jupyter.widget-view+json": {
       "model_id": "15a696c2e1554cd1805fab0f2cc264bb",
       "version_major": 2,
       "version_minor": 0
      },
      "text/plain": [
       "VBox()"
      ]
     },
     "metadata": {},
     "output_type": "display_data"
    },
    {
     "data": {
      "application/vnd.jupyter.widget-view+json": {
       "model_id": "",
       "version_major": 2,
       "version_minor": 0
      },
      "text/plain": [
       "FloatProgress(value=0.0, bar_style='info', description='Progress:', layout=Layout(height='25px', width='50%'),…"
      ]
     },
     "metadata": {},
     "output_type": "display_data"
    }
   ],
   "source": [
    "country_shapes4 = country_shapes3.select(\"geoNameId\", \"type\", explode(\"coordinates\").alias(\"polygon\"))"
   ]
  },
  {
   "cell_type": "code",
   "execution_count": 26,
   "id": "fef789ca-dcdb-47c9-8d0e-73b904b11b7b",
   "metadata": {
    "execution": {
     "iopub.execute_input": "2022-09-06T04:57:59.511539Z",
     "iopub.status.busy": "2022-09-06T04:57:59.511256Z",
     "iopub.status.idle": "2022-09-06T04:58:00.482139Z",
     "shell.execute_reply": "2022-09-06T04:58:00.480655Z",
     "shell.execute_reply.started": "2022-09-06T04:57:59.511503Z"
    },
    "tags": []
   },
   "outputs": [
    {
     "data": {
      "application/vnd.jupyter.widget-view+json": {
       "model_id": "d8febafb0180418db4938a9135f79660",
       "version_major": 2,
       "version_minor": 0
      },
      "text/plain": [
       "VBox()"
      ]
     },
     "metadata": {},
     "output_type": "display_data"
    },
    {
     "data": {
      "application/vnd.jupyter.widget-view+json": {
       "model_id": "",
       "version_major": 2,
       "version_minor": 0
      },
      "text/plain": [
       "FloatProgress(value=0.0, bar_style='info', description='Progress:', layout=Layout(height='25px', width='50%'),…"
      ]
     },
     "metadata": {},
     "output_type": "display_data"
    }
   ],
   "source": [
    "country_shapes4 = country_shapes4.withColumn(\"polygon_id\", sha2(col(\"polygon\").cast(\"string\"),256)).select(\"geoNameId\", \"type\", \"polygon\", \"polygon_id\")"
   ]
  },
  {
   "cell_type": "code",
   "execution_count": 27,
   "id": "4675d0e7-2634-442f-8e41-e1091d6a8b70",
   "metadata": {
    "execution": {
     "iopub.execute_input": "2022-09-06T04:58:00.483148Z",
     "iopub.status.busy": "2022-09-06T04:58:00.482966Z",
     "iopub.status.idle": "2022-09-06T04:58:00.545999Z",
     "shell.execute_reply": "2022-09-06T04:58:00.545158Z",
     "shell.execute_reply.started": "2022-09-06T04:58:00.483126Z"
    },
    "tags": []
   },
   "outputs": [
    {
     "data": {
      "application/vnd.jupyter.widget-view+json": {
       "model_id": "6ac9bf5eb5e348939f6badd12c6ceade",
       "version_major": 2,
       "version_minor": 0
      },
      "text/plain": [
       "VBox()"
      ]
     },
     "metadata": {},
     "output_type": "display_data"
    },
    {
     "data": {
      "application/vnd.jupyter.widget-view+json": {
       "model_id": "",
       "version_major": 2,
       "version_minor": 0
      },
      "text/plain": [
       "FloatProgress(value=0.0, bar_style='info', description='Progress:', layout=Layout(height='25px', width='50%'),…"
      ]
     },
     "metadata": {},
     "output_type": "display_data"
    },
    {
     "name": "stdout",
     "output_type": "stream",
     "text": [
      "root\n",
      " |-- geoNameId: string (nullable = true)\n",
      " |-- type: string (nullable = true)\n",
      " |-- polygon: array (nullable = true)\n",
      " |    |-- element: array (containsNull = true)\n",
      " |    |    |-- element: string (containsNull = true)\n",
      " |-- polygon_id: string (nullable = true)"
     ]
    }
   ],
   "source": [
    "country_shapes4.printSchema()"
   ]
  },
  {
   "cell_type": "code",
   "execution_count": 28,
   "id": "ffa8763f-a078-4334-99dd-b0b04cfb0c4b",
   "metadata": {
    "execution": {
     "iopub.execute_input": "2022-09-06T04:58:00.547762Z",
     "iopub.status.busy": "2022-09-06T04:58:00.547288Z",
     "iopub.status.idle": "2022-09-06T04:58:00.624836Z",
     "shell.execute_reply": "2022-09-06T04:58:00.622384Z",
     "shell.execute_reply.started": "2022-09-06T04:58:00.547725Z"
    },
    "tags": []
   },
   "outputs": [
    {
     "data": {
      "application/vnd.jupyter.widget-view+json": {
       "model_id": "78d320dd6262481f90610ae8c383c2fc",
       "version_major": 2,
       "version_minor": 0
      },
      "text/plain": [
       "VBox()"
      ]
     },
     "metadata": {},
     "output_type": "display_data"
    },
    {
     "data": {
      "application/vnd.jupyter.widget-view+json": {
       "model_id": "",
       "version_major": 2,
       "version_minor": 0
      },
      "text/plain": [
       "FloatProgress(value=0.0, bar_style='info', description='Progress:', layout=Layout(height='25px', width='50%'),…"
      ]
     },
     "metadata": {},
     "output_type": "display_data"
    }
   ],
   "source": [
    "country_shapes5 = country_shapes4.select(\"geoNameId\", \"type\", explode(\"polygon\").alias(\"polygon\"), \"polygon_id\")"
   ]
  },
  {
   "cell_type": "code",
   "execution_count": 29,
   "id": "5b0d8e0e-40b8-45e4-b08e-c590d11af92a",
   "metadata": {
    "execution": {
     "iopub.execute_input": "2022-09-06T04:58:00.626577Z",
     "iopub.status.busy": "2022-09-06T04:58:00.626099Z",
     "iopub.status.idle": "2022-09-06T04:58:00.734049Z",
     "shell.execute_reply": "2022-09-06T04:58:00.733223Z",
     "shell.execute_reply.started": "2022-09-06T04:58:00.626538Z"
    },
    "tags": []
   },
   "outputs": [
    {
     "data": {
      "application/vnd.jupyter.widget-view+json": {
       "model_id": "03fd78042595470481f903b0815bab72",
       "version_major": 2,
       "version_minor": 0
      },
      "text/plain": [
       "VBox()"
      ]
     },
     "metadata": {},
     "output_type": "display_data"
    },
    {
     "data": {
      "application/vnd.jupyter.widget-view+json": {
       "model_id": "",
       "version_major": 2,
       "version_minor": 0
      },
      "text/plain": [
       "FloatProgress(value=0.0, bar_style='info', description='Progress:', layout=Layout(height='25px', width='50%'),…"
      ]
     },
     "metadata": {},
     "output_type": "display_data"
    }
   ],
   "source": [
    "country_polygon = country_shapes5.filter(col(\"type\")=='Polygon')"
   ]
  },
  {
   "cell_type": "code",
   "execution_count": 30,
   "id": "a870825e-1a6c-49a7-a8e5-0e70193b3597",
   "metadata": {
    "execution": {
     "iopub.execute_input": "2022-09-06T04:58:00.735619Z",
     "iopub.status.busy": "2022-09-06T04:58:00.735193Z",
     "iopub.status.idle": "2022-09-06T04:58:00.857622Z",
     "shell.execute_reply": "2022-09-06T04:58:00.856849Z",
     "shell.execute_reply.started": "2022-09-06T04:58:00.735583Z"
    },
    "tags": []
   },
   "outputs": [
    {
     "data": {
      "application/vnd.jupyter.widget-view+json": {
       "model_id": "fb9275d25e4648c4a610787119978f1e",
       "version_major": 2,
       "version_minor": 0
      },
      "text/plain": [
       "VBox()"
      ]
     },
     "metadata": {},
     "output_type": "display_data"
    },
    {
     "data": {
      "application/vnd.jupyter.widget-view+json": {
       "model_id": "",
       "version_major": 2,
       "version_minor": 0
      },
      "text/plain": [
       "FloatProgress(value=0.0, bar_style='info', description='Progress:', layout=Layout(height='25px', width='50%'),…"
      ]
     },
     "metadata": {},
     "output_type": "display_data"
    },
    {
     "name": "stdout",
     "output_type": "stream",
     "text": [
      "root\n",
      " |-- geoNameId: string (nullable = true)\n",
      " |-- type: string (nullable = true)\n",
      " |-- polygon: array (nullable = true)\n",
      " |    |-- element: string (containsNull = true)\n",
      " |-- polygon_id: string (nullable = true)"
     ]
    }
   ],
   "source": [
    "country_polygon.printSchema()"
   ]
  },
  {
   "cell_type": "code",
   "execution_count": 31,
   "id": "990554f1-d76a-4882-a301-ad6d5240397f",
   "metadata": {
    "execution": {
     "iopub.execute_input": "2022-09-06T04:58:00.859243Z",
     "iopub.status.busy": "2022-09-06T04:58:00.858948Z",
     "iopub.status.idle": "2022-09-06T04:58:00.956037Z",
     "shell.execute_reply": "2022-09-06T04:58:00.955265Z",
     "shell.execute_reply.started": "2022-09-06T04:58:00.859208Z"
    },
    "tags": []
   },
   "outputs": [
    {
     "data": {
      "application/vnd.jupyter.widget-view+json": {
       "model_id": "5217cecedb5e48c59afc6900be439a64",
       "version_major": 2,
       "version_minor": 0
      },
      "text/plain": [
       "VBox()"
      ]
     },
     "metadata": {},
     "output_type": "display_data"
    },
    {
     "data": {
      "application/vnd.jupyter.widget-view+json": {
       "model_id": "",
       "version_major": 2,
       "version_minor": 0
      },
      "text/plain": [
       "FloatProgress(value=0.0, bar_style='info', description='Progress:', layout=Layout(height='25px', width='50%'),…"
      ]
     },
     "metadata": {},
     "output_type": "display_data"
    }
   ],
   "source": [
    "country_multi_polygon= country_shapes5.filter(col(\"type\")=='MultiPolygon')"
   ]
  },
  {
   "cell_type": "code",
   "execution_count": 32,
   "id": "3abadc56-5308-4e32-b56a-9669d37aff09",
   "metadata": {
    "execution": {
     "iopub.execute_input": "2022-09-06T04:58:00.957536Z",
     "iopub.status.busy": "2022-09-06T04:58:00.957156Z",
     "iopub.status.idle": "2022-09-06T04:58:01.079354Z",
     "shell.execute_reply": "2022-09-06T04:58:01.078499Z",
     "shell.execute_reply.started": "2022-09-06T04:58:00.957499Z"
    },
    "tags": []
   },
   "outputs": [
    {
     "data": {
      "application/vnd.jupyter.widget-view+json": {
       "model_id": "1df4405e4bc84dbb96ab73b1288906bb",
       "version_major": 2,
       "version_minor": 0
      },
      "text/plain": [
       "VBox()"
      ]
     },
     "metadata": {},
     "output_type": "display_data"
    },
    {
     "data": {
      "application/vnd.jupyter.widget-view+json": {
       "model_id": "",
       "version_major": 2,
       "version_minor": 0
      },
      "text/plain": [
       "FloatProgress(value=0.0, bar_style='info', description='Progress:', layout=Layout(height='25px', width='50%'),…"
      ]
     },
     "metadata": {},
     "output_type": "display_data"
    },
    {
     "name": "stdout",
     "output_type": "stream",
     "text": [
      "root\n",
      " |-- geoNameId: string (nullable = true)\n",
      " |-- type: string (nullable = true)\n",
      " |-- polygon: array (nullable = true)\n",
      " |    |-- element: string (containsNull = true)\n",
      " |-- polygon_id: string (nullable = true)"
     ]
    }
   ],
   "source": [
    "country_multi_polygon.printSchema()"
   ]
  },
  {
   "cell_type": "code",
   "execution_count": 33,
   "id": "7e6f68af-d490-4228-a884-86c5438ebfe8",
   "metadata": {
    "execution": {
     "iopub.execute_input": "2022-09-06T04:58:01.092343Z",
     "iopub.status.busy": "2022-09-06T04:58:01.092050Z",
     "iopub.status.idle": "2022-09-06T04:58:01.499708Z",
     "shell.execute_reply": "2022-09-06T04:58:01.498967Z",
     "shell.execute_reply.started": "2022-09-06T04:58:01.092311Z"
    },
    "tags": []
   },
   "outputs": [
    {
     "data": {
      "application/vnd.jupyter.widget-view+json": {
       "model_id": "ddca6c01415b45a196a02ba39aaa0b9e",
       "version_major": 2,
       "version_minor": 0
      },
      "text/plain": [
       "VBox()"
      ]
     },
     "metadata": {},
     "output_type": "display_data"
    },
    {
     "data": {
      "application/vnd.jupyter.widget-view+json": {
       "model_id": "",
       "version_major": 2,
       "version_minor": 0
      },
      "text/plain": [
       "FloatProgress(value=0.0, bar_style='info', description='Progress:', layout=Layout(height='25px', width='50%'),…"
      ]
     },
     "metadata": {},
     "output_type": "display_data"
    }
   ],
   "source": [
    "country_multi_polygon2 = country_multi_polygon.select(\"geoNameId\", \"type\", explode(\"polygon\").alias(\"polygon\"), \"polygon_id\")"
   ]
  },
  {
   "cell_type": "code",
   "execution_count": 34,
   "id": "a31c66e6-e2ab-4e02-83d8-48706713f1cb",
   "metadata": {
    "execution": {
     "iopub.execute_input": "2022-09-06T04:58:01.507109Z",
     "iopub.status.busy": "2022-09-06T04:58:01.502809Z",
     "iopub.status.idle": "2022-09-06T04:58:01.608984Z",
     "shell.execute_reply": "2022-09-06T04:58:01.608243Z",
     "shell.execute_reply.started": "2022-09-06T04:58:01.507074Z"
    },
    "tags": []
   },
   "outputs": [
    {
     "data": {
      "application/vnd.jupyter.widget-view+json": {
       "model_id": "14b3273b5c9a478fbe4485ee55723332",
       "version_major": 2,
       "version_minor": 0
      },
      "text/plain": [
       "VBox()"
      ]
     },
     "metadata": {},
     "output_type": "display_data"
    },
    {
     "data": {
      "application/vnd.jupyter.widget-view+json": {
       "model_id": "",
       "version_major": 2,
       "version_minor": 0
      },
      "text/plain": [
       "FloatProgress(value=0.0, bar_style='info', description='Progress:', layout=Layout(height='25px', width='50%'),…"
      ]
     },
     "metadata": {},
     "output_type": "display_data"
    },
    {
     "name": "stdout",
     "output_type": "stream",
     "text": [
      "root\n",
      " |-- geoNameId: string (nullable = true)\n",
      " |-- type: string (nullable = true)\n",
      " |-- polygon: string (nullable = true)\n",
      " |-- polygon_id: string (nullable = true)"
     ]
    }
   ],
   "source": [
    "country_multi_polygon2.printSchema()"
   ]
  },
  {
   "cell_type": "code",
   "execution_count": 35,
   "id": "24a058bc-f456-43d9-9048-c71d77f17493",
   "metadata": {
    "execution": {
     "iopub.execute_input": "2022-09-06T04:58:01.615091Z",
     "iopub.status.busy": "2022-09-06T04:58:01.614806Z",
     "iopub.status.idle": "2022-09-06T04:58:01.702288Z",
     "shell.execute_reply": "2022-09-06T04:58:01.701618Z",
     "shell.execute_reply.started": "2022-09-06T04:58:01.615054Z"
    },
    "tags": []
   },
   "outputs": [
    {
     "data": {
      "application/vnd.jupyter.widget-view+json": {
       "model_id": "e959b473acf04edf8315e7bded952c10",
       "version_major": 2,
       "version_minor": 0
      },
      "text/plain": [
       "VBox()"
      ]
     },
     "metadata": {},
     "output_type": "display_data"
    },
    {
     "data": {
      "application/vnd.jupyter.widget-view+json": {
       "model_id": "",
       "version_major": 2,
       "version_minor": 0
      },
      "text/plain": [
       "FloatProgress(value=0.0, bar_style='info', description='Progress:', layout=Layout(height='25px', width='50%'),…"
      ]
     },
     "metadata": {},
     "output_type": "display_data"
    }
   ],
   "source": [
    "import json\n",
    "def convert_string_to_array(str):\n",
    "    result = json.loads(str)\n",
    "    return result"
   ]
  },
  {
   "cell_type": "code",
   "execution_count": 36,
   "id": "1581f9db-0f23-4a4c-a196-d70aac21e215",
   "metadata": {
    "execution": {
     "iopub.execute_input": "2022-09-06T04:58:01.703477Z",
     "iopub.status.busy": "2022-09-06T04:58:01.703166Z",
     "iopub.status.idle": "2022-09-06T04:58:01.772510Z",
     "shell.execute_reply": "2022-09-06T04:58:01.771808Z",
     "shell.execute_reply.started": "2022-09-06T04:58:01.703444Z"
    },
    "tags": []
   },
   "outputs": [
    {
     "data": {
      "application/vnd.jupyter.widget-view+json": {
       "model_id": "0dc98f6ea8b04c3ab8d11bc8028496da",
       "version_major": 2,
       "version_minor": 0
      },
      "text/plain": [
       "VBox()"
      ]
     },
     "metadata": {},
     "output_type": "display_data"
    },
    {
     "data": {
      "application/vnd.jupyter.widget-view+json": {
       "model_id": "",
       "version_major": 2,
       "version_minor": 0
      },
      "text/plain": [
       "FloatProgress(value=0.0, bar_style='info', description='Progress:', layout=Layout(height='25px', width='50%'),…"
      ]
     },
     "metadata": {},
     "output_type": "display_data"
    }
   ],
   "source": [
    "convert_string_to_array_udf = udf(convert_string_to_array, ArrayType(StringType()))"
   ]
  },
  {
   "cell_type": "code",
   "execution_count": 37,
   "id": "8e9be12d-ef8d-4c48-85a9-c5f407fb2ca6",
   "metadata": {
    "execution": {
     "iopub.execute_input": "2022-09-06T04:58:01.779393Z",
     "iopub.status.busy": "2022-09-06T04:58:01.777181Z",
     "iopub.status.idle": "2022-09-06T04:58:02.086569Z",
     "shell.execute_reply": "2022-09-06T04:58:02.085706Z",
     "shell.execute_reply.started": "2022-09-06T04:58:01.779351Z"
    },
    "tags": []
   },
   "outputs": [
    {
     "data": {
      "application/vnd.jupyter.widget-view+json": {
       "model_id": "03bbfccc2f5d4dc79a96068d1d7c2fec",
       "version_major": 2,
       "version_minor": 0
      },
      "text/plain": [
       "VBox()"
      ]
     },
     "metadata": {},
     "output_type": "display_data"
    },
    {
     "data": {
      "application/vnd.jupyter.widget-view+json": {
       "model_id": "",
       "version_major": 2,
       "version_minor": 0
      },
      "text/plain": [
       "FloatProgress(value=0.0, bar_style='info', description='Progress:', layout=Layout(height='25px', width='50%'),…"
      ]
     },
     "metadata": {},
     "output_type": "display_data"
    }
   ],
   "source": [
    "country_multi_polygon2= country_multi_polygon2.withColumn(\"new_polygon\", convert_string_to_array_udf(col(\"polygon\")))"
   ]
  },
  {
   "cell_type": "code",
   "execution_count": 38,
   "id": "3819aa5c-45f7-485e-a726-207416993436",
   "metadata": {
    "execution": {
     "iopub.execute_input": "2022-09-06T04:58:02.087973Z",
     "iopub.status.busy": "2022-09-06T04:58:02.087673Z",
     "iopub.status.idle": "2022-09-06T04:58:02.375839Z",
     "shell.execute_reply": "2022-09-06T04:58:02.375054Z",
     "shell.execute_reply.started": "2022-09-06T04:58:02.087938Z"
    },
    "tags": []
   },
   "outputs": [
    {
     "data": {
      "application/vnd.jupyter.widget-view+json": {
       "model_id": "96189c33a886406aad187800f3dacc39",
       "version_major": 2,
       "version_minor": 0
      },
      "text/plain": [
       "VBox()"
      ]
     },
     "metadata": {},
     "output_type": "display_data"
    },
    {
     "data": {
      "application/vnd.jupyter.widget-view+json": {
       "model_id": "",
       "version_major": 2,
       "version_minor": 0
      },
      "text/plain": [
       "FloatProgress(value=0.0, bar_style='info', description='Progress:', layout=Layout(height='25px', width='50%'),…"
      ]
     },
     "metadata": {},
     "output_type": "display_data"
    }
   ],
   "source": [
    "country_multi_polygon2 = country_multi_polygon2.select(\"geoNameId\", \"type\", col(\"new_polygon\").alias(\"polygon\"), \"polygon_id\")"
   ]
  },
  {
   "cell_type": "code",
   "execution_count": 39,
   "id": "359bda6a-a35d-4838-8741-758b58372e60",
   "metadata": {
    "execution": {
     "iopub.execute_input": "2022-09-06T04:58:02.377112Z",
     "iopub.status.busy": "2022-09-06T04:58:02.376852Z",
     "iopub.status.idle": "2022-09-06T04:58:02.434645Z",
     "shell.execute_reply": "2022-09-06T04:58:02.434025Z",
     "shell.execute_reply.started": "2022-09-06T04:58:02.377079Z"
    },
    "tags": []
   },
   "outputs": [
    {
     "data": {
      "application/vnd.jupyter.widget-view+json": {
       "model_id": "7aaa2758370e4df196325ed95304534a",
       "version_major": 2,
       "version_minor": 0
      },
      "text/plain": [
       "VBox()"
      ]
     },
     "metadata": {},
     "output_type": "display_data"
    },
    {
     "data": {
      "application/vnd.jupyter.widget-view+json": {
       "model_id": "",
       "version_major": 2,
       "version_minor": 0
      },
      "text/plain": [
       "FloatProgress(value=0.0, bar_style='info', description='Progress:', layout=Layout(height='25px', width='50%'),…"
      ]
     },
     "metadata": {},
     "output_type": "display_data"
    },
    {
     "name": "stdout",
     "output_type": "stream",
     "text": [
      "root\n",
      " |-- geoNameId: string (nullable = true)\n",
      " |-- type: string (nullable = true)\n",
      " |-- polygon: array (nullable = true)\n",
      " |    |-- element: string (containsNull = true)\n",
      " |-- polygon_id: string (nullable = true)"
     ]
    }
   ],
   "source": [
    "country_multi_polygon2.printSchema()"
   ]
  },
  {
   "cell_type": "code",
   "execution_count": 40,
   "id": "78133d59-6205-43e7-8e66-f282908b888f",
   "metadata": {
    "execution": {
     "iopub.execute_input": "2022-09-06T04:58:02.435980Z",
     "iopub.status.busy": "2022-09-06T04:58:02.435727Z",
     "iopub.status.idle": "2022-09-06T04:58:02.701353Z",
     "shell.execute_reply": "2022-09-06T04:58:02.700731Z",
     "shell.execute_reply.started": "2022-09-06T04:58:02.435945Z"
    },
    "tags": []
   },
   "outputs": [
    {
     "data": {
      "application/vnd.jupyter.widget-view+json": {
       "model_id": "ded8272173474291b5c0a4ed2b2d7d63",
       "version_major": 2,
       "version_minor": 0
      },
      "text/plain": [
       "VBox()"
      ]
     },
     "metadata": {},
     "output_type": "display_data"
    },
    {
     "data": {
      "application/vnd.jupyter.widget-view+json": {
       "model_id": "",
       "version_major": 2,
       "version_minor": 0
      },
      "text/plain": [
       "FloatProgress(value=0.0, bar_style='info', description='Progress:', layout=Layout(height='25px', width='50%'),…"
      ]
     },
     "metadata": {},
     "output_type": "display_data"
    }
   ],
   "source": [
    "country_shapes5 = country_polygon.union(country_multi_polygon2)"
   ]
  },
  {
   "cell_type": "code",
   "execution_count": 41,
   "id": "41d13049-5e83-467c-8e43-21f3d4433b17",
   "metadata": {
    "execution": {
     "iopub.execute_input": "2022-09-06T04:58:02.704035Z",
     "iopub.status.busy": "2022-09-06T04:58:02.703852Z",
     "iopub.status.idle": "2022-09-06T04:58:02.763575Z",
     "shell.execute_reply": "2022-09-06T04:58:02.762998Z",
     "shell.execute_reply.started": "2022-09-06T04:58:02.704013Z"
    },
    "tags": []
   },
   "outputs": [
    {
     "data": {
      "application/vnd.jupyter.widget-view+json": {
       "model_id": "c7bf1582e297411ba52cfca010e660d8",
       "version_major": 2,
       "version_minor": 0
      },
      "text/plain": [
       "VBox()"
      ]
     },
     "metadata": {},
     "output_type": "display_data"
    },
    {
     "data": {
      "application/vnd.jupyter.widget-view+json": {
       "model_id": "",
       "version_major": 2,
       "version_minor": 0
      },
      "text/plain": [
       "FloatProgress(value=0.0, bar_style='info', description='Progress:', layout=Layout(height='25px', width='50%'),…"
      ]
     },
     "metadata": {},
     "output_type": "display_data"
    },
    {
     "name": "stdout",
     "output_type": "stream",
     "text": [
      "root\n",
      " |-- geoNameId: string (nullable = true)\n",
      " |-- type: string (nullable = true)\n",
      " |-- polygon: array (nullable = true)\n",
      " |    |-- element: string (containsNull = true)\n",
      " |-- polygon_id: string (nullable = true)"
     ]
    }
   ],
   "source": [
    "country_shapes5.printSchema()"
   ]
  },
  {
   "cell_type": "code",
   "execution_count": 42,
   "id": "da71d217-367f-4c0a-a49f-145bcbb29dc2",
   "metadata": {
    "execution": {
     "iopub.execute_input": "2022-09-06T04:58:02.764916Z",
     "iopub.status.busy": "2022-09-06T04:58:02.764659Z",
     "iopub.status.idle": "2022-09-06T04:58:03.040589Z",
     "shell.execute_reply": "2022-09-06T04:58:03.039955Z",
     "shell.execute_reply.started": "2022-09-06T04:58:02.764880Z"
    },
    "tags": []
   },
   "outputs": [
    {
     "data": {
      "application/vnd.jupyter.widget-view+json": {
       "model_id": "ecbc955d6f734297a1db1059b97be6a9",
       "version_major": 2,
       "version_minor": 0
      },
      "text/plain": [
       "VBox()"
      ]
     },
     "metadata": {},
     "output_type": "display_data"
    },
    {
     "data": {
      "application/vnd.jupyter.widget-view+json": {
       "model_id": "",
       "version_major": 2,
       "version_minor": 0
      },
      "text/plain": [
       "FloatProgress(value=0.0, bar_style='info', description='Progress:', layout=Layout(height='25px', width='50%'),…"
      ]
     },
     "metadata": {},
     "output_type": "display_data"
    }
   ],
   "source": [
    "country_shapes6 = country_shapes5.withColumn(\"latitude\", col(\"polygon\").getItem(1)).withColumn(\"longitude\", col(\"polygon\").getItem(0))"
   ]
  },
  {
   "cell_type": "code",
   "execution_count": 43,
   "id": "1a9cc1ea-1057-481a-9920-90bed4339cf0",
   "metadata": {
    "execution": {
     "iopub.execute_input": "2022-09-06T04:58:03.041930Z",
     "iopub.status.busy": "2022-09-06T04:58:03.041655Z",
     "iopub.status.idle": "2022-09-06T04:58:05.364409Z",
     "shell.execute_reply": "2022-09-06T04:58:05.363750Z",
     "shell.execute_reply.started": "2022-09-06T04:58:03.041892Z"
    },
    "tags": []
   },
   "outputs": [
    {
     "data": {
      "application/vnd.jupyter.widget-view+json": {
       "model_id": "75149782e6594540afc40c5395a3dde2",
       "version_major": 2,
       "version_minor": 0
      },
      "text/plain": [
       "VBox()"
      ]
     },
     "metadata": {},
     "output_type": "display_data"
    },
    {
     "data": {
      "application/vnd.jupyter.widget-view+json": {
       "model_id": "",
       "version_major": 2,
       "version_minor": 0
      },
      "text/plain": [
       "FloatProgress(value=0.0, bar_style='info', description='Progress:', layout=Layout(height='25px', width='50%'),…"
      ]
     },
     "metadata": {},
     "output_type": "display_data"
    },
    {
     "name": "stdout",
     "output_type": "stream",
     "text": [
      "+---------+-------+----------------+--------------------+--------+---------+\n",
      "|geoNameId|   type|         polygon|          polygon_id|latitude|longitude|\n",
      "+---------+-------+----------------+--------------------+--------+---------+\n",
      "|    49518|Polygon| [29.96, -2.327]|d7bdba6946ced25d0...|  -2.327|    29.96|\n",
      "|    49518|Polygon|[29.919, -2.703]|d7bdba6946ced25d0...|  -2.703|   29.919|\n",
      "|    49518|Polygon|[29.724, -2.819]|d7bdba6946ced25d0...|  -2.819|   29.724|\n",
      "|    49518|Polygon|[29.438, -2.798]|d7bdba6946ced25d0...|  -2.798|   29.438|\n",
      "|    49518|Polygon| [29.371, -2.84]|d7bdba6946ced25d0...|   -2.84|   29.371|\n",
      "|    49518|Polygon|[29.326, -2.654]|d7bdba6946ced25d0...|  -2.654|   29.326|\n",
      "|    49518|Polygon| [29.15, -2.592]|d7bdba6946ced25d0...|  -2.592|    29.15|\n",
      "|    49518|Polygon|[29.062, -2.602]|d7bdba6946ced25d0...|  -2.602|   29.062|\n",
      "|    49518|Polygon| [29.04, -2.745]|d7bdba6946ced25d0...|  -2.745|    29.04|\n",
      "|    49518|Polygon| [28.897, -2.66]|d7bdba6946ced25d0...|   -2.66|   28.897|\n",
      "|    49518|Polygon|[28.862, -2.531]|d7bdba6946ced25d0...|  -2.531|   28.862|\n",
      "|    49518|Polygon|[28.884, -2.393]|d7bdba6946ced25d0...|  -2.393|   28.884|\n",
      "|    49518|Polygon|[29.119, -2.249]|d7bdba6946ced25d0...|  -2.249|   29.119|\n",
      "|    49518|Polygon|[29.175, -2.119]|d7bdba6946ced25d0...|  -2.119|   29.175|\n",
      "|    49518|Polygon| [29.136, -1.86]|d7bdba6946ced25d0...|   -1.86|   29.136|\n",
      "|    49518|Polygon|[29.362, -1.509]|d7bdba6946ced25d0...|  -1.509|   29.362|\n",
      "|    49518|Polygon| [29.45, -1.506]|d7bdba6946ced25d0...|  -1.506|    29.45|\n",
      "|    49518|Polygon|[29.566, -1.387]|d7bdba6946ced25d0...|  -1.387|   29.566|\n",
      "|    49518|Polygon| [29.66, -1.393]|d7bdba6946ced25d0...|  -1.393|    29.66|\n",
      "|    49518|Polygon| [29.735, -1.34]|d7bdba6946ced25d0...|   -1.34|   29.735|\n",
      "+---------+-------+----------------+--------------------+--------+---------+\n",
      "only showing top 20 rows"
     ]
    }
   ],
   "source": [
    "country_shapes6.show()"
   ]
  },
  {
   "cell_type": "code",
   "execution_count": 44,
   "id": "326c3a4c-9aa1-4fa3-b7d1-2dadfa103f22",
   "metadata": {
    "execution": {
     "iopub.execute_input": "2022-09-06T04:58:05.365741Z",
     "iopub.status.busy": "2022-09-06T04:58:05.365488Z",
     "iopub.status.idle": "2022-09-06T04:58:05.835992Z",
     "shell.execute_reply": "2022-09-06T04:58:05.833706Z",
     "shell.execute_reply.started": "2022-09-06T04:58:05.365706Z"
    },
    "tags": []
   },
   "outputs": [
    {
     "data": {
      "application/vnd.jupyter.widget-view+json": {
       "model_id": "435a0a16c7a64d24b4ff4c93f916763b",
       "version_major": 2,
       "version_minor": 0
      },
      "text/plain": [
       "VBox()"
      ]
     },
     "metadata": {},
     "output_type": "display_data"
    },
    {
     "data": {
      "application/vnd.jupyter.widget-view+json": {
       "model_id": "",
       "version_major": 2,
       "version_minor": 0
      },
      "text/plain": [
       "FloatProgress(value=0.0, bar_style='info', description='Progress:', layout=Layout(height='25px', width='50%'),…"
      ]
     },
     "metadata": {},
     "output_type": "display_data"
    }
   ],
   "source": [
    "country_shapes6 = country_shapes6.select(\"geoNameId\", \"type\", \"polygon_id\", \"latitude\", \"longitude\")"
   ]
  },
  {
   "cell_type": "code",
   "execution_count": 45,
   "id": "97e44345-bb34-4742-8372-60e06564001b",
   "metadata": {
    "execution": {
     "iopub.execute_input": "2022-09-06T04:58:05.837176Z",
     "iopub.status.busy": "2022-09-06T04:58:05.836971Z",
     "iopub.status.idle": "2022-09-06T04:58:05.893544Z",
     "shell.execute_reply": "2022-09-06T04:58:05.892960Z",
     "shell.execute_reply.started": "2022-09-06T04:58:05.837153Z"
    },
    "tags": []
   },
   "outputs": [
    {
     "data": {
      "application/vnd.jupyter.widget-view+json": {
       "model_id": "d9cc0dce68eb4955bcef4b78b93b56ac",
       "version_major": 2,
       "version_minor": 0
      },
      "text/plain": [
       "VBox()"
      ]
     },
     "metadata": {},
     "output_type": "display_data"
    },
    {
     "data": {
      "application/vnd.jupyter.widget-view+json": {
       "model_id": "",
       "version_major": 2,
       "version_minor": 0
      },
      "text/plain": [
       "FloatProgress(value=0.0, bar_style='info', description='Progress:', layout=Layout(height='25px', width='50%'),…"
      ]
     },
     "metadata": {},
     "output_type": "display_data"
    },
    {
     "name": "stdout",
     "output_type": "stream",
     "text": [
      "root\n",
      " |-- geoNameId: string (nullable = true)\n",
      " |-- type: string (nullable = true)\n",
      " |-- polygon_id: string (nullable = true)\n",
      " |-- latitude: string (nullable = true)\n",
      " |-- longitude: string (nullable = true)"
     ]
    }
   ],
   "source": [
    "country_shapes6.printSchema()"
   ]
  },
  {
   "cell_type": "markdown",
   "id": "4cb8dbcd-2ba1-4f0b-96a3-0e7efaa8d202",
   "metadata": {},
   "source": [
    "### Load country info path which has the mapping between geoNameId and the country name"
   ]
  },
  {
   "cell_type": "code",
   "execution_count": 15,
   "id": "d361f1f4-8924-4121-9dd7-f3a9e9445200",
   "metadata": {
    "execution": {
     "iopub.execute_input": "2022-09-07T10:59:43.671639Z",
     "iopub.status.busy": "2022-09-07T10:59:43.671403Z",
     "iopub.status.idle": "2022-09-07T10:59:43.734982Z",
     "shell.execute_reply": "2022-09-07T10:59:43.734401Z",
     "shell.execute_reply.started": "2022-09-07T10:59:43.671615Z"
    },
    "tags": []
   },
   "outputs": [
    {
     "data": {
      "application/vnd.jupyter.widget-view+json": {
       "model_id": "adceaab7e46c410db2152b9db77cdbc3",
       "version_major": 2,
       "version_minor": 0
      },
      "text/plain": [
       "VBox()"
      ]
     },
     "metadata": {},
     "output_type": "display_data"
    },
    {
     "data": {
      "application/vnd.jupyter.widget-view+json": {
       "model_id": "",
       "version_major": 2,
       "version_minor": 0
      },
      "text/plain": [
       "FloatProgress(value=0.0, bar_style='info', description='Progress:', layout=Layout(height='25px', width='50%'),…"
      ]
     },
     "metadata": {},
     "output_type": "display_data"
    }
   ],
   "source": [
    "country_info_path = \"s3://patents-analytics/raw/countryInfo.txt\""
   ]
  },
  {
   "cell_type": "code",
   "execution_count": 16,
   "id": "c2a1542b-c00b-47d2-83f8-6b671dafb9f5",
   "metadata": {
    "execution": {
     "iopub.execute_input": "2022-09-07T10:59:43.912247Z",
     "iopub.status.busy": "2022-09-07T10:59:43.912022Z",
     "iopub.status.idle": "2022-09-07T10:59:44.700421Z",
     "shell.execute_reply": "2022-09-07T10:59:44.699879Z",
     "shell.execute_reply.started": "2022-09-07T10:59:43.912222Z"
    },
    "tags": []
   },
   "outputs": [
    {
     "data": {
      "application/vnd.jupyter.widget-view+json": {
       "model_id": "dc62ff779b2d4fe9a08d635361fe9d81",
       "version_major": 2,
       "version_minor": 0
      },
      "text/plain": [
       "VBox()"
      ]
     },
     "metadata": {},
     "output_type": "display_data"
    },
    {
     "data": {
      "application/vnd.jupyter.widget-view+json": {
       "model_id": "",
       "version_major": 2,
       "version_minor": 0
      },
      "text/plain": [
       "FloatProgress(value=0.0, bar_style='info', description='Progress:', layout=Layout(height='25px', width='50%'),…"
      ]
     },
     "metadata": {},
     "output_type": "display_data"
    }
   ],
   "source": [
    "country_info = spark.read.options(header='True', delimiter='\\t', inferSchema='True', escape=\"\\\"\", multiline='True').csv(country_info_path)"
   ]
  },
  {
   "cell_type": "code",
   "execution_count": 17,
   "id": "fac4ace1-bc65-402e-8aa1-9173c3abeec5",
   "metadata": {
    "execution": {
     "iopub.execute_input": "2022-09-07T10:59:44.701528Z",
     "iopub.status.busy": "2022-09-07T10:59:44.701363Z",
     "iopub.status.idle": "2022-09-07T10:59:44.974648Z",
     "shell.execute_reply": "2022-09-07T10:59:44.973931Z",
     "shell.execute_reply.started": "2022-09-07T10:59:44.701507Z"
    },
    "tags": []
   },
   "outputs": [
    {
     "data": {
      "application/vnd.jupyter.widget-view+json": {
       "model_id": "b74cb8e4d3bd45a282c4c7365cda4f86",
       "version_major": 2,
       "version_minor": 0
      },
      "text/plain": [
       "VBox()"
      ]
     },
     "metadata": {},
     "output_type": "display_data"
    },
    {
     "data": {
      "application/vnd.jupyter.widget-view+json": {
       "model_id": "",
       "version_major": 2,
       "version_minor": 0
      },
      "text/plain": [
       "FloatProgress(value=0.0, bar_style='info', description='Progress:', layout=Layout(height='25px', width='50%'),…"
      ]
     },
     "metadata": {},
     "output_type": "display_data"
    },
    {
     "name": "stdout",
     "output_type": "stream",
     "text": [
      "root\n",
      " |-- ISO: string (nullable = true)\n",
      " |-- ISO3: string (nullable = true)\n",
      " |-- ISO-Numeric: integer (nullable = true)\n",
      " |-- fips: string (nullable = true)\n",
      " |-- Country: string (nullable = true)\n",
      " |-- Capital: string (nullable = true)\n",
      " |-- Area(in sq km): double (nullable = true)\n",
      " |-- Population: integer (nullable = true)\n",
      " |-- Continent: string (nullable = true)\n",
      " |-- tld: string (nullable = true)\n",
      " |-- CurrencyCode: string (nullable = true)\n",
      " |-- CurrencyName: string (nullable = true)\n",
      " |-- Phone: string (nullable = true)\n",
      " |-- Postal Code Format: string (nullable = true)\n",
      " |-- Postal Code Regex: string (nullable = true)\n",
      " |-- Languages: string (nullable = true)\n",
      " |-- geonameid: integer (nullable = true)\n",
      " |-- neighbours: string (nullable = true)\n",
      " |-- EquivalentFipsCode: string (nullable = true)"
     ]
    }
   ],
   "source": [
    "country_info.printSchema()"
   ]
  },
  {
   "cell_type": "code",
   "execution_count": 49,
   "id": "0f54c59e-5f6f-4fb8-ba82-b0a117123cb8",
   "metadata": {
    "execution": {
     "iopub.execute_input": "2022-09-06T04:58:06.798775Z",
     "iopub.status.busy": "2022-09-06T04:58:06.798572Z",
     "iopub.status.idle": "2022-09-06T04:58:07.059106Z",
     "shell.execute_reply": "2022-09-06T04:58:07.058539Z",
     "shell.execute_reply.started": "2022-09-06T04:58:06.798751Z"
    },
    "tags": []
   },
   "outputs": [
    {
     "data": {
      "application/vnd.jupyter.widget-view+json": {
       "model_id": "7b2d882255814041bc844a1d7fef1089",
       "version_major": 2,
       "version_minor": 0
      },
      "text/plain": [
       "VBox()"
      ]
     },
     "metadata": {},
     "output_type": "display_data"
    },
    {
     "data": {
      "application/vnd.jupyter.widget-view+json": {
       "model_id": "",
       "version_major": 2,
       "version_minor": 0
      },
      "text/plain": [
       "FloatProgress(value=0.0, bar_style='info', description='Progress:', layout=Layout(height='25px', width='50%'),…"
      ]
     },
     "metadata": {},
     "output_type": "display_data"
    }
   ],
   "source": [
    "country_shapes7 = country_shapes6.join(country_info, (country_shapes6.geoNameId == country_info.geonameid)).drop(country_info.geonameid)"
   ]
  },
  {
   "cell_type": "code",
   "execution_count": 50,
   "id": "ab20cf0d-3a95-4abe-b6c9-51da6a0a7dd8",
   "metadata": {
    "execution": {
     "iopub.execute_input": "2022-09-06T04:58:07.060101Z",
     "iopub.status.busy": "2022-09-06T04:58:07.059928Z",
     "iopub.status.idle": "2022-09-06T04:58:07.114002Z",
     "shell.execute_reply": "2022-09-06T04:58:07.113424Z",
     "shell.execute_reply.started": "2022-09-06T04:58:07.060079Z"
    },
    "tags": []
   },
   "outputs": [
    {
     "data": {
      "application/vnd.jupyter.widget-view+json": {
       "model_id": "c35666122d8a4802b3837d834cdd252f",
       "version_major": 2,
       "version_minor": 0
      },
      "text/plain": [
       "VBox()"
      ]
     },
     "metadata": {},
     "output_type": "display_data"
    },
    {
     "data": {
      "application/vnd.jupyter.widget-view+json": {
       "model_id": "",
       "version_major": 2,
       "version_minor": 0
      },
      "text/plain": [
       "FloatProgress(value=0.0, bar_style='info', description='Progress:', layout=Layout(height='25px', width='50%'),…"
      ]
     },
     "metadata": {},
     "output_type": "display_data"
    },
    {
     "name": "stdout",
     "output_type": "stream",
     "text": [
      "root\n",
      " |-- geoNameId: string (nullable = true)\n",
      " |-- type: string (nullable = true)\n",
      " |-- polygon_id: string (nullable = true)\n",
      " |-- latitude: string (nullable = true)\n",
      " |-- longitude: string (nullable = true)\n",
      " |-- ISO: string (nullable = true)\n",
      " |-- ISO3: string (nullable = true)\n",
      " |-- ISO-Numeric: integer (nullable = true)\n",
      " |-- fips: string (nullable = true)\n",
      " |-- Country: string (nullable = true)\n",
      " |-- Capital: string (nullable = true)\n",
      " |-- Area(in sq km): double (nullable = true)\n",
      " |-- Population: integer (nullable = true)\n",
      " |-- Continent: string (nullable = true)\n",
      " |-- tld: string (nullable = true)\n",
      " |-- CurrencyCode: string (nullable = true)\n",
      " |-- CurrencyName: string (nullable = true)\n",
      " |-- Phone: string (nullable = true)\n",
      " |-- Postal Code Format: string (nullable = true)\n",
      " |-- Postal Code Regex: string (nullable = true)\n",
      " |-- Languages: string (nullable = true)\n",
      " |-- neighbours: string (nullable = true)\n",
      " |-- EquivalentFipsCode: string (nullable = true)"
     ]
    }
   ],
   "source": [
    "country_shapes7.printSchema()"
   ]
  },
  {
   "cell_type": "code",
   "execution_count": 51,
   "id": "1cd1adce-b4c1-41e6-bbb1-9d0b52092ed4",
   "metadata": {
    "execution": {
     "iopub.execute_input": "2022-09-06T04:58:07.115025Z",
     "iopub.status.busy": "2022-09-06T04:58:07.114848Z",
     "iopub.status.idle": "2022-09-06T04:58:07.372161Z",
     "shell.execute_reply": "2022-09-06T04:58:07.371584Z",
     "shell.execute_reply.started": "2022-09-06T04:58:07.115002Z"
    },
    "tags": []
   },
   "outputs": [
    {
     "data": {
      "application/vnd.jupyter.widget-view+json": {
       "model_id": "aa0c2cd09a87451bbe2eb92745b06d65",
       "version_major": 2,
       "version_minor": 0
      },
      "text/plain": [
       "VBox()"
      ]
     },
     "metadata": {},
     "output_type": "display_data"
    },
    {
     "data": {
      "application/vnd.jupyter.widget-view+json": {
       "model_id": "",
       "version_major": 2,
       "version_minor": 0
      },
      "text/plain": [
       "FloatProgress(value=0.0, bar_style='info', description='Progress:', layout=Layout(height='25px', width='50%'),…"
      ]
     },
     "metadata": {},
     "output_type": "display_data"
    }
   ],
   "source": [
    "country_shapes7=country_shapes7.select(\"geoNameId\", \"type\", \"polygon_id\", col('latitude').cast('double').alias('latitude'), col('longitude').cast('double').alias('longitude'), \"ISO\",\"Country\",\"Continent\")"
   ]
  },
  {
   "cell_type": "code",
   "execution_count": 52,
   "id": "10bc8b41-53e0-4f57-a15f-9f5659cd93f3",
   "metadata": {
    "execution": {
     "iopub.execute_input": "2022-09-06T04:58:07.373253Z",
     "iopub.status.busy": "2022-09-06T04:58:07.373028Z",
     "iopub.status.idle": "2022-09-06T04:58:09.684777Z",
     "shell.execute_reply": "2022-09-06T04:58:09.684012Z",
     "shell.execute_reply.started": "2022-09-06T04:58:07.373230Z"
    },
    "tags": []
   },
   "outputs": [
    {
     "data": {
      "application/vnd.jupyter.widget-view+json": {
       "model_id": "476ec1d5f3124e9799773ec58c742d99",
       "version_major": 2,
       "version_minor": 0
      },
      "text/plain": [
       "VBox()"
      ]
     },
     "metadata": {},
     "output_type": "display_data"
    },
    {
     "data": {
      "application/vnd.jupyter.widget-view+json": {
       "model_id": "",
       "version_major": 2,
       "version_minor": 0
      },
      "text/plain": [
       "FloatProgress(value=0.0, bar_style='info', description='Progress:', layout=Layout(height='25px', width='50%'),…"
      ]
     },
     "metadata": {},
     "output_type": "display_data"
    },
    {
     "name": "stdout",
     "output_type": "stream",
     "text": [
      "+---------+-------+--------------------+--------+---------+---+-------+---------+\n",
      "|geoNameId|   type|          polygon_id|latitude|longitude|ISO|Country|Continent|\n",
      "+---------+-------+--------------------+--------+---------+---+-------+---------+\n",
      "|    49518|Polygon|d7bdba6946ced25d0...|  -2.327|    29.96| RW| Rwanda|       AF|\n",
      "|    49518|Polygon|d7bdba6946ced25d0...|  -2.703|   29.919| RW| Rwanda|       AF|\n",
      "|    49518|Polygon|d7bdba6946ced25d0...|  -2.819|   29.724| RW| Rwanda|       AF|\n",
      "|    49518|Polygon|d7bdba6946ced25d0...|  -2.798|   29.438| RW| Rwanda|       AF|\n",
      "|    49518|Polygon|d7bdba6946ced25d0...|   -2.84|   29.371| RW| Rwanda|       AF|\n",
      "|    49518|Polygon|d7bdba6946ced25d0...|  -2.654|   29.326| RW| Rwanda|       AF|\n",
      "|    49518|Polygon|d7bdba6946ced25d0...|  -2.592|    29.15| RW| Rwanda|       AF|\n",
      "|    49518|Polygon|d7bdba6946ced25d0...|  -2.602|   29.062| RW| Rwanda|       AF|\n",
      "|    49518|Polygon|d7bdba6946ced25d0...|  -2.745|    29.04| RW| Rwanda|       AF|\n",
      "|    49518|Polygon|d7bdba6946ced25d0...|   -2.66|   28.897| RW| Rwanda|       AF|\n",
      "|    49518|Polygon|d7bdba6946ced25d0...|  -2.531|   28.862| RW| Rwanda|       AF|\n",
      "|    49518|Polygon|d7bdba6946ced25d0...|  -2.393|   28.884| RW| Rwanda|       AF|\n",
      "|    49518|Polygon|d7bdba6946ced25d0...|  -2.249|   29.119| RW| Rwanda|       AF|\n",
      "|    49518|Polygon|d7bdba6946ced25d0...|  -2.119|   29.175| RW| Rwanda|       AF|\n",
      "|    49518|Polygon|d7bdba6946ced25d0...|   -1.86|   29.136| RW| Rwanda|       AF|\n",
      "|    49518|Polygon|d7bdba6946ced25d0...|  -1.509|   29.362| RW| Rwanda|       AF|\n",
      "|    49518|Polygon|d7bdba6946ced25d0...|  -1.506|    29.45| RW| Rwanda|       AF|\n",
      "|    49518|Polygon|d7bdba6946ced25d0...|  -1.387|   29.566| RW| Rwanda|       AF|\n",
      "|    49518|Polygon|d7bdba6946ced25d0...|  -1.393|    29.66| RW| Rwanda|       AF|\n",
      "|    49518|Polygon|d7bdba6946ced25d0...|   -1.34|   29.735| RW| Rwanda|       AF|\n",
      "+---------+-------+--------------------+--------+---------+---+-------+---------+\n",
      "only showing top 20 rows"
     ]
    }
   ],
   "source": [
    "country_shapes7.show()"
   ]
  },
  {
   "cell_type": "code",
   "execution_count": 53,
   "id": "0757a441-7f69-4cfc-aa33-bfd0f321c969",
   "metadata": {
    "execution": {
     "iopub.execute_input": "2022-09-06T04:58:09.686048Z",
     "iopub.status.busy": "2022-09-06T04:58:09.685794Z",
     "iopub.status.idle": "2022-09-06T04:58:09.910124Z",
     "shell.execute_reply": "2022-09-06T04:58:09.908530Z",
     "shell.execute_reply.started": "2022-09-06T04:58:09.686015Z"
    },
    "tags": []
   },
   "outputs": [
    {
     "data": {
      "application/vnd.jupyter.widget-view+json": {
       "model_id": "7607135f587b42b9861adec9c3a61401",
       "version_major": 2,
       "version_minor": 0
      },
      "text/plain": [
       "VBox()"
      ]
     },
     "metadata": {},
     "output_type": "display_data"
    },
    {
     "data": {
      "application/vnd.jupyter.widget-view+json": {
       "model_id": "",
       "version_major": 2,
       "version_minor": 0
      },
      "text/plain": [
       "FloatProgress(value=0.0, bar_style='info', description='Progress:', layout=Layout(height='25px', width='50%'),…"
      ]
     },
     "metadata": {},
     "output_type": "display_data"
    },
    {
     "name": "stdout",
     "output_type": "stream",
     "text": [
      "root\n",
      " |-- geoNameId: string (nullable = true)\n",
      " |-- type: string (nullable = true)\n",
      " |-- polygon_id: string (nullable = true)\n",
      " |-- latitude: double (nullable = true)\n",
      " |-- longitude: double (nullable = true)\n",
      " |-- ISO: string (nullable = true)\n",
      " |-- Country: string (nullable = true)\n",
      " |-- Continent: string (nullable = true)"
     ]
    }
   ],
   "source": [
    "country_shapes7.printSchema()"
   ]
  },
  {
   "cell_type": "code",
   "execution_count": 54,
   "id": "eb3ce801-28d6-4c31-ac7b-7300a1244a86",
   "metadata": {
    "execution": {
     "iopub.execute_input": "2022-09-06T04:58:09.912348Z",
     "iopub.status.busy": "2022-09-06T04:58:09.912155Z",
     "iopub.status.idle": "2022-09-06T04:58:15.222244Z",
     "shell.execute_reply": "2022-09-06T04:58:15.221620Z",
     "shell.execute_reply.started": "2022-09-06T04:58:09.912323Z"
    },
    "tags": []
   },
   "outputs": [
    {
     "data": {
      "application/vnd.jupyter.widget-view+json": {
       "model_id": "f86e6b76dac944c3a5afe8b7cee5b351",
       "version_major": 2,
       "version_minor": 0
      },
      "text/plain": [
       "VBox()"
      ]
     },
     "metadata": {},
     "output_type": "display_data"
    },
    {
     "data": {
      "application/vnd.jupyter.widget-view+json": {
       "model_id": "",
       "version_major": 2,
       "version_minor": 0
      },
      "text/plain": [
       "FloatProgress(value=0.0, bar_style='info', description='Progress:', layout=Layout(height='25px', width='50%'),…"
      ]
     },
     "metadata": {},
     "output_type": "display_data"
    }
   ],
   "source": [
    "country_shapes7.write.option(\"header\",True).mode(\"overwrite\").csv(f\"{output_path}/country_shapes.csv\")"
   ]
  },
  {
   "cell_type": "code",
   "execution_count": 18,
   "id": "f9a8109e-6bf9-40d1-b9b0-46dc06b2c9f8",
   "metadata": {
    "execution": {
     "iopub.execute_input": "2022-09-07T10:59:55.556320Z",
     "iopub.status.busy": "2022-09-07T10:59:55.556077Z",
     "iopub.status.idle": "2022-09-07T10:59:57.881233Z",
     "shell.execute_reply": "2022-09-07T10:59:57.880333Z",
     "shell.execute_reply.started": "2022-09-07T10:59:55.556293Z"
    },
    "tags": []
   },
   "outputs": [
    {
     "data": {
      "application/vnd.jupyter.widget-view+json": {
       "model_id": "a9dd45f6344143b58fdd387e6e932327",
       "version_major": 2,
       "version_minor": 0
      },
      "text/plain": [
       "VBox()"
      ]
     },
     "metadata": {},
     "output_type": "display_data"
    },
    {
     "data": {
      "application/vnd.jupyter.widget-view+json": {
       "model_id": "",
       "version_major": 2,
       "version_minor": 0
      },
      "text/plain": [
       "FloatProgress(value=0.0, bar_style='info', description='Progress:', layout=Layout(height='25px', width='50%'),…"
      ]
     },
     "metadata": {},
     "output_type": "display_data"
    }
   ],
   "source": [
    "country_shapes7 = spark.read.options(header='True', delimiter=',', inferSchema='True', escape=\"\\\"\", multiline='True').csv(f\"{output_path}/country_shapes.csv\")"
   ]
  },
  {
   "cell_type": "code",
   "execution_count": 19,
   "id": "da770474-1319-41ae-9c1f-2f0383ab2845",
   "metadata": {
    "execution": {
     "iopub.execute_input": "2022-09-07T10:59:57.883256Z",
     "iopub.status.busy": "2022-09-07T10:59:57.882754Z",
     "iopub.status.idle": "2022-09-07T10:59:58.299480Z",
     "shell.execute_reply": "2022-09-07T10:59:58.298672Z",
     "shell.execute_reply.started": "2022-09-07T10:59:57.883218Z"
    },
    "tags": []
   },
   "outputs": [
    {
     "data": {
      "application/vnd.jupyter.widget-view+json": {
       "model_id": "7505997c621249ed80e69d90714189a7",
       "version_major": 2,
       "version_minor": 0
      },
      "text/plain": [
       "VBox()"
      ]
     },
     "metadata": {},
     "output_type": "display_data"
    },
    {
     "data": {
      "application/vnd.jupyter.widget-view+json": {
       "model_id": "",
       "version_major": 2,
       "version_minor": 0
      },
      "text/plain": [
       "FloatProgress(value=0.0, bar_style='info', description='Progress:', layout=Layout(height='25px', width='50%'),…"
      ]
     },
     "metadata": {},
     "output_type": "display_data"
    },
    {
     "name": "stdout",
     "output_type": "stream",
     "text": [
      "root\n",
      " |-- geoNameId: integer (nullable = true)\n",
      " |-- type: string (nullable = true)\n",
      " |-- polygon_id: string (nullable = true)\n",
      " |-- latitude: double (nullable = true)\n",
      " |-- longitude: double (nullable = true)\n",
      " |-- ISO: string (nullable = true)\n",
      " |-- Country: string (nullable = true)\n",
      " |-- Continent: string (nullable = true)"
     ]
    }
   ],
   "source": [
    "country_shapes7.printSchema()"
   ]
  },
  {
   "cell_type": "code",
   "execution_count": 20,
   "id": "9d201b32-c237-4135-8791-2c141b812b3e",
   "metadata": {
    "execution": {
     "iopub.execute_input": "2022-09-07T10:59:58.301294Z",
     "iopub.status.busy": "2022-09-07T10:59:58.301044Z",
     "iopub.status.idle": "2022-09-07T10:59:58.593398Z",
     "shell.execute_reply": "2022-09-07T10:59:58.592779Z",
     "shell.execute_reply.started": "2022-09-07T10:59:58.301258Z"
    },
    "tags": []
   },
   "outputs": [
    {
     "data": {
      "application/vnd.jupyter.widget-view+json": {
       "model_id": "86d95403cda04ba29a5a3f98fc914e30",
       "version_major": 2,
       "version_minor": 0
      },
      "text/plain": [
       "VBox()"
      ]
     },
     "metadata": {},
     "output_type": "display_data"
    },
    {
     "data": {
      "application/vnd.jupyter.widget-view+json": {
       "model_id": "",
       "version_major": 2,
       "version_minor": 0
      },
      "text/plain": [
       "FloatProgress(value=0.0, bar_style='info', description='Progress:', layout=Layout(height='25px', width='50%'),…"
      ]
     },
     "metadata": {},
     "output_type": "display_data"
    }
   ],
   "source": [
    "country_shapes_min_max = country_shapes7.groupBy(\"polygon_id\").agg(min(\"latitude\").alias('latitude_min'), max(\"latitude\").alias(\"latitude_max\"), min(\"longitude\").alias(\"longitude_min\"), max(\"longitude\").alias(\"longitude_max\"))"
   ]
  },
  {
   "cell_type": "code",
   "execution_count": 21,
   "id": "6c090250-f98e-412c-8967-b017ba5c2750",
   "metadata": {
    "execution": {
     "iopub.execute_input": "2022-09-07T10:59:58.594881Z",
     "iopub.status.busy": "2022-09-07T10:59:58.594610Z",
     "iopub.status.idle": "2022-09-07T10:59:58.656628Z",
     "shell.execute_reply": "2022-09-07T10:59:58.655986Z",
     "shell.execute_reply.started": "2022-09-07T10:59:58.594847Z"
    },
    "tags": []
   },
   "outputs": [
    {
     "data": {
      "application/vnd.jupyter.widget-view+json": {
       "model_id": "b9ff5cb084bc4208ba71fc4eebe677c1",
       "version_major": 2,
       "version_minor": 0
      },
      "text/plain": [
       "VBox()"
      ]
     },
     "metadata": {},
     "output_type": "display_data"
    },
    {
     "data": {
      "application/vnd.jupyter.widget-view+json": {
       "model_id": "",
       "version_major": 2,
       "version_minor": 0
      },
      "text/plain": [
       "FloatProgress(value=0.0, bar_style='info', description='Progress:', layout=Layout(height='25px', width='50%'),…"
      ]
     },
     "metadata": {},
     "output_type": "display_data"
    },
    {
     "name": "stdout",
     "output_type": "stream",
     "text": [
      "root\n",
      " |-- polygon_id: string (nullable = true)\n",
      " |-- latitude_min: double (nullable = true)\n",
      " |-- latitude_max: double (nullable = true)\n",
      " |-- longitude_min: double (nullable = true)\n",
      " |-- longitude_max: double (nullable = true)"
     ]
    }
   ],
   "source": [
    "country_shapes_min_max.printSchema()"
   ]
  },
  {
   "cell_type": "code",
   "execution_count": 22,
   "id": "9922cc67-f58c-4284-8707-471762cc8d16",
   "metadata": {
    "execution": {
     "iopub.execute_input": "2022-09-07T10:59:58.657975Z",
     "iopub.status.busy": "2022-09-07T10:59:58.657729Z",
     "iopub.status.idle": "2022-09-07T11:00:00.964951Z",
     "shell.execute_reply": "2022-09-07T11:00:00.964265Z",
     "shell.execute_reply.started": "2022-09-07T10:59:58.657941Z"
    },
    "tags": []
   },
   "outputs": [
    {
     "data": {
      "application/vnd.jupyter.widget-view+json": {
       "model_id": "e110b4260d3a4d7aa6fe20c84e8827cf",
       "version_major": 2,
       "version_minor": 0
      },
      "text/plain": [
       "VBox()"
      ]
     },
     "metadata": {},
     "output_type": "display_data"
    },
    {
     "data": {
      "application/vnd.jupyter.widget-view+json": {
       "model_id": "",
       "version_major": 2,
       "version_minor": 0
      },
      "text/plain": [
       "FloatProgress(value=0.0, bar_style='info', description='Progress:', layout=Layout(height='25px', width='50%'),…"
      ]
     },
     "metadata": {},
     "output_type": "display_data"
    },
    {
     "name": "stdout",
     "output_type": "stream",
     "text": [
      "+--------------------+------------+------------+-------------+-------------+\n",
      "|          polygon_id|latitude_min|latitude_max|longitude_min|longitude_max|\n",
      "+--------------------+------------+------------+-------------+-------------+\n",
      "|e281d5c3cf33ce407...|      23.977|      23.979|       38.186|       38.194|\n",
      "|c17e7dda9babc5c58...|      60.451|      60.476|       21.073|        21.12|\n",
      "|b132c41804b5213b6...|      -0.058|      -0.056|      103.477|      103.479|\n",
      "|770d0e02b67db2c20...|      10.981|      11.005|      125.618|      125.653|\n",
      "|64cf965a101f70214...|      34.885|      34.889|      126.105|      126.109|\n",
      "|3c235f5598efa6f69...|       34.74|      34.756|      126.049|      126.061|\n",
      "|623bdae70cf2fdc15...|      34.446|      34.464|      126.958|      126.966|\n",
      "|675a5b43907eb925a...|      38.207|      38.215|       127.04|      127.046|\n",
      "|f42b7b939d8706f4d...|      36.609|      36.614|      125.541|      125.547|\n",
      "|271b808f09a92fdd4...|     -20.381|     -20.337|      148.928|       148.94|\n",
      "|934283be97bf77910...|      -9.207|      -9.183|       142.03|      142.071|\n",
      "|ec75b6becca19a908...|      -6.884|      -6.878|      156.048|      156.053|\n",
      "|233d9ce9db0858129...|      38.382|      38.559|      -28.537|      -28.029|\n",
      "|10752af55a280fd1b...|      45.935|      45.941|       -1.228|       -1.226|\n",
      "|69122153583a1de2e...|      82.774|      82.893|      -48.483|        -47.5|\n",
      "|351bdd823f2118ec2...|      81.547|      81.674|      -20.023|      -19.167|\n",
      "|1d0f399faa85618e4...|      76.121|      76.156|      -61.486|      -61.399|\n",
      "|8b2d38aace7294714...|     -52.707|     -52.697|      -73.488|      -73.472|\n",
      "|d6ef072e5339dba2b...|      47.517|      47.529|      -57.424|      -57.393|\n",
      "|25b1fef26bb76069b...|      62.989|      62.994|      -71.292|      -71.266|\n",
      "+--------------------+------------+------------+-------------+-------------+\n",
      "only showing top 20 rows"
     ]
    }
   ],
   "source": [
    "country_shapes_min_max.show()"
   ]
  },
  {
   "cell_type": "code",
   "execution_count": 23,
   "id": "7687955d-7e47-4f40-95f5-db6b177c9a0a",
   "metadata": {
    "execution": {
     "iopub.execute_input": "2022-09-07T11:00:04.424838Z",
     "iopub.status.busy": "2022-09-07T11:00:04.424603Z",
     "iopub.status.idle": "2022-09-07T11:00:09.771507Z",
     "shell.execute_reply": "2022-09-07T11:00:09.770904Z",
     "shell.execute_reply.started": "2022-09-07T11:00:04.424811Z"
    },
    "tags": []
   },
   "outputs": [
    {
     "data": {
      "application/vnd.jupyter.widget-view+json": {
       "model_id": "a63d0f6acf15423892fd68c0f8d1713a",
       "version_major": 2,
       "version_minor": 0
      },
      "text/plain": [
       "VBox()"
      ]
     },
     "metadata": {},
     "output_type": "display_data"
    },
    {
     "data": {
      "application/vnd.jupyter.widget-view+json": {
       "model_id": "",
       "version_major": 2,
       "version_minor": 0
      },
      "text/plain": [
       "FloatProgress(value=0.0, bar_style='info', description='Progress:', layout=Layout(height='25px', width='50%'),…"
      ]
     },
     "metadata": {},
     "output_type": "display_data"
    }
   ],
   "source": [
    "country_shapes_broadcast = spark.sparkContext.broadcast(country_shapes7.collect())"
   ]
  },
  {
   "cell_type": "code",
   "execution_count": 24,
   "id": "a783c537-a573-45bd-9f45-e4db63ce7078",
   "metadata": {
    "execution": {
     "iopub.execute_input": "2022-09-07T11:00:09.772994Z",
     "iopub.status.busy": "2022-09-07T11:00:09.772620Z",
     "iopub.status.idle": "2022-09-07T11:00:11.072990Z",
     "shell.execute_reply": "2022-09-07T11:00:11.072402Z",
     "shell.execute_reply.started": "2022-09-07T11:00:09.772958Z"
    },
    "tags": []
   },
   "outputs": [
    {
     "data": {
      "application/vnd.jupyter.widget-view+json": {
       "model_id": "1911f2cbcc7649ff9245c2e8d99fa762",
       "version_major": 2,
       "version_minor": 0
      },
      "text/plain": [
       "VBox()"
      ]
     },
     "metadata": {},
     "output_type": "display_data"
    },
    {
     "data": {
      "application/vnd.jupyter.widget-view+json": {
       "model_id": "",
       "version_major": 2,
       "version_minor": 0
      },
      "text/plain": [
       "FloatProgress(value=0.0, bar_style='info', description='Progress:', layout=Layout(height='25px', width='50%'),…"
      ]
     },
     "metadata": {},
     "output_type": "display_data"
    }
   ],
   "source": [
    "country_shapes_min_max_broadcast = spark.sparkContext.broadcast(country_shapes_min_max.collect())"
   ]
  },
  {
   "cell_type": "code",
   "execution_count": 25,
   "id": "6f522743-147a-446f-95ee-827837706017",
   "metadata": {
    "execution": {
     "iopub.execute_input": "2022-09-07T11:00:11.074877Z",
     "iopub.status.busy": "2022-09-07T11:00:11.074603Z",
     "iopub.status.idle": "2022-09-07T11:00:11.350887Z",
     "shell.execute_reply": "2022-09-07T11:00:11.350249Z",
     "shell.execute_reply.started": "2022-09-07T11:00:11.074841Z"
    },
    "tags": []
   },
   "outputs": [
    {
     "data": {
      "application/vnd.jupyter.widget-view+json": {
       "model_id": "2f6e470d05ce42a980fd7006fbb1cbac",
       "version_major": 2,
       "version_minor": 0
      },
      "text/plain": [
       "VBox()"
      ]
     },
     "metadata": {},
     "output_type": "display_data"
    },
    {
     "data": {
      "application/vnd.jupyter.widget-view+json": {
       "model_id": "",
       "version_major": 2,
       "version_minor": 0
      },
      "text/plain": [
       "FloatProgress(value=0.0, bar_style='info', description='Progress:', layout=Layout(height='25px', width='50%'),…"
      ]
     },
     "metadata": {},
     "output_type": "display_data"
    }
   ],
   "source": [
    "from pygeodesy.sphericalNvector import LatLon\n",
    "def get_country_based_on_latitude_longitude(latitude, longitude):\n",
    "    country_shapes_values = country_shapes_broadcast.value\n",
    "    country_shapes_min_max_values = country_shapes_min_max_broadcast.value\n",
    "    \n",
    "    if latitude and longitude:\n",
    "        filtered_polygon = [\n",
    "            polygon.polygon_id\n",
    "            for polygon in country_shapes_min_max_values\n",
    "            if (\n",
    "                polygon.latitude_min <= latitude\n",
    "                and polygon.latitude_max >= latitude\n",
    "                and polygon.longitude_min <= longitude\n",
    "                and polygon.longitude_max >= longitude\n",
    "            )\n",
    "        ]\n",
    "        filtered_country_shapes_values = [\n",
    "            p for p in country_shapes_values if p.polygon_id in filtered_polygon\n",
    "        ]\n",
    "        total_polygons = len(filtered_country_shapes_values)\n",
    "    \n",
    "        target = LatLon(latitude, longitude)\n",
    "        polygon = []\n",
    "        prev_polygon_id = None\n",
    "        prev_country_id = None\n",
    "        for idx, point in enumerate(filtered_country_shapes_values):\n",
    "            if idx == total_polygons - 1:\n",
    "                if len(polygon) > 0:\n",
    "                    try:\n",
    "                        if target.isenclosedBy(polygon):\n",
    "                            return point.ISO\n",
    "                    except:\n",
    "                        print(\"The length of polygon is \", len(polygon))\n",
    "                else:\n",
    "                    return None\n",
    "            elif point.polygon_id == prev_polygon_id:\n",
    "                polygon.append(LatLon(point.latitude, point.longitude))\n",
    "            else:\n",
    "                if len(polygon) > 0:\n",
    "                    try:\n",
    "                        if target.isenclosedBy(polygon):\n",
    "                            return prev_country_id\n",
    "                    except:\n",
    "                        print(\"The length of polygon is \", len(polygon))\n",
    "                else:\n",
    "                    polygon = []\n",
    "                    polygon.append(LatLon(point.latitude, point.longitude))\n",
    "            prev_polygon_id = point.polygon_id\n",
    "            prev_country_id = point.ISO\n",
    "    else:\n",
    "        return None"
   ]
  },
  {
   "cell_type": "code",
   "execution_count": 26,
   "id": "c17cdfd1-f318-47b7-960a-64ec98e32fb5",
   "metadata": {
    "execution": {
     "iopub.execute_input": "2022-09-07T11:00:11.352103Z",
     "iopub.status.busy": "2022-09-07T11:00:11.351930Z",
     "iopub.status.idle": "2022-09-07T11:00:11.411322Z",
     "shell.execute_reply": "2022-09-07T11:00:11.410751Z",
     "shell.execute_reply.started": "2022-09-07T11:00:11.352080Z"
    },
    "tags": []
   },
   "outputs": [
    {
     "data": {
      "application/vnd.jupyter.widget-view+json": {
       "model_id": "84e6a19defbb4626a0f73901761e462f",
       "version_major": 2,
       "version_minor": 0
      },
      "text/plain": [
       "VBox()"
      ]
     },
     "metadata": {},
     "output_type": "display_data"
    },
    {
     "data": {
      "application/vnd.jupyter.widget-view+json": {
       "model_id": "",
       "version_major": 2,
       "version_minor": 0
      },
      "text/plain": [
       "FloatProgress(value=0.0, bar_style='info', description='Progress:', layout=Layout(height='25px', width='50%'),…"
      ]
     },
     "metadata": {},
     "output_type": "display_data"
    }
   ],
   "source": [
    "get_country_based_on_latitude_longitude_udf = udf(get_country_based_on_latitude_longitude, StringType())"
   ]
  },
  {
   "cell_type": "code",
   "execution_count": 27,
   "id": "55b9d4f0-9df7-42b8-b027-897c0d2daa2f",
   "metadata": {
    "execution": {
     "iopub.execute_input": "2022-09-07T11:00:11.412215Z",
     "iopub.status.busy": "2022-09-07T11:00:11.412056Z",
     "iopub.status.idle": "2022-09-07T11:00:11.474008Z",
     "shell.execute_reply": "2022-09-07T11:00:11.473446Z",
     "shell.execute_reply.started": "2022-09-07T11:00:11.412194Z"
    },
    "tags": []
   },
   "outputs": [
    {
     "data": {
      "application/vnd.jupyter.widget-view+json": {
       "model_id": "1c585e9d9eec410082ec3087f65297e9",
       "version_major": 2,
       "version_minor": 0
      },
      "text/plain": [
       "VBox()"
      ]
     },
     "metadata": {},
     "output_type": "display_data"
    },
    {
     "data": {
      "application/vnd.jupyter.widget-view+json": {
       "model_id": "",
       "version_major": 2,
       "version_minor": 0
      },
      "text/plain": [
       "FloatProgress(value=0.0, bar_style='info', description='Progress:', layout=Layout(height='25px', width='50%'),…"
      ]
     },
     "metadata": {},
     "output_type": "display_data"
    },
    {
     "name": "stdout",
     "output_type": "stream",
     "text": [
      "root\n",
      " |-- id: string (nullable = true)\n",
      " |-- city: string (nullable = true)\n",
      " |-- state: string (nullable = true)\n",
      " |-- country: string (nullable = true)\n",
      " |-- latitude: double (nullable = true)\n",
      " |-- longitude: double (nullable = true)\n",
      " |-- county: string (nullable = true)\n",
      " |-- state_fips: double (nullable = true)\n",
      " |-- county_fips: integer (nullable = true)\n",
      " |-- derived_country_based_on_state: string (nullable = true)"
     ]
    }
   ],
   "source": [
    "location.printSchema()"
   ]
  },
  {
   "cell_type": "code",
   "execution_count": 28,
   "id": "d9b6ddd3-8ec7-41ce-8ba8-19d29ee37e88",
   "metadata": {
    "execution": {
     "iopub.execute_input": "2022-09-07T11:00:11.475266Z",
     "iopub.status.busy": "2022-09-07T11:00:11.475018Z",
     "iopub.status.idle": "2022-09-07T11:00:11.536587Z",
     "shell.execute_reply": "2022-09-07T11:00:11.535879Z",
     "shell.execute_reply.started": "2022-09-07T11:00:11.475232Z"
    },
    "tags": []
   },
   "outputs": [
    {
     "data": {
      "application/vnd.jupyter.widget-view+json": {
       "model_id": "6366d853741c4520a312be816c78b038",
       "version_major": 2,
       "version_minor": 0
      },
      "text/plain": [
       "VBox()"
      ]
     },
     "metadata": {},
     "output_type": "display_data"
    },
    {
     "data": {
      "application/vnd.jupyter.widget-view+json": {
       "model_id": "",
       "version_major": 2,
       "version_minor": 0
      },
      "text/plain": [
       "FloatProgress(value=0.0, bar_style='info', description='Progress:', layout=Layout(height='25px', width='50%'),…"
      ]
     },
     "metadata": {},
     "output_type": "display_data"
    }
   ],
   "source": [
    "location_with_latlon = location.filter(col(\"country\").isNull() & col(\"latitude\").isNotNull())"
   ]
  },
  {
   "cell_type": "code",
   "execution_count": 29,
   "id": "97aa4dd8-9c41-4a5e-a782-a207d460b9d1",
   "metadata": {
    "execution": {
     "iopub.execute_input": "2022-09-07T11:00:11.538024Z",
     "iopub.status.busy": "2022-09-07T11:00:11.537777Z",
     "iopub.status.idle": "2022-09-07T11:00:16.887124Z",
     "shell.execute_reply": "2022-09-07T11:00:16.886550Z",
     "shell.execute_reply.started": "2022-09-07T11:00:11.537989Z"
    },
    "tags": []
   },
   "outputs": [
    {
     "data": {
      "application/vnd.jupyter.widget-view+json": {
       "model_id": "1e1dcb716c0a4d22a077d39a588f3836",
       "version_major": 2,
       "version_minor": 0
      },
      "text/plain": [
       "VBox()"
      ]
     },
     "metadata": {},
     "output_type": "display_data"
    },
    {
     "data": {
      "application/vnd.jupyter.widget-view+json": {
       "model_id": "",
       "version_major": 2,
       "version_minor": 0
      },
      "text/plain": [
       "FloatProgress(value=0.0, bar_style='info', description='Progress:', layout=Layout(height='25px', width='50%'),…"
      ]
     },
     "metadata": {},
     "output_type": "display_data"
    },
    {
     "name": "stdout",
     "output_type": "stream",
     "text": [
      "167"
     ]
    }
   ],
   "source": [
    "location_with_latlon.count()"
   ]
  },
  {
   "cell_type": "code",
   "execution_count": 30,
   "id": "526a46b5-a64c-4dc9-906d-23025385d171",
   "metadata": {
    "execution": {
     "iopub.execute_input": "2022-09-07T11:00:16.888681Z",
     "iopub.status.busy": "2022-09-07T11:00:16.888488Z",
     "iopub.status.idle": "2022-09-07T11:00:17.151266Z",
     "shell.execute_reply": "2022-09-07T11:00:17.150668Z",
     "shell.execute_reply.started": "2022-09-07T11:00:16.888659Z"
    },
    "tags": []
   },
   "outputs": [
    {
     "data": {
      "application/vnd.jupyter.widget-view+json": {
       "model_id": "68c239a8cd3540b48cbbada7532d353d",
       "version_major": 2,
       "version_minor": 0
      },
      "text/plain": [
       "VBox()"
      ]
     },
     "metadata": {},
     "output_type": "display_data"
    },
    {
     "data": {
      "application/vnd.jupyter.widget-view+json": {
       "model_id": "",
       "version_major": 2,
       "version_minor": 0
      },
      "text/plain": [
       "FloatProgress(value=0.0, bar_style='info', description='Progress:', layout=Layout(height='25px', width='50%'),…"
      ]
     },
     "metadata": {},
     "output_type": "display_data"
    }
   ],
   "source": [
    "location_rest = location.filter(~(col(\"country\").isNull() & col(\"latitude\").isNotNull()))"
   ]
  },
  {
   "cell_type": "code",
   "execution_count": 31,
   "id": "62c96380-2827-4d90-a9c5-76db297b9679",
   "metadata": {
    "execution": {
     "iopub.execute_input": "2022-09-07T11:00:17.152718Z",
     "iopub.status.busy": "2022-09-07T11:00:17.152467Z",
     "iopub.status.idle": "2022-09-07T11:00:17.417508Z",
     "shell.execute_reply": "2022-09-07T11:00:17.416821Z",
     "shell.execute_reply.started": "2022-09-07T11:00:17.152683Z"
    },
    "tags": []
   },
   "outputs": [
    {
     "data": {
      "application/vnd.jupyter.widget-view+json": {
       "model_id": "7f10a59251b849cb9300ba40c0a6bc45",
       "version_major": 2,
       "version_minor": 0
      },
      "text/plain": [
       "VBox()"
      ]
     },
     "metadata": {},
     "output_type": "display_data"
    },
    {
     "data": {
      "application/vnd.jupyter.widget-view+json": {
       "model_id": "",
       "version_major": 2,
       "version_minor": 0
      },
      "text/plain": [
       "FloatProgress(value=0.0, bar_style='info', description='Progress:', layout=Layout(height='25px', width='50%'),…"
      ]
     },
     "metadata": {},
     "output_type": "display_data"
    }
   ],
   "source": [
    "location_rest = location_rest.withColumn(\"derived_country_based_on_latlon\", lit(None))"
   ]
  },
  {
   "cell_type": "code",
   "execution_count": 32,
   "id": "6998d138-00ec-41f6-a201-6a85afef27dd",
   "metadata": {
    "execution": {
     "iopub.execute_input": "2022-09-07T11:00:17.418913Z",
     "iopub.status.busy": "2022-09-07T11:00:17.418549Z",
     "iopub.status.idle": "2022-09-07T11:00:18.211865Z",
     "shell.execute_reply": "2022-09-07T11:00:18.210702Z",
     "shell.execute_reply.started": "2022-09-07T11:00:17.418879Z"
    },
    "tags": []
   },
   "outputs": [
    {
     "data": {
      "application/vnd.jupyter.widget-view+json": {
       "model_id": "6c42220da4434e13bf1fef54909fd1d1",
       "version_major": 2,
       "version_minor": 0
      },
      "text/plain": [
       "VBox()"
      ]
     },
     "metadata": {},
     "output_type": "display_data"
    },
    {
     "data": {
      "application/vnd.jupyter.widget-view+json": {
       "model_id": "",
       "version_major": 2,
       "version_minor": 0
      },
      "text/plain": [
       "FloatProgress(value=0.0, bar_style='info', description='Progress:', layout=Layout(height='25px', width='50%'),…"
      ]
     },
     "metadata": {},
     "output_type": "display_data"
    },
    {
     "name": "stdout",
     "output_type": "stream",
     "text": [
      "242759"
     ]
    }
   ],
   "source": [
    "location_rest.count()"
   ]
  },
  {
   "cell_type": "code",
   "execution_count": 33,
   "id": "0f3ae654-208a-46d2-9b6d-767ccfdc6439",
   "metadata": {
    "execution": {
     "iopub.execute_input": "2022-09-07T11:00:18.213495Z",
     "iopub.status.busy": "2022-09-07T11:00:18.213305Z",
     "iopub.status.idle": "2022-09-07T11:00:18.485099Z",
     "shell.execute_reply": "2022-09-07T11:00:18.484439Z",
     "shell.execute_reply.started": "2022-09-07T11:00:18.213471Z"
    },
    "tags": []
   },
   "outputs": [
    {
     "data": {
      "application/vnd.jupyter.widget-view+json": {
       "model_id": "6408b229aed945928d3229c6e6287ad9",
       "version_major": 2,
       "version_minor": 0
      },
      "text/plain": [
       "VBox()"
      ]
     },
     "metadata": {},
     "output_type": "display_data"
    },
    {
     "data": {
      "application/vnd.jupyter.widget-view+json": {
       "model_id": "",
       "version_major": 2,
       "version_minor": 0
      },
      "text/plain": [
       "FloatProgress(value=0.0, bar_style='info', description='Progress:', layout=Layout(height='25px', width='50%'),…"
      ]
     },
     "metadata": {},
     "output_type": "display_data"
    }
   ],
   "source": [
    "location_with_latlon = location_with_latlon.withColumn(\"derived_country_based_on_latlon\", get_country_based_on_latitude_longitude_udf(col('latitude'), col('longitude'))).cache()"
   ]
  },
  {
   "cell_type": "code",
   "execution_count": 34,
   "id": "c07f78f1-47ba-4013-b6bd-2c063df55bd8",
   "metadata": {
    "execution": {
     "iopub.execute_input": "2022-09-07T11:00:18.486139Z",
     "iopub.status.busy": "2022-09-07T11:00:18.485966Z",
     "iopub.status.idle": "2022-09-07T11:00:33.907262Z",
     "shell.execute_reply": "2022-09-07T11:00:33.906584Z",
     "shell.execute_reply.started": "2022-09-07T11:00:18.486118Z"
    },
    "tags": []
   },
   "outputs": [
    {
     "data": {
      "application/vnd.jupyter.widget-view+json": {
       "model_id": "df01f8ca7531492d84a0258459defaa5",
       "version_major": 2,
       "version_minor": 0
      },
      "text/plain": [
       "VBox()"
      ]
     },
     "metadata": {},
     "output_type": "display_data"
    },
    {
     "data": {
      "application/vnd.jupyter.widget-view+json": {
       "model_id": "",
       "version_major": 2,
       "version_minor": 0
      },
      "text/plain": [
       "FloatProgress(value=0.0, bar_style='info', description='Progress:', layout=Layout(height='25px', width='50%'),…"
      ]
     },
     "metadata": {},
     "output_type": "display_data"
    },
    {
     "name": "stdout",
     "output_type": "stream",
     "text": [
      "+--------------------+-----------+-----+-------+--------+---------+------+----------+-----------+------------------------------+-------------------------------+\n",
      "|                  id|       city|state|country|latitude|longitude|county|state_fips|county_fips|derived_country_based_on_state|derived_country_based_on_latlon|\n",
      "+--------------------+-----------+-----+-------+--------+---------+------+----------+-----------+------------------------------+-------------------------------+\n",
      "|cb55c189-09be-11e...|     Tustin|   CA|   null| 33.7335| -117.808|  null|      null|       null|                            US|                             US|\n",
      "|1f9d1117-cb8f-11e...|   Broadway|   VA|   null| 38.6076| -78.8031|  null|      null|       null|                            US|                             US|\n",
      "|44f21ef1-cb8f-11e...|      Macao| null|   null| 39.6086| -7.97485|  null|      null|       null|                          null|                             PT|\n",
      "|7c989497-cb8e-11e...| Alamogordo|   NM|   null| 32.8842| -105.953|  null|      null|       null|                            US|                             US|\n",
      "|94b5f549-cb8e-11e...| Winchester|   MA|   null| 42.4552| -71.1473|  null|      null|       null|                            US|                             US|\n",
      "|3cd79aae-cb8e-11e...|St. Charles|   MO|   null| 38.7504| -90.7287|  null|      null|       null|                            US|                             US|\n",
      "|1ee378e5-09bd-11e...|    Landing|   NJ|   null| 39.9165| -75.0343|  null|      null|       null|                            US|                             US|\n",
      "|ddef59bd-cb8e-11e...| Greenville|   NC|   null| 35.6029| -77.3732|  null|      null|       null|                            US|                             US|\n",
      "|0c8fa603-09bc-11e...| Bryans Rd.|   MD|   null| 38.6254| -77.0821|  null|      null|       null|                            US|                             US|\n",
      "|80163ce7-cb8e-11e...| Kensington|   MD|   null| 39.0259| -77.0752|  null|      null|       null|                            US|                             US|\n",
      "|525bbb9b-cb8f-11e...|     Carmel|   NY|   null| 41.3899| -73.7254|  null|      null|       null|                            US|                             US|\n",
      "|bee319d9-cb8f-11e...|      Wayne|   NJ|   null| 40.9482| -74.2374|  null|      null|       null|                            US|                             US|\n",
      "|5005910b-cb8f-11e...|White Plain|   MD|   null| 39.0417| -76.9888|  null|      null|       null|                            US|                             US|\n",
      "|d8e02516-09bb-11e...|     Avenue|   MD|   null| 39.3119| -76.6226|  null|      null|       null|                            US|                             US|\n",
      "|93810ed0-09bc-11e...|  Gladstone|   NJ|   null| 40.7178| -74.6589|  null|      null|       null|                            US|                             US|\n",
      "|c0ce2586-09bd-11e...|  Patchogue|   NY|   null| 40.7635| -73.0256|  null|      null|       null|                            US|                             US|\n",
      "|ca1bd4cc-cb8f-11e...|   Griswold|   CT|   null| 41.2942| -72.2249|  null|      null|       null|                            US|                             US|\n",
      "|5b74dc13-cb8e-11e...|  Oak Ridge|   TN|   null| 35.9697| -84.2969|  null|      null|       null|                            US|                             US|\n",
      "|5483571b-cb90-11e...|     Henkel| null|   null| 41.6003| -89.1737|  null|      null|       null|                          null|                             US|\n",
      "|66e5db8f-cb8e-11e...|     Bangor|   PA|   null| 40.8668| -75.2103|  null|      null|       null|                            US|                             US|\n",
      "+--------------------+-----------+-----+-------+--------+---------+------+----------+-----------+------------------------------+-------------------------------+\n",
      "only showing top 20 rows"
     ]
    }
   ],
   "source": [
    "location_with_latlon.show()"
   ]
  },
  {
   "cell_type": "code",
   "execution_count": 35,
   "id": "fed15a21-fca0-4be4-b04e-5f005397b94c",
   "metadata": {
    "execution": {
     "iopub.execute_input": "2022-09-07T11:00:37.167158Z",
     "iopub.status.busy": "2022-09-07T11:00:37.166852Z",
     "iopub.status.idle": "2022-09-07T11:00:37.474147Z",
     "shell.execute_reply": "2022-09-07T11:00:37.473192Z",
     "shell.execute_reply.started": "2022-09-07T11:00:37.167121Z"
    },
    "tags": []
   },
   "outputs": [
    {
     "data": {
      "application/vnd.jupyter.widget-view+json": {
       "model_id": "421fe8ffe12e4f5690caa0e0940c2011",
       "version_major": 2,
       "version_minor": 0
      },
      "text/plain": [
       "VBox()"
      ]
     },
     "metadata": {},
     "output_type": "display_data"
    },
    {
     "data": {
      "application/vnd.jupyter.widget-view+json": {
       "model_id": "",
       "version_major": 2,
       "version_minor": 0
      },
      "text/plain": [
       "FloatProgress(value=0.0, bar_style='info', description='Progress:', layout=Layout(height='25px', width='50%'),…"
      ]
     },
     "metadata": {},
     "output_type": "display_data"
    }
   ],
   "source": [
    "location_combined = location_rest.union(location_with_latlon)"
   ]
  },
  {
   "cell_type": "code",
   "execution_count": 36,
   "id": "b1b36fdc-d5e1-4728-8600-6cdcc27ec01c",
   "metadata": {
    "execution": {
     "iopub.execute_input": "2022-09-07T11:00:37.595668Z",
     "iopub.status.busy": "2022-09-07T11:00:37.595179Z",
     "iopub.status.idle": "2022-09-07T11:00:37.695594Z",
     "shell.execute_reply": "2022-09-07T11:00:37.694901Z",
     "shell.execute_reply.started": "2022-09-07T11:00:37.595627Z"
    },
    "tags": []
   },
   "outputs": [
    {
     "data": {
      "application/vnd.jupyter.widget-view+json": {
       "model_id": "a7d694b4e9fe48afa1472d46922394d1",
       "version_major": 2,
       "version_minor": 0
      },
      "text/plain": [
       "VBox()"
      ]
     },
     "metadata": {},
     "output_type": "display_data"
    },
    {
     "data": {
      "application/vnd.jupyter.widget-view+json": {
       "model_id": "",
       "version_major": 2,
       "version_minor": 0
      },
      "text/plain": [
       "FloatProgress(value=0.0, bar_style='info', description='Progress:', layout=Layout(height='25px', width='50%'),…"
      ]
     },
     "metadata": {},
     "output_type": "display_data"
    }
   ],
   "source": [
    "def consolidate_country(country, derived_country_based_on_latlon, derived_country_based_on_state):\n",
    "    if country:\n",
    "        return country\n",
    "    elif derived_country_based_on_latlon:\n",
    "        return derived_country_based_on_latlon\n",
    "    elif derived_country_based_on_state:\n",
    "        return derived_country_based_on_state\n",
    "    else:\n",
    "        return None"
   ]
  },
  {
   "cell_type": "code",
   "execution_count": 37,
   "id": "97b26fc4-b487-4196-845a-2066d35790e5",
   "metadata": {
    "execution": {
     "iopub.execute_input": "2022-09-07T11:00:39.617252Z",
     "iopub.status.busy": "2022-09-07T11:00:39.617013Z",
     "iopub.status.idle": "2022-09-07T11:00:39.677499Z",
     "shell.execute_reply": "2022-09-07T11:00:39.676954Z",
     "shell.execute_reply.started": "2022-09-07T11:00:39.617216Z"
    },
    "tags": []
   },
   "outputs": [
    {
     "data": {
      "application/vnd.jupyter.widget-view+json": {
       "model_id": "81bb96be84e6445d92b181b43a61e6a8",
       "version_major": 2,
       "version_minor": 0
      },
      "text/plain": [
       "VBox()"
      ]
     },
     "metadata": {},
     "output_type": "display_data"
    },
    {
     "data": {
      "application/vnd.jupyter.widget-view+json": {
       "model_id": "",
       "version_major": 2,
       "version_minor": 0
      },
      "text/plain": [
       "FloatProgress(value=0.0, bar_style='info', description='Progress:', layout=Layout(height='25px', width='50%'),…"
      ]
     },
     "metadata": {},
     "output_type": "display_data"
    }
   ],
   "source": [
    "consolidate_country_udf = udf(consolidate_country, StringType())"
   ]
  },
  {
   "cell_type": "code",
   "execution_count": 38,
   "id": "57e0e22a-07b9-45f5-a0b3-8f26673c3281",
   "metadata": {
    "execution": {
     "iopub.execute_input": "2022-09-07T11:00:41.697655Z",
     "iopub.status.busy": "2022-09-07T11:00:41.697425Z",
     "iopub.status.idle": "2022-09-07T11:00:41.967700Z",
     "shell.execute_reply": "2022-09-07T11:00:41.967148Z",
     "shell.execute_reply.started": "2022-09-07T11:00:41.697630Z"
    },
    "tags": []
   },
   "outputs": [
    {
     "data": {
      "application/vnd.jupyter.widget-view+json": {
       "model_id": "bd82a844ebe14f2ebdcf72d555b10b67",
       "version_major": 2,
       "version_minor": 0
      },
      "text/plain": [
       "VBox()"
      ]
     },
     "metadata": {},
     "output_type": "display_data"
    },
    {
     "data": {
      "application/vnd.jupyter.widget-view+json": {
       "model_id": "",
       "version_major": 2,
       "version_minor": 0
      },
      "text/plain": [
       "FloatProgress(value=0.0, bar_style='info', description='Progress:', layout=Layout(height='25px', width='50%'),…"
      ]
     },
     "metadata": {},
     "output_type": "display_data"
    }
   ],
   "source": [
    "location_combined = location_combined.withColumn(\"final_country\", consolidate_country_udf(col(\"country\"), col(\"derived_country_based_on_latlon\"), col(\"derived_country_based_on_state\")))"
   ]
  },
  {
   "cell_type": "code",
   "execution_count": 39,
   "id": "fc873424-7812-4212-8b64-a58fea887b05",
   "metadata": {
    "execution": {
     "iopub.execute_input": "2022-09-07T11:00:42.136135Z",
     "iopub.status.busy": "2022-09-07T11:00:42.135908Z",
     "iopub.status.idle": "2022-09-07T11:01:49.670043Z",
     "shell.execute_reply": "2022-09-07T11:01:49.669346Z",
     "shell.execute_reply.started": "2022-09-07T11:00:42.136110Z"
    },
    "tags": []
   },
   "outputs": [
    {
     "data": {
      "application/vnd.jupyter.widget-view+json": {
       "model_id": "1e44d63710ce47cdad464bc0dbab6162",
       "version_major": 2,
       "version_minor": 0
      },
      "text/plain": [
       "VBox()"
      ]
     },
     "metadata": {},
     "output_type": "display_data"
    },
    {
     "data": {
      "application/vnd.jupyter.widget-view+json": {
       "model_id": "",
       "version_major": 2,
       "version_minor": 0
      },
      "text/plain": [
       "FloatProgress(value=0.0, bar_style='info', description='Progress:', layout=Layout(height='25px', width='50%'),…"
      ]
     },
     "metadata": {},
     "output_type": "display_data"
    },
    {
     "name": "stdout",
     "output_type": "stream",
     "text": [
      "+--------------------+--------------------+-----+-------+--------+---------+------+----------+-----------+------------------------------+-------------------------------+-------------+\n",
      "|                  id|                city|state|country|latitude|longitude|county|state_fips|county_fips|derived_country_based_on_state|derived_country_based_on_latlon|final_country|\n",
      "+--------------------+--------------------+-----+-------+--------+---------+------+----------+-----------+------------------------------+-------------------------------+-------------+\n",
      "|36b3ac7a-cb8f-11e...|       Mountain View|    C|   null|    null|     null|  null|      null|       null|                          null|                           null|         null|\n",
      "|91f9637a-cb8e-11e...|            Roterdam| null|   null|    null|     null|  null|      null|       null|                          null|                           null|         null|\n",
      "|014c81d4-cb8f-11e...|Terrassa (Barcelona)| null|   null|    null|     null|  null|      null|       null|                          null|                           null|         null|\n",
      "|9e53a240-09bc-11e...|           Guandgong| null|   null|    null|     null|  null|      null|       null|                          null|                           null|         null|\n",
      "|d58fff60-09be-11e...|Verreries-de-Mous...| null|   null|    null|     null|  null|      null|       null|                          null|                           null|         null|\n",
      "|081590cf-cb8f-11e...|            New York|    N|   null|    null|     null|  null|      null|       null|                          null|                           null|         null|\n",
      "|a8bfae92-cb8f-11e...|           Yorkshire| null|   null|    null|     null|  null|      null|       null|                          null|                           null|         null|\n",
      "|b69dd8ec-cb8f-11e...|    Misssissauga, ON| null|   null|    null|     null|  null|      null|       null|                          null|                           null|         null|\n",
      "|20a11c19-cb8f-11e...|                Hole|   DK|   null|    null|     null|  null|      null|       null|                          null|                           null|         null|\n",
      "|3f258a86-cb8f-11e...|             Memphis|   NT|   null|    null|     null|  null|      null|       null|                          null|                           null|         null|\n",
      "|7d723c81-cb90-11e...|                  IA| null|   null|    null|     null|  null|      null|       null|                          null|                           null|         null|\n",
      "|e6e1b950-cb8f-11e...|             Nimegen| null|   null|    null|     null|  null|      null|       null|                          null|                           null|         null|\n",
      "|73f1845d-cb8e-11e...|                null| null|   null|    null|     null|  null|      null|       null|                          null|                           null|         null|\n",
      "|bc72cf71-cb8e-11e...|        West Rutland|   VY|   null|    null|     null|  null|      null|       null|                          null|                           null|         null|\n",
      "|847ac92f-cb8f-11e...|        Grand Cayman|   KZ|   null|    null|     null|  null|      null|       null|                          null|                           null|         null|\n",
      "|28093098-cb8f-11e...|Beijing City, P.R...| null|   null|    null|     null|  null|      null|       null|                          null|                           null|         null|\n",
      "|1eded904-09bd-11e...|          Landenburg| null|   null|    null|     null|  null|      null|       null|                          null|                           null|         null|\n",
      "|c1143f0c-cb8e-11e...|               Pahoa|   HA|   null|    null|     null|  null|      null|       null|                          null|                           null|         null|\n",
      "|bbbf1d5e-cb8e-11e...|               DUBAI| null|   null|    null|     null|  null|      null|       null|                          null|                           null|         null|\n",
      "|637b7e93-09bd-11e...|          Mongkok KL| null|   null|    null|     null|  null|      null|       null|                          null|                           null|         null|\n",
      "|87938ab1-cbae-11e...|      Port Charlotte|   FI|   null|    null|     null|  null|      null|       null|                          null|                           null|         null|\n",
      "|203a2e2c-cb8f-11e...|BOUIOGNE-BILLANCOURT|   FR|   null|    null|     null|  null|      null|       null|                          null|                           null|         null|\n",
      "|4760aedf-cb8f-11e...|             Ljungby| null|   null|    null|     null|  null|      null|       null|                          null|                           null|         null|\n",
      "|c74ec921-cb8e-11e...|               Truro|   NS|   null|    null|     null|  null|      null|       null|                          null|                           null|         null|\n",
      "|03aa0eee-cb8f-11e...|      Yubei District| null|   null|    null|     null|  null|      null|       null|                          null|                           null|         null|\n",
      "|b77bc741-cb8e-11e...|                   S| null|   null|    null|     null|  null|      null|       null|                          null|                           null|         null|\n",
      "|c5f4a942-cb8e-11e...|           Charlotte|   NS|   null|    null|     null|  null|      null|       null|                          null|                           null|         null|\n",
      "|2a7a7981-cb90-11e...|         Osakasayami| null|   null|    null|     null|  null|      null|       null|                          null|                           null|         null|\n",
      "|cb51f8c8-cb8e-11e...|             Houston|    T|   null|    null|     null|  null|      null|       null|                          null|                           null|         null|\n",
      "|9fa4b106-cbae-11e...|           Cape Town| null|   null|    null|     null|  null|      null|       null|                          null|                           null|         null|\n",
      "|297c8dc8-cb8f-11e...|           Sunnyvale|    C|   null|    null|     null|  null|      null|       null|                          null|                           null|         null|\n",
      "|21f0cb03-cb8f-11e...|Kumi, Kyeongsangb...| null|   null|    null|     null|  null|      null|       null|                          null|                           null|         null|\n",
      "|59447e8a-cbae-11e...|      Duino-Aurisina| null|   null|    null|     null|  null|      null|       null|                          null|                           null|         null|\n",
      "|c38fc748-cb8e-11e...|    Gyeongsangbuk-do| null|   null|    null|     null|  null|      null|       null|                          null|                           null|         null|\n",
      "|918a7179-cbae-11e...|  Ansan, Gyeonggi-Do| null|   null|    null|     null|  null|      null|       null|                          null|                           null|         null|\n",
      "|b0b15e9e-cb90-11e...|                  St| null|   null|    null|     null|  null|      null|       null|                          null|                           null|         null|\n",
      "|049b3c2d-09bd-11e...|        Keetmanstoop| null|   null|    null|     null|  null|      null|       null|                          null|                           null|         null|\n",
      "|9f084015-cbae-11e...|           Windsbach| null|   null|    null|     null|  null|      null|       null|                          null|                           null|         null|\n",
      "|33428081-cb8f-11e...|             Thurius| null|   null|    null|     null|  null|      null|       null|                          null|                           null|         null|\n",
      "|3cb80671-cb8e-11e...|                null| null|   null|    null|     null|  null|      null|       null|                          null|                           null|         null|\n",
      "|2c65f1bc-cb8f-11e...|CAPE TOWN WESTERN...|   SF|   null|    null|     null|  null|      null|       null|                          null|                           null|         null|\n",
      "|628e087d-cb8f-11e...|    Hayes, Middlesex|   UK|   null|    null|     null|  null|      null|       null|                          null|                           null|         null|\n",
      "|b1d0b6e7-cb8f-11e...|               Kessl| null|   null|    null|     null|  null|      null|       null|                          null|                           null|         null|\n",
      "|ca33e9da-cb8f-11e...|                  NJ| null|   null|    null|     null|  null|      null|       null|                          null|                           null|         null|\n",
      "|fb0bc3cb-cb8e-11e...|             Hungary| null|   null|    null|     null|  null|      null|       null|                          null|                           null|         null|\n",
      "|0730c945-09bd-11e...|     Kibbutz Yizrael| null|   null|    null|     null|  null|      null|       null|                          null|                           null|         null|\n",
      "|f0643fad-cb8e-11e...|    Minoh-shi, Osaka| null|   null|    null|     null|  null|      null|       null|                          null|                           null|         null|\n",
      "|5f305787-cb8f-11e...|            San Jose|    C|   null|    null|     null|  null|      null|       null|                          null|                           null|         null|\n",
      "|cbd48948-cb8e-11e...|            Karslbad| null|   null|    null|     null|  null|      null|       null|                          null|                           null|         null|\n",
      "|26aea366-cb8f-11e...|                Troy|    M|   null|    null|     null|  null|      null|       null|                          null|                           null|         null|\n",
      "|9aeb1e61-cbae-11e...|              Moscow| null|   null|    null|     null|  null|      null|       null|                          null|                           null|         null|\n",
      "|0c000cc1-09bd-11e...|Klein Windhoek, W...| null|   null|-22.5751|  17.1112|  null|      null|       null|                          null|                           null|         null|\n",
      "|7016551f-cb90-11e...|       Eveleigh, NSW| null|   null| 50.1424| -124.695|  null|      null|       null|                          null|                           null|         null|\n",
      "+--------------------+--------------------+-----+-------+--------+---------+------+----------+-----------+------------------------------+-------------------------------+-------------+"
     ]
    }
   ],
   "source": [
    "location_combined.filter(col('final_country').isNull()).show(100)"
   ]
  },
  {
   "cell_type": "code",
   "execution_count": 76,
   "id": "888a1250-8a44-40e9-9190-14a77b7cc6a9",
   "metadata": {
    "execution": {
     "iopub.execute_input": "2022-09-06T04:59:52.376664Z",
     "iopub.status.busy": "2022-09-06T04:59:52.376489Z",
     "iopub.status.idle": "2022-09-06T04:59:53.159282Z",
     "shell.execute_reply": "2022-09-06T04:59:53.158532Z",
     "shell.execute_reply.started": "2022-09-06T04:59:52.376642Z"
    },
    "tags": []
   },
   "outputs": [
    {
     "data": {
      "application/vnd.jupyter.widget-view+json": {
       "model_id": "ab1476bbeb0647078668777255b2883d",
       "version_major": 2,
       "version_minor": 0
      },
      "text/plain": [
       "VBox()"
      ]
     },
     "metadata": {},
     "output_type": "display_data"
    },
    {
     "data": {
      "application/vnd.jupyter.widget-view+json": {
       "model_id": "",
       "version_major": 2,
       "version_minor": 0
      },
      "text/plain": [
       "FloatProgress(value=0.0, bar_style='info', description='Progress:', layout=Layout(height='25px', width='50%'),…"
      ]
     },
     "metadata": {},
     "output_type": "display_data"
    },
    {
     "name": "stdout",
     "output_type": "stream",
     "text": [
      "242926"
     ]
    }
   ],
   "source": [
    "location_combined.count()"
   ]
  },
  {
   "cell_type": "code",
   "execution_count": 45,
   "id": "dd0395a9-1079-4389-a48a-afc963596921",
   "metadata": {
    "execution": {
     "iopub.execute_input": "2022-09-07T11:03:53.135785Z",
     "iopub.status.busy": "2022-09-07T11:03:53.135550Z",
     "iopub.status.idle": "2022-09-07T11:03:53.395456Z",
     "shell.execute_reply": "2022-09-07T11:03:53.394895Z",
     "shell.execute_reply.started": "2022-09-07T11:03:53.135760Z"
    },
    "tags": []
   },
   "outputs": [
    {
     "data": {
      "application/vnd.jupyter.widget-view+json": {
       "model_id": "b6c9e05b2f2e459ea9ca7512d8261db7",
       "version_major": 2,
       "version_minor": 0
      },
      "text/plain": [
       "VBox()"
      ]
     },
     "metadata": {},
     "output_type": "display_data"
    },
    {
     "data": {
      "application/vnd.jupyter.widget-view+json": {
       "model_id": "",
       "version_major": 2,
       "version_minor": 0
      },
      "text/plain": [
       "FloatProgress(value=0.0, bar_style='info', description='Progress:', layout=Layout(height='25px', width='50%'),…"
      ]
     },
     "metadata": {},
     "output_type": "display_data"
    }
   ],
   "source": [
    "location_combined2 = location_combined.join(country_info, (location_combined.final_country == country_info.ISO),\"left\").drop(location.country)"
   ]
  },
  {
   "cell_type": "code",
   "execution_count": 46,
   "id": "651d5727-f8a6-47ac-975b-66f9de37f0ed",
   "metadata": {
    "execution": {
     "iopub.execute_input": "2022-09-07T11:03:54.431399Z",
     "iopub.status.busy": "2022-09-07T11:03:54.431183Z",
     "iopub.status.idle": "2022-09-07T11:03:56.722638Z",
     "shell.execute_reply": "2022-09-07T11:03:56.714481Z",
     "shell.execute_reply.started": "2022-09-07T11:03:54.431375Z"
    },
    "tags": []
   },
   "outputs": [
    {
     "data": {
      "application/vnd.jupyter.widget-view+json": {
       "model_id": "0522ec595c604f08a0d3a40b69e67875",
       "version_major": 2,
       "version_minor": 0
      },
      "text/plain": [
       "VBox()"
      ]
     },
     "metadata": {},
     "output_type": "display_data"
    },
    {
     "data": {
      "application/vnd.jupyter.widget-view+json": {
       "model_id": "",
       "version_major": 2,
       "version_minor": 0
      },
      "text/plain": [
       "FloatProgress(value=0.0, bar_style='info', description='Progress:', layout=Layout(height='25px', width='50%'),…"
      ]
     },
     "metadata": {},
     "output_type": "display_data"
    },
    {
     "name": "stdout",
     "output_type": "stream",
     "text": [
      "3387"
     ]
    }
   ],
   "source": [
    "location_combined2.filter(col(\"Country\").isNull()).count()"
   ]
  },
  {
   "cell_type": "code",
   "execution_count": 47,
   "id": "3cad33d1-c556-475b-aeaa-50480ee92044",
   "metadata": {
    "execution": {
     "iopub.execute_input": "2022-09-07T11:04:05.907296Z",
     "iopub.status.busy": "2022-09-07T11:04:05.907049Z",
     "iopub.status.idle": "2022-09-07T11:04:08.211913Z",
     "shell.execute_reply": "2022-09-07T11:04:08.211304Z",
     "shell.execute_reply.started": "2022-09-07T11:04:05.907271Z"
    },
    "tags": []
   },
   "outputs": [
    {
     "data": {
      "application/vnd.jupyter.widget-view+json": {
       "model_id": "fd4f01e5347748d1a43261d9de3e7c73",
       "version_major": 2,
       "version_minor": 0
      },
      "text/plain": [
       "VBox()"
      ]
     },
     "metadata": {},
     "output_type": "display_data"
    },
    {
     "data": {
      "application/vnd.jupyter.widget-view+json": {
       "model_id": "",
       "version_major": 2,
       "version_minor": 0
      },
      "text/plain": [
       "FloatProgress(value=0.0, bar_style='info', description='Progress:', layout=Layout(height='25px', width='50%'),…"
      ]
     },
     "metadata": {},
     "output_type": "display_data"
    },
    {
     "name": "stdout",
     "output_type": "stream",
     "text": [
      "+-------------+-----+\n",
      "|final_country|count|\n",
      "+-------------+-----+\n",
      "|           SU| 1133|\n",
      "|           DT|  700|\n",
      "|           JA|  276|\n",
      "|           EN|  199|\n",
      "|           UK|  176|\n",
      "|           YU|  172|\n",
      "|           un|  137|\n",
      "|           SW|  125|\n",
      "|           DD|  123|\n",
      "|         null|   53|\n",
      "|           SF|   37|\n",
      "|           OE|   35|\n",
      "|           PO|   21|\n",
      "|           WA|   19|\n",
      "|           NY|   14|\n",
      "|           EI|   11|\n",
      "|           DL|   10|\n",
      "|           FL|   10|\n",
      "|           TX|    8|\n",
      "|           CT|    8|\n",
      "+-------------+-----+\n",
      "only showing top 20 rows"
     ]
    }
   ],
   "source": [
    "location_combined2.filter(col(\"Country\").isNull()).groupby(\"final_country\").count().orderBy(col(\"count\").desc()).show()"
   ]
  },
  {
   "cell_type": "code",
   "execution_count": 48,
   "id": "040ac125-6641-4c8e-aaf3-93ed324a8555",
   "metadata": {
    "execution": {
     "iopub.execute_input": "2022-09-07T11:04:11.043795Z",
     "iopub.status.busy": "2022-09-07T11:04:11.043495Z",
     "iopub.status.idle": "2022-09-07T11:04:11.106984Z",
     "shell.execute_reply": "2022-09-07T11:04:11.106284Z",
     "shell.execute_reply.started": "2022-09-07T11:04:11.043761Z"
    },
    "tags": []
   },
   "outputs": [
    {
     "data": {
      "application/vnd.jupyter.widget-view+json": {
       "model_id": "dcb9ccc8476a49bfb7ce20003911a1eb",
       "version_major": 2,
       "version_minor": 0
      },
      "text/plain": [
       "VBox()"
      ]
     },
     "metadata": {},
     "output_type": "display_data"
    },
    {
     "data": {
      "application/vnd.jupyter.widget-view+json": {
       "model_id": "",
       "version_major": 2,
       "version_minor": 0
      },
      "text/plain": [
       "FloatProgress(value=0.0, bar_style='info', description='Progress:', layout=Layout(height='25px', width='50%'),…"
      ]
     },
     "metadata": {},
     "output_type": "display_data"
    }
   ],
   "source": [
    "data = [('SU', 'Soviet Union', 'EU'),('DT', 'Germany', 'EU'),('JA', 'Japan', 'AS'),('EN', 'United Kingdom', 'EU'),('UK', 'United Kingdom', 'EU'),('YU','Yugoslavia', 'EU'), ('SW','Sweden', 'EU'), ('DD','Germany', 'EU')]"
   ]
  },
  {
   "cell_type": "code",
   "execution_count": 49,
   "id": "bb300f51-4f94-4012-b346-c545f3273291",
   "metadata": {
    "execution": {
     "iopub.execute_input": "2022-09-07T11:04:11.462725Z",
     "iopub.status.busy": "2022-09-07T11:04:11.462498Z",
     "iopub.status.idle": "2022-09-07T11:04:11.518298Z",
     "shell.execute_reply": "2022-09-07T11:04:11.517784Z",
     "shell.execute_reply.started": "2022-09-07T11:04:11.462702Z"
    },
    "tags": []
   },
   "outputs": [
    {
     "data": {
      "application/vnd.jupyter.widget-view+json": {
       "model_id": "e4e64a551f10453783d34e50b44c938b",
       "version_major": 2,
       "version_minor": 0
      },
      "text/plain": [
       "VBox()"
      ]
     },
     "metadata": {},
     "output_type": "display_data"
    },
    {
     "data": {
      "application/vnd.jupyter.widget-view+json": {
       "model_id": "",
       "version_major": 2,
       "version_minor": 0
      },
      "text/plain": [
       "FloatProgress(value=0.0, bar_style='info', description='Progress:', layout=Layout(height='25px', width='50%'),…"
      ]
     },
     "metadata": {},
     "output_type": "display_data"
    }
   ],
   "source": [
    "columns = [\"code\", \"country_based_on_code\", \"continent_based_on_code\"]"
   ]
  },
  {
   "cell_type": "code",
   "execution_count": 50,
   "id": "a1934456-0e83-4178-b96b-0fff2427fe78",
   "metadata": {
    "execution": {
     "iopub.execute_input": "2022-09-07T11:04:11.746302Z",
     "iopub.status.busy": "2022-09-07T11:04:11.746113Z",
     "iopub.status.idle": "2022-09-07T11:04:12.017514Z",
     "shell.execute_reply": "2022-09-07T11:04:12.016949Z",
     "shell.execute_reply.started": "2022-09-07T11:04:11.746281Z"
    },
    "tags": []
   },
   "outputs": [
    {
     "data": {
      "application/vnd.jupyter.widget-view+json": {
       "model_id": "949c34c5f45f4e00a7e7333129a89f3f",
       "version_major": 2,
       "version_minor": 0
      },
      "text/plain": [
       "VBox()"
      ]
     },
     "metadata": {},
     "output_type": "display_data"
    },
    {
     "data": {
      "application/vnd.jupyter.widget-view+json": {
       "model_id": "",
       "version_major": 2,
       "version_minor": 0
      },
      "text/plain": [
       "FloatProgress(value=0.0, bar_style='info', description='Progress:', layout=Layout(height='25px', width='50%'),…"
      ]
     },
     "metadata": {},
     "output_type": "display_data"
    }
   ],
   "source": [
    "additional_code = spark.createDataFrame(data=data, schema=columns)"
   ]
  },
  {
   "cell_type": "code",
   "execution_count": 51,
   "id": "b8de1cba-60b3-4f4b-af35-9740a4f9e09c",
   "metadata": {
    "execution": {
     "iopub.execute_input": "2022-09-07T11:04:14.172473Z",
     "iopub.status.busy": "2022-09-07T11:04:14.172244Z",
     "iopub.status.idle": "2022-09-07T11:04:14.224038Z",
     "shell.execute_reply": "2022-09-07T11:04:14.223434Z",
     "shell.execute_reply.started": "2022-09-07T11:04:14.172450Z"
    },
    "tags": []
   },
   "outputs": [
    {
     "data": {
      "application/vnd.jupyter.widget-view+json": {
       "model_id": "ff1fa6e0f6694af5adacf415186ae9dc",
       "version_major": 2,
       "version_minor": 0
      },
      "text/plain": [
       "VBox()"
      ]
     },
     "metadata": {},
     "output_type": "display_data"
    },
    {
     "data": {
      "application/vnd.jupyter.widget-view+json": {
       "model_id": "",
       "version_major": 2,
       "version_minor": 0
      },
      "text/plain": [
       "FloatProgress(value=0.0, bar_style='info', description='Progress:', layout=Layout(height='25px', width='50%'),…"
      ]
     },
     "metadata": {},
     "output_type": "display_data"
    },
    {
     "name": "stdout",
     "output_type": "stream",
     "text": [
      "root\n",
      " |-- code: string (nullable = true)\n",
      " |-- country_based_on_code: string (nullable = true)\n",
      " |-- continent_based_on_code: string (nullable = true)"
     ]
    }
   ],
   "source": [
    "additional_code.printSchema()"
   ]
  },
  {
   "cell_type": "code",
   "execution_count": 54,
   "id": "3cecf91c-60d1-46fa-8109-a98489c51217",
   "metadata": {
    "execution": {
     "iopub.execute_input": "2022-09-07T11:04:54.108520Z",
     "iopub.status.busy": "2022-09-07T11:04:54.108270Z",
     "iopub.status.idle": "2022-09-07T11:04:54.379903Z",
     "shell.execute_reply": "2022-09-07T11:04:54.379329Z",
     "shell.execute_reply.started": "2022-09-07T11:04:54.108484Z"
    },
    "tags": []
   },
   "outputs": [
    {
     "data": {
      "application/vnd.jupyter.widget-view+json": {
       "model_id": "6fd04dcc01f340ecb879efeff9645066",
       "version_major": 2,
       "version_minor": 0
      },
      "text/plain": [
       "VBox()"
      ]
     },
     "metadata": {},
     "output_type": "display_data"
    },
    {
     "data": {
      "application/vnd.jupyter.widget-view+json": {
       "model_id": "",
       "version_major": 2,
       "version_minor": 0
      },
      "text/plain": [
       "FloatProgress(value=0.0, bar_style='info', description='Progress:', layout=Layout(height='25px', width='50%'),…"
      ]
     },
     "metadata": {},
     "output_type": "display_data"
    }
   ],
   "source": [
    "location_combined3 = location_combined2.join(additional_code, location_combined2.final_country == additional_code.code, \"left\").drop(additional_code.code)"
   ]
  },
  {
   "cell_type": "code",
   "execution_count": 55,
   "id": "37a8fac9-21e6-43b3-b566-7ed75bc69744",
   "metadata": {
    "execution": {
     "iopub.execute_input": "2022-09-07T11:04:55.149348Z",
     "iopub.status.busy": "2022-09-07T11:04:55.149128Z",
     "iopub.status.idle": "2022-09-07T11:04:58.467343Z",
     "shell.execute_reply": "2022-09-07T11:04:58.466718Z",
     "shell.execute_reply.started": "2022-09-07T11:04:55.149323Z"
    },
    "tags": []
   },
   "outputs": [
    {
     "data": {
      "application/vnd.jupyter.widget-view+json": {
       "model_id": "5c6913085b9e45d39862dafcf0c083f8",
       "version_major": 2,
       "version_minor": 0
      },
      "text/plain": [
       "VBox()"
      ]
     },
     "metadata": {},
     "output_type": "display_data"
    },
    {
     "data": {
      "application/vnd.jupyter.widget-view+json": {
       "model_id": "",
       "version_major": 2,
       "version_minor": 0
      },
      "text/plain": [
       "FloatProgress(value=0.0, bar_style='info', description='Progress:', layout=Layout(height='25px', width='50%'),…"
      ]
     },
     "metadata": {},
     "output_type": "display_data"
    },
    {
     "name": "stdout",
     "output_type": "stream",
     "text": [
      "242926"
     ]
    }
   ],
   "source": [
    "location_combined3.count()"
   ]
  },
  {
   "cell_type": "code",
   "execution_count": 56,
   "id": "637e3d84-a315-4f31-8748-cb2026fd4a4e",
   "metadata": {
    "execution": {
     "iopub.execute_input": "2022-09-07T11:05:00.300331Z",
     "iopub.status.busy": "2022-09-07T11:05:00.300095Z",
     "iopub.status.idle": "2022-09-07T11:05:00.356224Z",
     "shell.execute_reply": "2022-09-07T11:05:00.355685Z",
     "shell.execute_reply.started": "2022-09-07T11:05:00.300295Z"
    },
    "tags": []
   },
   "outputs": [
    {
     "data": {
      "application/vnd.jupyter.widget-view+json": {
       "model_id": "d9e1bf93fa7d42aa971483abdeda11d3",
       "version_major": 2,
       "version_minor": 0
      },
      "text/plain": [
       "VBox()"
      ]
     },
     "metadata": {},
     "output_type": "display_data"
    },
    {
     "data": {
      "application/vnd.jupyter.widget-view+json": {
       "model_id": "",
       "version_major": 2,
       "version_minor": 0
      },
      "text/plain": [
       "FloatProgress(value=0.0, bar_style='info', description='Progress:', layout=Layout(height='25px', width='50%'),…"
      ]
     },
     "metadata": {},
     "output_type": "display_data"
    }
   ],
   "source": [
    "def consolidate_place_col(place, place_based_on_code):\n",
    "    if place:\n",
    "        return place\n",
    "    if place_based_on_code:\n",
    "        return place_based_on_code\n",
    "    return None"
   ]
  },
  {
   "cell_type": "code",
   "execution_count": 57,
   "id": "f89087ba-8f5c-40ac-894d-67f7af211c95",
   "metadata": {
    "execution": {
     "iopub.execute_input": "2022-09-07T11:05:00.623578Z",
     "iopub.status.busy": "2022-09-07T11:05:00.621473Z",
     "iopub.status.idle": "2022-09-07T11:05:00.834826Z",
     "shell.execute_reply": "2022-09-07T11:05:00.834120Z",
     "shell.execute_reply.started": "2022-09-07T11:05:00.623549Z"
    },
    "tags": []
   },
   "outputs": [
    {
     "data": {
      "application/vnd.jupyter.widget-view+json": {
       "model_id": "8eb418896ba74ddd966cfca4da4eb5b8",
       "version_major": 2,
       "version_minor": 0
      },
      "text/plain": [
       "VBox()"
      ]
     },
     "metadata": {},
     "output_type": "display_data"
    },
    {
     "data": {
      "application/vnd.jupyter.widget-view+json": {
       "model_id": "",
       "version_major": 2,
       "version_minor": 0
      },
      "text/plain": [
       "FloatProgress(value=0.0, bar_style='info', description='Progress:', layout=Layout(height='25px', width='50%'),…"
      ]
     },
     "metadata": {},
     "output_type": "display_data"
    }
   ],
   "source": [
    "consolidate_place_col_udf = udf(consolidate_place_col, StringType())"
   ]
  },
  {
   "cell_type": "code",
   "execution_count": 58,
   "id": "23f61f26-cd93-4e25-a6d6-17de2dff868c",
   "metadata": {
    "execution": {
     "iopub.execute_input": "2022-09-07T11:05:23.806229Z",
     "iopub.status.busy": "2022-09-07T11:05:23.805982Z",
     "iopub.status.idle": "2022-09-07T11:05:24.070469Z",
     "shell.execute_reply": "2022-09-07T11:05:24.069849Z",
     "shell.execute_reply.started": "2022-09-07T11:05:23.806204Z"
    },
    "tags": []
   },
   "outputs": [
    {
     "data": {
      "application/vnd.jupyter.widget-view+json": {
       "model_id": "c553f8ea80eb44c5bd7081cc538142a0",
       "version_major": 2,
       "version_minor": 0
      },
      "text/plain": [
       "VBox()"
      ]
     },
     "metadata": {},
     "output_type": "display_data"
    },
    {
     "data": {
      "application/vnd.jupyter.widget-view+json": {
       "model_id": "",
       "version_major": 2,
       "version_minor": 0
      },
      "text/plain": [
       "FloatProgress(value=0.0, bar_style='info', description='Progress:', layout=Layout(height='25px', width='50%'),…"
      ]
     },
     "metadata": {},
     "output_type": "display_data"
    }
   ],
   "source": [
    "location_combined4 = location_combined3.withColumn(\"new_country\", consolidate_place_col_udf(\"Country\",\"country_based_on_code\"))"
   ]
  },
  {
   "cell_type": "code",
   "execution_count": 59,
   "id": "f871b40d-544d-441f-8eb2-d97e3616e5b1",
   "metadata": {
    "execution": {
     "iopub.execute_input": "2022-09-07T11:05:24.978338Z",
     "iopub.status.busy": "2022-09-07T11:05:24.978093Z",
     "iopub.status.idle": "2022-09-07T11:05:25.259968Z",
     "shell.execute_reply": "2022-09-07T11:05:25.259403Z",
     "shell.execute_reply.started": "2022-09-07T11:05:24.978311Z"
    },
    "tags": []
   },
   "outputs": [
    {
     "data": {
      "application/vnd.jupyter.widget-view+json": {
       "model_id": "194114abc156417bb608ad256c0596ef",
       "version_major": 2,
       "version_minor": 0
      },
      "text/plain": [
       "VBox()"
      ]
     },
     "metadata": {},
     "output_type": "display_data"
    },
    {
     "data": {
      "application/vnd.jupyter.widget-view+json": {
       "model_id": "",
       "version_major": 2,
       "version_minor": 0
      },
      "text/plain": [
       "FloatProgress(value=0.0, bar_style='info', description='Progress:', layout=Layout(height='25px', width='50%'),…"
      ]
     },
     "metadata": {},
     "output_type": "display_data"
    }
   ],
   "source": [
    "location_combined5 = location_combined4.withColumn(\"new_continent\", consolidate_place_col_udf(\"Continent\",\"continent_based_on_code\"))"
   ]
  },
  {
   "cell_type": "code",
   "execution_count": 60,
   "id": "10559ddd-f431-42e3-bb2c-c672d04a2a49",
   "metadata": {
    "execution": {
     "iopub.execute_input": "2022-09-07T11:05:48.839674Z",
     "iopub.status.busy": "2022-09-07T11:05:48.839443Z",
     "iopub.status.idle": "2022-09-07T11:05:48.898343Z",
     "shell.execute_reply": "2022-09-07T11:05:48.897781Z",
     "shell.execute_reply.started": "2022-09-07T11:05:48.839648Z"
    }
   },
   "outputs": [
    {
     "data": {
      "application/vnd.jupyter.widget-view+json": {
       "model_id": "65b30c4531de49aa8519c76d291f4ec7",
       "version_major": 2,
       "version_minor": 0
      },
      "text/plain": [
       "VBox()"
      ]
     },
     "metadata": {},
     "output_type": "display_data"
    },
    {
     "data": {
      "application/vnd.jupyter.widget-view+json": {
       "model_id": "",
       "version_major": 2,
       "version_minor": 0
      },
      "text/plain": [
       "FloatProgress(value=0.0, bar_style='info', description='Progress:', layout=Layout(height='25px', width='50%'),…"
      ]
     },
     "metadata": {},
     "output_type": "display_data"
    },
    {
     "name": "stdout",
     "output_type": "stream",
     "text": [
      "root\n",
      " |-- id: string (nullable = true)\n",
      " |-- city: string (nullable = true)\n",
      " |-- state: string (nullable = true)\n",
      " |-- latitude: double (nullable = true)\n",
      " |-- longitude: double (nullable = true)\n",
      " |-- county: string (nullable = true)\n",
      " |-- state_fips: double (nullable = true)\n",
      " |-- county_fips: integer (nullable = true)\n",
      " |-- derived_country_based_on_state: string (nullable = true)\n",
      " |-- derived_country_based_on_latlon: string (nullable = true)\n",
      " |-- final_country: string (nullable = true)\n",
      " |-- ISO: string (nullable = true)\n",
      " |-- ISO3: string (nullable = true)\n",
      " |-- ISO-Numeric: integer (nullable = true)\n",
      " |-- fips: string (nullable = true)\n",
      " |-- Country: string (nullable = true)\n",
      " |-- Capital: string (nullable = true)\n",
      " |-- Area(in sq km): double (nullable = true)\n",
      " |-- Population: integer (nullable = true)\n",
      " |-- Continent: string (nullable = true)\n",
      " |-- tld: string (nullable = true)\n",
      " |-- CurrencyCode: string (nullable = true)\n",
      " |-- CurrencyName: string (nullable = true)\n",
      " |-- Phone: string (nullable = true)\n",
      " |-- Postal Code Format: string (nullable = true)\n",
      " |-- Postal Code Regex: string (nullable = true)\n",
      " |-- Languages: string (nullable = true)\n",
      " |-- geonameid: integer (nullable = true)\n",
      " |-- neighbours: string (nullable = true)\n",
      " |-- EquivalentFipsCode: string (nullable = true)\n",
      " |-- country_based_on_code: string (nullable = true)\n",
      " |-- continent_based_on_code: string (nullable = true)\n",
      " |-- new_country: string (nullable = true)\n",
      " |-- new_continent: string (nullable = true)"
     ]
    }
   ],
   "source": [
    "location_combined5.printSchema()"
   ]
  },
  {
   "cell_type": "code",
   "execution_count": 62,
   "id": "f675bfdc-fc55-4af6-829a-d869930491da",
   "metadata": {
    "execution": {
     "iopub.execute_input": "2022-09-07T11:06:49.516533Z",
     "iopub.status.busy": "2022-09-07T11:06:49.516295Z",
     "iopub.status.idle": "2022-09-07T11:06:51.812286Z",
     "shell.execute_reply": "2022-09-07T11:06:51.811625Z",
     "shell.execute_reply.started": "2022-09-07T11:06:49.516506Z"
    },
    "tags": []
   },
   "outputs": [
    {
     "data": {
      "application/vnd.jupyter.widget-view+json": {
       "model_id": "86c0a128bc4349fb917cfff2cfd2e4c8",
       "version_major": 2,
       "version_minor": 0
      },
      "text/plain": [
       "VBox()"
      ]
     },
     "metadata": {},
     "output_type": "display_data"
    },
    {
     "data": {
      "application/vnd.jupyter.widget-view+json": {
       "model_id": "",
       "version_major": 2,
       "version_minor": 0
      },
      "text/plain": [
       "FloatProgress(value=0.0, bar_style='info', description='Progress:', layout=Layout(height='25px', width='50%'),…"
      ]
     },
     "metadata": {},
     "output_type": "display_data"
    },
    {
     "name": "stdout",
     "output_type": "stream",
     "text": [
      "483"
     ]
    }
   ],
   "source": [
    "location_combined5.filter(col('new_country').isNull()).count()"
   ]
  },
  {
   "cell_type": "code",
   "execution_count": 63,
   "id": "8bbc76a6-4474-4a32-adc8-a2b0ce960a11",
   "metadata": {
    "execution": {
     "iopub.execute_input": "2022-09-07T11:07:34.416359Z",
     "iopub.status.busy": "2022-09-07T11:07:34.416099Z",
     "iopub.status.idle": "2022-09-07T11:07:34.491521Z",
     "shell.execute_reply": "2022-09-07T11:07:34.490841Z",
     "shell.execute_reply.started": "2022-09-07T11:07:34.416333Z"
    }
   },
   "outputs": [
    {
     "data": {
      "application/vnd.jupyter.widget-view+json": {
       "model_id": "cb9d338e79844e09a644f4550ef3f06d",
       "version_major": 2,
       "version_minor": 0
      },
      "text/plain": [
       "VBox()"
      ]
     },
     "metadata": {},
     "output_type": "display_data"
    },
    {
     "data": {
      "application/vnd.jupyter.widget-view+json": {
       "model_id": "",
       "version_major": 2,
       "version_minor": 0
      },
      "text/plain": [
       "FloatProgress(value=0.0, bar_style='info', description='Progress:', layout=Layout(height='25px', width='50%'),…"
      ]
     },
     "metadata": {},
     "output_type": "display_data"
    }
   ],
   "source": [
    "location_combined6 = location_combined5.select(\"id\", \"new_country\", \"new_continent\")"
   ]
  },
  {
   "cell_type": "markdown",
   "id": "f13a65e3-a706-4665-bd6d-8cebdd940b86",
   "metadata": {},
   "source": [
    "### Create unique ID for country"
   ]
  },
  {
   "cell_type": "code",
   "execution_count": 64,
   "id": "012ef0ff-7afe-4ead-bb76-6b401879a1a4",
   "metadata": {
    "execution": {
     "iopub.execute_input": "2022-09-07T11:08:01.896445Z",
     "iopub.status.busy": "2022-09-07T11:08:01.896203Z",
     "iopub.status.idle": "2022-09-07T11:08:02.159930Z",
     "shell.execute_reply": "2022-09-07T11:08:02.159365Z",
     "shell.execute_reply.started": "2022-09-07T11:08:01.896419Z"
    },
    "tags": []
   },
   "outputs": [
    {
     "data": {
      "application/vnd.jupyter.widget-view+json": {
       "model_id": "19d8eeaa230746e295b1d57e2376a1f0",
       "version_major": 2,
       "version_minor": 0
      },
      "text/plain": [
       "VBox()"
      ]
     },
     "metadata": {},
     "output_type": "display_data"
    },
    {
     "data": {
      "application/vnd.jupyter.widget-view+json": {
       "model_id": "",
       "version_major": 2,
       "version_minor": 0
      },
      "text/plain": [
       "FloatProgress(value=0.0, bar_style='info', description='Progress:', layout=Layout(height='25px', width='50%'),…"
      ]
     },
     "metadata": {},
     "output_type": "display_data"
    }
   ],
   "source": [
    "location_with_country_id = location_combined6.groupBy(\"new_country\").count().withColumn(\"new_id\", sha2(col(\"new_country\"),256)).select([\"new_country\",\"new_id\"])"
   ]
  },
  {
   "cell_type": "code",
   "execution_count": 65,
   "id": "68c6032d-d009-4da2-aef4-d1621d1481d2",
   "metadata": {
    "execution": {
     "iopub.execute_input": "2022-09-07T11:08:02.817454Z",
     "iopub.status.busy": "2022-09-07T11:08:02.817229Z",
     "iopub.status.idle": "2022-09-07T11:08:02.873984Z",
     "shell.execute_reply": "2022-09-07T11:08:02.873425Z",
     "shell.execute_reply.started": "2022-09-07T11:08:02.817430Z"
    },
    "tags": []
   },
   "outputs": [
    {
     "data": {
      "application/vnd.jupyter.widget-view+json": {
       "model_id": "08875c81de4b41d5bb23a0d8f21cc252",
       "version_major": 2,
       "version_minor": 0
      },
      "text/plain": [
       "VBox()"
      ]
     },
     "metadata": {},
     "output_type": "display_data"
    },
    {
     "data": {
      "application/vnd.jupyter.widget-view+json": {
       "model_id": "",
       "version_major": 2,
       "version_minor": 0
      },
      "text/plain": [
       "FloatProgress(value=0.0, bar_style='info', description='Progress:', layout=Layout(height='25px', width='50%'),…"
      ]
     },
     "metadata": {},
     "output_type": "display_data"
    },
    {
     "name": "stdout",
     "output_type": "stream",
     "text": [
      "root\n",
      " |-- new_country: string (nullable = true)\n",
      " |-- new_id: string (nullable = true)"
     ]
    }
   ],
   "source": [
    "location_with_country_id.printSchema()"
   ]
  },
  {
   "cell_type": "code",
   "execution_count": 66,
   "id": "f48c6c98-3fda-402a-9835-c86324ecc5bf",
   "metadata": {
    "execution": {
     "iopub.execute_input": "2022-09-07T11:08:17.437640Z",
     "iopub.status.busy": "2022-09-07T11:08:17.437422Z",
     "iopub.status.idle": "2022-09-07T11:08:19.760194Z",
     "shell.execute_reply": "2022-09-07T11:08:19.758944Z",
     "shell.execute_reply.started": "2022-09-07T11:08:17.437616Z"
    },
    "tags": []
   },
   "outputs": [
    {
     "data": {
      "application/vnd.jupyter.widget-view+json": {
       "model_id": "213f6b876da849b19f022186696fd9a4",
       "version_major": 2,
       "version_minor": 0
      },
      "text/plain": [
       "VBox()"
      ]
     },
     "metadata": {},
     "output_type": "display_data"
    },
    {
     "data": {
      "application/vnd.jupyter.widget-view+json": {
       "model_id": "",
       "version_major": 2,
       "version_minor": 0
      },
      "text/plain": [
       "FloatProgress(value=0.0, bar_style='info', description='Progress:', layout=Layout(height='25px', width='50%'),…"
      ]
     },
     "metadata": {},
     "output_type": "display_data"
    },
    {
     "name": "stdout",
     "output_type": "stream",
     "text": [
      "+-----------+------+\n",
      "|new_country|new_id|\n",
      "+-----------+------+\n",
      "|       null|  null|\n",
      "+-----------+------+"
     ]
    }
   ],
   "source": [
    "location_with_country_id.filter(col(\"new_country\").isNull()).show(100)"
   ]
  },
  {
   "cell_type": "code",
   "execution_count": 67,
   "id": "1e5b6662-4dc1-424d-986e-f215fc81e123",
   "metadata": {
    "execution": {
     "iopub.execute_input": "2022-09-07T11:08:57.732891Z",
     "iopub.status.busy": "2022-09-07T11:08:57.732660Z",
     "iopub.status.idle": "2022-09-07T11:08:58.008505Z",
     "shell.execute_reply": "2022-09-07T11:08:58.007877Z",
     "shell.execute_reply.started": "2022-09-07T11:08:57.732867Z"
    },
    "tags": []
   },
   "outputs": [
    {
     "data": {
      "application/vnd.jupyter.widget-view+json": {
       "model_id": "03511ad6f076416abc4ddaec6d619379",
       "version_major": 2,
       "version_minor": 0
      },
      "text/plain": [
       "VBox()"
      ]
     },
     "metadata": {},
     "output_type": "display_data"
    },
    {
     "data": {
      "application/vnd.jupyter.widget-view+json": {
       "model_id": "",
       "version_major": 2,
       "version_minor": 0
      },
      "text/plain": [
       "FloatProgress(value=0.0, bar_style='info', description='Progress:', layout=Layout(height='25px', width='50%'),…"
      ]
     },
     "metadata": {},
     "output_type": "display_data"
    }
   ],
   "source": [
    "location_combined7 = location_combined6.join(location_with_country_id, (location_with_country_id.new_country == location_combined6.new_country),\"left\").drop(location_with_country_id.new_country)"
   ]
  },
  {
   "cell_type": "code",
   "execution_count": 73,
   "id": "79a3678e-0871-4f82-a442-9436957913d8",
   "metadata": {
    "execution": {
     "iopub.execute_input": "2022-09-07T11:10:58.299830Z",
     "iopub.status.busy": "2022-09-07T11:10:58.299600Z",
     "iopub.status.idle": "2022-09-07T11:11:03.624205Z",
     "shell.execute_reply": "2022-09-07T11:11:03.623558Z",
     "shell.execute_reply.started": "2022-09-07T11:10:58.299804Z"
    },
    "tags": []
   },
   "outputs": [
    {
     "data": {
      "application/vnd.jupyter.widget-view+json": {
       "model_id": "0e0e3e78f7104e009ea558ae8551cef1",
       "version_major": 2,
       "version_minor": 0
      },
      "text/plain": [
       "VBox()"
      ]
     },
     "metadata": {},
     "output_type": "display_data"
    },
    {
     "data": {
      "application/vnd.jupyter.widget-view+json": {
       "model_id": "",
       "version_major": 2,
       "version_minor": 0
      },
      "text/plain": [
       "FloatProgress(value=0.0, bar_style='info', description='Progress:', layout=Layout(height='25px', width='50%'),…"
      ]
     },
     "metadata": {},
     "output_type": "display_data"
    },
    {
     "name": "stdout",
     "output_type": "stream",
     "text": [
      "+--------------------+-------------+-----------+--------------------+\n",
      "|                  id|new_continent|new_country|              new_id|\n",
      "+--------------------+-------------+-----------+--------------------+\n",
      "|7674c183-cb8f-11e...|           EU|    Albania|1af00b874ff318302...|\n",
      "|9fceef4b-cbae-11e...|           EU|    Albania|1af00b874ff318302...|\n",
      "|9940293b-cb90-11e...|           EU|    Albania|1af00b874ff318302...|\n",
      "|cf759404-cb90-11e...|           EU|    Albania|1af00b874ff318302...|\n",
      "|9970d12b-cbae-11e...|           EU|    Albania|1af00b874ff318302...|\n",
      "|cb4161f3-09be-11e...|           EU|    Albania|1af00b874ff318302...|\n",
      "|1edbbf10-cb91-11e...|           EU|    Albania|1af00b874ff318302...|\n",
      "|8b0b08a1-cbae-11e...|           EU|    Albania|1af00b874ff318302...|\n",
      "|a50da84f-cb8f-11e...|           EU|    Albania|1af00b874ff318302...|\n",
      "|77b836a0-cbae-11e...|           EU|    Albania|1af00b874ff318302...|\n",
      "|af7951c2-cb8f-11e...|           EU|    Albania|1af00b874ff318302...|\n",
      "|8ddf72aa-cb8f-11e...|           EU|    Albania|1af00b874ff318302...|\n",
      "|54838af8-cb8e-11e...|           EU|    Albania|1af00b874ff318302...|\n",
      "|8b4398f9-cb8e-11e...|           EU|    Albania|1af00b874ff318302...|\n",
      "|7cc63b61-cbae-11e...|           EU|    Albania|1af00b874ff318302...|\n",
      "|f24d3cd8-cb90-11e...|           EU|    Albania|1af00b874ff318302...|\n",
      "|04b2a0da-cb91-11e...|           EU|    Albania|1af00b874ff318302...|\n",
      "|b10c2a3b-cb8e-11e...|           EU|    Albania|1af00b874ff318302...|\n",
      "|a559cb2c-cb8e-11e...|           EU|    Albania|1af00b874ff318302...|\n",
      "|7b38c678-cbae-11e...|           EU|    Andorra|3e340be4de18e6f6d...|\n",
      "+--------------------+-------------+-----------+--------------------+\n",
      "only showing top 20 rows"
     ]
    }
   ],
   "source": [
    "location_combined7.filter(col(\"new_id\").isNotNull()).show()"
   ]
  },
  {
   "cell_type": "code",
   "execution_count": 74,
   "id": "d559a9a1-e4fc-4efa-933c-075b16b4d465",
   "metadata": {
    "execution": {
     "iopub.execute_input": "2022-09-07T11:11:46.557307Z",
     "iopub.status.busy": "2022-09-07T11:11:46.557067Z",
     "iopub.status.idle": "2022-09-07T11:11:46.877576Z",
     "shell.execute_reply": "2022-09-07T11:11:46.876663Z",
     "shell.execute_reply.started": "2022-09-07T11:11:46.557275Z"
    },
    "tags": []
   },
   "outputs": [
    {
     "data": {
      "application/vnd.jupyter.widget-view+json": {
       "model_id": "dd3db0395e1a4ebbbb4e9c71c2477414",
       "version_major": 2,
       "version_minor": 0
      },
      "text/plain": [
       "VBox()"
      ]
     },
     "metadata": {},
     "output_type": "display_data"
    },
    {
     "data": {
      "application/vnd.jupyter.widget-view+json": {
       "model_id": "",
       "version_major": 2,
       "version_minor": 0
      },
      "text/plain": [
       "FloatProgress(value=0.0, bar_style='info', description='Progress:', layout=Layout(height='25px', width='50%'),…"
      ]
     },
     "metadata": {},
     "output_type": "display_data"
    }
   ],
   "source": [
    "location_combined8 = location_combined7.select(\"id\", \"new_id\", col(\"new_country\").alias(\"Country\"), col(\"new_continent\").alias(\"Continent\"))"
   ]
  },
  {
   "cell_type": "code",
   "execution_count": 75,
   "id": "63085ac2-0f18-4ccd-a662-040a3f4614c0",
   "metadata": {
    "execution": {
     "iopub.execute_input": "2022-09-07T11:11:51.954708Z",
     "iopub.status.busy": "2022-09-07T11:11:51.954475Z",
     "iopub.status.idle": "2022-09-07T11:11:55.281952Z",
     "shell.execute_reply": "2022-09-07T11:11:55.273733Z",
     "shell.execute_reply.started": "2022-09-07T11:11:51.954683Z"
    },
    "tags": []
   },
   "outputs": [
    {
     "data": {
      "application/vnd.jupyter.widget-view+json": {
       "model_id": "75b85b3e48df41c0b855d8bd7c803253",
       "version_major": 2,
       "version_minor": 0
      },
      "text/plain": [
       "VBox()"
      ]
     },
     "metadata": {},
     "output_type": "display_data"
    },
    {
     "data": {
      "application/vnd.jupyter.widget-view+json": {
       "model_id": "",
       "version_major": 2,
       "version_minor": 0
      },
      "text/plain": [
       "FloatProgress(value=0.0, bar_style='info', description='Progress:', layout=Layout(height='25px', width='50%'),…"
      ]
     },
     "metadata": {},
     "output_type": "display_data"
    },
    {
     "name": "stdout",
     "output_type": "stream",
     "text": [
      "242926"
     ]
    }
   ],
   "source": [
    "location_combined8.count()"
   ]
  },
  {
   "cell_type": "code",
   "execution_count": 76,
   "id": "f53501d0-feb2-4ae5-ac9b-1f025817ea4a",
   "metadata": {
    "execution": {
     "iopub.execute_input": "2022-09-07T11:12:54.860947Z",
     "iopub.status.busy": "2022-09-07T11:12:54.860702Z",
     "iopub.status.idle": "2022-09-07T11:12:54.918328Z",
     "shell.execute_reply": "2022-09-07T11:12:54.917799Z",
     "shell.execute_reply.started": "2022-09-07T11:12:54.860921Z"
    },
    "tags": []
   },
   "outputs": [
    {
     "data": {
      "application/vnd.jupyter.widget-view+json": {
       "model_id": "23dda4cd31d04ffebf85b7db902c8081",
       "version_major": 2,
       "version_minor": 0
      },
      "text/plain": [
       "VBox()"
      ]
     },
     "metadata": {},
     "output_type": "display_data"
    },
    {
     "data": {
      "application/vnd.jupyter.widget-view+json": {
       "model_id": "",
       "version_major": 2,
       "version_minor": 0
      },
      "text/plain": [
       "FloatProgress(value=0.0, bar_style='info', description='Progress:', layout=Layout(height='25px', width='50%'),…"
      ]
     },
     "metadata": {},
     "output_type": "display_data"
    }
   ],
   "source": [
    "location_combined9 = location_combined8.filter(col(\"Country\").isNotNull())"
   ]
  },
  {
   "cell_type": "code",
   "execution_count": 77,
   "id": "6fa38513-60d6-498f-a184-5a22840b9007",
   "metadata": {
    "execution": {
     "iopub.execute_input": "2022-09-07T11:12:59.885000Z",
     "iopub.status.busy": "2022-09-07T11:12:59.884767Z",
     "iopub.status.idle": "2022-09-07T11:13:05.203880Z",
     "shell.execute_reply": "2022-09-07T11:13:05.203067Z",
     "shell.execute_reply.started": "2022-09-07T11:12:59.884976Z"
    },
    "tags": []
   },
   "outputs": [
    {
     "data": {
      "application/vnd.jupyter.widget-view+json": {
       "model_id": "37e9f28c87734338a9852ccac5bfef06",
       "version_major": 2,
       "version_minor": 0
      },
      "text/plain": [
       "VBox()"
      ]
     },
     "metadata": {},
     "output_type": "display_data"
    },
    {
     "data": {
      "application/vnd.jupyter.widget-view+json": {
       "model_id": "",
       "version_major": 2,
       "version_minor": 0
      },
      "text/plain": [
       "FloatProgress(value=0.0, bar_style='info', description='Progress:', layout=Layout(height='25px', width='50%'),…"
      ]
     },
     "metadata": {},
     "output_type": "display_data"
    },
    {
     "name": "stdout",
     "output_type": "stream",
     "text": [
      "242443"
     ]
    }
   ],
   "source": [
    "location_combined9.count()"
   ]
  },
  {
   "cell_type": "code",
   "execution_count": 80,
   "id": "f4eb321d-53d9-4074-857f-c1557ca25794",
   "metadata": {
    "execution": {
     "iopub.execute_input": "2022-09-07T11:15:54.743562Z",
     "iopub.status.busy": "2022-09-07T11:15:54.743229Z",
     "iopub.status.idle": "2022-09-07T11:15:54.839724Z",
     "shell.execute_reply": "2022-09-07T11:15:54.839064Z",
     "shell.execute_reply.started": "2022-09-07T11:15:54.743520Z"
    }
   },
   "outputs": [
    {
     "data": {
      "application/vnd.jupyter.widget-view+json": {
       "model_id": "92737c3fa73c477c87ecaa7a86d9fbc3",
       "version_major": 2,
       "version_minor": 0
      },
      "text/plain": [
       "VBox()"
      ]
     },
     "metadata": {},
     "output_type": "display_data"
    },
    {
     "data": {
      "application/vnd.jupyter.widget-view+json": {
       "model_id": "",
       "version_major": 2,
       "version_minor": 0
      },
      "text/plain": [
       "FloatProgress(value=0.0, bar_style='info', description='Progress:', layout=Layout(height='25px', width='50%'),…"
      ]
     },
     "metadata": {},
     "output_type": "display_data"
    },
    {
     "name": "stdout",
     "output_type": "stream",
     "text": [
      "root\n",
      " |-- id: string (nullable = true)\n",
      " |-- new_id: string (nullable = true)\n",
      " |-- Country: string (nullable = true)\n",
      " |-- Continent: string (nullable = true)"
     ]
    }
   ],
   "source": [
    "location_combined9.printSchema()"
   ]
  },
  {
   "cell_type": "code",
   "execution_count": 81,
   "id": "a8d66532-430e-4a75-be43-6df4a60bf36d",
   "metadata": {
    "execution": {
     "iopub.execute_input": "2022-09-07T11:16:34.754795Z",
     "iopub.status.busy": "2022-09-07T11:16:34.754563Z",
     "iopub.status.idle": "2022-09-07T11:16:40.079481Z",
     "shell.execute_reply": "2022-09-07T11:16:40.078796Z",
     "shell.execute_reply.started": "2022-09-07T11:16:34.754771Z"
    },
    "tags": []
   },
   "outputs": [
    {
     "data": {
      "application/vnd.jupyter.widget-view+json": {
       "model_id": "fe4faebcc2d14ace8ef7f1b893b500c3",
       "version_major": 2,
       "version_minor": 0
      },
      "text/plain": [
       "VBox()"
      ]
     },
     "metadata": {},
     "output_type": "display_data"
    },
    {
     "data": {
      "application/vnd.jupyter.widget-view+json": {
       "model_id": "",
       "version_major": 2,
       "version_minor": 0
      },
      "text/plain": [
       "FloatProgress(value=0.0, bar_style='info', description='Progress:', layout=Layout(height='25px', width='50%'),…"
      ]
     },
     "metadata": {},
     "output_type": "display_data"
    },
    {
     "name": "stdout",
     "output_type": "stream",
     "text": [
      "+-------+-----+\n",
      "|Country|count|\n",
      "+-------+-----+\n",
      "+-------+-----+"
     ]
    }
   ],
   "source": [
    "location_combined9.dropDuplicates([\"new_id\", \"Country\", \"Continent\"]) \\\n",
    "    .groupby(['Country']) \\\n",
    "    .count() \\\n",
    "    .where('count > 1') \\\n",
    "    .sort('count', ascending=False) \\\n",
    "    .show()"
   ]
  },
  {
   "cell_type": "markdown",
   "id": "53e77109-39bc-4c78-b8c0-9a96155c8d31",
   "metadata": {},
   "source": [
    "### Write the cleaned Location to S3"
   ]
  },
  {
   "cell_type": "code",
   "execution_count": 82,
   "id": "2ae24eb0-1051-480f-bce9-97eba155c4ab",
   "metadata": {
    "execution": {
     "iopub.execute_input": "2022-09-07T11:16:47.352842Z",
     "iopub.status.busy": "2022-09-07T11:16:47.352603Z",
     "iopub.status.idle": "2022-09-07T11:16:56.689134Z",
     "shell.execute_reply": "2022-09-07T11:16:56.688577Z",
     "shell.execute_reply.started": "2022-09-07T11:16:47.352816Z"
    },
    "tags": []
   },
   "outputs": [
    {
     "data": {
      "application/vnd.jupyter.widget-view+json": {
       "model_id": "bc0bea5f95044535bd4a499ab34cac06",
       "version_major": 2,
       "version_minor": 0
      },
      "text/plain": [
       "VBox()"
      ]
     },
     "metadata": {},
     "output_type": "display_data"
    },
    {
     "data": {
      "application/vnd.jupyter.widget-view+json": {
       "model_id": "",
       "version_major": 2,
       "version_minor": 0
      },
      "text/plain": [
       "FloatProgress(value=0.0, bar_style='info', description='Progress:', layout=Layout(height='25px', width='50%'),…"
      ]
     },
     "metadata": {},
     "output_type": "display_data"
    }
   ],
   "source": [
    "location_combined9.write.mode(\"overwrite\").parquet(f\"{output_path}/location.parquet\")"
   ]
  },
  {
   "cell_type": "markdown",
   "id": "00be2606-9ba4-44d0-9ce5-e51493b5dc3d",
   "metadata": {},
   "source": [
    "## Cleaning the WIPO Table"
   ]
  },
  {
   "cell_type": "code",
   "execution_count": 2,
   "id": "8e744217-e0bd-42e4-a208-da5a1e7e46eb",
   "metadata": {
    "execution": {
     "iopub.execute_input": "2022-09-05T05:28:59.747389Z",
     "iopub.status.busy": "2022-09-05T05:28:59.747157Z",
     "iopub.status.idle": "2022-09-05T05:28:59.813101Z",
     "shell.execute_reply": "2022-09-05T05:28:59.812576Z",
     "shell.execute_reply.started": "2022-09-05T05:28:59.747364Z"
    },
    "tags": []
   },
   "outputs": [
    {
     "data": {
      "application/vnd.jupyter.widget-view+json": {
       "model_id": "d70936c7b3b5464ba7dd4952dd913fa9",
       "version_major": 2,
       "version_minor": 0
      },
      "text/plain": [
       "VBox()"
      ]
     },
     "metadata": {},
     "output_type": "display_data"
    },
    {
     "data": {
      "application/vnd.jupyter.widget-view+json": {
       "model_id": "",
       "version_major": 2,
       "version_minor": 0
      },
      "text/plain": [
       "FloatProgress(value=0.0, bar_style='info', description='Progress:', layout=Layout(height='25px', width='50%'),…"
      ]
     },
     "metadata": {},
     "output_type": "display_data"
    }
   ],
   "source": [
    "wipo_path = \"s3://patents-analytics/raw/wipo.tsv\""
   ]
  },
  {
   "cell_type": "code",
   "execution_count": 3,
   "id": "08be0f94-36d5-4a78-9544-8b6df837422d",
   "metadata": {
    "execution": {
     "iopub.execute_input": "2022-09-05T05:29:00.028005Z",
     "iopub.status.busy": "2022-09-05T05:29:00.027734Z",
     "iopub.status.idle": "2022-09-05T05:29:15.445720Z",
     "shell.execute_reply": "2022-09-05T05:29:15.445130Z",
     "shell.execute_reply.started": "2022-09-05T05:29:00.027980Z"
    },
    "tags": []
   },
   "outputs": [
    {
     "data": {
      "application/vnd.jupyter.widget-view+json": {
       "model_id": "032b1dc80426421985bf3d018cbc10db",
       "version_major": 2,
       "version_minor": 0
      },
      "text/plain": [
       "VBox()"
      ]
     },
     "metadata": {},
     "output_type": "display_data"
    },
    {
     "data": {
      "application/vnd.jupyter.widget-view+json": {
       "model_id": "",
       "version_major": 2,
       "version_minor": 0
      },
      "text/plain": [
       "FloatProgress(value=0.0, bar_style='info', description='Progress:', layout=Layout(height='25px', width='50%'),…"
      ]
     },
     "metadata": {},
     "output_type": "display_data"
    }
   ],
   "source": [
    "wipo = spark.read.options(header='True', delimiter='\\t', inferSchema='True', escape=\"\\\"\", multiline='True').csv(wipo_path).repartition(5)"
   ]
  },
  {
   "cell_type": "code",
   "execution_count": 4,
   "id": "cf56cbfb-7a28-45c1-8921-231e7aa99550",
   "metadata": {
    "execution": {
     "iopub.execute_input": "2022-09-05T05:29:15.448498Z",
     "iopub.status.busy": "2022-09-05T05:29:15.448319Z",
     "iopub.status.idle": "2022-09-05T05:29:15.704232Z",
     "shell.execute_reply": "2022-09-05T05:29:15.703439Z",
     "shell.execute_reply.started": "2022-09-05T05:29:15.448477Z"
    },
    "tags": []
   },
   "outputs": [
    {
     "data": {
      "application/vnd.jupyter.widget-view+json": {
       "model_id": "959c2491d4544c6faa62ccae96325784",
       "version_major": 2,
       "version_minor": 0
      },
      "text/plain": [
       "VBox()"
      ]
     },
     "metadata": {},
     "output_type": "display_data"
    },
    {
     "data": {
      "application/vnd.jupyter.widget-view+json": {
       "model_id": "",
       "version_major": 2,
       "version_minor": 0
      },
      "text/plain": [
       "FloatProgress(value=0.0, bar_style='info', description='Progress:', layout=Layout(height='25px', width='50%'),…"
      ]
     },
     "metadata": {},
     "output_type": "display_data"
    },
    {
     "name": "stdout",
     "output_type": "stream",
     "text": [
      "root\n",
      " |-- patent_id: integer (nullable = true)\n",
      " |-- field_id: double (nullable = true)\n",
      " |-- sequence: integer (nullable = true)"
     ]
    }
   ],
   "source": [
    "wipo.printSchema()"
   ]
  },
  {
   "cell_type": "code",
   "execution_count": 5,
   "id": "df1b3b16-1e9f-45e6-b62f-fc40834dc8f6",
   "metadata": {
    "execution": {
     "iopub.execute_input": "2022-09-05T05:29:15.706310Z",
     "iopub.status.busy": "2022-09-05T05:29:15.705876Z",
     "iopub.status.idle": "2022-09-05T05:29:25.022639Z",
     "shell.execute_reply": "2022-09-05T05:29:25.021879Z",
     "shell.execute_reply.started": "2022-09-05T05:29:15.706274Z"
    },
    "tags": []
   },
   "outputs": [
    {
     "data": {
      "application/vnd.jupyter.widget-view+json": {
       "model_id": "8cd3730c6dcb424baf4a448d3cb99b7e",
       "version_major": 2,
       "version_minor": 0
      },
      "text/plain": [
       "VBox()"
      ]
     },
     "metadata": {},
     "output_type": "display_data"
    },
    {
     "data": {
      "application/vnd.jupyter.widget-view+json": {
       "model_id": "",
       "version_major": 2,
       "version_minor": 0
      },
      "text/plain": [
       "FloatProgress(value=0.0, bar_style='info', description='Progress:', layout=Layout(height='25px', width='50%'),…"
      ]
     },
     "metadata": {},
     "output_type": "display_data"
    },
    {
     "name": "stdout",
     "output_type": "stream",
     "text": [
      "10658264"
     ]
    }
   ],
   "source": [
    "wipo.count()"
   ]
  },
  {
   "cell_type": "code",
   "execution_count": 6,
   "id": "a5000364-a3b9-4bc0-90bf-ef4c302dccb5",
   "metadata": {
    "execution": {
     "iopub.execute_input": "2022-09-05T05:29:25.024364Z",
     "iopub.status.busy": "2022-09-05T05:29:25.024107Z",
     "iopub.status.idle": "2022-09-05T05:29:42.374156Z",
     "shell.execute_reply": "2022-09-05T05:29:42.373489Z",
     "shell.execute_reply.started": "2022-09-05T05:29:25.024329Z"
    },
    "tags": []
   },
   "outputs": [
    {
     "data": {
      "application/vnd.jupyter.widget-view+json": {
       "model_id": "9cf118d256b9428797dd38ae37fc8b93",
       "version_major": 2,
       "version_minor": 0
      },
      "text/plain": [
       "VBox()"
      ]
     },
     "metadata": {},
     "output_type": "display_data"
    },
    {
     "data": {
      "application/vnd.jupyter.widget-view+json": {
       "model_id": "",
       "version_major": 2,
       "version_minor": 0
      },
      "text/plain": [
       "FloatProgress(value=0.0, bar_style='info', description='Progress:', layout=Layout(height='25px', width='50%'),…"
      ]
     },
     "metadata": {},
     "output_type": "display_data"
    },
    {
     "name": "stdout",
     "output_type": "stream",
     "text": [
      "[Row(patent_id=5003481, field_id=32.0, sequence=0), Row(patent_id=9219777, field_id=6.0, sequence=1), Row(patent_id=9294431, field_id=6.0, sequence=1), Row(patent_id=6262715, field_id=6.0, sequence=0), Row(patent_id=7838201, field_id=17.0, sequence=1)]"
     ]
    }
   ],
   "source": [
    "wipo.take(5)"
   ]
  },
  {
   "cell_type": "markdown",
   "id": "f7ce870c-ebfc-4097-b48b-89e77bb6768b",
   "metadata": {},
   "source": [
    "### Filter sequence = 0"
   ]
  },
  {
   "cell_type": "code",
   "execution_count": 15,
   "id": "2eb2ddc2-cc15-4639-9600-cdd21135f968",
   "metadata": {
    "execution": {
     "iopub.execute_input": "2022-09-05T05:31:00.401158Z",
     "iopub.status.busy": "2022-09-05T05:31:00.400907Z",
     "iopub.status.idle": "2022-09-05T05:31:00.669133Z",
     "shell.execute_reply": "2022-09-05T05:31:00.668510Z",
     "shell.execute_reply.started": "2022-09-05T05:31:00.401134Z"
    },
    "tags": []
   },
   "outputs": [
    {
     "data": {
      "application/vnd.jupyter.widget-view+json": {
       "model_id": "6f904bff292f472b9451d2a925871cf1",
       "version_major": 2,
       "version_minor": 0
      },
      "text/plain": [
       "VBox()"
      ]
     },
     "metadata": {},
     "output_type": "display_data"
    },
    {
     "data": {
      "application/vnd.jupyter.widget-view+json": {
       "model_id": "",
       "version_major": 2,
       "version_minor": 0
      },
      "text/plain": [
       "FloatProgress(value=0.0, bar_style='info', description='Progress:', layout=Layout(height='25px', width='50%'),…"
      ]
     },
     "metadata": {},
     "output_type": "display_data"
    }
   ],
   "source": [
    "wipo = wipo.filter(col(\"sequence\")==0)"
   ]
  },
  {
   "cell_type": "code",
   "execution_count": 16,
   "id": "582dcdfe-30b0-4c70-8bb9-f2919e7dc73a",
   "metadata": {
    "execution": {
     "iopub.execute_input": "2022-09-05T05:31:01.172948Z",
     "iopub.status.busy": "2022-09-05T05:31:01.172709Z",
     "iopub.status.idle": "2022-09-05T05:31:16.500792Z",
     "shell.execute_reply": "2022-09-05T05:31:16.500212Z",
     "shell.execute_reply.started": "2022-09-05T05:31:01.172923Z"
    },
    "tags": []
   },
   "outputs": [
    {
     "data": {
      "application/vnd.jupyter.widget-view+json": {
       "model_id": "e2c6d8802d514dd8974e7f115151caac",
       "version_major": 2,
       "version_minor": 0
      },
      "text/plain": [
       "VBox()"
      ]
     },
     "metadata": {},
     "output_type": "display_data"
    },
    {
     "data": {
      "application/vnd.jupyter.widget-view+json": {
       "model_id": "",
       "version_major": 2,
       "version_minor": 0
      },
      "text/plain": [
       "FloatProgress(value=0.0, bar_style='info', description='Progress:', layout=Layout(height='25px', width='50%'),…"
      ]
     },
     "metadata": {},
     "output_type": "display_data"
    }
   ],
   "source": [
    "assert wipo.count()>0"
   ]
  },
  {
   "cell_type": "code",
   "execution_count": 17,
   "id": "2b80bb07-d426-4ff3-9279-b88620d655d8",
   "metadata": {
    "execution": {
     "iopub.execute_input": "2022-09-05T05:31:16.502367Z",
     "iopub.status.busy": "2022-09-05T05:31:16.502113Z",
     "iopub.status.idle": "2022-09-05T05:31:23.854996Z",
     "shell.execute_reply": "2022-09-05T05:31:23.854262Z",
     "shell.execute_reply.started": "2022-09-05T05:31:16.502334Z"
    },
    "tags": []
   },
   "outputs": [
    {
     "data": {
      "application/vnd.jupyter.widget-view+json": {
       "model_id": "9e09ab0450334e5aa377c8f2a0c1dbc5",
       "version_major": 2,
       "version_minor": 0
      },
      "text/plain": [
       "VBox()"
      ]
     },
     "metadata": {},
     "output_type": "display_data"
    },
    {
     "data": {
      "application/vnd.jupyter.widget-view+json": {
       "model_id": "",
       "version_major": 2,
       "version_minor": 0
      },
      "text/plain": [
       "FloatProgress(value=0.0, bar_style='info', description='Progress:', layout=Layout(height='25px', width='50%'),…"
      ]
     },
     "metadata": {},
     "output_type": "display_data"
    },
    {
     "name": "stdout",
     "output_type": "stream",
     "text": [
      "+---------+--------+\n",
      "|patent_id|field_id|\n",
      "+---------+--------+\n",
      "+---------+--------+"
     ]
    }
   ],
   "source": [
    "wipo.filter(col(\"sequence\")>0).show()"
   ]
  },
  {
   "cell_type": "code",
   "execution_count": 18,
   "id": "4ac2e278-d02f-4404-809e-9587f7a5e8ae",
   "metadata": {
    "execution": {
     "iopub.execute_input": "2022-09-05T05:31:23.856830Z",
     "iopub.status.busy": "2022-09-05T05:31:23.856579Z",
     "iopub.status.idle": "2022-09-05T05:31:23.921289Z",
     "shell.execute_reply": "2022-09-05T05:31:23.920723Z",
     "shell.execute_reply.started": "2022-09-05T05:31:23.856796Z"
    },
    "tags": []
   },
   "outputs": [
    {
     "data": {
      "application/vnd.jupyter.widget-view+json": {
       "model_id": "ba0f06930fe74969ad2e34c782834581",
       "version_major": 2,
       "version_minor": 0
      },
      "text/plain": [
       "VBox()"
      ]
     },
     "metadata": {},
     "output_type": "display_data"
    },
    {
     "data": {
      "application/vnd.jupyter.widget-view+json": {
       "model_id": "",
       "version_major": 2,
       "version_minor": 0
      },
      "text/plain": [
       "FloatProgress(value=0.0, bar_style='info', description='Progress:', layout=Layout(height='25px', width='50%'),…"
      ]
     },
     "metadata": {},
     "output_type": "display_data"
    }
   ],
   "source": [
    "wipo = wipo.select(\"patent_id\", \"field_id\")"
   ]
  },
  {
   "cell_type": "markdown",
   "id": "14c99ccf-53e8-48ba-8d33-0b5afeb247b8",
   "metadata": {},
   "source": [
    "### Write cleaned WIPO table to S3"
   ]
  },
  {
   "cell_type": "code",
   "execution_count": 21,
   "id": "dd6c3eb9-8fd9-4fa3-bc4c-b0cd261648f2",
   "metadata": {
    "execution": {
     "iopub.execute_input": "2022-09-05T05:32:10.107357Z",
     "iopub.status.busy": "2022-09-05T05:32:10.107134Z",
     "iopub.status.idle": "2022-09-05T05:32:27.430009Z",
     "shell.execute_reply": "2022-09-05T05:32:27.429392Z",
     "shell.execute_reply.started": "2022-09-05T05:32:10.107335Z"
    },
    "tags": []
   },
   "outputs": [
    {
     "data": {
      "application/vnd.jupyter.widget-view+json": {
       "model_id": "e668acd634f441d19d7ef89c6e1d879a",
       "version_major": 2,
       "version_minor": 0
      },
      "text/plain": [
       "VBox()"
      ]
     },
     "metadata": {},
     "output_type": "display_data"
    },
    {
     "data": {
      "application/vnd.jupyter.widget-view+json": {
       "model_id": "",
       "version_major": 2,
       "version_minor": 0
      },
      "text/plain": [
       "FloatProgress(value=0.0, bar_style='info', description='Progress:', layout=Layout(height='25px', width='50%'),…"
      ]
     },
     "metadata": {},
     "output_type": "display_data"
    }
   ],
   "source": [
    "wipo.write.mode(\"overwrite\").parquet(f\"{output_path}/wipo.parquet\")"
   ]
  },
  {
   "cell_type": "markdown",
   "id": "5298bb43-f510-4bf0-9699-3f79fa12c7d6",
   "metadata": {},
   "source": [
    "## Clean the WIPO Field"
   ]
  },
  {
   "cell_type": "code",
   "execution_count": 146,
   "id": "65acdb9e-f1ed-4e83-bb65-f0550b56b3d6",
   "metadata": {
    "execution": {
     "iopub.execute_input": "2022-08-27T04:08:20.055899Z",
     "iopub.status.busy": "2022-08-27T04:08:20.054988Z",
     "iopub.status.idle": "2022-08-27T04:08:20.132128Z",
     "shell.execute_reply": "2022-08-27T04:08:20.131464Z",
     "shell.execute_reply.started": "2022-08-27T04:08:20.055855Z"
    }
   },
   "outputs": [
    {
     "data": {
      "application/vnd.jupyter.widget-view+json": {
       "model_id": "96dca0452dd54efcbdaae93d61d659d6",
       "version_major": 2,
       "version_minor": 0
      },
      "text/plain": [
       "VBox()"
      ]
     },
     "metadata": {},
     "output_type": "display_data"
    },
    {
     "data": {
      "application/vnd.jupyter.widget-view+json": {
       "model_id": "",
       "version_major": 2,
       "version_minor": 0
      },
      "text/plain": [
       "FloatProgress(value=0.0, bar_style='info', description='Progress:', layout=Layout(height='25px', width='50%'),…"
      ]
     },
     "metadata": {},
     "output_type": "display_data"
    }
   ],
   "source": [
    "wipo_field_path = \"s3://patents-analytics/raw/wipo_field.tsv\""
   ]
  },
  {
   "cell_type": "code",
   "execution_count": 154,
   "id": "a836640a-689c-49e2-acff-f30f8ac872f6",
   "metadata": {
    "execution": {
     "iopub.execute_input": "2022-08-27T04:11:42.282208Z",
     "iopub.status.busy": "2022-08-27T04:11:42.281970Z",
     "iopub.status.idle": "2022-08-27T04:11:43.052301Z",
     "shell.execute_reply": "2022-08-27T04:11:43.051641Z",
     "shell.execute_reply.started": "2022-08-27T04:11:42.282183Z"
    },
    "tags": []
   },
   "outputs": [
    {
     "data": {
      "application/vnd.jupyter.widget-view+json": {
       "model_id": "6e1af8a415ed4e7098efc63e11aad95e",
       "version_major": 2,
       "version_minor": 0
      },
      "text/plain": [
       "VBox()"
      ]
     },
     "metadata": {},
     "output_type": "display_data"
    },
    {
     "data": {
      "application/vnd.jupyter.widget-view+json": {
       "model_id": "",
       "version_major": 2,
       "version_minor": 0
      },
      "text/plain": [
       "FloatProgress(value=0.0, bar_style='info', description='Progress:', layout=Layout(height='25px', width='50%'),…"
      ]
     },
     "metadata": {},
     "output_type": "display_data"
    }
   ],
   "source": [
    "wipo_field = spark.read.options(header='True', delimiter='\\t', inferSchema='True', escape=\"\\\"\", multiline='True').csv(wipo_field_path)"
   ]
  },
  {
   "cell_type": "code",
   "execution_count": 155,
   "id": "cf972639-ad6b-46f6-8687-7224780d99ae",
   "metadata": {
    "execution": {
     "iopub.execute_input": "2022-08-27T04:11:43.053467Z",
     "iopub.status.busy": "2022-08-27T04:11:43.053273Z",
     "iopub.status.idle": "2022-08-27T04:11:43.318255Z",
     "shell.execute_reply": "2022-08-27T04:11:43.317579Z",
     "shell.execute_reply.started": "2022-08-27T04:11:43.053443Z"
    },
    "tags": []
   },
   "outputs": [
    {
     "data": {
      "application/vnd.jupyter.widget-view+json": {
       "model_id": "35d057072c1345faa271bac53c3fa185",
       "version_major": 2,
       "version_minor": 0
      },
      "text/plain": [
       "VBox()"
      ]
     },
     "metadata": {},
     "output_type": "display_data"
    },
    {
     "data": {
      "application/vnd.jupyter.widget-view+json": {
       "model_id": "",
       "version_major": 2,
       "version_minor": 0
      },
      "text/plain": [
       "FloatProgress(value=0.0, bar_style='info', description='Progress:', layout=Layout(height='25px', width='50%'),…"
      ]
     },
     "metadata": {},
     "output_type": "display_data"
    },
    {
     "name": "stdout",
     "output_type": "stream",
     "text": [
      "70"
     ]
    }
   ],
   "source": [
    "wipo_field.count()"
   ]
  },
  {
   "cell_type": "code",
   "execution_count": 156,
   "id": "f7f6760f-7b41-4dcb-a70b-b021696f68de",
   "metadata": {
    "execution": {
     "iopub.execute_input": "2022-08-27T04:11:43.319548Z",
     "iopub.status.busy": "2022-08-27T04:11:43.319371Z",
     "iopub.status.idle": "2022-08-27T04:11:43.378167Z",
     "shell.execute_reply": "2022-08-27T04:11:43.377592Z",
     "shell.execute_reply.started": "2022-08-27T04:11:43.319525Z"
    },
    "tags": []
   },
   "outputs": [
    {
     "data": {
      "application/vnd.jupyter.widget-view+json": {
       "model_id": "0439b3ba7f404dc998bb4eaff0d6df65",
       "version_major": 2,
       "version_minor": 0
      },
      "text/plain": [
       "VBox()"
      ]
     },
     "metadata": {},
     "output_type": "display_data"
    },
    {
     "data": {
      "application/vnd.jupyter.widget-view+json": {
       "model_id": "",
       "version_major": 2,
       "version_minor": 0
      },
      "text/plain": [
       "FloatProgress(value=0.0, bar_style='info', description='Progress:', layout=Layout(height='25px', width='50%'),…"
      ]
     },
     "metadata": {},
     "output_type": "display_data"
    },
    {
     "name": "stdout",
     "output_type": "stream",
     "text": [
      "root\n",
      " |-- id: string (nullable = true)\n",
      " |-- sector_title: string (nullable = true)\n",
      " |-- field_title: string (nullable = true)"
     ]
    }
   ],
   "source": [
    "wipo_field.printSchema()"
   ]
  },
  {
   "cell_type": "code",
   "execution_count": 157,
   "id": "c80f20e0-f2c1-4ff4-a155-c6eae85318b9",
   "metadata": {
    "execution": {
     "iopub.execute_input": "2022-08-27T04:11:44.249648Z",
     "iopub.status.busy": "2022-08-27T04:11:44.249420Z",
     "iopub.status.idle": "2022-08-27T04:11:44.518305Z",
     "shell.execute_reply": "2022-08-27T04:11:44.517602Z",
     "shell.execute_reply.started": "2022-08-27T04:11:44.249624Z"
    },
    "tags": []
   },
   "outputs": [
    {
     "data": {
      "application/vnd.jupyter.widget-view+json": {
       "model_id": "1655775560d24bd5ba2453bd179a255a",
       "version_major": 2,
       "version_minor": 0
      },
      "text/plain": [
       "VBox()"
      ]
     },
     "metadata": {},
     "output_type": "display_data"
    },
    {
     "data": {
      "application/vnd.jupyter.widget-view+json": {
       "model_id": "",
       "version_major": 2,
       "version_minor": 0
      },
      "text/plain": [
       "FloatProgress(value=0.0, bar_style='info', description='Progress:', layout=Layout(height='25px', width='50%'),…"
      ]
     },
     "metadata": {},
     "output_type": "display_data"
    },
    {
     "name": "stdout",
     "output_type": "stream",
     "text": [
      "+---+--------------------+--------------------+\n",
      "| id|        sector_title|         field_title|\n",
      "+---+--------------------+--------------------+\n",
      "|  1|Electrical engine...|Electrical machin...|\n",
      "| 10|         Instruments|         Measurement|\n",
      "| 11|         Instruments|Analysis of biolo...|\n",
      "| 12|         Instruments|             Control|\n",
      "| 13|         Instruments|  Medical technology|\n",
      "+---+--------------------+--------------------+\n",
      "only showing top 5 rows"
     ]
    }
   ],
   "source": [
    "wipo_field.show(5)"
   ]
  },
  {
   "cell_type": "code",
   "execution_count": 158,
   "id": "45aca238-66a6-4ff4-bed8-b8d6a8b15a95",
   "metadata": {
    "execution": {
     "iopub.execute_input": "2022-08-27T04:11:59.316862Z",
     "iopub.status.busy": "2022-08-27T04:11:59.316625Z",
     "iopub.status.idle": "2022-08-27T04:11:59.374761Z",
     "shell.execute_reply": "2022-08-27T04:11:59.374160Z",
     "shell.execute_reply.started": "2022-08-27T04:11:59.316838Z"
    },
    "tags": []
   },
   "outputs": [
    {
     "data": {
      "application/vnd.jupyter.widget-view+json": {
       "model_id": "3b42a768b07f497c9229c9bcb25b26c8",
       "version_major": 2,
       "version_minor": 0
      },
      "text/plain": [
       "VBox()"
      ]
     },
     "metadata": {},
     "output_type": "display_data"
    },
    {
     "data": {
      "application/vnd.jupyter.widget-view+json": {
       "model_id": "",
       "version_major": 2,
       "version_minor": 0
      },
      "text/plain": [
       "FloatProgress(value=0.0, bar_style='info', description='Progress:', layout=Layout(height='25px', width='50%'),…"
      ]
     },
     "metadata": {},
     "output_type": "display_data"
    }
   ],
   "source": [
    "wipo_field = wipo_field.filter(~col(\"id\").startswith(\"D\"))"
   ]
  },
  {
   "cell_type": "code",
   "execution_count": 159,
   "id": "df6b2c6d-ec6f-4bfb-b2ba-f257f3d07dac",
   "metadata": {
    "execution": {
     "iopub.execute_input": "2022-08-27T04:12:04.825512Z",
     "iopub.status.busy": "2022-08-27T04:12:04.825291Z",
     "iopub.status.idle": "2022-08-27T04:12:05.090167Z",
     "shell.execute_reply": "2022-08-27T04:12:05.089568Z",
     "shell.execute_reply.started": "2022-08-27T04:12:04.825488Z"
    }
   },
   "outputs": [
    {
     "data": {
      "application/vnd.jupyter.widget-view+json": {
       "model_id": "8b649e9598164add8f25df699809d042",
       "version_major": 2,
       "version_minor": 0
      },
      "text/plain": [
       "VBox()"
      ]
     },
     "metadata": {},
     "output_type": "display_data"
    },
    {
     "data": {
      "application/vnd.jupyter.widget-view+json": {
       "model_id": "",
       "version_major": 2,
       "version_minor": 0
      },
      "text/plain": [
       "FloatProgress(value=0.0, bar_style='info', description='Progress:', layout=Layout(height='25px', width='50%'),…"
      ]
     },
     "metadata": {},
     "output_type": "display_data"
    },
    {
     "name": "stdout",
     "output_type": "stream",
     "text": [
      "36"
     ]
    }
   ],
   "source": [
    "wipo_field.count()"
   ]
  },
  {
   "cell_type": "code",
   "execution_count": 161,
   "id": "d344bd63-ab0c-4243-b1bd-48f403b8e0d2",
   "metadata": {
    "execution": {
     "iopub.execute_input": "2022-08-27T04:13:53.174636Z",
     "iopub.status.busy": "2022-08-27T04:13:53.174416Z",
     "iopub.status.idle": "2022-08-27T04:13:53.446152Z",
     "shell.execute_reply": "2022-08-27T04:13:53.445561Z",
     "shell.execute_reply.started": "2022-08-27T04:13:53.174613Z"
    },
    "tags": []
   },
   "outputs": [
    {
     "data": {
      "application/vnd.jupyter.widget-view+json": {
       "model_id": "6b1cfff89235443c99aeb29d89f57b66",
       "version_major": 2,
       "version_minor": 0
      },
      "text/plain": [
       "VBox()"
      ]
     },
     "metadata": {},
     "output_type": "display_data"
    },
    {
     "data": {
      "application/vnd.jupyter.widget-view+json": {
       "model_id": "",
       "version_major": 2,
       "version_minor": 0
      },
      "text/plain": [
       "FloatProgress(value=0.0, bar_style='info', description='Progress:', layout=Layout(height='25px', width='50%'),…"
      ]
     },
     "metadata": {},
     "output_type": "display_data"
    }
   ],
   "source": [
    "assert wipo_field.filter(col(\"id\").startswith(\"D\")).count() ==0"
   ]
  },
  {
   "cell_type": "markdown",
   "id": "d9da1ce3-9357-4cc1-8a92-b17de64213b8",
   "metadata": {},
   "source": [
    "### Write the cleaned WIPO_field table to S3"
   ]
  },
  {
   "cell_type": "code",
   "execution_count": 162,
   "id": "bec193c5-1b9d-47c3-8376-174f378c7d93",
   "metadata": {
    "execution": {
     "iopub.execute_input": "2022-08-27T04:14:05.612779Z",
     "iopub.status.busy": "2022-08-27T04:14:05.612535Z",
     "iopub.status.idle": "2022-08-27T04:14:06.393150Z",
     "shell.execute_reply": "2022-08-27T04:14:06.392576Z",
     "shell.execute_reply.started": "2022-08-27T04:14:05.612753Z"
    }
   },
   "outputs": [
    {
     "data": {
      "application/vnd.jupyter.widget-view+json": {
       "model_id": "79b62d1ca1e948839731264ee1041ad1",
       "version_major": 2,
       "version_minor": 0
      },
      "text/plain": [
       "VBox()"
      ]
     },
     "metadata": {},
     "output_type": "display_data"
    },
    {
     "data": {
      "application/vnd.jupyter.widget-view+json": {
       "model_id": "",
       "version_major": 2,
       "version_minor": 0
      },
      "text/plain": [
       "FloatProgress(value=0.0, bar_style='info', description='Progress:', layout=Layout(height='25px', width='50%'),…"
      ]
     },
     "metadata": {},
     "output_type": "display_data"
    }
   ],
   "source": [
    "wipo_field.write.mode(\"overwrite\").parquet(f\"{output_path}/wipo_field.parquet\")"
   ]
  },
  {
   "cell_type": "markdown",
   "id": "a22e36d9-81da-4e46-8886-1a5d100d85e6",
   "metadata": {},
   "source": [
    "## Cleaning the Inventor Table"
   ]
  },
  {
   "cell_type": "code",
   "execution_count": 83,
   "id": "ff9658dd-0f2e-42a1-875b-8629e2b85a6a",
   "metadata": {
    "execution": {
     "iopub.execute_input": "2022-09-07T11:20:23.111161Z",
     "iopub.status.busy": "2022-09-07T11:20:23.110942Z",
     "iopub.status.idle": "2022-09-07T11:20:23.165971Z",
     "shell.execute_reply": "2022-09-07T11:20:23.165438Z",
     "shell.execute_reply.started": "2022-09-07T11:20:23.111136Z"
    },
    "tags": []
   },
   "outputs": [
    {
     "data": {
      "application/vnd.jupyter.widget-view+json": {
       "model_id": "a2d9d9996c0d4136a86d57bba11b68ed",
       "version_major": 2,
       "version_minor": 0
      },
      "text/plain": [
       "VBox()"
      ]
     },
     "metadata": {},
     "output_type": "display_data"
    },
    {
     "data": {
      "application/vnd.jupyter.widget-view+json": {
       "model_id": "",
       "version_major": 2,
       "version_minor": 0
      },
      "text/plain": [
       "FloatProgress(value=0.0, bar_style='info', description='Progress:', layout=Layout(height='25px', width='50%'),…"
      ]
     },
     "metadata": {},
     "output_type": "display_data"
    }
   ],
   "source": [
    "inventor_path = \"s3://patents-analytics/raw/inventor.tsv\""
   ]
  },
  {
   "cell_type": "code",
   "execution_count": 84,
   "id": "2728023c-5925-409c-b236-7d5f857af3b9",
   "metadata": {
    "execution": {
     "iopub.execute_input": "2022-09-07T11:20:23.735303Z",
     "iopub.status.busy": "2022-09-07T11:20:23.735070Z",
     "iopub.status.idle": "2022-09-07T11:20:31.040881Z",
     "shell.execute_reply": "2022-09-07T11:20:31.040286Z",
     "shell.execute_reply.started": "2022-09-07T11:20:23.735279Z"
    },
    "tags": []
   },
   "outputs": [
    {
     "data": {
      "application/vnd.jupyter.widget-view+json": {
       "model_id": "95c96a62907544e9915af686149c4e24",
       "version_major": 2,
       "version_minor": 0
      },
      "text/plain": [
       "VBox()"
      ]
     },
     "metadata": {},
     "output_type": "display_data"
    },
    {
     "data": {
      "application/vnd.jupyter.widget-view+json": {
       "model_id": "",
       "version_major": 2,
       "version_minor": 0
      },
      "text/plain": [
       "FloatProgress(value=0.0, bar_style='info', description='Progress:', layout=Layout(height='25px', width='50%'),…"
      ]
     },
     "metadata": {},
     "output_type": "display_data"
    }
   ],
   "source": [
    "inventor = spark.read.options(header='True', delimiter='\\t', inferSchema='True', escape=\"\\\"\", multiline='True').csv(inventor_path).repartition(10)"
   ]
  },
  {
   "cell_type": "code",
   "execution_count": 85,
   "id": "0d2b2c98-1885-4780-9462-f647de544a96",
   "metadata": {
    "execution": {
     "iopub.execute_input": "2022-09-07T11:20:31.042001Z",
     "iopub.status.busy": "2022-09-07T11:20:31.041838Z",
     "iopub.status.idle": "2022-09-07T11:20:31.103235Z",
     "shell.execute_reply": "2022-09-07T11:20:31.102546Z",
     "shell.execute_reply.started": "2022-09-07T11:20:31.041980Z"
    },
    "tags": []
   },
   "outputs": [
    {
     "data": {
      "application/vnd.jupyter.widget-view+json": {
       "model_id": "d955464b32874b058c1a0940a84f5107",
       "version_major": 2,
       "version_minor": 0
      },
      "text/plain": [
       "VBox()"
      ]
     },
     "metadata": {},
     "output_type": "display_data"
    },
    {
     "data": {
      "application/vnd.jupyter.widget-view+json": {
       "model_id": "",
       "version_major": 2,
       "version_minor": 0
      },
      "text/plain": [
       "FloatProgress(value=0.0, bar_style='info', description='Progress:', layout=Layout(height='25px', width='50%'),…"
      ]
     },
     "metadata": {},
     "output_type": "display_data"
    },
    {
     "name": "stdout",
     "output_type": "stream",
     "text": [
      "root\n",
      " |-- id: string (nullable = true)\n",
      " |-- name_first: string (nullable = true)\n",
      " |-- name_last: string (nullable = true)\n",
      " |-- male_flag: double (nullable = true)\n",
      " |-- attribution_status: integer (nullable = true)"
     ]
    }
   ],
   "source": [
    "inventor.printSchema()"
   ]
  },
  {
   "cell_type": "code",
   "execution_count": 86,
   "id": "d21db1ab-a183-4334-be4e-1b4153efb0bb",
   "metadata": {
    "execution": {
     "iopub.execute_input": "2022-09-07T11:20:31.105077Z",
     "iopub.status.busy": "2022-09-07T11:20:31.104840Z",
     "iopub.status.idle": "2022-09-07T11:20:36.421827Z",
     "shell.execute_reply": "2022-09-07T11:20:36.421049Z",
     "shell.execute_reply.started": "2022-09-07T11:20:31.105044Z"
    },
    "tags": []
   },
   "outputs": [
    {
     "data": {
      "application/vnd.jupyter.widget-view+json": {
       "model_id": "74fb4ce42d4545a2a933fd98974c087c",
       "version_major": 2,
       "version_minor": 0
      },
      "text/plain": [
       "VBox()"
      ]
     },
     "metadata": {},
     "output_type": "display_data"
    },
    {
     "data": {
      "application/vnd.jupyter.widget-view+json": {
       "model_id": "",
       "version_major": 2,
       "version_minor": 0
      },
      "text/plain": [
       "FloatProgress(value=0.0, bar_style='info', description='Progress:', layout=Layout(height='25px', width='50%'),…"
      ]
     },
     "metadata": {},
     "output_type": "display_data"
    },
    {
     "name": "stdout",
     "output_type": "stream",
     "text": [
      "5363671"
     ]
    }
   ],
   "source": [
    "inventor.count()"
   ]
  },
  {
   "cell_type": "markdown",
   "id": "d6f9a472-8bf7-4ea7-91f3-a96b7ce133c9",
   "metadata": {},
   "source": [
    "### Combine the first name and last name to name"
   ]
  },
  {
   "cell_type": "code",
   "execution_count": 87,
   "id": "3df6857e-ec17-49b4-b986-dbc3e25af3be",
   "metadata": {
    "execution": {
     "iopub.execute_input": "2022-09-07T11:20:36.423575Z",
     "iopub.status.busy": "2022-09-07T11:20:36.423320Z",
     "iopub.status.idle": "2022-09-07T11:20:36.479857Z",
     "shell.execute_reply": "2022-09-07T11:20:36.479341Z",
     "shell.execute_reply.started": "2022-09-07T11:20:36.423540Z"
    },
    "tags": []
   },
   "outputs": [
    {
     "data": {
      "application/vnd.jupyter.widget-view+json": {
       "model_id": "1f621791eb5646bc8b5e5727454afabe",
       "version_major": 2,
       "version_minor": 0
      },
      "text/plain": [
       "VBox()"
      ]
     },
     "metadata": {},
     "output_type": "display_data"
    },
    {
     "data": {
      "application/vnd.jupyter.widget-view+json": {
       "model_id": "",
       "version_major": 2,
       "version_minor": 0
      },
      "text/plain": [
       "FloatProgress(value=0.0, bar_style='info', description='Progress:', layout=Layout(height='25px', width='50%'),…"
      ]
     },
     "metadata": {},
     "output_type": "display_data"
    }
   ],
   "source": [
    "def combine_name(name_first, name_last):\n",
    "    if name_first and name_last:\n",
    "        return f\"{name_first} {name_last}\"\n",
    "    elif name_last:\n",
    "        return name_last\n",
    "    elif name_first:\n",
    "        return name_first\n",
    "    else:\n",
    "        return None"
   ]
  },
  {
   "cell_type": "code",
   "execution_count": 88,
   "id": "3edc92e7-1175-4311-bd04-af91519ec1bd",
   "metadata": {
    "execution": {
     "iopub.execute_input": "2022-09-07T11:20:36.480835Z",
     "iopub.status.busy": "2022-09-07T11:20:36.480667Z",
     "iopub.status.idle": "2022-09-07T11:20:36.529904Z",
     "shell.execute_reply": "2022-09-07T11:20:36.529376Z",
     "shell.execute_reply.started": "2022-09-07T11:20:36.480813Z"
    },
    "tags": []
   },
   "outputs": [
    {
     "data": {
      "application/vnd.jupyter.widget-view+json": {
       "model_id": "ad78751449054133870dd3c75c8064f9",
       "version_major": 2,
       "version_minor": 0
      },
      "text/plain": [
       "VBox()"
      ]
     },
     "metadata": {},
     "output_type": "display_data"
    },
    {
     "data": {
      "application/vnd.jupyter.widget-view+json": {
       "model_id": "",
       "version_major": 2,
       "version_minor": 0
      },
      "text/plain": [
       "FloatProgress(value=0.0, bar_style='info', description='Progress:', layout=Layout(height='25px', width='50%'),…"
      ]
     },
     "metadata": {},
     "output_type": "display_data"
    }
   ],
   "source": [
    "combine_name_udf = udf(combine_name, StringType())"
   ]
  },
  {
   "cell_type": "code",
   "execution_count": 89,
   "id": "385a9806-7ab2-4324-86ea-bd87d172d08b",
   "metadata": {
    "execution": {
     "iopub.execute_input": "2022-09-07T11:20:36.531198Z",
     "iopub.status.busy": "2022-09-07T11:20:36.530866Z",
     "iopub.status.idle": "2022-09-07T11:20:36.790241Z",
     "shell.execute_reply": "2022-09-07T11:20:36.789666Z",
     "shell.execute_reply.started": "2022-09-07T11:20:36.531164Z"
    },
    "tags": []
   },
   "outputs": [
    {
     "data": {
      "application/vnd.jupyter.widget-view+json": {
       "model_id": "ffb4b9af307f4f6ca0f40368ee63a74e",
       "version_major": 2,
       "version_minor": 0
      },
      "text/plain": [
       "VBox()"
      ]
     },
     "metadata": {},
     "output_type": "display_data"
    },
    {
     "data": {
      "application/vnd.jupyter.widget-view+json": {
       "model_id": "",
       "version_major": 2,
       "version_minor": 0
      },
      "text/plain": [
       "FloatProgress(value=0.0, bar_style='info', description='Progress:', layout=Layout(height='25px', width='50%'),…"
      ]
     },
     "metadata": {},
     "output_type": "display_data"
    }
   ],
   "source": [
    "inventor = inventor.withColumn(\"name\", combine_name_udf(col(\"name_first\"),col(\"name_last\")))"
   ]
  },
  {
   "cell_type": "code",
   "execution_count": 90,
   "id": "64fd8276-39f6-49d2-913f-a00472585479",
   "metadata": {
    "execution": {
     "iopub.execute_input": "2022-09-07T11:20:36.791629Z",
     "iopub.status.busy": "2022-09-07T11:20:36.791261Z",
     "iopub.status.idle": "2022-09-07T11:20:52.117381Z",
     "shell.execute_reply": "2022-09-07T11:20:52.116800Z",
     "shell.execute_reply.started": "2022-09-07T11:20:36.791593Z"
    },
    "tags": []
   },
   "outputs": [
    {
     "data": {
      "application/vnd.jupyter.widget-view+json": {
       "model_id": "ab45ec4e4bdd45fc9b023dfbaa7bb1dd",
       "version_major": 2,
       "version_minor": 0
      },
      "text/plain": [
       "VBox()"
      ]
     },
     "metadata": {},
     "output_type": "display_data"
    },
    {
     "data": {
      "application/vnd.jupyter.widget-view+json": {
       "model_id": "",
       "version_major": 2,
       "version_minor": 0
      },
      "text/plain": [
       "FloatProgress(value=0.0, bar_style='info', description='Progress:', layout=Layout(height='25px', width='50%'),…"
      ]
     },
     "metadata": {},
     "output_type": "display_data"
    },
    {
     "name": "stdout",
     "output_type": "stream",
     "text": [
      "+--------------------+----------------+-----------+---------+------------------+--------------------+\n",
      "|                  id|      name_first|  name_last|male_flag|attribution_status|                name|\n",
      "+--------------------+----------------+-----------+---------+------------------+--------------------+\n",
      "|fl:ka_ln:ruedinger-1|  Katrina Lauren|  Ruedinger|      0.0|                 1|Katrina Lauren Ru...|\n",
      "|78c6413a-3b0f-11e...|Sascha Christoph|   Hrastnik|      1.0|                 1|Sascha Christoph ...|\n",
      "|   fl:ru_ln:scholz-1|          Rudolf|     Scholz|      1.0|                 1|       Rudolf Scholz|\n",
      "|fl:pa_ln:kirkpatr...|         Paul A.|Kirkpatrick|      1.0|                 1| Paul A. Kirkpatrick|\n",
      "|     fl:ak_ln:baba-3|           Akira|       Baba|      1.0|                 1|          Akira Baba|\n",
      "+--------------------+----------------+-----------+---------+------------------+--------------------+\n",
      "only showing top 5 rows"
     ]
    }
   ],
   "source": [
    "inventor.show(5)"
   ]
  },
  {
   "cell_type": "code",
   "execution_count": 91,
   "id": "5f5657b3-07d5-4ce8-8008-a969eeea8ad2",
   "metadata": {
    "execution": {
     "iopub.execute_input": "2022-09-07T11:20:52.118995Z",
     "iopub.status.busy": "2022-09-07T11:20:52.118824Z",
     "iopub.status.idle": "2022-09-07T11:20:52.181160Z",
     "shell.execute_reply": "2022-09-07T11:20:52.180488Z",
     "shell.execute_reply.started": "2022-09-07T11:20:52.118974Z"
    },
    "tags": []
   },
   "outputs": [
    {
     "data": {
      "application/vnd.jupyter.widget-view+json": {
       "model_id": "11e027bff86445b3ac4146c4896f5514",
       "version_major": 2,
       "version_minor": 0
      },
      "text/plain": [
       "VBox()"
      ]
     },
     "metadata": {},
     "output_type": "display_data"
    },
    {
     "data": {
      "application/vnd.jupyter.widget-view+json": {
       "model_id": "",
       "version_major": 2,
       "version_minor": 0
      },
      "text/plain": [
       "FloatProgress(value=0.0, bar_style='info', description='Progress:', layout=Layout(height='25px', width='50%'),…"
      ]
     },
     "metadata": {},
     "output_type": "display_data"
    }
   ],
   "source": [
    "inventor = inventor.withColumn(\"type\", lit(\"individual\"))"
   ]
  },
  {
   "cell_type": "code",
   "execution_count": 92,
   "id": "3488357c-aaf8-4084-8e8c-b8ed2362fb35",
   "metadata": {
    "execution": {
     "iopub.execute_input": "2022-09-07T11:20:52.182972Z",
     "iopub.status.busy": "2022-09-07T11:20:52.182502Z",
     "iopub.status.idle": "2022-09-07T11:20:52.246137Z",
     "shell.execute_reply": "2022-09-07T11:20:52.245570Z",
     "shell.execute_reply.started": "2022-09-07T11:20:52.182935Z"
    },
    "tags": []
   },
   "outputs": [
    {
     "data": {
      "application/vnd.jupyter.widget-view+json": {
       "model_id": "1bcf21b61f25481fb7b3adc20c554a99",
       "version_major": 2,
       "version_minor": 0
      },
      "text/plain": [
       "VBox()"
      ]
     },
     "metadata": {},
     "output_type": "display_data"
    },
    {
     "data": {
      "application/vnd.jupyter.widget-view+json": {
       "model_id": "",
       "version_major": 2,
       "version_minor": 0
      },
      "text/plain": [
       "FloatProgress(value=0.0, bar_style='info', description='Progress:', layout=Layout(height='25px', width='50%'),…"
      ]
     },
     "metadata": {},
     "output_type": "display_data"
    }
   ],
   "source": [
    "inventor = inventor.select(\"id\",\"name\", \"type\")"
   ]
  },
  {
   "cell_type": "code",
   "execution_count": 93,
   "id": "2efabb0f-235d-401e-aeab-6de97edd7e7c",
   "metadata": {
    "execution": {
     "iopub.execute_input": "2022-09-07T11:20:52.247359Z",
     "iopub.status.busy": "2022-09-07T11:20:52.247110Z",
     "iopub.status.idle": "2022-09-07T11:21:05.621599Z",
     "shell.execute_reply": "2022-09-07T11:21:05.620834Z",
     "shell.execute_reply.started": "2022-09-07T11:20:52.247324Z"
    },
    "tags": []
   },
   "outputs": [
    {
     "data": {
      "application/vnd.jupyter.widget-view+json": {
       "model_id": "8d1361c5853348b292a24e1527bc68ed",
       "version_major": 2,
       "version_minor": 0
      },
      "text/plain": [
       "VBox()"
      ]
     },
     "metadata": {},
     "output_type": "display_data"
    },
    {
     "data": {
      "application/vnd.jupyter.widget-view+json": {
       "model_id": "",
       "version_major": 2,
       "version_minor": 0
      },
      "text/plain": [
       "FloatProgress(value=0.0, bar_style='info', description='Progress:', layout=Layout(height='25px', width='50%'),…"
      ]
     },
     "metadata": {},
     "output_type": "display_data"
    },
    {
     "name": "stdout",
     "output_type": "stream",
     "text": [
      "+--------------------+--------------------+----------+\n",
      "|                  id|                name|      type|\n",
      "+--------------------+--------------------+----------+\n",
      "|   fl:st_ln:benoit-4|        Steve Benoit|individual|\n",
      "|fl:ka_ln:shirahas...|    Kazuo Shirahashi|individual|\n",
      "| fl:da_ln:roberts-19|Daniel Neville Ro...|individual|\n",
      "|fl:al_ln:shepherd-12|Allen S. Shepherd...|individual|\n",
      "| fl:ro_ln:herrmann-8|  Robert P. Herrmann|individual|\n",
      "+--------------------+--------------------+----------+\n",
      "only showing top 5 rows"
     ]
    }
   ],
   "source": [
    "inventor.show(5)"
   ]
  },
  {
   "cell_type": "code",
   "execution_count": 94,
   "id": "79591806-4ef1-405e-8377-9cd2d1fd3907",
   "metadata": {
    "execution": {
     "iopub.execute_input": "2022-09-07T11:21:05.622919Z",
     "iopub.status.busy": "2022-09-07T11:21:05.622676Z",
     "iopub.status.idle": "2022-09-07T11:21:05.885660Z",
     "shell.execute_reply": "2022-09-07T11:21:05.884979Z",
     "shell.execute_reply.started": "2022-09-07T11:21:05.622886Z"
    },
    "tags": []
   },
   "outputs": [
    {
     "data": {
      "application/vnd.jupyter.widget-view+json": {
       "model_id": "90f445c961184a44968e7a4fc1340371",
       "version_major": 2,
       "version_minor": 0
      },
      "text/plain": [
       "VBox()"
      ]
     },
     "metadata": {},
     "output_type": "display_data"
    },
    {
     "data": {
      "application/vnd.jupyter.widget-view+json": {
       "model_id": "",
       "version_major": 2,
       "version_minor": 0
      },
      "text/plain": [
       "FloatProgress(value=0.0, bar_style='info', description='Progress:', layout=Layout(height='25px', width='50%'),…"
      ]
     },
     "metadata": {},
     "output_type": "display_data"
    }
   ],
   "source": [
    "assert inventor.filter(col(\"type\") != \"individual\").count() == 0"
   ]
  },
  {
   "cell_type": "code",
   "execution_count": 98,
   "id": "c1df4425-dbc3-4d3d-a3a5-ca5c77f2ccf8",
   "metadata": {
    "execution": {
     "iopub.execute_input": "2022-09-07T11:22:18.290173Z",
     "iopub.status.busy": "2022-09-07T11:22:18.289945Z",
     "iopub.status.idle": "2022-09-07T11:22:18.552430Z",
     "shell.execute_reply": "2022-09-07T11:22:18.551816Z",
     "shell.execute_reply.started": "2022-09-07T11:22:18.290149Z"
    },
    "tags": []
   },
   "outputs": [
    {
     "data": {
      "application/vnd.jupyter.widget-view+json": {
       "model_id": "18ec997bf2344b9ea229017c14b80174",
       "version_major": 2,
       "version_minor": 0
      },
      "text/plain": [
       "VBox()"
      ]
     },
     "metadata": {},
     "output_type": "display_data"
    },
    {
     "data": {
      "application/vnd.jupyter.widget-view+json": {
       "model_id": "",
       "version_major": 2,
       "version_minor": 0
      },
      "text/plain": [
       "FloatProgress(value=0.0, bar_style='info', description='Progress:', layout=Layout(height='25px', width='50%'),…"
      ]
     },
     "metadata": {},
     "output_type": "display_data"
    }
   ],
   "source": [
    "inventor_cleaned_with_ID = inventor.groupBy([\"name\",\"type\"]).count().withColumn(\"new_id\", sha2(concat(col(\"name\"), col(\"type\")),256)).select([\"name\", \"new_id\"])"
   ]
  },
  {
   "cell_type": "code",
   "execution_count": 99,
   "id": "3ca91d6d-e50a-4b07-b03d-a898581b3fec",
   "metadata": {
    "execution": {
     "iopub.execute_input": "2022-09-07T11:22:20.688244Z",
     "iopub.status.busy": "2022-09-07T11:22:20.688020Z",
     "iopub.status.idle": "2022-09-07T11:22:20.946382Z",
     "shell.execute_reply": "2022-09-07T11:22:20.945819Z",
     "shell.execute_reply.started": "2022-09-07T11:22:20.688220Z"
    },
    "tags": []
   },
   "outputs": [
    {
     "data": {
      "application/vnd.jupyter.widget-view+json": {
       "model_id": "0cec250e5f8841309325152f3b6134d5",
       "version_major": 2,
       "version_minor": 0
      },
      "text/plain": [
       "VBox()"
      ]
     },
     "metadata": {},
     "output_type": "display_data"
    },
    {
     "data": {
      "application/vnd.jupyter.widget-view+json": {
       "model_id": "",
       "version_major": 2,
       "version_minor": 0
      },
      "text/plain": [
       "FloatProgress(value=0.0, bar_style='info', description='Progress:', layout=Layout(height='25px', width='50%'),…"
      ]
     },
     "metadata": {},
     "output_type": "display_data"
    }
   ],
   "source": [
    "inventor_cleaned_with_ID = inventor.join(inventor_cleaned_with_ID, inventor.name == inventor_cleaned_with_ID.name).drop(inventor_cleaned_with_ID.name)"
   ]
  },
  {
   "cell_type": "code",
   "execution_count": 100,
   "id": "aa56562d-ee14-4331-931f-0e68a1f253ab",
   "metadata": {
    "execution": {
     "iopub.execute_input": "2022-09-07T11:22:23.173745Z",
     "iopub.status.busy": "2022-09-07T11:22:23.173502Z",
     "iopub.status.idle": "2022-09-07T11:23:18.643535Z",
     "shell.execute_reply": "2022-09-07T11:23:18.642959Z",
     "shell.execute_reply.started": "2022-09-07T11:22:23.173714Z"
    },
    "tags": []
   },
   "outputs": [
    {
     "data": {
      "application/vnd.jupyter.widget-view+json": {
       "model_id": "acb3bac8252e4b30ba04847fcba05a05",
       "version_major": 2,
       "version_minor": 0
      },
      "text/plain": [
       "VBox()"
      ]
     },
     "metadata": {},
     "output_type": "display_data"
    },
    {
     "data": {
      "application/vnd.jupyter.widget-view+json": {
       "model_id": "",
       "version_major": 2,
       "version_minor": 0
      },
      "text/plain": [
       "FloatProgress(value=0.0, bar_style='info', description='Progress:', layout=Layout(height='25px', width='50%'),…"
      ]
     },
     "metadata": {},
     "output_type": "display_data"
    },
    {
     "name": "stdout",
     "output_type": "stream",
     "text": [
      "+--------------------+----------+--------------------+--------------------+\n",
      "|                  id|      type|                name|              new_id|\n",
      "+--------------------+----------+--------------------+--------------------+\n",
      "|   fl:a._ln:george-1|individual|    A. Chacko George|73b561e3245e37e27...|\n",
      "|    fl:a._ln:craig-1|individual|       A. Grey Craig|8b1472e8c936a83ae...|\n",
      "|  fl:al_ln:azarbar-2|individual|   ALI KIYAN AZARBAR|fda85794f8228a542...|\n",
      "|fl:al_ln:gendrinb...|individual|ALINE GENDRIN BRO...|22c7a91733aeaeae3...|\n",
      "|  fl:an_ln:speidel-6|individual|       ANDRE SPEIDEL|515a4ac3c6c1001d1...|\n",
      "|1003217f-9466-11e...|individual|   ASHLEY L. JANSZEN|96fe198ef25033b8c...|\n",
      "|    fl:aa_ln:egier-1|individual| Aaron Charles Egier|782bee9008eaaabf0...|\n",
      "|  fl:aa_ln:schilpp-1|individual|   Aaron Dee Schilpp|c2843d342275553e2...|\n",
      "| fl:aa_ln:anderson-1|individual| Aaron Ross Anderson|9f7817b8207be49e8...|\n",
      "|   fl:aa_ln:patel-18|individual|        Aayush Patel|33eff47bca64985bb...|\n",
      "|    fl:ab_ln:naser-1|individual|Abdel-Rahman N. N...|59cbb4fca55810469...|\n",
      "| fl:ab_ln:rashwand-1|individual|   Abolfazl Rashwand|bb5c33179b75e004f...|\n",
      "|    fl:ab_ln:caulk-1|individual| Abraham Bruno Caulk|584cce34365ffa1b4...|\n",
      "|fl:ab_ln:rasoulian-1|individual|     Abtin Rasoulian|0f896602db774f41f...|\n",
      "|fl:ab_ln:shamsudd...|individual|AbulKalam Mohamme...|51dd8a7af226e854c...|\n",
      "|   fl:ac_ln:moller-2|individual|        Achim Möller|cec8dcd406e07141a...|\n",
      "| fl:ac_ln:ritzmann-1|individual|      Achim Ritzmann|1374e0fbd47d2e455...|\n",
      "|ea113137-bc92-11e...|individual|     Adalbert Hanßen|f5014284c0f8551cd...|\n",
      "|   fl:ad_ln:cabler-1|individual|         Adam Cabler|9cca905383e5647e4...|\n",
      "|    fl:ad_ln:finch-1|individual|          Adam Finch|c72fa0b85fe962ef5...|\n",
      "+--------------------+----------+--------------------+--------------------+\n",
      "only showing top 20 rows"
     ]
    }
   ],
   "source": [
    "inventor_cleaned_with_ID.show()"
   ]
  },
  {
   "cell_type": "markdown",
   "id": "696131c1-c775-4f14-8bc6-f7ad7ce7983e",
   "metadata": {},
   "source": [
    "### Write cleaned inventor table to S3"
   ]
  },
  {
   "cell_type": "code",
   "execution_count": 101,
   "id": "4b6342a2-feb9-4af8-afe5-8c3b4f66b417",
   "metadata": {
    "execution": {
     "iopub.execute_input": "2022-09-07T11:23:23.160996Z",
     "iopub.status.busy": "2022-09-07T11:23:23.160753Z",
     "iopub.status.idle": "2022-09-07T11:25:16.889496Z",
     "shell.execute_reply": "2022-09-07T11:25:16.888925Z",
     "shell.execute_reply.started": "2022-09-07T11:23:23.160970Z"
    },
    "tags": []
   },
   "outputs": [
    {
     "data": {
      "application/vnd.jupyter.widget-view+json": {
       "model_id": "9558df49724448e7a7ef2c62a5470b6d",
       "version_major": 2,
       "version_minor": 0
      },
      "text/plain": [
       "VBox()"
      ]
     },
     "metadata": {},
     "output_type": "display_data"
    },
    {
     "data": {
      "application/vnd.jupyter.widget-view+json": {
       "model_id": "",
       "version_major": 2,
       "version_minor": 0
      },
      "text/plain": [
       "FloatProgress(value=0.0, bar_style='info', description='Progress:', layout=Layout(height='25px', width='50%'),…"
      ]
     },
     "metadata": {},
     "output_type": "display_data"
    }
   ],
   "source": [
    "inventor_cleaned_with_ID.write.mode(\"overwrite\").parquet(f\"{output_path}/inventor.parquet\")"
   ]
  },
  {
   "cell_type": "markdown",
   "id": "89f8f51d-0077-4384-b581-e696bbbcd194",
   "metadata": {},
   "source": [
    "## Cleaning the Patent Assignee Table"
   ]
  },
  {
   "cell_type": "code",
   "execution_count": 47,
   "id": "4ce15833-ae55-4275-82af-fdd13cddeac7",
   "metadata": {
    "execution": {
     "iopub.execute_input": "2022-08-27T05:56:04.529153Z",
     "iopub.status.busy": "2022-08-27T05:56:04.528920Z",
     "iopub.status.idle": "2022-08-27T05:56:04.584201Z",
     "shell.execute_reply": "2022-08-27T05:56:04.583612Z",
     "shell.execute_reply.started": "2022-08-27T05:56:04.529129Z"
    }
   },
   "outputs": [
    {
     "data": {
      "application/vnd.jupyter.widget-view+json": {
       "model_id": "fe0dbdf7c96d4c45bdcaa6457cdd1446",
       "version_major": 2,
       "version_minor": 0
      },
      "text/plain": [
       "VBox()"
      ]
     },
     "metadata": {},
     "output_type": "display_data"
    },
    {
     "data": {
      "application/vnd.jupyter.widget-view+json": {
       "model_id": "",
       "version_major": 2,
       "version_minor": 0
      },
      "text/plain": [
       "FloatProgress(value=0.0, bar_style='info', description='Progress:', layout=Layout(height='25px', width='50%'),…"
      ]
     },
     "metadata": {},
     "output_type": "display_data"
    }
   ],
   "source": [
    "patent_assignee_path = \"s3://patents-analytics/raw/patent_assignee.tsv\""
   ]
  },
  {
   "cell_type": "code",
   "execution_count": 48,
   "id": "9407c583-faa6-4ff6-b3c9-6090621a7941",
   "metadata": {
    "execution": {
     "iopub.execute_input": "2022-08-27T05:56:26.408525Z",
     "iopub.status.busy": "2022-08-27T05:56:26.408224Z",
     "iopub.status.idle": "2022-08-27T05:56:45.771086Z",
     "shell.execute_reply": "2022-08-27T05:56:45.770445Z",
     "shell.execute_reply.started": "2022-08-27T05:56:26.408483Z"
    }
   },
   "outputs": [
    {
     "data": {
      "application/vnd.jupyter.widget-view+json": {
       "model_id": "6169c0cfb5a6494da5d4027ef50bdc59",
       "version_major": 2,
       "version_minor": 0
      },
      "text/plain": [
       "VBox()"
      ]
     },
     "metadata": {},
     "output_type": "display_data"
    },
    {
     "data": {
      "application/vnd.jupyter.widget-view+json": {
       "model_id": "",
       "version_major": 2,
       "version_minor": 0
      },
      "text/plain": [
       "FloatProgress(value=0.0, bar_style='info', description='Progress:', layout=Layout(height='25px', width='50%'),…"
      ]
     },
     "metadata": {},
     "output_type": "display_data"
    }
   ],
   "source": [
    "patent_assignee = spark.read.options(header='True', delimiter='\\t', inferSchema='True', escape=\"\\\"\", multiline='True').csv(patent_assignee_path).repartition(10)"
   ]
  },
  {
   "cell_type": "code",
   "execution_count": 49,
   "id": "3e4e4a66-2417-4ebc-ac17-cbdeba902b7e",
   "metadata": {
    "execution": {
     "iopub.execute_input": "2022-08-27T05:57:11.047150Z",
     "iopub.status.busy": "2022-08-27T05:57:11.046917Z",
     "iopub.status.idle": "2022-08-27T05:57:38.785027Z",
     "shell.execute_reply": "2022-08-27T05:57:38.784341Z",
     "shell.execute_reply.started": "2022-08-27T05:57:11.047123Z"
    }
   },
   "outputs": [
    {
     "data": {
      "application/vnd.jupyter.widget-view+json": {
       "model_id": "90de703ff7724d23b9550370f13c9695",
       "version_major": 2,
       "version_minor": 0
      },
      "text/plain": [
       "VBox()"
      ]
     },
     "metadata": {},
     "output_type": "display_data"
    },
    {
     "data": {
      "application/vnd.jupyter.widget-view+json": {
       "model_id": "",
       "version_major": 2,
       "version_minor": 0
      },
      "text/plain": [
       "FloatProgress(value=0.0, bar_style='info', description='Progress:', layout=Layout(height='25px', width='50%'),…"
      ]
     },
     "metadata": {},
     "output_type": "display_data"
    },
    {
     "name": "stdout",
     "output_type": "stream",
     "text": [
      "+---------+--------------------+--------------------+\n",
      "|patent_id|         assignee_id|         location_id|\n",
      "+---------+--------------------+--------------------+\n",
      "|  9098154|bec1d9ba-7ad6-48c...|ed8be594-09bd-11e...|\n",
      "|  6241143|6f8a613b-f7a6-499...|ff405b60-cb8e-11e...|\n",
      "|  8423973|2a04f703-2243-4de...|3fac045d-cb8e-11e...|\n",
      "|  9731019|8cf738cf-7134-427...|f1b6c93e-cb8e-11e...|\n",
      "|  5927243|f4b333a6-bc14-460...|fef7fa78-cb90-11e...|\n",
      "+---------+--------------------+--------------------+\n",
      "only showing top 5 rows"
     ]
    }
   ],
   "source": [
    "patent_assignee.show(5)"
   ]
  },
  {
   "cell_type": "code",
   "execution_count": 50,
   "id": "255463cd-e9e6-4f0b-bae6-4e80b51532bc",
   "metadata": {
    "execution": {
     "iopub.execute_input": "2022-08-27T05:57:38.786168Z",
     "iopub.status.busy": "2022-08-27T05:57:38.785982Z",
     "iopub.status.idle": "2022-08-27T05:57:38.843468Z",
     "shell.execute_reply": "2022-08-27T05:57:38.842897Z",
     "shell.execute_reply.started": "2022-08-27T05:57:38.786135Z"
    }
   },
   "outputs": [
    {
     "data": {
      "application/vnd.jupyter.widget-view+json": {
       "model_id": "46e1da12e2ad42d28379221882e0e5df",
       "version_major": 2,
       "version_minor": 0
      },
      "text/plain": [
       "VBox()"
      ]
     },
     "metadata": {},
     "output_type": "display_data"
    },
    {
     "data": {
      "application/vnd.jupyter.widget-view+json": {
       "model_id": "",
       "version_major": 2,
       "version_minor": 0
      },
      "text/plain": [
       "FloatProgress(value=0.0, bar_style='info', description='Progress:', layout=Layout(height='25px', width='50%'),…"
      ]
     },
     "metadata": {},
     "output_type": "display_data"
    },
    {
     "name": "stdout",
     "output_type": "stream",
     "text": [
      "root\n",
      " |-- patent_id: string (nullable = true)\n",
      " |-- assignee_id: string (nullable = true)\n",
      " |-- location_id: string (nullable = true)"
     ]
    }
   ],
   "source": [
    "patent_assignee.printSchema()"
   ]
  },
  {
   "cell_type": "code",
   "execution_count": 51,
   "id": "d83a413c-9092-4933-bb79-22df97da0466",
   "metadata": {
    "execution": {
     "iopub.execute_input": "2022-08-27T05:57:57.902887Z",
     "iopub.status.busy": "2022-08-27T05:57:57.902653Z",
     "iopub.status.idle": "2022-08-27T05:58:11.630177Z",
     "shell.execute_reply": "2022-08-27T05:58:11.618078Z",
     "shell.execute_reply.started": "2022-08-27T05:57:57.902860Z"
    }
   },
   "outputs": [
    {
     "data": {
      "application/vnd.jupyter.widget-view+json": {
       "model_id": "95077d92235e46839ececffea08073d5",
       "version_major": 2,
       "version_minor": 0
      },
      "text/plain": [
       "VBox()"
      ]
     },
     "metadata": {},
     "output_type": "display_data"
    },
    {
     "data": {
      "application/vnd.jupyter.widget-view+json": {
       "model_id": "",
       "version_major": 2,
       "version_minor": 0
      },
      "text/plain": [
       "FloatProgress(value=0.0, bar_style='info', description='Progress:', layout=Layout(height='25px', width='50%'),…"
      ]
     },
     "metadata": {},
     "output_type": "display_data"
    },
    {
     "name": "stdout",
     "output_type": "stream",
     "text": [
      "7334687"
     ]
    }
   ],
   "source": [
    "patent_assignee.count()"
   ]
  },
  {
   "cell_type": "markdown",
   "id": "4de27d1e-3b7a-4b54-8ce6-10053a5eeac0",
   "metadata": {},
   "source": [
    "### Drop duplicates based on patent_id"
   ]
  },
  {
   "cell_type": "code",
   "execution_count": 52,
   "id": "ac487e09-7738-4082-a585-6f4ef7d83b06",
   "metadata": {
    "execution": {
     "iopub.execute_input": "2022-08-27T05:58:29.888167Z",
     "iopub.status.busy": "2022-08-27T05:58:29.887908Z",
     "iopub.status.idle": "2022-08-27T05:58:29.946127Z",
     "shell.execute_reply": "2022-08-27T05:58:29.945568Z",
     "shell.execute_reply.started": "2022-08-27T05:58:29.888141Z"
    }
   },
   "outputs": [
    {
     "data": {
      "application/vnd.jupyter.widget-view+json": {
       "model_id": "4ddb8afd85b64abfb7cf2c9b57b9a9e8",
       "version_major": 2,
       "version_minor": 0
      },
      "text/plain": [
       "VBox()"
      ]
     },
     "metadata": {},
     "output_type": "display_data"
    },
    {
     "data": {
      "application/vnd.jupyter.widget-view+json": {
       "model_id": "",
       "version_major": 2,
       "version_minor": 0
      },
      "text/plain": [
       "FloatProgress(value=0.0, bar_style='info', description='Progress:', layout=Layout(height='25px', width='50%'),…"
      ]
     },
     "metadata": {},
     "output_type": "display_data"
    }
   ],
   "source": [
    "patent_assignee = patent_assignee.dropDuplicates([\"patent_id\"])"
   ]
  },
  {
   "cell_type": "code",
   "execution_count": 53,
   "id": "e5a9980e-f32c-4e28-a17e-a455640bcde6",
   "metadata": {
    "execution": {
     "iopub.execute_input": "2022-08-27T05:58:42.617792Z",
     "iopub.status.busy": "2022-08-27T05:58:42.617556Z",
     "iopub.status.idle": "2022-08-27T05:59:14.048799Z",
     "shell.execute_reply": "2022-08-27T05:59:14.048153Z",
     "shell.execute_reply.started": "2022-08-27T05:58:42.617767Z"
    }
   },
   "outputs": [
    {
     "data": {
      "application/vnd.jupyter.widget-view+json": {
       "model_id": "51f57ee6b37645e49ebebd6a62ba2b54",
       "version_major": 2,
       "version_minor": 0
      },
      "text/plain": [
       "VBox()"
      ]
     },
     "metadata": {},
     "output_type": "display_data"
    },
    {
     "data": {
      "application/vnd.jupyter.widget-view+json": {
       "model_id": "",
       "version_major": 2,
       "version_minor": 0
      },
      "text/plain": [
       "FloatProgress(value=0.0, bar_style='info', description='Progress:', layout=Layout(height='25px', width='50%'),…"
      ]
     },
     "metadata": {},
     "output_type": "display_data"
    },
    {
     "name": "stdout",
     "output_type": "stream",
     "text": [
      "7084751"
     ]
    }
   ],
   "source": [
    "patent_assignee.count()"
   ]
  },
  {
   "cell_type": "markdown",
   "id": "35f7921c-79fa-4e89-8461-dc693c2f62f7",
   "metadata": {},
   "source": [
    "### Write the cleaned patent assignee to S3 "
   ]
  },
  {
   "cell_type": "code",
   "execution_count": 54,
   "id": "1b2deffe-d628-413f-afbb-95bc701bba97",
   "metadata": {
    "execution": {
     "iopub.execute_input": "2022-08-27T05:59:34.890667Z",
     "iopub.status.busy": "2022-08-27T05:59:34.890399Z",
     "iopub.status.idle": "2022-08-27T06:00:30.392888Z",
     "shell.execute_reply": "2022-08-27T06:00:30.391816Z",
     "shell.execute_reply.started": "2022-08-27T05:59:34.890640Z"
    }
   },
   "outputs": [
    {
     "data": {
      "application/vnd.jupyter.widget-view+json": {
       "model_id": "fcba58bf1c324ef5a7bedfa54588b1e6",
       "version_major": 2,
       "version_minor": 0
      },
      "text/plain": [
       "VBox()"
      ]
     },
     "metadata": {},
     "output_type": "display_data"
    },
    {
     "data": {
      "application/vnd.jupyter.widget-view+json": {
       "model_id": "",
       "version_major": 2,
       "version_minor": 0
      },
      "text/plain": [
       "FloatProgress(value=0.0, bar_style='info', description='Progress:', layout=Layout(height='25px', width='50%'),…"
      ]
     },
     "metadata": {},
     "output_type": "display_data"
    }
   ],
   "source": [
    "patent_assignee.write.mode(\"overwrite\").parquet(f\"{output_path}/patent_assignee.parquet\")"
   ]
  },
  {
   "cell_type": "markdown",
   "id": "3752d2a4-83df-4bd1-9e55-2e5db3fdf49c",
   "metadata": {},
   "source": [
    "## Cleaning the Patent Inventor Table"
   ]
  },
  {
   "cell_type": "code",
   "execution_count": 22,
   "id": "15e59743-aabc-4a80-9829-34450204ca78",
   "metadata": {
    "execution": {
     "iopub.execute_input": "2022-09-05T05:32:41.235253Z",
     "iopub.status.busy": "2022-09-05T05:32:41.235011Z",
     "iopub.status.idle": "2022-09-05T05:32:41.287996Z",
     "shell.execute_reply": "2022-09-05T05:32:41.287449Z",
     "shell.execute_reply.started": "2022-09-05T05:32:41.235227Z"
    },
    "tags": []
   },
   "outputs": [
    {
     "data": {
      "application/vnd.jupyter.widget-view+json": {
       "model_id": "8b4f1d74800c4918ad388b79a1a7c22c",
       "version_major": 2,
       "version_minor": 0
      },
      "text/plain": [
       "VBox()"
      ]
     },
     "metadata": {},
     "output_type": "display_data"
    },
    {
     "data": {
      "application/vnd.jupyter.widget-view+json": {
       "model_id": "",
       "version_major": 2,
       "version_minor": 0
      },
      "text/plain": [
       "FloatProgress(value=0.0, bar_style='info', description='Progress:', layout=Layout(height='25px', width='50%'),…"
      ]
     },
     "metadata": {},
     "output_type": "display_data"
    }
   ],
   "source": [
    "patent_inventor_path = \"s3://patents-analytics/raw/patent_inventor.tsv\""
   ]
  },
  {
   "cell_type": "code",
   "execution_count": 23,
   "id": "0eb1b37c-8c9f-4129-9964-0f11dc7690ea",
   "metadata": {
    "execution": {
     "iopub.execute_input": "2022-09-05T05:32:41.458086Z",
     "iopub.status.busy": "2022-09-05T05:32:41.457845Z",
     "iopub.status.idle": "2022-09-05T05:33:10.813195Z",
     "shell.execute_reply": "2022-09-05T05:33:10.812605Z",
     "shell.execute_reply.started": "2022-09-05T05:32:41.458062Z"
    },
    "tags": []
   },
   "outputs": [
    {
     "data": {
      "application/vnd.jupyter.widget-view+json": {
       "model_id": "155ac90271ca46859a61446dfd701cba",
       "version_major": 2,
       "version_minor": 0
      },
      "text/plain": [
       "VBox()"
      ]
     },
     "metadata": {},
     "output_type": "display_data"
    },
    {
     "data": {
      "application/vnd.jupyter.widget-view+json": {
       "model_id": "",
       "version_major": 2,
       "version_minor": 0
      },
      "text/plain": [
       "FloatProgress(value=0.0, bar_style='info', description='Progress:', layout=Layout(height='25px', width='50%'),…"
      ]
     },
     "metadata": {},
     "output_type": "display_data"
    }
   ],
   "source": [
    "patent_inventor = spark.read.options(header='True', delimiter='\\t', inferSchema='True', escape=\"\\\"\", multiline='True').csv(patent_inventor_path).repartition(10)"
   ]
  },
  {
   "cell_type": "code",
   "execution_count": 24,
   "id": "9bb19fd9-438e-4b41-8b47-dd73b7a944cf",
   "metadata": {
    "execution": {
     "iopub.execute_input": "2022-09-05T05:33:10.814371Z",
     "iopub.status.busy": "2022-09-05T05:33:10.814194Z",
     "iopub.status.idle": "2022-09-05T05:34:10.266968Z",
     "shell.execute_reply": "2022-09-05T05:34:10.266246Z",
     "shell.execute_reply.started": "2022-09-05T05:33:10.814349Z"
    },
    "tags": []
   },
   "outputs": [
    {
     "data": {
      "application/vnd.jupyter.widget-view+json": {
       "model_id": "1a7f4715a0174c8eab1550eb402f9049",
       "version_major": 2,
       "version_minor": 0
      },
      "text/plain": [
       "VBox()"
      ]
     },
     "metadata": {},
     "output_type": "display_data"
    },
    {
     "data": {
      "application/vnd.jupyter.widget-view+json": {
       "model_id": "",
       "version_major": 2,
       "version_minor": 0
      },
      "text/plain": [
       "FloatProgress(value=0.0, bar_style='info', description='Progress:', layout=Layout(height='25px', width='50%'),…"
      ]
     },
     "metadata": {},
     "output_type": "display_data"
    },
    {
     "name": "stdout",
     "output_type": "stream",
     "text": [
      "+---------+-----------------+--------------------+\n",
      "|patent_id|      inventor_id|         location_id|\n",
      "+---------+-----------------+--------------------+\n",
      "| 10634074|  fl:ry_ln:yuki-1|fda0887b-cb90-11e...|\n",
      "|  D609230|fl:ja_ln:dejong-7|cf8fb0e1-cb8f-11e...|\n",
      "|  7470408| fl:da_ln:hesse-8|d9cd82bc-cb8e-11e...|\n",
      "|  6561731| fl:ja_ln:clare-2|52927c26-cb8e-11e...|\n",
      "|  D398105| fl:pa_ln:diehl-2|d1b4d389-cb8e-11e...|\n",
      "+---------+-----------------+--------------------+\n",
      "only showing top 5 rows"
     ]
    }
   ],
   "source": [
    "patent_inventor.show(5)"
   ]
  },
  {
   "cell_type": "code",
   "execution_count": 25,
   "id": "e009a4f8-ab38-443a-838c-3c6cfa3cd6db",
   "metadata": {
    "execution": {
     "iopub.execute_input": "2022-09-05T05:34:10.268327Z",
     "iopub.status.busy": "2022-09-05T05:34:10.268147Z",
     "iopub.status.idle": "2022-09-05T05:34:31.631704Z",
     "shell.execute_reply": "2022-09-05T05:34:31.631075Z",
     "shell.execute_reply.started": "2022-09-05T05:34:10.268305Z"
    },
    "tags": []
   },
   "outputs": [
    {
     "data": {
      "application/vnd.jupyter.widget-view+json": {
       "model_id": "bea5b4f344e8425cbf4a7798e32d0dcc",
       "version_major": 2,
       "version_minor": 0
      },
      "text/plain": [
       "VBox()"
      ]
     },
     "metadata": {},
     "output_type": "display_data"
    },
    {
     "data": {
      "application/vnd.jupyter.widget-view+json": {
       "model_id": "",
       "version_major": 2,
       "version_minor": 0
      },
      "text/plain": [
       "FloatProgress(value=0.0, bar_style='info', description='Progress:', layout=Layout(height='25px', width='50%'),…"
      ]
     },
     "metadata": {},
     "output_type": "display_data"
    },
    {
     "name": "stdout",
     "output_type": "stream",
     "text": [
      "19843047"
     ]
    }
   ],
   "source": [
    "patent_inventor.count()"
   ]
  },
  {
   "cell_type": "code",
   "execution_count": 26,
   "id": "f3122c60-1d2a-4655-91ef-809ceb294039",
   "metadata": {
    "execution": {
     "iopub.execute_input": "2022-09-05T05:34:31.632982Z",
     "iopub.status.busy": "2022-09-05T05:34:31.632799Z",
     "iopub.status.idle": "2022-09-05T05:34:31.682834Z",
     "shell.execute_reply": "2022-09-05T05:34:31.682280Z",
     "shell.execute_reply.started": "2022-09-05T05:34:31.632959Z"
    },
    "tags": []
   },
   "outputs": [
    {
     "data": {
      "application/vnd.jupyter.widget-view+json": {
       "model_id": "0ab06de064b1469fa4dec69e5ab65f91",
       "version_major": 2,
       "version_minor": 0
      },
      "text/plain": [
       "VBox()"
      ]
     },
     "metadata": {},
     "output_type": "display_data"
    },
    {
     "data": {
      "application/vnd.jupyter.widget-view+json": {
       "model_id": "",
       "version_major": 2,
       "version_minor": 0
      },
      "text/plain": [
       "FloatProgress(value=0.0, bar_style='info', description='Progress:', layout=Layout(height='25px', width='50%'),…"
      ]
     },
     "metadata": {},
     "output_type": "display_data"
    },
    {
     "name": "stdout",
     "output_type": "stream",
     "text": [
      "root\n",
      " |-- patent_id: string (nullable = true)\n",
      " |-- inventor_id: string (nullable = true)\n",
      " |-- location_id: string (nullable = true)"
     ]
    }
   ],
   "source": [
    "patent_inventor.printSchema()"
   ]
  },
  {
   "cell_type": "markdown",
   "id": "a2512ac6-8ebc-4f63-972c-c5e48ce5ed68",
   "metadata": {},
   "source": [
    "### Drop duplicates based on patent_id"
   ]
  },
  {
   "cell_type": "code",
   "execution_count": 64,
   "id": "a62bffd0-1768-4c11-8d25-f3aed19a9cc0",
   "metadata": {
    "execution": {
     "iopub.execute_input": "2022-08-27T06:07:26.385074Z",
     "iopub.status.busy": "2022-08-27T06:07:26.384839Z",
     "iopub.status.idle": "2022-08-27T06:07:26.443203Z",
     "shell.execute_reply": "2022-08-27T06:07:26.442670Z",
     "shell.execute_reply.started": "2022-08-27T06:07:26.385043Z"
    },
    "tags": []
   },
   "outputs": [
    {
     "data": {
      "application/vnd.jupyter.widget-view+json": {
       "model_id": "3e5d2d5f5ae74b76a86fe684580c083d",
       "version_major": 2,
       "version_minor": 0
      },
      "text/plain": [
       "VBox()"
      ]
     },
     "metadata": {},
     "output_type": "display_data"
    },
    {
     "data": {
      "application/vnd.jupyter.widget-view+json": {
       "model_id": "",
       "version_major": 2,
       "version_minor": 0
      },
      "text/plain": [
       "FloatProgress(value=0.0, bar_style='info', description='Progress:', layout=Layout(height='25px', width='50%'),…"
      ]
     },
     "metadata": {},
     "output_type": "display_data"
    }
   ],
   "source": [
    "patent_inventor=patent_inventor.dropDuplicates([\"patent_id\"])"
   ]
  },
  {
   "cell_type": "code",
   "execution_count": 65,
   "id": "df306799-7432-47dc-acc1-f6f3114862e5",
   "metadata": {
    "execution": {
     "iopub.execute_input": "2022-08-27T06:07:26.681576Z",
     "iopub.status.busy": "2022-08-27T06:07:26.681342Z",
     "iopub.status.idle": "2022-08-27T06:08:30.205726Z",
     "shell.execute_reply": "2022-08-27T06:08:30.204873Z",
     "shell.execute_reply.started": "2022-08-27T06:07:26.681550Z"
    },
    "tags": []
   },
   "outputs": [
    {
     "data": {
      "application/vnd.jupyter.widget-view+json": {
       "model_id": "6f174de492c2432db133f81f18febe76",
       "version_major": 2,
       "version_minor": 0
      },
      "text/plain": [
       "VBox()"
      ]
     },
     "metadata": {},
     "output_type": "display_data"
    },
    {
     "data": {
      "application/vnd.jupyter.widget-view+json": {
       "model_id": "",
       "version_major": 2,
       "version_minor": 0
      },
      "text/plain": [
       "FloatProgress(value=0.0, bar_style='info', description='Progress:', layout=Layout(height='25px', width='50%'),…"
      ]
     },
     "metadata": {},
     "output_type": "display_data"
    },
    {
     "name": "stdout",
     "output_type": "stream",
     "text": [
      "8061179"
     ]
    }
   ],
   "source": [
    "patent_inventor.count()"
   ]
  },
  {
   "cell_type": "markdown",
   "id": "5ca39228-a0b4-4ece-bb82-a97e50558587",
   "metadata": {},
   "source": [
    "### Write the cleaned patent_inventor to S3"
   ]
  },
  {
   "cell_type": "code",
   "execution_count": 66,
   "id": "3c0e4016-7000-4ad3-a5dd-54166e49008f",
   "metadata": {
    "execution": {
     "iopub.execute_input": "2022-08-27T06:08:30.208835Z",
     "iopub.status.busy": "2022-08-27T06:08:30.208571Z",
     "iopub.status.idle": "2022-08-27T06:10:40.931458Z",
     "shell.execute_reply": "2022-08-27T06:10:40.929753Z",
     "shell.execute_reply.started": "2022-08-27T06:08:30.208799Z"
    },
    "tags": []
   },
   "outputs": [
    {
     "data": {
      "application/vnd.jupyter.widget-view+json": {
       "model_id": "54ede0829d7541ddab8bbd3e69e050c9",
       "version_major": 2,
       "version_minor": 0
      },
      "text/plain": [
       "VBox()"
      ]
     },
     "metadata": {},
     "output_type": "display_data"
    },
    {
     "data": {
      "application/vnd.jupyter.widget-view+json": {
       "model_id": "",
       "version_major": 2,
       "version_minor": 0
      },
      "text/plain": [
       "FloatProgress(value=0.0, bar_style='info', description='Progress:', layout=Layout(height='25px', width='50%'),…"
      ]
     },
     "metadata": {},
     "output_type": "display_data"
    }
   ],
   "source": [
    "patent_inventor.write.mode(\"overwrite\").parquet(f\"{output_path}/patent_inventor.parquet\")"
   ]
  }
 ],
 "metadata": {
  "kernelspec": {
   "display_name": "Python 3 (ipykernel)",
   "language": "python",
   "name": "python3"
  },
  "language_info": {
   "codemirror_mode": {
    "name": "ipython",
    "version": 3
   },
   "file_extension": ".py",
   "mimetype": "text/x-python",
   "name": "python",
   "nbconvert_exporter": "python",
   "pygments_lexer": "ipython3",
   "version": "3.8.8"
  }
 },
 "nbformat": 4,
 "nbformat_minor": 5
}
