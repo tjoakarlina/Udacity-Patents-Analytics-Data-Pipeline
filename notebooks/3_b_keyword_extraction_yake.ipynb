{
 "cells": [
  {
   "cell_type": "code",
   "execution_count": null,
   "id": "be821299-f5e7-4aca-b28b-b3b5318c79cf",
   "metadata": {
    "execution": {
     "iopub.execute_input": "2022-09-02T02:03:28.263211Z",
     "iopub.status.busy": "2022-09-02T02:03:28.262729Z",
     "iopub.status.idle": "2022-09-02T02:04:13.250023Z"
    },
    "tags": []
   },
   "outputs": [
    {
     "data": {
      "text/html": [
       "<table>\n",
       "<tr><th>ID</th><th>YARN Application ID</th><th>Kind</th><th>State</th><th>Spark UI</th><th>Driver log</th><th>Current session?</th></tr><tr><td>1</td><td>application_1662083654699_0003</td><td>pyspark</td><td>idle</td><td><a target=\"_blank\" href=\"http://ip-172-31-24-76.ap-southeast-1.compute.internal:20888/proxy/application_1662083654699_0003/\" >Link</a></td><td><a target=\"_blank\" href=\"http://ip-172-31-25-3.ap-southeast-1.compute.internal:8042/node/containerlogs/container_1662083654699_0003_01_000001/livy\" >Link</a></td><td>✔</td></tr></table>"
      ],
      "text/plain": [
       "<IPython.core.display.HTML object>"
      ]
     },
     "metadata": {},
     "output_type": "display_data"
    },
    {
     "data": {
      "application/vnd.jupyter.widget-view+json": {
       "model_id": "",
       "version_major": 2,
       "version_minor": 0
      },
      "text/plain": [
       "FloatProgress(value=0.0, bar_style='info', description='Progress:', layout=Layout(height='25px', width='50%'),…"
      ]
     },
     "metadata": {},
     "output_type": "display_data"
    },
    {
     "name": "stdout",
     "output_type": "stream",
     "text": [
      "SparkSession available as 'spark'.\n"
     ]
    },
    {
     "data": {
      "application/vnd.jupyter.widget-view+json": {
       "model_id": "",
       "version_major": 2,
       "version_minor": 0
      },
      "text/plain": [
       "FloatProgress(value=0.0, bar_style='info', description='Progress:', layout=Layout(height='25px', width='50%'),…"
      ]
     },
     "metadata": {},
     "output_type": "display_data"
    }
   ],
   "source": [
    "from pyspark.sql import SparkSession"
   ]
  },
  {
   "cell_type": "code",
   "execution_count": 2,
   "id": "fe10fe3d-f200-4c85-bec5-7da3679b875b",
   "metadata": {
    "execution": {
     "iopub.execute_input": "2022-09-02T02:04:18.049237Z",
     "iopub.status.busy": "2022-09-02T02:04:18.049009Z",
     "iopub.status.idle": "2022-09-02T02:04:18.126491Z",
     "shell.execute_reply": "2022-09-02T02:04:18.125910Z",
     "shell.execute_reply.started": "2022-09-02T02:04:18.049213Z"
    },
    "tags": []
   },
   "outputs": [
    {
     "data": {
      "application/vnd.jupyter.widget-view+json": {
       "model_id": "48404ef21ac74e1d95f0f172c34306b6",
       "version_major": 2,
       "version_minor": 0
      },
      "text/plain": [
       "VBox()"
      ]
     },
     "metadata": {},
     "output_type": "display_data"
    },
    {
     "data": {
      "application/vnd.jupyter.widget-view+json": {
       "model_id": "",
       "version_major": 2,
       "version_minor": 0
      },
      "text/plain": [
       "FloatProgress(value=0.0, bar_style='info', description='Progress:', layout=Layout(height='25px', width='50%'),…"
      ]
     },
     "metadata": {},
     "output_type": "display_data"
    }
   ],
   "source": [
    "spark = SparkSession.builder.getOrCreate()"
   ]
  },
  {
   "cell_type": "code",
   "execution_count": 3,
   "id": "2b19c5a4-6e49-415c-a920-25e6b65c08d7",
   "metadata": {
    "execution": {
     "iopub.execute_input": "2022-09-02T02:04:18.267437Z",
     "iopub.status.busy": "2022-09-02T02:04:18.267211Z",
     "iopub.status.idle": "2022-09-02T02:04:18.571949Z",
     "shell.execute_reply": "2022-09-02T02:04:18.571178Z",
     "shell.execute_reply.started": "2022-09-02T02:04:18.267414Z"
    },
    "tags": []
   },
   "outputs": [
    {
     "data": {
      "application/vnd.jupyter.widget-view+json": {
       "model_id": "6b88f64a5aed4c7881fb06a908eedf97",
       "version_major": 2,
       "version_minor": 0
      },
      "text/plain": [
       "VBox()"
      ]
     },
     "metadata": {},
     "output_type": "display_data"
    },
    {
     "data": {
      "application/vnd.jupyter.widget-view+json": {
       "model_id": "",
       "version_major": 2,
       "version_minor": 0
      },
      "text/plain": [
       "FloatProgress(value=0.0, bar_style='info', description='Progress:', layout=Layout(height='25px', width='50%'),…"
      ]
     },
     "metadata": {},
     "output_type": "display_data"
    },
    {
     "name": "stdout",
     "output_type": "stream",
     "text": [
      "'10g'"
     ]
    }
   ],
   "source": [
    "spark.sparkContext.getConf().get('spark.driver.memory')"
   ]
  },
  {
   "cell_type": "code",
   "execution_count": 4,
   "id": "9790c421-92ac-414a-a3d0-c4dab5dfc5ff",
   "metadata": {
    "execution": {
     "iopub.execute_input": "2022-09-02T02:04:18.573461Z",
     "iopub.status.busy": "2022-09-02T02:04:18.573225Z",
     "iopub.status.idle": "2022-09-02T02:04:18.654346Z",
     "shell.execute_reply": "2022-09-02T02:04:18.653699Z",
     "shell.execute_reply.started": "2022-09-02T02:04:18.573429Z"
    },
    "tags": []
   },
   "outputs": [
    {
     "data": {
      "application/vnd.jupyter.widget-view+json": {
       "model_id": "d6f1eb1e766143c0894bc0742845fe05",
       "version_major": 2,
       "version_minor": 0
      },
      "text/plain": [
       "VBox()"
      ]
     },
     "metadata": {},
     "output_type": "display_data"
    },
    {
     "data": {
      "application/vnd.jupyter.widget-view+json": {
       "model_id": "",
       "version_major": 2,
       "version_minor": 0
      },
      "text/plain": [
       "FloatProgress(value=0.0, bar_style='info', description='Progress:', layout=Layout(height='25px', width='50%'),…"
      ]
     },
     "metadata": {},
     "output_type": "display_data"
    }
   ],
   "source": [
    "output_path =\"s3://patents-analytics/cleaned\""
   ]
  },
  {
   "cell_type": "code",
   "execution_count": 5,
   "id": "c6a343c7-5c28-437a-8407-05f4d246f112",
   "metadata": {
    "execution": {
     "iopub.execute_input": "2022-09-02T02:04:19.454076Z",
     "iopub.status.busy": "2022-09-02T02:04:19.453849Z",
     "iopub.status.idle": "2022-09-02T02:04:19.732121Z",
     "shell.execute_reply": "2022-09-02T02:04:19.731358Z",
     "shell.execute_reply.started": "2022-09-02T02:04:19.454052Z"
    },
    "tags": []
   },
   "outputs": [
    {
     "data": {
      "application/vnd.jupyter.widget-view+json": {
       "model_id": "7944ff4a42724cd4a7835d64fb0ac533",
       "version_major": 2,
       "version_minor": 0
      },
      "text/plain": [
       "VBox()"
      ]
     },
     "metadata": {},
     "output_type": "display_data"
    },
    {
     "data": {
      "application/vnd.jupyter.widget-view+json": {
       "model_id": "",
       "version_major": 2,
       "version_minor": 0
      },
      "text/plain": [
       "FloatProgress(value=0.0, bar_style='info', description='Progress:', layout=Layout(height='25px', width='50%'),…"
      ]
     },
     "metadata": {},
     "output_type": "display_data"
    }
   ],
   "source": [
    "import pyspark.sql.types as T\n",
    "import pyspark.sql.functions as F\n",
    "import pyspark.sql.window as w"
   ]
  },
  {
   "cell_type": "code",
   "execution_count": 6,
   "id": "b9856322-2773-4056-9126-3e9cf0b211a6",
   "metadata": {
    "execution": {
     "iopub.execute_input": "2022-09-02T02:04:19.733392Z",
     "iopub.status.busy": "2022-09-02T02:04:19.733216Z",
     "iopub.status.idle": "2022-09-02T02:04:20.529502Z",
     "shell.execute_reply": "2022-09-02T02:04:20.528864Z",
     "shell.execute_reply.started": "2022-09-02T02:04:19.733371Z"
    },
    "tags": []
   },
   "outputs": [
    {
     "data": {
      "application/vnd.jupyter.widget-view+json": {
       "model_id": "79bbf4c79e54427dae5cb9888e59c8d8",
       "version_major": 2,
       "version_minor": 0
      },
      "text/plain": [
       "VBox()"
      ]
     },
     "metadata": {},
     "output_type": "display_data"
    },
    {
     "data": {
      "application/vnd.jupyter.widget-view+json": {
       "model_id": "",
       "version_major": 2,
       "version_minor": 0
      },
      "text/plain": [
       "FloatProgress(value=0.0, bar_style='info', description='Progress:', layout=Layout(height='25px', width='50%'),…"
      ]
     },
     "metadata": {},
     "output_type": "display_data"
    }
   ],
   "source": [
    "import sparknlp\n",
    "from sparknlp.base import *\n",
    "from sparknlp.annotator import *\n",
    "from pyspark.ml import Pipeline"
   ]
  },
  {
   "cell_type": "markdown",
   "id": "71afaf83-a08c-4715-a675-c6bb0c9931ad",
   "metadata": {},
   "source": [
    "## Read the cleaned patent data"
   ]
  },
  {
   "cell_type": "code",
   "execution_count": 7,
   "id": "68a68093-93cf-4c9e-add5-da63cb3a3d51",
   "metadata": {
    "execution": {
     "iopub.execute_input": "2022-09-02T02:04:30.239140Z",
     "iopub.status.busy": "2022-09-02T02:04:30.238902Z",
     "iopub.status.idle": "2022-09-02T02:04:30.314144Z",
     "shell.execute_reply": "2022-09-02T02:04:30.313584Z",
     "shell.execute_reply.started": "2022-09-02T02:04:30.239114Z"
    },
    "tags": []
   },
   "outputs": [
    {
     "data": {
      "application/vnd.jupyter.widget-view+json": {
       "model_id": "a6c64a2f5b38408d96ac39ffe214ee50",
       "version_major": 2,
       "version_minor": 0
      },
      "text/plain": [
       "VBox()"
      ]
     },
     "metadata": {},
     "output_type": "display_data"
    },
    {
     "data": {
      "application/vnd.jupyter.widget-view+json": {
       "model_id": "",
       "version_major": 2,
       "version_minor": 0
      },
      "text/plain": [
       "FloatProgress(value=0.0, bar_style='info', description='Progress:', layout=Layout(height='25px', width='50%'),…"
      ]
     },
     "metadata": {},
     "output_type": "display_data"
    }
   ],
   "source": [
    "patent_cleaned_path = \"s3://patents-analytics/cleaned/patent.parquet/\""
   ]
  },
  {
   "cell_type": "code",
   "execution_count": 8,
   "id": "7186fcf9-168e-43ce-af33-2f9af19e9bd5",
   "metadata": {
    "execution": {
     "iopub.execute_input": "2022-09-02T02:04:30.589914Z",
     "iopub.status.busy": "2022-09-02T02:04:30.589672Z",
     "iopub.status.idle": "2022-09-02T02:04:39.953972Z",
     "shell.execute_reply": "2022-09-02T02:04:39.951560Z",
     "shell.execute_reply.started": "2022-09-02T02:04:30.589889Z"
    },
    "tags": []
   },
   "outputs": [
    {
     "data": {
      "application/vnd.jupyter.widget-view+json": {
       "model_id": "b141fc0cbfff4be283139487be6ce163",
       "version_major": 2,
       "version_minor": 0
      },
      "text/plain": [
       "VBox()"
      ]
     },
     "metadata": {},
     "output_type": "display_data"
    },
    {
     "data": {
      "application/vnd.jupyter.widget-view+json": {
       "model_id": "",
       "version_major": 2,
       "version_minor": 0
      },
      "text/plain": [
       "FloatProgress(value=0.0, bar_style='info', description='Progress:', layout=Layout(height='25px', width='50%'),…"
      ]
     },
     "metadata": {},
     "output_type": "display_data"
    }
   ],
   "source": [
    "patent_cleaned = spark.read.parquet(patent_cleaned_path)"
   ]
  },
  {
   "cell_type": "code",
   "execution_count": 9,
   "id": "1ed46f1a-c2c9-4073-a506-d6432a0c0a54",
   "metadata": {
    "execution": {
     "iopub.execute_input": "2022-09-02T02:04:39.955219Z",
     "iopub.status.busy": "2022-09-02T02:04:39.955028Z",
     "iopub.status.idle": "2022-09-02T02:04:40.271430Z",
     "shell.execute_reply": "2022-09-02T02:04:40.270725Z",
     "shell.execute_reply.started": "2022-09-02T02:04:39.955195Z"
    },
    "tags": []
   },
   "outputs": [
    {
     "data": {
      "application/vnd.jupyter.widget-view+json": {
       "model_id": "44e1497878a34dac8480b838937d0db1",
       "version_major": 2,
       "version_minor": 0
      },
      "text/plain": [
       "VBox()"
      ]
     },
     "metadata": {},
     "output_type": "display_data"
    },
    {
     "data": {
      "application/vnd.jupyter.widget-view+json": {
       "model_id": "",
       "version_major": 2,
       "version_minor": 0
      },
      "text/plain": [
       "FloatProgress(value=0.0, bar_style='info', description='Progress:', layout=Layout(height='25px', width='50%'),…"
      ]
     },
     "metadata": {},
     "output_type": "display_data"
    },
    {
     "name": "stdout",
     "output_type": "stream",
     "text": [
      "root\n",
      " |-- id: string (nullable = true)\n",
      " |-- type: string (nullable = true)\n",
      " |-- date: timestamp (nullable = true)\n",
      " |-- abstract: string (nullable = true)\n",
      " |-- title: string (nullable = true)\n",
      " |-- kind: string (nullable = true)\n",
      " |-- num_claims: integer (nullable = true)\n",
      " |-- year: integer (nullable = true)"
     ]
    }
   ],
   "source": [
    "patent_cleaned.printSchema()"
   ]
  },
  {
   "cell_type": "code",
   "execution_count": 10,
   "id": "39067e1f-98d2-4544-a6bd-5cc7d0c2fc4b",
   "metadata": {
    "execution": {
     "iopub.execute_input": "2022-09-02T02:04:40.279816Z",
     "iopub.status.busy": "2022-09-02T02:04:40.275526Z",
     "iopub.status.idle": "2022-09-02T02:04:40.388179Z",
     "shell.execute_reply": "2022-09-02T02:04:40.387266Z",
     "shell.execute_reply.started": "2022-09-02T02:04:40.279774Z"
    },
    "tags": []
   },
   "outputs": [
    {
     "data": {
      "application/vnd.jupyter.widget-view+json": {
       "model_id": "d3c03f1707b14a1d80819804ce4b333e",
       "version_major": 2,
       "version_minor": 0
      },
      "text/plain": [
       "VBox()"
      ]
     },
     "metadata": {},
     "output_type": "display_data"
    },
    {
     "data": {
      "application/vnd.jupyter.widget-view+json": {
       "model_id": "",
       "version_major": 2,
       "version_minor": 0
      },
      "text/plain": [
       "FloatProgress(value=0.0, bar_style='info', description='Progress:', layout=Layout(height='25px', width='50%'),…"
      ]
     },
     "metadata": {},
     "output_type": "display_data"
    }
   ],
   "source": [
    "def combine_details(abstract, title):\n",
    "    details = \"\"\n",
    "    if title:\n",
    "        details= details + title\n",
    "    if abstract:\n",
    "        details=details + abstract\n",
    "    return details"
   ]
  },
  {
   "cell_type": "code",
   "execution_count": 11,
   "id": "97d0cbd3-4299-4a3f-ac73-dbd5d0097896",
   "metadata": {
    "execution": {
     "iopub.execute_input": "2022-09-02T02:04:40.390051Z",
     "iopub.status.busy": "2022-09-02T02:04:40.389791Z",
     "iopub.status.idle": "2022-09-02T02:04:40.481832Z",
     "shell.execute_reply": "2022-09-02T02:04:40.481193Z",
     "shell.execute_reply.started": "2022-09-02T02:04:40.390017Z"
    },
    "tags": []
   },
   "outputs": [
    {
     "data": {
      "application/vnd.jupyter.widget-view+json": {
       "model_id": "e3c764423d3b4d6eb1b0998d667a22f2",
       "version_major": 2,
       "version_minor": 0
      },
      "text/plain": [
       "VBox()"
      ]
     },
     "metadata": {},
     "output_type": "display_data"
    },
    {
     "data": {
      "application/vnd.jupyter.widget-view+json": {
       "model_id": "",
       "version_major": 2,
       "version_minor": 0
      },
      "text/plain": [
       "FloatProgress(value=0.0, bar_style='info', description='Progress:', layout=Layout(height='25px', width='50%'),…"
      ]
     },
     "metadata": {},
     "output_type": "display_data"
    }
   ],
   "source": [
    "combine_details_udf = F.udf(combine_details, T.StringType())"
   ]
  },
  {
   "cell_type": "code",
   "execution_count": 12,
   "id": "212c956a-efc9-4344-a39b-811b022d8cb0",
   "metadata": {
    "execution": {
     "iopub.execute_input": "2022-09-02T02:04:40.483194Z",
     "iopub.status.busy": "2022-09-02T02:04:40.482944Z",
     "iopub.status.idle": "2022-09-02T02:04:40.777977Z",
     "shell.execute_reply": "2022-09-02T02:04:40.777404Z",
     "shell.execute_reply.started": "2022-09-02T02:04:40.483160Z"
    },
    "tags": []
   },
   "outputs": [
    {
     "data": {
      "application/vnd.jupyter.widget-view+json": {
       "model_id": "137d75d31fc1465c8f806aa3eaee4619",
       "version_major": 2,
       "version_minor": 0
      },
      "text/plain": [
       "VBox()"
      ]
     },
     "metadata": {},
     "output_type": "display_data"
    },
    {
     "data": {
      "application/vnd.jupyter.widget-view+json": {
       "model_id": "",
       "version_major": 2,
       "version_minor": 0
      },
      "text/plain": [
       "FloatProgress(value=0.0, bar_style='info', description='Progress:', layout=Layout(height='25px', width='50%'),…"
      ]
     },
     "metadata": {},
     "output_type": "display_data"
    }
   ],
   "source": [
    "patent_cleaned_combined = patent_cleaned.withColumn(\"details\", combine_details_udf(F.col(\"abstract\"), F.col(\"title\"))).select(F.col(\"id\"), F.col(\"details\"))"
   ]
  },
  {
   "cell_type": "code",
   "execution_count": 13,
   "id": "2b877c28-3164-4127-a32c-da1a7c323953",
   "metadata": {
    "execution": {
     "iopub.execute_input": "2022-09-02T02:04:40.778941Z",
     "iopub.status.busy": "2022-09-02T02:04:40.778770Z",
     "iopub.status.idle": "2022-09-02T02:04:41.564937Z",
     "shell.execute_reply": "2022-09-02T02:04:41.564371Z",
     "shell.execute_reply.started": "2022-09-02T02:04:40.778918Z"
    },
    "tags": []
   },
   "outputs": [
    {
     "data": {
      "application/vnd.jupyter.widget-view+json": {
       "model_id": "4c67f94b79a742da86aa10c8e04f3567",
       "version_major": 2,
       "version_minor": 0
      },
      "text/plain": [
       "VBox()"
      ]
     },
     "metadata": {},
     "output_type": "display_data"
    },
    {
     "data": {
      "application/vnd.jupyter.widget-view+json": {
       "model_id": "",
       "version_major": 2,
       "version_minor": 0
      },
      "text/plain": [
       "FloatProgress(value=0.0, bar_style='info', description='Progress:', layout=Layout(height='25px', width='50%'),…"
      ]
     },
     "metadata": {},
     "output_type": "display_data"
    }
   ],
   "source": [
    "subset = patent_cleaned_combined.limit(10).cache()"
   ]
  },
  {
   "cell_type": "markdown",
   "id": "ac89719d-a149-48ea-83f7-12e2bd88352a",
   "metadata": {},
   "source": [
    "## Prepare the YAKE Pipeline"
   ]
  },
  {
   "cell_type": "code",
   "execution_count": 14,
   "id": "894906a8-f552-425b-b781-65dda1cd6395",
   "metadata": {
    "execution": {
     "iopub.execute_input": "2022-09-02T02:04:41.566231Z",
     "iopub.status.busy": "2022-09-02T02:04:41.565962Z",
     "iopub.status.idle": "2022-09-02T02:04:41.832434Z",
     "shell.execute_reply": "2022-09-02T02:04:41.831816Z",
     "shell.execute_reply.started": "2022-09-02T02:04:41.566195Z"
    },
    "tags": []
   },
   "outputs": [
    {
     "data": {
      "application/vnd.jupyter.widget-view+json": {
       "model_id": "57b0d41e425c4184b2bcf3e785bfe50d",
       "version_major": 2,
       "version_minor": 0
      },
      "text/plain": [
       "VBox()"
      ]
     },
     "metadata": {},
     "output_type": "display_data"
    },
    {
     "data": {
      "application/vnd.jupyter.widget-view+json": {
       "model_id": "",
       "version_major": 2,
       "version_minor": 0
      },
      "text/plain": [
       "FloatProgress(value=0.0, bar_style='info', description='Progress:', layout=Layout(height='25px', width='50%'),…"
      ]
     },
     "metadata": {},
     "output_type": "display_data"
    }
   ],
   "source": [
    "document_assembler = DocumentAssembler().setInputCol(\"details\").setOutputCol(\"document\")"
   ]
  },
  {
   "cell_type": "code",
   "execution_count": 15,
   "id": "37c4d75f-05fa-4972-9d6d-13ad597ebab4",
   "metadata": {
    "execution": {
     "iopub.execute_input": "2022-09-02T02:04:41.834740Z",
     "iopub.status.busy": "2022-09-02T02:04:41.834343Z",
     "iopub.status.idle": "2022-09-02T02:04:42.114210Z",
     "shell.execute_reply": "2022-09-02T02:04:42.113610Z",
     "shell.execute_reply.started": "2022-09-02T02:04:41.834701Z"
    },
    "tags": []
   },
   "outputs": [
    {
     "data": {
      "application/vnd.jupyter.widget-view+json": {
       "model_id": "dc9dd9b7856943198dbbef276c004d92",
       "version_major": 2,
       "version_minor": 0
      },
      "text/plain": [
       "VBox()"
      ]
     },
     "metadata": {},
     "output_type": "display_data"
    },
    {
     "data": {
      "application/vnd.jupyter.widget-view+json": {
       "model_id": "",
       "version_major": 2,
       "version_minor": 0
      },
      "text/plain": [
       "FloatProgress(value=0.0, bar_style='info', description='Progress:', layout=Layout(height='25px', width='50%'),…"
      ]
     },
     "metadata": {},
     "output_type": "display_data"
    }
   ],
   "source": [
    "sentence_detector = SentenceDetector().setInputCols([\"document\"]).setOutputCol(\"sentence\")"
   ]
  },
  {
   "cell_type": "code",
   "execution_count": 16,
   "id": "1a2fd926-9b07-4383-81c5-602f687f04c0",
   "metadata": {
    "execution": {
     "iopub.execute_input": "2022-09-02T02:04:42.115786Z",
     "iopub.status.busy": "2022-09-02T02:04:42.115484Z",
     "iopub.status.idle": "2022-09-02T02:04:42.392620Z",
     "shell.execute_reply": "2022-09-02T02:04:42.392062Z",
     "shell.execute_reply.started": "2022-09-02T02:04:42.115751Z"
    },
    "tags": []
   },
   "outputs": [
    {
     "data": {
      "application/vnd.jupyter.widget-view+json": {
       "model_id": "4433f3f477e14245b86daa7499c8818b",
       "version_major": 2,
       "version_minor": 0
      },
      "text/plain": [
       "VBox()"
      ]
     },
     "metadata": {},
     "output_type": "display_data"
    },
    {
     "data": {
      "application/vnd.jupyter.widget-view+json": {
       "model_id": "",
       "version_major": 2,
       "version_minor": 0
      },
      "text/plain": [
       "FloatProgress(value=0.0, bar_style='info', description='Progress:', layout=Layout(height='25px', width='50%'),…"
      ]
     },
     "metadata": {},
     "output_type": "display_data"
    }
   ],
   "source": [
    "token = Tokenizer().setInputCols([\"sentence\"]).setOutputCol(\"token\")"
   ]
  },
  {
   "cell_type": "code",
   "execution_count": 17,
   "id": "f354a2ad-38be-49a5-979e-d796f2665fe9",
   "metadata": {
    "execution": {
     "iopub.execute_input": "2022-09-02T02:04:42.393670Z",
     "iopub.status.busy": "2022-09-02T02:04:42.393501Z",
     "iopub.status.idle": "2022-09-02T02:04:42.662293Z",
     "shell.execute_reply": "2022-09-02T02:04:42.661598Z",
     "shell.execute_reply.started": "2022-09-02T02:04:42.393649Z"
    },
    "tags": []
   },
   "outputs": [
    {
     "data": {
      "application/vnd.jupyter.widget-view+json": {
       "model_id": "e94096799f6b41a4bd3e6d7c0f26a288",
       "version_major": 2,
       "version_minor": 0
      },
      "text/plain": [
       "VBox()"
      ]
     },
     "metadata": {},
     "output_type": "display_data"
    },
    {
     "data": {
      "application/vnd.jupyter.widget-view+json": {
       "model_id": "",
       "version_major": 2,
       "version_minor": 0
      },
      "text/plain": [
       "FloatProgress(value=0.0, bar_style='info', description='Progress:', layout=Layout(height='25px', width='50%'),…"
      ]
     },
     "metadata": {},
     "output_type": "display_data"
    }
   ],
   "source": [
    "keywords = YakeKeywordExtraction().setInputCols([\"token\"]).setOutputCol(\"keywords\").setMinNGrams(1).setMaxNGrams(2).setWindowSize(2).setThreshold(0.6)"
   ]
  },
  {
   "cell_type": "code",
   "execution_count": 18,
   "id": "3cc21190-494e-49b8-a562-4b7d17f6dbb8",
   "metadata": {
    "execution": {
     "iopub.execute_input": "2022-09-02T02:04:42.663732Z",
     "iopub.status.busy": "2022-09-02T02:04:42.663449Z",
     "iopub.status.idle": "2022-09-02T02:04:42.745886Z",
     "shell.execute_reply": "2022-09-02T02:04:42.745193Z",
     "shell.execute_reply.started": "2022-09-02T02:04:42.663700Z"
    },
    "tags": []
   },
   "outputs": [
    {
     "data": {
      "application/vnd.jupyter.widget-view+json": {
       "model_id": "88faea92c9fb4b1d9c8cb364a0a67387",
       "version_major": 2,
       "version_minor": 0
      },
      "text/plain": [
       "VBox()"
      ]
     },
     "metadata": {},
     "output_type": "display_data"
    },
    {
     "data": {
      "application/vnd.jupyter.widget-view+json": {
       "model_id": "",
       "version_major": 2,
       "version_minor": 0
      },
      "text/plain": [
       "FloatProgress(value=0.0, bar_style='info', description='Progress:', layout=Layout(height='25px', width='50%'),…"
      ]
     },
     "metadata": {},
     "output_type": "display_data"
    }
   ],
   "source": [
    "pipeline = Pipeline().setStages([document_assembler, sentence_detector, token, keywords])"
   ]
  },
  {
   "cell_type": "code",
   "execution_count": 19,
   "id": "6fe45dab-305f-4f15-b91d-411872539f4c",
   "metadata": {
    "execution": {
     "iopub.execute_input": "2022-09-02T02:04:42.747066Z",
     "iopub.status.busy": "2022-09-02T02:04:42.746891Z",
     "iopub.status.idle": "2022-09-02T02:04:44.074630Z",
     "shell.execute_reply": "2022-09-02T02:04:44.074031Z",
     "shell.execute_reply.started": "2022-09-02T02:04:42.747044Z"
    },
    "tags": []
   },
   "outputs": [
    {
     "data": {
      "application/vnd.jupyter.widget-view+json": {
       "model_id": "956829c7210f4233a2fec3b7bf5b28b3",
       "version_major": 2,
       "version_minor": 0
      },
      "text/plain": [
       "VBox()"
      ]
     },
     "metadata": {},
     "output_type": "display_data"
    },
    {
     "data": {
      "application/vnd.jupyter.widget-view+json": {
       "model_id": "",
       "version_major": 2,
       "version_minor": 0
      },
      "text/plain": [
       "FloatProgress(value=0.0, bar_style='info', description='Progress:', layout=Layout(height='25px', width='50%'),…"
      ]
     },
     "metadata": {},
     "output_type": "display_data"
    }
   ],
   "source": [
    "result = pipeline.fit(patent_cleaned_combined).transform(patent_cleaned_combined)"
   ]
  },
  {
   "cell_type": "code",
   "execution_count": 20,
   "id": "6dd74bf8-9374-46cf-8ed8-d94b5d4aae5c",
   "metadata": {
    "execution": {
     "iopub.execute_input": "2022-09-02T02:04:44.076060Z",
     "iopub.status.busy": "2022-09-02T02:04:44.075673Z",
     "iopub.status.idle": "2022-09-02T02:04:44.156495Z",
     "shell.execute_reply": "2022-09-02T02:04:44.155940Z",
     "shell.execute_reply.started": "2022-09-02T02:04:44.076022Z"
    },
    "tags": []
   },
   "outputs": [
    {
     "data": {
      "application/vnd.jupyter.widget-view+json": {
       "model_id": "40928dc8f2454a5f9f39515243ea3451",
       "version_major": 2,
       "version_minor": 0
      },
      "text/plain": [
       "VBox()"
      ]
     },
     "metadata": {},
     "output_type": "display_data"
    },
    {
     "data": {
      "application/vnd.jupyter.widget-view+json": {
       "model_id": "",
       "version_major": 2,
       "version_minor": 0
      },
      "text/plain": [
       "FloatProgress(value=0.0, bar_style='info', description='Progress:', layout=Layout(height='25px', width='50%'),…"
      ]
     },
     "metadata": {},
     "output_type": "display_data"
    },
    {
     "name": "stdout",
     "output_type": "stream",
     "text": [
      "root\n",
      " |-- id: string (nullable = true)\n",
      " |-- details: string (nullable = true)\n",
      " |-- document: array (nullable = true)\n",
      " |    |-- element: struct (containsNull = true)\n",
      " |    |    |-- annotatorType: string (nullable = true)\n",
      " |    |    |-- begin: integer (nullable = false)\n",
      " |    |    |-- end: integer (nullable = false)\n",
      " |    |    |-- result: string (nullable = true)\n",
      " |    |    |-- metadata: map (nullable = true)\n",
      " |    |    |    |-- key: string\n",
      " |    |    |    |-- value: string (valueContainsNull = true)\n",
      " |    |    |-- embeddings: array (nullable = true)\n",
      " |    |    |    |-- element: float (containsNull = false)\n",
      " |-- sentence: array (nullable = true)\n",
      " |    |-- element: struct (containsNull = true)\n",
      " |    |    |-- annotatorType: string (nullable = true)\n",
      " |    |    |-- begin: integer (nullable = false)\n",
      " |    |    |-- end: integer (nullable = false)\n",
      " |    |    |-- result: string (nullable = true)\n",
      " |    |    |-- metadata: map (nullable = true)\n",
      " |    |    |    |-- key: string\n",
      " |    |    |    |-- value: string (valueContainsNull = true)\n",
      " |    |    |-- embeddings: array (nullable = true)\n",
      " |    |    |    |-- element: float (containsNull = false)\n",
      " |-- token: array (nullable = true)\n",
      " |    |-- element: struct (containsNull = true)\n",
      " |    |    |-- annotatorType: string (nullable = true)\n",
      " |    |    |-- begin: integer (nullable = false)\n",
      " |    |    |-- end: integer (nullable = false)\n",
      " |    |    |-- result: string (nullable = true)\n",
      " |    |    |-- metadata: map (nullable = true)\n",
      " |    |    |    |-- key: string\n",
      " |    |    |    |-- value: string (valueContainsNull = true)\n",
      " |    |    |-- embeddings: array (nullable = true)\n",
      " |    |    |    |-- element: float (containsNull = false)\n",
      " |-- keywords: array (nullable = true)\n",
      " |    |-- element: struct (containsNull = true)\n",
      " |    |    |-- annotatorType: string (nullable = true)\n",
      " |    |    |-- begin: integer (nullable = false)\n",
      " |    |    |-- end: integer (nullable = false)\n",
      " |    |    |-- result: string (nullable = true)\n",
      " |    |    |-- metadata: map (nullable = true)\n",
      " |    |    |    |-- key: string\n",
      " |    |    |    |-- value: string (valueContainsNull = true)\n",
      " |    |    |-- embeddings: array (nullable = true)\n",
      " |    |    |    |-- element: float (containsNull = false)"
     ]
    }
   ],
   "source": [
    "result.printSchema()"
   ]
  },
  {
   "cell_type": "code",
   "execution_count": 21,
   "id": "63564c1e-ec80-4f68-9985-57e374941768",
   "metadata": {
    "execution": {
     "iopub.execute_input": "2022-09-02T02:04:44.157530Z",
     "iopub.status.busy": "2022-09-02T02:04:44.157360Z",
     "iopub.status.idle": "2022-09-02T05:27:58.906197Z",
     "shell.execute_reply": "2022-09-02T05:27:58.905589Z",
     "shell.execute_reply.started": "2022-09-02T02:04:44.157508Z"
    },
    "tags": []
   },
   "outputs": [
    {
     "data": {
      "application/vnd.jupyter.widget-view+json": {
       "model_id": "70b3d670d14f494a9af1eaef105ab9e6",
       "version_major": 2,
       "version_minor": 0
      },
      "text/plain": [
       "VBox()"
      ]
     },
     "metadata": {},
     "output_type": "display_data"
    },
    {
     "data": {
      "application/vnd.jupyter.widget-view+json": {
       "model_id": "",
       "version_major": 2,
       "version_minor": 0
      },
      "text/plain": [
       "FloatProgress(value=0.0, bar_style='info', description='Progress:', layout=Layout(height='25px', width='50%'),…"
      ]
     },
     "metadata": {},
     "output_type": "display_data"
    }
   ],
   "source": [
    "result.write.mode(\"overwrite\").parquet(f\"{output_path}/patent_keyword_raw.parquet\")"
   ]
  },
  {
   "cell_type": "markdown",
   "id": "5bfb3d45-f762-4150-8c5e-d940d7b23069",
   "metadata": {},
   "source": [
    "### Create Transformer to produce keyword and score column"
   ]
  },
  {
   "cell_type": "code",
   "execution_count": 22,
   "id": "b3aac441-8f90-4f96-bd6d-266b55343486",
   "metadata": {
    "execution": {
     "iopub.execute_input": "2022-09-02T05:29:45.716470Z",
     "iopub.status.busy": "2022-09-02T05:29:45.716239Z",
     "iopub.status.idle": "2022-09-02T05:29:45.775898Z",
     "shell.execute_reply": "2022-09-02T05:29:45.775207Z",
     "shell.execute_reply.started": "2022-09-02T05:29:45.716446Z"
    },
    "tags": []
   },
   "outputs": [
    {
     "data": {
      "application/vnd.jupyter.widget-view+json": {
       "model_id": "9adb2980f0d54b23879ad7befb98bae9",
       "version_major": 2,
       "version_minor": 0
      },
      "text/plain": [
       "VBox()"
      ]
     },
     "metadata": {},
     "output_type": "display_data"
    },
    {
     "data": {
      "application/vnd.jupyter.widget-view+json": {
       "model_id": "",
       "version_major": 2,
       "version_minor": 0
      },
      "text/plain": [
       "FloatProgress(value=0.0, bar_style='info', description='Progress:', layout=Layout(height='25px', width='50%'),…"
      ]
     },
     "metadata": {},
     "output_type": "display_data"
    }
   ],
   "source": [
    "from pyspark import keyword_only\n",
    "from pyspark.ml import Transformer\n",
    "from pyspark.ml.param.shared import HasInputCols, HasOutputCol, Param, Params, TypeConverters\n",
    "from pyspark.ml.util import DefaultParamsReadable, DefaultParamsWritable\n",
    "from pyspark.sql import DataFrame\n",
    "from pyspark.sql.types import StringType, ArrayType, StructType, StructField, IntegerType,FloatType, MapType\n",
    "import pyspark.sql.functions as F"
   ]
  },
  {
   "cell_type": "code",
   "execution_count": 24,
   "id": "5d5bf0e2-b487-4a89-92d5-863130271604",
   "metadata": {
    "execution": {
     "iopub.execute_input": "2022-09-02T05:29:52.717625Z",
     "iopub.status.busy": "2022-09-02T05:29:52.717396Z",
     "iopub.status.idle": "2022-09-02T05:29:52.772993Z",
     "shell.execute_reply": "2022-09-02T05:29:52.772338Z",
     "shell.execute_reply.started": "2022-09-02T05:29:52.717601Z"
    },
    "tags": []
   },
   "outputs": [
    {
     "data": {
      "application/vnd.jupyter.widget-view+json": {
       "model_id": "766296bbc62843e6a815df794241aad4",
       "version_major": 2,
       "version_minor": 0
      },
      "text/plain": [
       "VBox()"
      ]
     },
     "metadata": {},
     "output_type": "display_data"
    },
    {
     "data": {
      "application/vnd.jupyter.widget-view+json": {
       "model_id": "",
       "version_major": 2,
       "version_minor": 0
      },
      "text/plain": [
       "FloatProgress(value=0.0, bar_style='info', description='Progress:', layout=Layout(height='25px', width='50%'),…"
      ]
     },
     "metadata": {},
     "output_type": "display_data"
    }
   ],
   "source": [
    "class GenerateKeywordAndScores(Transformer, DefaultParamsReadable, DefaultParamsWritable):\n",
    "  \n",
    "  @keyword_only\n",
    "  def __init__(self):\n",
    "    super(GenerateKeywordAndScores, self).__init__()\n",
    "    kwargs = self._input_kwargs\n",
    "    self.set_params(**kwargs)\n",
    "    \n",
    "  @keyword_only\n",
    "  def set_params(self):\n",
    "    kwargs = self._input_kwargs\n",
    "    self._set(**kwargs)\n",
    "  \n",
    "  def _transform(self, df: DataFrame):\n",
    "    df = df.selectExpr(\"id\", \"explode(arrays_zip(keywords.result, keywords.metadata)) as resultTuples\").selectExpr(\"id\", \"resultTuples['0'] as keyword\", \"resultTuples['1'].score as score\").dropDuplicates([\"id\", \"keyword\"])\n",
    "    \n",
    "    window = w.Window.partitionBy(\"id\").orderBy(F.col(\"score\").asc())\n",
    "    \n",
    "    return df.withColumn(\"row\", F.row_number().over(window)).filter(F.col(\"row\")<=10)\n",
    "    "
   ]
  },
  {
   "cell_type": "code",
   "execution_count": 25,
   "id": "68f39473-aa3c-4f01-b8f5-c5aeee031c9e",
   "metadata": {
    "execution": {
     "iopub.execute_input": "2022-09-02T05:29:53.377308Z",
     "iopub.status.busy": "2022-09-02T05:29:53.377059Z",
     "iopub.status.idle": "2022-09-02T05:29:53.432988Z",
     "shell.execute_reply": "2022-09-02T05:29:53.432463Z",
     "shell.execute_reply.started": "2022-09-02T05:29:53.377282Z"
    },
    "tags": []
   },
   "outputs": [
    {
     "data": {
      "application/vnd.jupyter.widget-view+json": {
       "model_id": "8385b43ead2f447ca84d606fca59c7f3",
       "version_major": 2,
       "version_minor": 0
      },
      "text/plain": [
       "VBox()"
      ]
     },
     "metadata": {},
     "output_type": "display_data"
    },
    {
     "data": {
      "application/vnd.jupyter.widget-view+json": {
       "model_id": "",
       "version_major": 2,
       "version_minor": 0
      },
      "text/plain": [
       "FloatProgress(value=0.0, bar_style='info', description='Progress:', layout=Layout(height='25px', width='50%'),…"
      ]
     },
     "metadata": {},
     "output_type": "display_data"
    }
   ],
   "source": [
    "generate_keyword_and_scores = GenerateKeywordAndScores()"
   ]
  },
  {
   "cell_type": "code",
   "execution_count": 26,
   "id": "39c33f7b-008f-4594-8699-3fa140148656",
   "metadata": {
    "execution": {
     "iopub.execute_input": "2022-09-02T05:29:54.035092Z",
     "iopub.status.busy": "2022-09-02T05:29:54.034782Z",
     "iopub.status.idle": "2022-09-02T05:29:54.093571Z",
     "shell.execute_reply": "2022-09-02T05:29:54.093055Z",
     "shell.execute_reply.started": "2022-09-02T05:29:54.035064Z"
    },
    "tags": []
   },
   "outputs": [
    {
     "data": {
      "application/vnd.jupyter.widget-view+json": {
       "model_id": "30434cbb2c9e478e92de33af9facdc6e",
       "version_major": 2,
       "version_minor": 0
      },
      "text/plain": [
       "VBox()"
      ]
     },
     "metadata": {},
     "output_type": "display_data"
    },
    {
     "data": {
      "application/vnd.jupyter.widget-view+json": {
       "model_id": "",
       "version_major": 2,
       "version_minor": 0
      },
      "text/plain": [
       "FloatProgress(value=0.0, bar_style='info', description='Progress:', layout=Layout(height='25px', width='50%'),…"
      ]
     },
     "metadata": {},
     "output_type": "display_data"
    }
   ],
   "source": [
    "pipeline2 = Pipeline().setStages([generate_keyword_and_scores])"
   ]
  },
  {
   "cell_type": "code",
   "execution_count": 28,
   "id": "0003833c-7878-428a-8c29-594e4a922e4a",
   "metadata": {
    "execution": {
     "iopub.execute_input": "2022-09-02T05:30:50.384553Z",
     "iopub.status.busy": "2022-09-02T05:30:50.384319Z",
     "iopub.status.idle": "2022-09-02T05:30:50.435712Z",
     "shell.execute_reply": "2022-09-02T05:30:50.435160Z",
     "shell.execute_reply.started": "2022-09-02T05:30:50.384527Z"
    },
    "tags": []
   },
   "outputs": [
    {
     "data": {
      "application/vnd.jupyter.widget-view+json": {
       "model_id": "30d3687116044ebd95b9b735886d4c1d",
       "version_major": 2,
       "version_minor": 0
      },
      "text/plain": [
       "VBox()"
      ]
     },
     "metadata": {},
     "output_type": "display_data"
    },
    {
     "data": {
      "application/vnd.jupyter.widget-view+json": {
       "model_id": "",
       "version_major": 2,
       "version_minor": 0
      },
      "text/plain": [
       "FloatProgress(value=0.0, bar_style='info', description='Progress:', layout=Layout(height='25px', width='50%'),…"
      ]
     },
     "metadata": {},
     "output_type": "display_data"
    }
   ],
   "source": [
    "patent_keywords_path = \"s3://patents-analytics/cleaned/patent_keyword_raw.parquet/\""
   ]
  },
  {
   "cell_type": "code",
   "execution_count": 29,
   "id": "c3214652-376e-464b-9b12-6579d0a48db6",
   "metadata": {
    "execution": {
     "iopub.execute_input": "2022-09-02T05:31:20.705483Z",
     "iopub.status.busy": "2022-09-02T05:31:20.705264Z",
     "iopub.status.idle": "2022-09-02T05:31:29.997816Z",
     "shell.execute_reply": "2022-09-02T05:31:29.997210Z",
     "shell.execute_reply.started": "2022-09-02T05:31:20.705460Z"
    }
   },
   "outputs": [
    {
     "data": {
      "application/vnd.jupyter.widget-view+json": {
       "model_id": "480039118b8d4fbab01ee4717f2c5114",
       "version_major": 2,
       "version_minor": 0
      },
      "text/plain": [
       "VBox()"
      ]
     },
     "metadata": {},
     "output_type": "display_data"
    },
    {
     "data": {
      "application/vnd.jupyter.widget-view+json": {
       "model_id": "",
       "version_major": 2,
       "version_minor": 0
      },
      "text/plain": [
       "FloatProgress(value=0.0, bar_style='info', description='Progress:', layout=Layout(height='25px', width='50%'),…"
      ]
     },
     "metadata": {},
     "output_type": "display_data"
    }
   ],
   "source": [
    "patent_keywords = spark.read.parquet(patent_keywords_path)"
   ]
  },
  {
   "cell_type": "code",
   "execution_count": 32,
   "id": "6474f869-047c-4914-99c8-1b1fb1e3bdd1",
   "metadata": {
    "execution": {
     "iopub.execute_input": "2022-09-02T05:33:03.877230Z",
     "iopub.status.busy": "2022-09-02T05:33:03.876989Z",
     "iopub.status.idle": "2022-09-02T05:33:04.167774Z",
     "shell.execute_reply": "2022-09-02T05:33:04.167158Z",
     "shell.execute_reply.started": "2022-09-02T05:33:03.877204Z"
    },
    "tags": []
   },
   "outputs": [
    {
     "data": {
      "application/vnd.jupyter.widget-view+json": {
       "model_id": "cbd1dc76fdea4dcb825b25189c4836bf",
       "version_major": 2,
       "version_minor": 0
      },
      "text/plain": [
       "VBox()"
      ]
     },
     "metadata": {},
     "output_type": "display_data"
    },
    {
     "data": {
      "application/vnd.jupyter.widget-view+json": {
       "model_id": "",
       "version_major": 2,
       "version_minor": 0
      },
      "text/plain": [
       "FloatProgress(value=0.0, bar_style='info', description='Progress:', layout=Layout(height='25px', width='50%'),…"
      ]
     },
     "metadata": {},
     "output_type": "display_data"
    }
   ],
   "source": [
    "result2 = pipeline2.fit(patent_keywords).transform(patent_keywords)"
   ]
  },
  {
   "cell_type": "code",
   "execution_count": 33,
   "id": "0a3913dc-a478-412f-87d8-6f086430066e",
   "metadata": {
    "execution": {
     "iopub.execute_input": "2022-09-02T05:33:16.904723Z",
     "iopub.status.busy": "2022-09-02T05:33:16.904491Z",
     "iopub.status.idle": "2022-09-02T05:38:14.889313Z",
     "shell.execute_reply": "2022-09-02T05:38:14.888688Z",
     "shell.execute_reply.started": "2022-09-02T05:33:16.904699Z"
    },
    "tags": []
   },
   "outputs": [
    {
     "data": {
      "application/vnd.jupyter.widget-view+json": {
       "model_id": "38446fc307af41c88e829181e925526a",
       "version_major": 2,
       "version_minor": 0
      },
      "text/plain": [
       "VBox()"
      ]
     },
     "metadata": {},
     "output_type": "display_data"
    },
    {
     "data": {
      "application/vnd.jupyter.widget-view+json": {
       "model_id": "",
       "version_major": 2,
       "version_minor": 0
      },
      "text/plain": [
       "FloatProgress(value=0.0, bar_style='info', description='Progress:', layout=Layout(height='25px', width='50%'),…"
      ]
     },
     "metadata": {},
     "output_type": "display_data"
    }
   ],
   "source": [
    "result2.write.mode(\"overwrite\").parquet(f\"{output_path}/patent_keyword.parquet\")"
   ]
  },
  {
   "cell_type": "code",
   "execution_count": 34,
   "id": "36360e33-46c3-46c1-ad3c-98dc7cc11c5a",
   "metadata": {
    "execution": {
     "iopub.execute_input": "2022-09-02T05:43:16.062871Z",
     "iopub.status.busy": "2022-09-02T05:43:16.062642Z",
     "iopub.status.idle": "2022-09-02T05:43:16.827511Z",
     "shell.execute_reply": "2022-09-02T05:43:16.826851Z",
     "shell.execute_reply.started": "2022-09-02T05:43:16.062846Z"
    },
    "tags": []
   },
   "outputs": [
    {
     "data": {
      "application/vnd.jupyter.widget-view+json": {
       "model_id": "eb13a54981fe4d7bb3cc69477cc73e0e",
       "version_major": 2,
       "version_minor": 0
      },
      "text/plain": [
       "VBox()"
      ]
     },
     "metadata": {},
     "output_type": "display_data"
    },
    {
     "data": {
      "application/vnd.jupyter.widget-view+json": {
       "model_id": "",
       "version_major": 2,
       "version_minor": 0
      },
      "text/plain": [
       "FloatProgress(value=0.0, bar_style='info', description='Progress:', layout=Layout(height='25px', width='50%'),…"
      ]
     },
     "metadata": {},
     "output_type": "display_data"
    }
   ],
   "source": [
    "results3 = spark.read.parquet(f\"{output_path}/patent_keyword.parquet\")"
   ]
  },
  {
   "cell_type": "code",
   "execution_count": 36,
   "id": "7faee3d1-aea1-45d6-8ad4-7de22b83d348",
   "metadata": {
    "execution": {
     "iopub.execute_input": "2022-09-02T05:43:33.575416Z",
     "iopub.status.busy": "2022-09-02T05:43:33.575176Z",
     "iopub.status.idle": "2022-09-02T05:43:34.341775Z",
     "shell.execute_reply": "2022-09-02T05:43:34.341094Z",
     "shell.execute_reply.started": "2022-09-02T05:43:33.575391Z"
    },
    "tags": []
   },
   "outputs": [
    {
     "data": {
      "application/vnd.jupyter.widget-view+json": {
       "model_id": "7321b94c068744d8a660b10a52d1da61",
       "version_major": 2,
       "version_minor": 0
      },
      "text/plain": [
       "VBox()"
      ]
     },
     "metadata": {},
     "output_type": "display_data"
    },
    {
     "data": {
      "application/vnd.jupyter.widget-view+json": {
       "model_id": "",
       "version_major": 2,
       "version_minor": 0
      },
      "text/plain": [
       "FloatProgress(value=0.0, bar_style='info', description='Progress:', layout=Layout(height='25px', width='50%'),…"
      ]
     },
     "metadata": {},
     "output_type": "display_data"
    },
    {
     "name": "stdout",
     "output_type": "stream",
     "text": [
      "+--------+--------------------+--------------------+---+\n",
      "|      id|             keyword|               score|row|\n",
      "+--------+--------------------+--------------------+---+\n",
      "|10000057|              nozzle| 0.03952371456224172|  1|\n",
      "|10000057|          nozzle set| 0.04459956883003323|  2|\n",
      "|10000057|        first nozzle| 0.05599600795653027|  3|\n",
      "|10000057|               print| 0.06424957298731497|  4|\n",
      "|10000057|                 set| 0.07817739344882932|  5|\n",
      "|10000057|               first| 0.08385369103345215|  6|\n",
      "|10000057|          print head| 0.10423852394624489|  7|\n",
      "|10000057|            printing| 0.11861798711063412|  8|\n",
      "|10000057|         information| 0.13331647151157514|  9|\n",
      "|10000057|                head| 0.13331647151157514| 10|\n",
      "|10000517|           complexes| 0.40392520545533317|  1|\n",
      "|10000638|              weight| 0.04450358299523055|  1|\n",
      "|10000638|             asphalt| 0.05620439654996074|  2|\n",
      "|10000638| asphalt composition|  0.0589761706377734|  3|\n",
      "|10000638|   synthetic rubbers| 0.06566822550473385|  4|\n",
      "|10000638|    modified asphalt| 0.10686741648383416|  5|\n",
      "|10000638|        neat asphalt| 0.10686741648383416|  6|\n",
      "|10000638|             rubbers| 0.10814593914209127|  7|\n",
      "|10000638|              rubber|   0.108213644478289|  8|\n",
      "|10000638|        devulcanized|   0.108213644478289|  9|\n",
      "|10000638|         composition| 0.11320354829215443| 10|\n",
      "|10000675|          thin solid|0.013219237828096607|  1|\n",
      "|10000675|                thin|  0.0338888070931991|  2|\n",
      "|10000675|      solid material| 0.03572537299087344|  3|\n",
      "|10000675|               solid| 0.04409625086079521|  4|\n",
      "|10000675|  temporary adhesive| 0.07084232704117974|  5|\n",
      "|10000675|            material|  0.0833950821167523|  6|\n",
      "|10000675|               force|  0.0833950821167523|  7|\n",
      "|10000675|            adhesion| 0.09316657765836388|  8|\n",
      "|10000675|      adhesion force| 0.10131077422067397|  9|\n",
      "|10000675|            adhesive|  0.1014939611181481| 10|\n",
      "|10000744|          engineered| 0.13566356837565907|  1|\n",
      "|10000744|  hydrolase activity|  0.1460709253088594|  2|\n",
      "|10000744|           hydrolase| 0.15114247209118908|  3|\n",
      "|10000744|  engineered enzymes| 0.19131265629214733|  4|\n",
      "|10000744|             enzymes|  0.2239921828310518|  5|\n",
      "|10000744|            activity|  0.2239921828310518|  6|\n",
      "|10000744|             methods| 0.27722080543283223|  7|\n",
      "|10000744|          disclosure| 0.27722080543283223|  8|\n",
      "|10000744| disclosure provides| 0.29754403778795063|  9|\n",
      "|10000744|               using|  0.3364424347761606| 10|\n",
      "|10000855|                 ehc| 0.04359739572824808|  1|\n",
      "|10000855|          ehc system| 0.09432300739982351|  2|\n",
      "|10000855|           ehc stack| 0.11139798014640984|  3|\n",
      "|10000855|              system|  0.1264742710074144|  4|\n",
      "|10000855|               power| 0.18841467120621064|  5|\n",
      "|10000855|        power supply|  0.1944652326120338|  6|\n",
      "|10000855|     electrochemical| 0.21165525212251882|  7|\n",
      "|10000855|              supply| 0.21727839037880592|  8|\n",
      "|10000855|               stack| 0.23939099940787134|  9|\n",
      "|10000855|          compressor| 0.32858901164026305| 10|\n",
      "|10001321|              cooler| 0.10779667779536474|  1|\n",
      "|10001321|               light| 0.14569374532434326|  2|\n",
      "|10001321|                 top| 0.31119085231691557|  3|\n",
      "|10001321|            expected| 0.31119085231691557|  4|\n",
      "|10001321|               level| 0.31119085231691557|  5|\n",
      "|10001321|           top level| 0.31613863386327873|  6|\n",
      "|10001321|        expected top| 0.31613863386327873|  7|\n",
      "|10001321|         illuminated|  0.3352437448982378|  8|\n",
      "|10001321|              source| 0.35557861815354336|  9|\n",
      "|10001321|            contents| 0.35557861815354336| 10|\n",
      "|10001434|             methods| 0.10537074663214671|  1|\n",
      "|10001434|    determining data| 0.13008572592021828|  2|\n",
      "|10001434|     data processing| 0.13008572592021828|  3|\n",
      "|10001434|     fluidics system| 0.13601952795152134|  4|\n",
      "|10001434|             systems| 0.13795580481800976|  5|\n",
      "|10001434|                data|  0.1424197132374873|  6|\n",
      "|10001434|              system| 0.14703344977106322|  7|\n",
      "|10001434| processing settings| 0.15462856720603382|  8|\n",
      "|10001434|            settings| 0.16077487144715083|  9|\n",
      "|10001434|            fluidics| 0.16424963022879957| 10|\n",
      "|10001455|               solid| 0.06912998531446049|  1|\n",
      "|10001455|             analyte| 0.08373470224342063|  2|\n",
      "|10001455|           electrode| 0.09363668468046649|  3|\n",
      "|10001455|             contact| 0.11266346199366105|  4|\n",
      "|10001455|          configured| 0.12196901975943845|  5|\n",
      "|10001455| reference electrode|  0.1527925638422023|  6|\n",
      "|10001455|   working electrode|  0.1527925638422023|  7|\n",
      "|10001455|             working|   0.186481144962581|  8|\n",
      "|10001455|           reference|   0.186481144962581|  9|\n",
      "|10001455|electrode positioned|   0.268126095166021| 10|\n",
      "|10001614|            graphene| 0.15107540678637882|  1|\n",
      "|10001614|             optical| 0.17808520624300928|  2|\n",
      "|10001614|           amorphous| 0.19227571428316553|  3|\n",
      "|10001614|  amorphous graphite| 0.21030404388957102|  4|\n",
      "|10001614|            graphite| 0.22354830039538123|  5|\n",
      "|10001614|           graphenic| 0.22354830039538123|  6|\n",
      "|10001614|                 one|  0.3091856071940505|  7|\n",
      "|10001614|           optically|   0.335777553676902|  8|\n",
      "|10001614|            provides| 0.35179766689069886|  9|\n",
      "|10001614|                path| 0.35179766689069886| 10|\n",
      "|10001993|           disclosed| 0.11487436664087816|  1|\n",
      "|10001993|             methods| 0.17391400642825788|  2|\n",
      "|10001993|             variety|  0.3343645396032841|  3|\n",
      "|10001993|          operations| 0.37365150630184385|  4|\n",
      "|10001993|        instructions| 0.39960113758090715|  5|\n",
      "|10001993|              buffer| 0.39960113758090715|  6|\n",
      "|10001993|         efficiently| 0.39960113758090715|  7|\n",
      "|10002112|                data| 0.08327405233409467|  1|\n",
      "|10002112|          electronic| 0.08888132827168978|  2|\n",
      "+--------+--------------------+--------------------+---+\n",
      "only showing top 100 rows"
     ]
    }
   ],
   "source": [
    "results3.show(100)"
   ]
  },
  {
   "cell_type": "code",
   "execution_count": null,
   "id": "fa80b991-0607-478b-97a2-8f5b3b02e1d9",
   "metadata": {},
   "outputs": [],
   "source": []
  }
 ],
 "metadata": {
  "kernelspec": {
   "display_name": "PySpark",
   "language": "",
   "name": "pysparkkernel"
  },
  "language_info": {
   "codemirror_mode": {
    "name": "python",
    "version": 3
   },
   "mimetype": "text/x-python",
   "name": "pyspark",
   "pygments_lexer": "python3"
  }
 },
 "nbformat": 4,
 "nbformat_minor": 5
}
